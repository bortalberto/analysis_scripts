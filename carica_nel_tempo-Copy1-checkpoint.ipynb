{
 "cells": [
  {
   "cell_type": "code",
   "execution_count": 33,
   "metadata": {},
   "outputs": [],
   "source": [
    "!jt -t grade3 -fs 90 -tfs 14 -nfs 115 -cellw 80% -T\n",
    "import ROOT as R\n",
    "import array\n",
    "import numpy as np\n",
    "import matplotlib.pyplot as plt\n",
    "%jsroot on\n",
    "R.gStyle.SetOptStat(0)\n",
    "c=R.TCanvas()"
   ]
  },
  {
   "cell_type": "code",
   "execution_count": 2,
   "metadata": {},
   "outputs": [],
   "source": [
    "def get_number_of_trig(num):\n",
    "    tree=R.TChain(\"tree\")\n",
    "    tree.Add(\"/media/alb/Removibile/dati/{}/Sub_RUN_ana_*\".format(num))\n",
    "\n",
    "    num_trig_strart = {}\n",
    "    num_trig_end = {}\n",
    "    for entryNum in range (0, tree.GetEntries()):\n",
    "            tree.GetEntry(entryNum)\n",
    "            subRunNo=getattr(tree ,\"subRunNo\")\n",
    "            count=getattr(tree ,\"count\")\n",
    "            if subRunNo in num_trig_strart.keys():\n",
    "                if count < num_trig_strart[subRunNo]:\n",
    "                    num_trig_strart[subRunNo]=count\n",
    "                if count > num_trig_end[subRunNo]:\n",
    "                    num_trig_end[subRunNo]=count\n",
    "            else:\n",
    "                num_trig_strart[subRunNo]=count\n",
    "                num_trig_end[subRunNo]=count\n",
    "                \n",
    "    tot=0\n",
    "    for key in num_trig_strart.keys():\n",
    "        tot += num_trig_end[key]-num_trig_strart[key]\n",
    "    return tot\n",
    "\n",
    "def load_histo_l1(num):\n",
    "    chain=R.TChain(\"tree\")\n",
    "    chain.Add(\"/media/alb/Removibile/dati/{}/Sub_RUN_ana_*\".format(num))\n",
    "    h0= R.TH1F( \"h0\".format(num), 'charge',60, 0,60 )\n",
    "    chain.Draw(\"charge_SH>>h0\",\"charge_SH>40 && layer==1 && l1ts_min_tcoarse>1390 && l1ts_min_tcoarse<1420\".format(num))\n",
    "    return h0\n",
    "\n",
    "def load_histo_l2(num):\n",
    "    chain=R.TChain(\"tree\")\n",
    "    chain.Add(\"/media/alb/Removibile/dati/{}/Sub_RUN_ana_*\".format(num))\n",
    "    h0= R.TH1F(\"h0\".format(num), 'charge',60, 0,60 )\n",
    "    chain.Draw(\"charge_SH>>h0\",\"charge_SH>40 && layer==2 && l1ts_min_tcoarse>1390 && l1ts_min_tcoarse<1420\".format(num))\n",
    "    return h0\n",
    "\n",
    "def load_histo_l1_FEB_sel(num):\n",
    "    chain=R.TChain(\"tree\")\n",
    "    chain.Add(\"/media/alb/Removibile/dati/{}/Sub_RUN_ana_*\".format(num))\n",
    "    h0= R.TH1F( \"h0\".format(num), 'charge',38, 18,37 )\n",
    "    chain.Draw(\"charge_SH>>h0\",\"charge_SH>20 && charge_SH<35 && layer==1 && l1ts_min_tcoarse>1390 && l1ts_min_tcoarse<1420 && !(gemroc==0 && (tiger==4 || tiger==5) && (delta_coarse==25 && delta_coarse==26))\".format(num))\n",
    "    return h0\n",
    "\n",
    "def load_histo_l2_FEB_sel(num):\n",
    "    chain=R.TChain(\"tree\")\n",
    "    chain.Add(\"/media/alb/Removibile/dati/{}/Sub_RUN_ana_*\".format(num))\n",
    "    h0= R.TH1F(\"h0\".format(num), 'charge',38,18,37 )\n",
    "    chain.Draw(\"charge_SH>>h0\",\"charge_SH>20 && charge_SH<35 && layer==2 && l1ts_min_tcoarse>1390 && l1ts_min_tcoarse<1420 && !(gemroc==8 && (tiger==4 || tiger==5)) && !(gemroc==9 && tiger==0) && !(gemroc==8 && (tiger==0 || tiger==1) && (delta_coarse==25 && delta_coarse==26))\".format(num))\n",
    "    return h0"
   ]
  },
  {
   "cell_type": "markdown",
   "metadata": {},
   "source": [
    "trig_408=get_number_of_trig(408)"
   ]
  },
  {
   "cell_type": "markdown",
   "metadata": {},
   "source": [
    "h408_1=load_histo_l1(408)\n",
    "h408_2=load_histo_l2(408)\n",
    "h408_1.SetName(\"h408_1\")\n",
    "h408_2.SetName(\"h408_2\")\n",
    "h408_1.Scale(1/trig_408)\n",
    "h408_2.Scale(1/trig_408)\n"
   ]
  },
  {
   "cell_type": "markdown",
   "metadata": {},
   "source": [
    "h408_1.SetLineColor(2)\n",
    "h408_1.Draw()\n",
    "h408_2.Draw(\"same\")\n",
    "leg=R.TLegend(0.58,0.7,0.9,0.9);\n",
    "leg.AddEntry(\"h408_1\",\"Layer1, Run 408\",\"lep\")\n",
    "leg.AddEntry(\"h408_2\",\"Layer2, Run 351\",\"lep\")\n",
    "leg.Draw()\n",
    "c.Draw()"
   ]
  },
  {
   "cell_type": "markdown",
   "metadata": {},
   "source": [
    "trig_394=get_number_of_trig(394)\n",
    "trig_395=get_number_of_trig(395)\n",
    "trig_396=get_number_of_trig(396)\n",
    "trig_398=get_number_of_trig(398)"
   ]
  },
  {
   "cell_type": "markdown",
   "metadata": {},
   "source": [
    "h394_1=load_histo_l1(394)\n",
    "h395_1=load_histo_l1(395)\n",
    "h396_1=load_histo_l1(396)\n",
    "h394_1.Scale(1/trig_394)\n",
    "h395_1.Scale(1/trig_395)\n",
    "h396_1.Scale(1/trig_396)\n",
    "h394_1.SetName(\"h394_1\")\n",
    "h395_1.SetName(\"h395_1\")\n",
    "h396_1.SetName(\"h396_1\")\n",
    "\n",
    "h394_1.SetLineColor(2)\n",
    "h395_1.SetLineColor(3)\n",
    "h396_1.SetLineColor(1)\n",
    "h394_1.Draw()\n",
    "h395_1.Draw(\"same\")\n",
    "h396_1.Draw(\"same\")\n",
    "leg=R.TLegend(0.58,0.7,0.9,0.9);\n",
    "leg.AddEntry(\"h394_1\",\"Layer1, Run 394\",\"lep\")\n",
    "leg.AddEntry(\"h395_1\",\"Layer1, Run 395\",\"lep\")\n",
    "leg.AddEntry(\"h396_1\",\"Layer1, Run 396\",\"lep\")\n",
    "\n",
    "leg.Draw()\n"
   ]
  },
  {
   "cell_type": "code",
   "execution_count": 72,
   "metadata": {},
   "outputs": [
    {
     "data": {
      "text/html": [
       "\n",
       "<div id=\"root_plot_19\"\n",
       "     style=\"width: 696px; height: 472px\">\n",
       "</div>\n",
       "\n",
       "<script>\n",
       " requirejs.config({\n",
       "     paths: {\n",
       "       'JSRootCore' : 'https://root.cern.ch/js/notebook//scripts/JSRootCore',\n",
       "     }\n",
       "   });\n",
       " require(['JSRootCore'],\n",
       "     function(Core) {\n",
       "       var obj = Core.JSONR_unref({\"_typename\":\"TCanvas\",\"fUniqueID\":0,\"fBits\":53673992,\"fLineColor\":1,\"fLineStyle\":1,\"fLineWidth\":1,\"fFillColor\":0,\"fFillStyle\":1001,\"fLeftMargin\":0.1,\"fRightMargin\":0.1,\"fBottomMargin\":0.1,\"fTopMargin\":0.1,\"fXfile\":2,\"fYfile\":2,\"fAfile\":1,\"fXstat\":0.99,\"fYstat\":0.99,\"fAstat\":2,\"fFrameFillColor\":0,\"fFrameLineColor\":1,\"fFrameFillStyle\":1001,\"fFrameLineStyle\":1,\"fFrameLineWidth\":1,\"fFrameBorderSize\":1,\"fFrameBorderMode\":0,\"fX1\":-7.50000055879358,\"fY1\":-0.0987862899160655,\"fX2\":67.5000005587936,\"fY2\":0.889076550363373,\"fXtoAbsPixelk\":69.6000541484835,\"fXtoPixelk\":69.6000541484835,\"fXtoPixel\":9.27999986171722,\"fYtoAbsPixelk\":424.800047186661,\"fYtoPixelk\":424.800047186661,\"fYtoPixel\":-477.799124285801,\"fUtoAbsPixelk\":5e-5,\"fUtoPixelk\":5e-5,\"fUtoPixel\":696,\"fVtoAbsPixelk\":472.00005,\"fVtoPixelk\":472,\"fVtoPixel\":-472,\"fAbsPixeltoXk\":-7.50000055879358,\"fPixeltoXk\":-7.50000055879358,\"fPixeltoX\":0.107758622295384,\"fAbsPixeltoYk\":0.889076550363373,\"fPixeltoYk\":-0.0987862899160655,\"fPixeltoY\":-0.00209292974635474,\"fXlowNDC\":0,\"fYlowNDC\":0,\"fXUpNDC\":0,\"fYUpNDC\":0,\"fWNDC\":1,\"fHNDC\":1,\"fAbsXlowNDC\":0,\"fAbsYlowNDC\":0,\"fAbsWNDC\":1,\"fAbsHNDC\":1,\"fUxmin\":0,\"fUymin\":0,\"fUxmax\":60,\"fUymax\":0.790290260447307,\"fTheta\":30,\"fPhi\":30,\"fAspectRatio\":0,\"fNumber\":0,\"fTickx\":0,\"fTicky\":0,\"fLogx\":0,\"fLogy\":0,\"fLogz\":0,\"fPadPaint\":0,\"fCrosshair\":0,\"fCrosshairPos\":0,\"fBorderSize\":2,\"fBorderMode\":0,\"fModified\":false,\"fGridx\":false,\"fGridy\":false,\"fAbsCoord\":false,\"fEditable\":true,\"fFixedAspectRatio\":false,\"fPrimitives\":{\"_typename\":\"TList\",\"name\":\"TList\",\"arr\":[{\"_typename\":\"TFrame\",\"fUniqueID\":0,\"fBits\":50331656,\"fLineColor\":1,\"fLineStyle\":1,\"fLineWidth\":1,\"fFillColor\":0,\"fFillStyle\":1001,\"fX1\":0,\"fY1\":0,\"fX2\":60,\"fY2\":0.790290260447307,\"fBorderSize\":1,\"fBorderMode\":0},{\"_typename\":\"TH1F\",\"fUniqueID\":0,\"fBits\":50332168,\"fName\":\"h394_1\",\"fTitle\":\"charge\",\"fLineColor\":2,\"fLineStyle\":1,\"fLineWidth\":1,\"fFillColor\":0,\"fFillStyle\":1001,\"fMarkerColor\":1,\"fMarkerStyle\":1,\"fMarkerSize\":1,\"fNcells\":62,\"fXaxis\":{\"_typename\":\"TAxis\",\"fUniqueID\":0,\"fBits\":50331648,\"fName\":\"xaxis\",\"fTitle\":\"\",\"fNdivisions\":510,\"fAxisColor\":1,\"fLabelColor\":1,\"fLabelFont\":42,\"fLabelOffset\":0.005,\"fLabelSize\":0.035,\"fTickLength\":0.03,\"fTitleOffset\":1,\"fTitleSize\":0.035,\"fTitleColor\":1,\"fTitleFont\":42,\"fNbins\":60,\"fXmin\":0,\"fXmax\":60,\"fXbins\":[],\"fFirst\":0,\"fLast\":0,\"fBits2\":0,\"fTimeDisplay\":false,\"fTimeFormat\":\"\",\"fLabels\":null,\"fModLabs\":null},\"fYaxis\":{\"_typename\":\"TAxis\",\"fUniqueID\":0,\"fBits\":50331648,\"fName\":\"yaxis\",\"fTitle\":\"\",\"fNdivisions\":510,\"fAxisColor\":1,\"fLabelColor\":1,\"fLabelFont\":42,\"fLabelOffset\":0.005,\"fLabelSize\":0.035,\"fTickLength\":0.03,\"fTitleOffset\":0,\"fTitleSize\":0.035,\"fTitleColor\":1,\"fTitleFont\":42,\"fNbins\":1,\"fXmin\":0,\"fXmax\":1,\"fXbins\":[],\"fFirst\":0,\"fLast\":0,\"fBits2\":0,\"fTimeDisplay\":false,\"fTimeFormat\":\"\",\"fLabels\":null,\"fModLabs\":null},\"fZaxis\":{\"_typename\":\"TAxis\",\"fUniqueID\":0,\"fBits\":50331648,\"fName\":\"zaxis\",\"fTitle\":\"\",\"fNdivisions\":510,\"fAxisColor\":1,\"fLabelColor\":1,\"fLabelFont\":42,\"fLabelOffset\":0.005,\"fLabelSize\":0.035,\"fTickLength\":0.03,\"fTitleOffset\":1,\"fTitleSize\":0.035,\"fTitleColor\":1,\"fTitleFont\":42,\"fNbins\":1,\"fXmin\":0,\"fXmax\":1,\"fXbins\":[],\"fFirst\":0,\"fLast\":0,\"fBits2\":0,\"fTimeDisplay\":false,\"fTimeFormat\":\"\",\"fLabels\":null,\"fModLabs\":null},\"fBarOffset\":0,\"fBarWidth\":1000,\"fEntries\":29146,\"fTsumw\":29146,\"fTsumw2\":29146,\"fTsumwx\":653497.378584862,\"fTsumwx2\":18849406.0099035,\"fMaximum\":-1111,\"fMinimum\":-1111,\"fNormFactor\":0,\"fContour\":[],\"fSumw2\":[0,0,0,0,0,0,0,0,0,0,0,2.27993186959669e-4,2.1681330310624e-4,2.03053446055866e-4,1.89580252694041e-4,1.56422819385154e-4,1.47345135914421e-4,1.39318552635037e-4,1.22309840447769e-4,1.05110019134801e-4,9.21145985872258e-5,8.98212890788301e-5,8.04569419195478e-5,7.10925947602655e-5,6.05815928467854e-5,5.68549648956425e-5,4.93061544305068e-5,4.97839272447558e-5,4.40506534737667e-5,3.79351614513783e-5,3.83173797027775e-5,3.19152239918396e-5,2.79974869149971e-5,2.62775047837003e-5,2.59908410951508e-5,2.26464313954072e-5,2.09264492641104e-5,2.10220038269602e-5,1.61487211216195e-5,1.92064671328137e-5,1.59576119959198e-5,1.6913157624418e-5,1.70087121872678e-5,2.14997766412093e-5,1.99709036356122e-5,2.81885960406967e-5,2.56086228437516e-5,3.94640344569754e-5,4.21395622167703e-5,6.18238021638331e-5,3.87951525170266e-5,2.11175583898101e-5,1.08932201648794e-5,2.29330950839566e-6,7.35770133943609e-6,1.13709929791285e-5,7.73991959083536e-6,4.9688372681906e-6,7.64436502798554e-7,7.64436502798554e-7,0,0],\"fOption\":\"\",\"fFunctions\":{\"_typename\":\"TList\",\"name\":\"TList\",\"arr\":[],\"opt\":[]},\"fBufferSize\":0,\"fBuffer\":[],\"fBinStatErrOpt\":0,\"fStatOverflows\":2,\"fArray\":[0,0,0,0,0,0,0,0,0,0,0,0.7375579,0.701391,0.6568779,0.6132921,0.5060278,0.4766615,0.4506955,0.3956723,0.3400309,0.2979907,0.2905719,0.2602782,0.2299845,0.1959815,0.1839258,0.1595054,0.161051,0.1425039,0.1227202,0.1239567,0.1032458,0.09057187,0.08500773,0.08408037,0.07326121,0.06769706,0.06800618,0.05224111,0.06213292,0.05162288,0.05471407,0.05502318,0.06955178,0.06460588,0.09119011,0.08284389,0.1276661,0.1363215,0.2,0.1255023,0.0683153,0.03523957,0.007418856,0.02380216,0.03678516,0.02503864,0.01607419,0.002472952,0.002472952,0,0]},{\"_typename\":\"TH1F\",\"fUniqueID\":0,\"fBits\":50332168,\"fName\":\"h395_1\",\"fTitle\":\"charge\",\"fLineColor\":3,\"fLineStyle\":1,\"fLineWidth\":1,\"fFillColor\":0,\"fFillStyle\":1001,\"fMarkerColor\":1,\"fMarkerStyle\":1,\"fMarkerSize\":1,\"fNcells\":62,\"fXaxis\":{\"_typename\":\"TAxis\",\"fUniqueID\":0,\"fBits\":50331648,\"fName\":\"xaxis\",\"fTitle\":\"\",\"fNdivisions\":510,\"fAxisColor\":1,\"fLabelColor\":1,\"fLabelFont\":42,\"fLabelOffset\":0.005,\"fLabelSize\":0.035,\"fTickLength\":0.03,\"fTitleOffset\":1,\"fTitleSize\":0.035,\"fTitleColor\":1,\"fTitleFont\":42,\"fNbins\":60,\"fXmin\":0,\"fXmax\":60,\"fXbins\":[],\"fFirst\":0,\"fLast\":0,\"fBits2\":0,\"fTimeDisplay\":false,\"fTimeFormat\":\"\",\"fLabels\":null,\"fModLabs\":null},\"fYaxis\":{\"_typename\":\"TAxis\",\"fUniqueID\":0,\"fBits\":50331648,\"fName\":\"yaxis\",\"fTitle\":\"\",\"fNdivisions\":510,\"fAxisColor\":1,\"fLabelColor\":1,\"fLabelFont\":42,\"fLabelOffset\":0.005,\"fLabelSize\":0.035,\"fTickLength\":0.03,\"fTitleOffset\":0,\"fTitleSize\":0.035,\"fTitleColor\":1,\"fTitleFont\":42,\"fNbins\":1,\"fXmin\":0,\"fXmax\":1,\"fXbins\":[],\"fFirst\":0,\"fLast\":0,\"fBits2\":0,\"fTimeDisplay\":false,\"fTimeFormat\":\"\",\"fLabels\":null,\"fModLabs\":null},\"fZaxis\":{\"_typename\":\"TAxis\",\"fUniqueID\":0,\"fBits\":50331648,\"fName\":\"zaxis\",\"fTitle\":\"\",\"fNdivisions\":510,\"fAxisColor\":1,\"fLabelColor\":1,\"fLabelFont\":42,\"fLabelOffset\":0.005,\"fLabelSize\":0.035,\"fTickLength\":0.03,\"fTitleOffset\":1,\"fTitleSize\":0.035,\"fTitleColor\":1,\"fTitleFont\":42,\"fNbins\":1,\"fXmin\":0,\"fXmax\":1,\"fXbins\":[],\"fFirst\":0,\"fLast\":0,\"fBits2\":0,\"fTimeDisplay\":false,\"fTimeFormat\":\"\",\"fLabels\":null,\"fModLabs\":null},\"fBarOffset\":0,\"fBarWidth\":1000,\"fEntries\":37269,\"fTsumw\":37269,\"fTsumw2\":37269,\"fTsumwx\":994736.303219795,\"fTsumwx2\":32152895.5786298,\"fMaximum\":-1111,\"fMinimum\":-1111,\"fNormFactor\":0,\"fContour\":[],\"fSumw2\":[0,0,0,0,0,0,0,0,0,0,0,6.13157565916924e-6,1.36096121894398e-5,2.45470174193093e-5,3.42001061259744e-5,3.98552417846001e-5,4.20095791783622e-5,4.20095791783622e-5,4.06838330898932e-5,3.64373026502659e-5,3.33922296033136e-5,2.94564209031712e-5,2.92907026421125e-5,2.62663443777926e-5,2.33662748092666e-5,2.20612435034299e-5,1.84361565427724e-5,1.7400417411156e-5,1.71104104543034e-5,1.49767878431735e-5,1.36924713199692e-5,1.25117287099264e-5,1.1351700882516e-5,1.09788347951341e-5,9.92238088088536e-6,8.99021566243058e-6,8.99021566243058e-6,7.95447653081415e-6,7.10517044288868e-6,6.38015305075718e-6,6.98088174709471e-6,6.21443478969856e-6,7.16731479078567e-6,8.61734957504867e-6,8.51377566188702e-6,1.11238382735604e-5,1.23460104488678e-5,1.62611043663779e-5,1.90990295870069e-5,2.2889834808723e-5,1.53703687131878e-5,9.13521914085688e-6,4.93011826649419e-6,1.26360174057204e-6,2.75506609009969e-6,4.287960004892e-6,3.33508000380489e-6,2.17505217639449e-6,2.07147826323285e-7,2.27862608955614e-7,0,0],\"fOption\":\"\",\"fFunctions\":{\"_typename\":\"TList\",\"name\":\"TList\",\"arr\":[],\"opt\":[]},\"fBufferSize\":0,\"fBuffer\":[],\"fBinStatErrOpt\":0,\"fStatOverflows\":2,\"fArray\":[0,0,0,0,0,0,0,0,0,0,0,0.04260219,0.09455959,0.1705527,0.2376223,0.2769142,0.2918825,0.2918825,0.2826713,0.2531664,0.2320092,0.2046632,0.2035118,0.1824986,0.1623489,0.1532815,0.1280944,0.1208981,0.1188831,0.1040587,0.09513529,0.08693149,0.07887162,0.07628094,0.0689407,0.06246402,0.06246402,0.0552677,0.04936672,0.0443293,0.04850317,0.04317789,0.0497985,0.05987335,0.05915371,0.07728843,0.08578008,0.1129822,0.1327001,0.1590386,0.1067933,0.0634715,0.03425446,0.008779505,0.0191422,0.02979275,0.02317214,0.01511226,0.001439263,0.001583189,0,0]},{\"_typename\":\"TH1F\",\"fUniqueID\":0,\"fBits\":50332168,\"fName\":\"h396_1\",\"fTitle\":\"charge\",\"fLineColor\":1,\"fLineStyle\":1,\"fLineWidth\":1,\"fFillColor\":0,\"fFillStyle\":1001,\"fMarkerColor\":1,\"fMarkerStyle\":1,\"fMarkerSize\":1,\"fNcells\":62,\"fXaxis\":{\"_typename\":\"TAxis\",\"fUniqueID\":0,\"fBits\":50331648,\"fName\":\"xaxis\",\"fTitle\":\"\",\"fNdivisions\":510,\"fAxisColor\":1,\"fLabelColor\":1,\"fLabelFont\":42,\"fLabelOffset\":0.005,\"fLabelSize\":0.035,\"fTickLength\":0.03,\"fTitleOffset\":1,\"fTitleSize\":0.035,\"fTitleColor\":1,\"fTitleFont\":42,\"fNbins\":60,\"fXmin\":0,\"fXmax\":60,\"fXbins\":[],\"fFirst\":0,\"fLast\":0,\"fBits2\":0,\"fTimeDisplay\":false,\"fTimeFormat\":\"\",\"fLabels\":null,\"fModLabs\":null},\"fYaxis\":{\"_typename\":\"TAxis\",\"fUniqueID\":0,\"fBits\":50331648,\"fName\":\"yaxis\",\"fTitle\":\"\",\"fNdivisions\":510,\"fAxisColor\":1,\"fLabelColor\":1,\"fLabelFont\":42,\"fLabelOffset\":0.005,\"fLabelSize\":0.035,\"fTickLength\":0.03,\"fTitleOffset\":0,\"fTitleSize\":0.035,\"fTitleColor\":1,\"fTitleFont\":42,\"fNbins\":1,\"fXmin\":0,\"fXmax\":1,\"fXbins\":[],\"fFirst\":0,\"fLast\":0,\"fBits2\":0,\"fTimeDisplay\":false,\"fTimeFormat\":\"\",\"fLabels\":null,\"fModLabs\":null},\"fZaxis\":{\"_typename\":\"TAxis\",\"fUniqueID\":0,\"fBits\":50331648,\"fName\":\"zaxis\",\"fTitle\":\"\",\"fNdivisions\":510,\"fAxisColor\":1,\"fLabelColor\":1,\"fLabelFont\":42,\"fLabelOffset\":0.005,\"fLabelSize\":0.035,\"fTickLength\":0.03,\"fTitleOffset\":1,\"fTitleSize\":0.035,\"fTitleColor\":1,\"fTitleFont\":42,\"fNbins\":1,\"fXmin\":0,\"fXmax\":1,\"fXbins\":[],\"fFirst\":0,\"fLast\":0,\"fBits2\":0,\"fTimeDisplay\":false,\"fTimeFormat\":\"\",\"fLabels\":null,\"fModLabs\":null},\"fBarOffset\":0,\"fBarWidth\":1000,\"fEntries\":504437,\"fTsumw\":504437,\"fTsumw2\":504437,\"fTsumwx\":14846128.8955994,\"fTsumwx2\":520128617.156737,\"fMaximum\":-1111,\"fMinimum\":-1111,\"fNormFactor\":0,\"fContour\":[],\"fSumw2\":[0,0,0,0,0,0,0,0,0,0,0,1.35572077715539e-6,2.59025565539313e-6,4.37570311705403e-6,6.28791251592634e-6,7.29234288057505e-6,7.80273625239692e-6,7.77857341979064e-6,7.64140287776422e-6,7.38825073922766e-6,7.05963621578227e-6,6.53362993673788e-6,6.27713217522507e-6,5.74146076313818e-6,5.43477865698156e-6,5.05077548648484e-6,4.7637953822995e-6,4.556738493658e-6,4.10619459952245e-6,3.85118378155465e-6,3.61996406030687e-6,3.39357690558034e-6,3.19246779111885e-6,3.02369969876115e-6,2.81887322543715e-6,2.63709437706068e-6,2.45568726457046e-6,2.3226058172928e-6,2.27316494442149e-6,2.20290686192016e-6,2.32074713786155e-6,2.07242756584625e-6,2.35122948053409e-6,2.94043086024105e-6,2.83597307620467e-6,3.57275360275306e-6,3.93185046887099e-6,5.36489231036647e-6,6.27936259054258e-6,7.39494198518017e-6,5.23701516549632e-6,2.95344161625981e-6,1.54865170211937e-6,5.0518906941436e-7,9.33057074488626e-7,1.42709406731547e-6,1.20925683797271e-6,7.10759014510858e-7,5.94777418000718e-8,4.05192116012989e-8,0,0],\"fOption\":\"\",\"fFunctions\":{\"_typename\":\"TList\",\"name\":\"TList\",\"arr\":[],\"opt\":[]},\"fBufferSize\":0,\"fBuffer\":[],\"fBinStatErrOpt\":0,\"fStatOverflows\":2,\"fArray\":[0,0,0,0,0,0,0,0,0,0,0,0.07031582,0.1343462,0.2269502,0.3261289,0.3782246,0.4046967,0.4034435,0.396329,0.383199,0.3661551,0.3388732,0.3255697,0.2977866,0.2818802,0.2619635,0.247079,0.2363398,0.2129719,0.1997455,0.1877531,0.1760113,0.1655805,0.1568272,0.1462037,0.1367755,0.1273667,0.1204643,0.1179,0.114256,0.1203679,0.1074885,0.1219489,0.1525084,0.1470906,0.1853044,0.2039293,0.2782555,0.3256854,0.3835461,0.271623,0.1531832,0.08032237,0.02620214,0.04839394,0.07401766,0.06271932,0.03686423,0.003084873,0.002101569,0,0]},{\"_typename\":\"TLegend\",\"fUniqueID\":0,\"fBits\":50331656,\"fLineColor\":1,\"fLineStyle\":1,\"fLineWidth\":1,\"fFillColor\":0,\"fFillStyle\":1001,\"fX1\":36.000000089407,\"fY1\":0.592717698279541,\"fX2\":60.0000004470349,\"fY2\":0.790290266335429,\"fX1NDC\":0.58,\"fY1NDC\":0.7,\"fX2NDC\":0.9,\"fY2NDC\":0.9,\"fBorderSize\":1,\"fInit\":1,\"fShadowColor\":1,\"fCornerRadius\":0,\"fOption\":\"brNDC\",\"fName\":\"TPave\",\"fTextAngle\":0,\"fTextSize\":0,\"fTextAlign\":12,\"fTextColor\":1,\"fTextFont\":42,\"fPrimitives\":{\"_typename\":\"TList\",\"name\":\"TList\",\"arr\":[{\"_typename\":\"TLegendEntry\",\"fUniqueID\":0,\"fBits\":50331656,\"fTextAngle\":0,\"fTextSize\":0,\"fTextAlign\":0,\"fTextColor\":0,\"fTextFont\":42,\"fLineColor\":2,\"fLineStyle\":1,\"fLineWidth\":1,\"fFillColor\":0,\"fFillStyle\":0,\"fMarkerColor\":1,\"fMarkerStyle\":1,\"fMarkerSize\":1,\"fObject\":{\"$ref\":3},\"fLabel\":\"Layer1, Run 394\",\"fOption\":\"lep\"},{\"_typename\":\"TLegendEntry\",\"fUniqueID\":0,\"fBits\":50331656,\"fTextAngle\":0,\"fTextSize\":0,\"fTextAlign\":0,\"fTextColor\":0,\"fTextFont\":42,\"fLineColor\":3,\"fLineStyle\":1,\"fLineWidth\":1,\"fFillColor\":0,\"fFillStyle\":0,\"fMarkerColor\":1,\"fMarkerStyle\":1,\"fMarkerSize\":1,\"fObject\":{\"$ref\":8},\"fLabel\":\"Layer1, Run 395\",\"fOption\":\"lep\"},{\"_typename\":\"TLegendEntry\",\"fUniqueID\":0,\"fBits\":50331656,\"fTextAngle\":0,\"fTextSize\":0,\"fTextAlign\":0,\"fTextColor\":0,\"fTextFont\":42,\"fLineColor\":1,\"fLineStyle\":1,\"fLineWidth\":1,\"fFillColor\":0,\"fFillStyle\":0,\"fMarkerColor\":1,\"fMarkerStyle\":1,\"fMarkerSize\":1,\"fObject\":{\"$ref\":13},\"fLabel\":\"Layer1, Run 396\",\"fOption\":\"lep\"}],\"opt\":[\"lep\",\"lep\",\"lep\"]},\"fEntrySeparation\":0.1,\"fMargin\":0.25,\"fNColumns\":1,\"fColumnSeparation\":0},{\"_typename\":\"TPaveText\",\"fUniqueID\":0,\"fBits\":50331657,\"fLineColor\":1,\"fLineStyle\":1,\"fLineWidth\":1,\"fFillColor\":0,\"fFillStyle\":0,\"fX1\":24.9935344081565,\"fY1\":0.823860864177456,\"fX2\":35.0064655918435,\"fY2\":0.884137240872473,\"fX1NDC\":0.433247126436782,\"fY1NDC\":0.933983055615829,\"fX2NDC\":0.566752873563218,\"fY2NDC\":0.995000004768372,\"fBorderSize\":0,\"fInit\":1,\"fShadowColor\":1,\"fCornerRadius\":0,\"fOption\":\"blNDC\",\"fName\":\"title\",\"fTextAngle\":0,\"fTextSize\":0,\"fTextAlign\":22,\"fTextColor\":1,\"fTextFont\":42,\"fLabel\":\"\",\"fLongest\":6,\"fMargin\":0.05,\"fLines\":{\"_typename\":\"TList\",\"name\":\"TList\",\"arr\":[{\"_typename\":\"TLatex\",\"fUniqueID\":0,\"fBits\":50331648,\"fName\":\"\",\"fTitle\":\"charge\",\"fTextAngle\":0,\"fTextSize\":0,\"fTextAlign\":0,\"fTextColor\":0,\"fTextFont\":0,\"fX\":0,\"fY\":0,\"fLineColor\":1,\"fLineStyle\":1,\"fLineWidth\":2,\"fLimitFactorSize\":3,\"fOriginSize\":0.0518644079566002}],\"opt\":[\"\"]}}],\"opt\":[\"\",\"\",\"same\",\"same\",\"\",\"blNDC\"]},\"fExecs\":null,\"fName\":\"c1_n2\",\"fTitle\":\"c1_n2\",\"fNumPaletteColor\":0,\"fNextPaletteColor\":0,\"fDISPLAY\":\"$DISPLAY\",\"fDoubleBuffer\":0,\"fRetained\":true,\"fXsizeUser\":0,\"fYsizeUser\":0,\"fXsizeReal\":20,\"fYsizeReal\":14.28571,\"fWindowTopX\":0,\"fWindowTopY\":0,\"fWindowWidth\":0,\"fWindowHeight\":0,\"fCw\":696,\"fCh\":472,\"fCatt\":{\"_typename\":\"TAttCanvas\",\"fXBetween\":2,\"fYBetween\":2,\"fTitleFromTop\":1.2,\"fXdate\":0.2,\"fYdate\":0.3,\"fAdate\":1},\"kMoveOpaque\":true,\"kResizeOpaque\":true,\"fHighLightColor\":2,\"fBatch\":true,\"kShowEventStatus\":false,\"kAutoExec\":true,\"kMenuBar\":true});\n",
       "       Core.draw(\"root_plot_19\", obj, \"\");\n",
       "     }\n",
       " );\n",
       "</script>\n"
      ],
      "text/plain": [
       "<IPython.core.display.HTML object>"
      ]
     },
     "metadata": {},
     "output_type": "display_data"
    }
   ],
   "source": [
    "c.Draw()"
   ]
  },
  {
   "cell_type": "markdown",
   "metadata": {},
   "source": [
    "h394_2=load_histo_l2(394)\n",
    "h395_2=load_histo_l2(395)\n",
    "h396_2=load_histo_l2(396)\n",
    "h394_2.Scale(1/trig_394)\n",
    "h395_2.Scale(1/trig_395)\n",
    "h396_2.Scale(1/trig_396)\n",
    "h394_2.SetName(\"h394_2\")\n",
    "h395_2.SetName(\"h395_2\")\n",
    "h396_2.SetName(\"h396_2\")\n",
    "\n",
    "h394_2.SetLineColor(2)\n",
    "h395_2.SetLineColor(3)\n",
    "h396_2.SetLineColor(1)\n",
    "h394_2.Draw()\n",
    "h395_2.Draw(\"same\")\n",
    "h396_2.Draw(\"same\")\n",
    "leg=R.TLegend(0.58,0.7,0.9,0.9);\n",
    "leg.AddEntry(\"h394_2\",\"Layer2, Run 394\",\"lep\")\n",
    "leg.AddEntry(\"h395_2\",\"Layer2, Run 395\",\"lep\")\n",
    "leg.AddEntry(\"h396_2\",\"Layer2, Run 396\",\"lep\")\n",
    "\n",
    "leg.Draw()\n"
   ]
  },
  {
   "cell_type": "code",
   "execution_count": 76,
   "metadata": {},
   "outputs": [
    {
     "data": {
      "text/html": [
       "\n",
       "<div id=\"root_plot_21\"\n",
       "     style=\"width: 696px; height: 472px\">\n",
       "</div>\n",
       "\n",
       "<script>\n",
       " requirejs.config({\n",
       "     paths: {\n",
       "       'JSRootCore' : 'https://root.cern.ch/js/notebook//scripts/JSRootCore',\n",
       "     }\n",
       "   });\n",
       " require(['JSRootCore'],\n",
       "     function(Core) {\n",
       "       var obj = Core.JSONR_unref({\"_typename\":\"TCanvas\",\"fUniqueID\":0,\"fBits\":53673992,\"fLineColor\":1,\"fLineStyle\":1,\"fLineWidth\":1,\"fFillColor\":0,\"fFillStyle\":1001,\"fLeftMargin\":0.1,\"fRightMargin\":0.1,\"fBottomMargin\":0.1,\"fTopMargin\":0.1,\"fXfile\":2,\"fYfile\":2,\"fAfile\":1,\"fXstat\":0.99,\"fYstat\":0.99,\"fAstat\":2,\"fFrameFillColor\":0,\"fFrameLineColor\":1,\"fFrameFillStyle\":1001,\"fFrameLineStyle\":1,\"fFrameLineWidth\":1,\"fFrameBorderSize\":1,\"fFrameBorderMode\":0,\"fX1\":-7.50000055879358,\"fY1\":-0.0959579632596452,\"fX2\":67.5000005587936,\"fY2\":0.863621612141404,\"fXtoAbsPixelk\":69.6000541484835,\"fXtoPixelk\":69.6000541484835,\"fXtoPixel\":9.27999986171722,\"fYtoAbsPixelk\":424.800047186661,\"fYtoPixelk\":424.800047186661,\"fYtoPixel\":-491.882082632627,\"fUtoAbsPixelk\":5e-5,\"fUtoPixelk\":5e-5,\"fUtoPixel\":696,\"fVtoAbsPixelk\":472.00005,\"fVtoPixelk\":472,\"fVtoPixel\":-472,\"fAbsPixeltoXk\":-7.50000055879358,\"fPixeltoXk\":-7.50000055879358,\"fPixeltoX\":0.107758622295384,\"fAbsPixeltoYk\":0.863621612141404,\"fPixeltoYk\":-0.0959579632596452,\"fPixeltoY\":-0.00203300757500222,\"fXlowNDC\":0,\"fYlowNDC\":0,\"fXUpNDC\":0,\"fYUpNDC\":0,\"fWNDC\":1,\"fHNDC\":1,\"fAbsXlowNDC\":0,\"fAbsYlowNDC\":0,\"fAbsWNDC\":1,\"fAbsHNDC\":1,\"fUxmin\":0,\"fUymin\":0,\"fUxmax\":60,\"fUymax\":0.767663648881759,\"fTheta\":30,\"fPhi\":30,\"fAspectRatio\":0,\"fNumber\":0,\"fTickx\":0,\"fTicky\":0,\"fLogx\":0,\"fLogy\":0,\"fLogz\":0,\"fPadPaint\":0,\"fCrosshair\":0,\"fCrosshairPos\":0,\"fBorderSize\":2,\"fBorderMode\":0,\"fModified\":false,\"fGridx\":false,\"fGridy\":false,\"fAbsCoord\":false,\"fEditable\":true,\"fFixedAspectRatio\":false,\"fPrimitives\":{\"_typename\":\"TList\",\"name\":\"TList\",\"arr\":[{\"_typename\":\"TFrame\",\"fUniqueID\":0,\"fBits\":50331656,\"fLineColor\":1,\"fLineStyle\":1,\"fLineWidth\":1,\"fFillColor\":0,\"fFillStyle\":1001,\"fX1\":0,\"fY1\":0,\"fX2\":60,\"fY2\":0.767663648881759,\"fBorderSize\":1,\"fBorderMode\":0},{\"_typename\":\"TH1F\",\"fUniqueID\":0,\"fBits\":50332168,\"fName\":\"h394_2\",\"fTitle\":\"charge\",\"fLineColor\":2,\"fLineStyle\":1,\"fLineWidth\":1,\"fFillColor\":0,\"fFillStyle\":1001,\"fMarkerColor\":1,\"fMarkerStyle\":1,\"fMarkerSize\":1,\"fNcells\":62,\"fXaxis\":{\"_typename\":\"TAxis\",\"fUniqueID\":0,\"fBits\":50331648,\"fName\":\"xaxis\",\"fTitle\":\"\",\"fNdivisions\":510,\"fAxisColor\":1,\"fLabelColor\":1,\"fLabelFont\":42,\"fLabelOffset\":0.005,\"fLabelSize\":0.035,\"fTickLength\":0.03,\"fTitleOffset\":1,\"fTitleSize\":0.035,\"fTitleColor\":1,\"fTitleFont\":42,\"fNbins\":60,\"fXmin\":0,\"fXmax\":60,\"fXbins\":[],\"fFirst\":0,\"fLast\":0,\"fBits2\":0,\"fTimeDisplay\":false,\"fTimeFormat\":\"\",\"fLabels\":null,\"fModLabs\":null},\"fYaxis\":{\"_typename\":\"TAxis\",\"fUniqueID\":0,\"fBits\":50331648,\"fName\":\"yaxis\",\"fTitle\":\"\",\"fNdivisions\":510,\"fAxisColor\":1,\"fLabelColor\":1,\"fLabelFont\":42,\"fLabelOffset\":0.005,\"fLabelSize\":0.035,\"fTickLength\":0.03,\"fTitleOffset\":0,\"fTitleSize\":0.035,\"fTitleColor\":1,\"fTitleFont\":42,\"fNbins\":1,\"fXmin\":0,\"fXmax\":1,\"fXbins\":[],\"fFirst\":0,\"fLast\":0,\"fBits2\":0,\"fTimeDisplay\":false,\"fTimeFormat\":\"\",\"fLabels\":null,\"fModLabs\":null},\"fZaxis\":{\"_typename\":\"TAxis\",\"fUniqueID\":0,\"fBits\":50331648,\"fName\":\"zaxis\",\"fTitle\":\"\",\"fNdivisions\":510,\"fAxisColor\":1,\"fLabelColor\":1,\"fLabelFont\":42,\"fLabelOffset\":0.005,\"fLabelSize\":0.035,\"fTickLength\":0.03,\"fTitleOffset\":1,\"fTitleSize\":0.035,\"fTitleColor\":1,\"fTitleFont\":42,\"fNbins\":1,\"fXmin\":0,\"fXmax\":1,\"fXbins\":[],\"fFirst\":0,\"fLast\":0,\"fBits2\":0,\"fTimeDisplay\":false,\"fTimeFormat\":\"\",\"fLabels\":null,\"fModLabs\":null},\"fBarOffset\":0,\"fBarWidth\":1000,\"fEntries\":23707,\"fTsumw\":23695,\"fTsumw2\":23695,\"fTsumwx\":532882.391440392,\"fTsumwx2\":15667154.8157431,\"fMaximum\":-1111,\"fMinimum\":-1111,\"fNormFactor\":0,\"fContour\":[],\"fSumw2\":[0,0,0,0,0,0,0,0,0,0,0,2.21399922123031e-4,1.96842399470628e-4,1.61869429467594e-4,1.52505082308312e-4,1.29954205475754e-4,1.14474366294083e-4,1.01574500309358e-4,8.991684364168e-5,7.74947504712034e-5,6.84170670004706e-5,6.77481850605219e-5,5.52305373271955e-5,5.50394282014959e-5,4.60572992936129e-5,4.56750810422136e-5,3.56418519429826e-5,3.51640791287335e-5,3.20107785546895e-5,2.9621914483444e-5,2.70419412864989e-5,2.63730593465501e-5,2.38886407124548e-5,2.25508768325574e-5,2.05442310127111e-5,1.67220484987184e-5,2.08308947012606e-5,1.60531665587696e-5,1.59576119959198e-5,1.70087121872678e-5,1.76775941272166e-5,1.45242935531725e-5,1.73909304386671e-5,2.6946386723649e-5,2.95263599205942e-5,2.55130682809018e-5,2.60863956580007e-5,2.02575673241617e-5,1.91109125699639e-5,2.0066458198462e-5,1.68176030615682e-5,1.96842399470628e-5,1.65309393730187e-5,1.91109125699639e-5,1.88242488814144e-5,1.57665028702202e-5,9.17323803358265e-6,2.57997319694512e-6,1.71998213129675e-6,1.33776387989747e-6,1.91109125699639e-6,1.14665475419783e-6],\"fOption\":\"\",\"fFunctions\":{\"_typename\":\"TList\",\"name\":\"TList\",\"arr\":[],\"opt\":[]},\"fBufferSize\":0,\"fBuffer\":[],\"fBinStatErrOpt\":0,\"fStatOverflows\":2,\"fArray\":[0,0,0,0,0,0,0,0,0,0,0,0.7162287,0.6367851,0.5236476,0.4933539,0.4204018,0.3703246,0.3285935,0.290881,0.2506955,0.2213292,0.2191654,0.1786708,0.1780525,0.1489954,0.1477589,0.1153014,0.1137558,0.1035549,0.09582689,0.08748068,0.08531684,0.07727975,0.07295208,0.06646059,0.05409583,0.06738795,0.05193199,0.05162288,0.05502318,0.05718702,0.04698609,0.05625966,0.08717156,0.09551778,0.08253478,0.08438949,0.06553323,0.0618238,0.06491499,0.05440494,0.06367852,0.05347759,0.0618238,0.06089645,0.05100464,0.02967543,0.008346213,0.005564142,0.004327666,0.00618238,0.003709428]},{\"_typename\":\"TH1F\",\"fUniqueID\":0,\"fBits\":50332168,\"fName\":\"h395_2\",\"fTitle\":\"charge\",\"fLineColor\":3,\"fLineStyle\":1,\"fLineWidth\":1,\"fFillColor\":0,\"fFillStyle\":1001,\"fMarkerColor\":1,\"fMarkerStyle\":1,\"fMarkerSize\":1,\"fNcells\":62,\"fXaxis\":{\"_typename\":\"TAxis\",\"fUniqueID\":0,\"fBits\":50331648,\"fName\":\"xaxis\",\"fTitle\":\"\",\"fNdivisions\":510,\"fAxisColor\":1,\"fLabelColor\":1,\"fLabelFont\":42,\"fLabelOffset\":0.005,\"fLabelSize\":0.035,\"fTickLength\":0.03,\"fTitleOffset\":1,\"fTitleSize\":0.035,\"fTitleColor\":1,\"fTitleFont\":42,\"fNbins\":60,\"fXmin\":0,\"fXmax\":60,\"fXbins\":[],\"fFirst\":0,\"fLast\":0,\"fBits2\":0,\"fTimeDisplay\":false,\"fTimeFormat\":\"\",\"fLabels\":null,\"fModLabs\":null},\"fYaxis\":{\"_typename\":\"TAxis\",\"fUniqueID\":0,\"fBits\":50331648,\"fName\":\"yaxis\",\"fTitle\":\"\",\"fNdivisions\":510,\"fAxisColor\":1,\"fLabelColor\":1,\"fLabelFont\":42,\"fLabelOffset\":0.005,\"fLabelSize\":0.035,\"fTickLength\":0.03,\"fTitleOffset\":0,\"fTitleSize\":0.035,\"fTitleColor\":1,\"fTitleFont\":42,\"fNbins\":1,\"fXmin\":0,\"fXmax\":1,\"fXbins\":[],\"fFirst\":0,\"fLast\":0,\"fBits2\":0,\"fTimeDisplay\":false,\"fTimeFormat\":\"\",\"fLabels\":null,\"fModLabs\":null},\"fZaxis\":{\"_typename\":\"TAxis\",\"fUniqueID\":0,\"fBits\":50331648,\"fName\":\"zaxis\",\"fTitle\":\"\",\"fNdivisions\":510,\"fAxisColor\":1,\"fLabelColor\":1,\"fLabelFont\":42,\"fLabelOffset\":0.005,\"fLabelSize\":0.035,\"fTickLength\":0.03,\"fTitleOffset\":1,\"fTitleSize\":0.035,\"fTitleColor\":1,\"fTitleFont\":42,\"fNbins\":1,\"fXmin\":0,\"fXmax\":1,\"fXbins\":[],\"fFirst\":0,\"fLast\":0,\"fBits2\":0,\"fTimeDisplay\":false,\"fTimeFormat\":\"\",\"fLabels\":null,\"fModLabs\":null},\"fBarOffset\":0,\"fBarWidth\":1000,\"fEntries\":45485,\"fTsumw\":45473,\"fTsumw2\":45473,\"fTsumwx\":1034293.19298553,\"fTsumwx2\":30839248.9300896,\"fMaximum\":-1111,\"fMinimum\":-1111,\"fNormFactor\":0,\"fContour\":[],\"fSumw2\":[0,0,0,0,0,0,0,0,0,0,0,9.55987218481961e-5,8.04976453092286e-5,6.70330365982151e-5,5.83121131100048e-5,5.25119739729528e-5,4.67532644011655e-5,4.16574278736127e-5,3.84673513482341e-5,3.30815078638287e-5,3.0140008730038e-5,2.53341791593378e-5,2.27241165476644e-5,2.04247756754759e-5,2.03419165449466e-5,1.73797026285236e-5,1.64889669753335e-5,1.48524991473795e-5,1.37131861026015e-5,1.17452817525303e-5,1.08545460993401e-5,1.09581200125018e-5,8.74163827084264e-6,9.96381044615002e-6,8.0580504439758e-6,7.74732870449087e-6,6.73230435550677e-6,7.22945913868265e-6,5.69656522389034e-6,7.60232522606457e-6,8.82449740137195e-6,7.43660696500594e-6,7.00159652972704e-6,1.13102713172514e-5,1.25738730578234e-5,1.06059687077522e-5,1.08752608819725e-5,1.05231095772229e-5,8.78306783610729e-6,8.70020870557798e-6,8.12019479187278e-6,8.47234609662237e-6,7.60232522606457e-6,8.18233913976977e-6,8.43091653135771e-6,6.85659305130074e-6,4.20510087436269e-6,1.3050313058367e-6,6.42158261602184e-7,3.52151304749585e-7,5.17869565808213e-7,2.48577391587942e-7],\"fOption\":\"\",\"fFunctions\":{\"_typename\":\"TList\",\"name\":\"TList\",\"arr\":[],\"opt\":[]},\"fBufferSize\":0,\"fBuffer\":[],\"fBinStatErrOpt\":0,\"fStatOverflows\":2,\"fArray\":[0,0,0,0,0,0,0,0,0,0,0,0.6642199,0.5592976,0.4657455,0.4051526,0.3648532,0.3248417,0.2894358,0.2672712,0.2298503,0.2094128,0.1760219,0.1578872,0.1419113,0.1413356,0.1207542,0.1145653,0.1031952,0.09527922,0.08160622,0.07541738,0.07613702,0.0607369,0.06922855,0.05598734,0.05382844,0.04677605,0.05023028,0.03957973,0.05282095,0.06131261,0.05166955,0.04864709,0.07858376,0.08736327,0.07369027,0.07556131,0.07311457,0.06102476,0.06044905,0.05641911,0.05886586,0.05282095,0.05685089,0.05857801,0.04763961,0.02921704,0.009067358,0.004461715,0.002446747,0.003598158,0.001727116]},{\"_typename\":\"TH1F\",\"fUniqueID\":0,\"fBits\":50332168,\"fName\":\"h396_2\",\"fTitle\":\"charge\",\"fLineColor\":1,\"fLineStyle\":1,\"fLineWidth\":1,\"fFillColor\":0,\"fFillStyle\":1001,\"fMarkerColor\":1,\"fMarkerStyle\":1,\"fMarkerSize\":1,\"fNcells\":62,\"fXaxis\":{\"_typename\":\"TAxis\",\"fUniqueID\":0,\"fBits\":50331648,\"fName\":\"xaxis\",\"fTitle\":\"\",\"fNdivisions\":510,\"fAxisColor\":1,\"fLabelColor\":1,\"fLabelFont\":42,\"fLabelOffset\":0.005,\"fLabelSize\":0.035,\"fTickLength\":0.03,\"fTitleOffset\":1,\"fTitleSize\":0.035,\"fTitleColor\":1,\"fTitleFont\":42,\"fNbins\":60,\"fXmin\":0,\"fXmax\":60,\"fXbins\":[],\"fFirst\":0,\"fLast\":0,\"fBits2\":0,\"fTimeDisplay\":false,\"fTimeFormat\":\"\",\"fLabels\":null,\"fModLabs\":null},\"fYaxis\":{\"_typename\":\"TAxis\",\"fUniqueID\":0,\"fBits\":50331648,\"fName\":\"yaxis\",\"fTitle\":\"\",\"fNdivisions\":510,\"fAxisColor\":1,\"fLabelColor\":1,\"fLabelFont\":42,\"fLabelOffset\":0.005,\"fLabelSize\":0.035,\"fTickLength\":0.03,\"fTitleOffset\":0,\"fTitleSize\":0.035,\"fTitleColor\":1,\"fTitleFont\":42,\"fNbins\":1,\"fXmin\":0,\"fXmax\":1,\"fXbins\":[],\"fFirst\":0,\"fLast\":0,\"fBits2\":0,\"fTimeDisplay\":false,\"fTimeFormat\":\"\",\"fLabels\":null,\"fModLabs\":null},\"fZaxis\":{\"_typename\":\"TAxis\",\"fUniqueID\":0,\"fBits\":50331648,\"fName\":\"zaxis\",\"fTitle\":\"\",\"fNdivisions\":510,\"fAxisColor\":1,\"fLabelColor\":1,\"fLabelFont\":42,\"fLabelOffset\":0.005,\"fLabelSize\":0.035,\"fTickLength\":0.03,\"fTitleOffset\":1,\"fTitleSize\":0.035,\"fTitleColor\":1,\"fTitleFont\":42,\"fNbins\":1,\"fXmin\":0,\"fXmax\":1,\"fXbins\":[],\"fFirst\":0,\"fLast\":0,\"fBits2\":0,\"fTimeDisplay\":false,\"fTimeFormat\":\"\",\"fLabels\":null,\"fModLabs\":null},\"fBarOffset\":0,\"fBarWidth\":1000,\"fEntries\":542871,\"fTsumw\":542612,\"fTsumw2\":542612,\"fTsumwx\":13760706.1388035,\"fTsumwx2\":448268543.674191,\"fMaximum\":-1111,\"fMinimum\":-1111,\"fNormFactor\":0,\"fContour\":[],\"fSumw2\":[0,0,0,0,0,0,0,0,0,0,0,1.47125629060203e-5,1.33401140139836e-5,1.19360675716157e-5,1.0810079572163e-5,9.68074594973418e-6,8.78895155861935e-6,8.1172248121648e-6,7.36631832193889e-6,6.68195255535181e-6,6.16970050409869e-6,5.67045920886434e-6,5.16229625235998e-6,4.81212104751206e-6,4.36752492755652e-6,4.13630520630874e-6,3.79393645507208e-6,3.56754930034555e-6,3.23930651278641e-6,3.09358604537623e-6,2.8177580177784e-6,2.76311284249958e-6,2.52036930877804e-6,2.39323563568039e-6,2.24677169649771e-6,2.13525093062258e-6,1.9925043503024e-6,1.89919864285354e-6,1.78990829229591e-6,2.13487919473633e-6,2.42557665778418e-6,2.04677778969497e-6,1.9445504209761e-6,3.27201927077645e-6,3.61178587080936e-6,3.17090710971633e-6,3.06867974099745e-6,2.78393005212961e-6,2.40847680701666e-6,2.61627716743066e-6,2.23301746870644e-6,2.53932783897681e-6,2.16313112209136e-6,2.54824950024682e-6,2.78355831624336e-6,1.90663336057855e-6,1.09624912855257e-6,4.24522382098012e-7,2.40884854290291e-7,1.42746580320172e-7,1.4125963677517e-7,9.62795945388662e-8],\"fOption\":\"\",\"fFunctions\":{\"_typename\":\"TList\",\"name\":\"TList\",\"arr\":[],\"opt\":[]},\"fBufferSize\":0,\"fBuffer\":[],\"fBinStatErrOpt\":0,\"fStatOverflows\":2,\"fArray\":[0,0,0,0,0,0,0,0,0,0,0,0.7630818,0.6918983,0.6190761,0.5606756,0.5021015,0.4558478,0.421008,0.3820615,0.3465661,0.3199977,0.294104,0.2677477,0.2495855,0.2265261,0.2145336,0.1967763,0.1850345,0.1680099,0.1604519,0.1461458,0.1433116,0.1307215,0.1241276,0.1165311,0.1107469,0.1033432,0.09850384,0.09283538,0.1107276,0.125805,0.1061582,0.1008561,0.1697066,0.1873289,0.1644623,0.1591601,0.1443913,0.1249181,0.1356958,0.1158177,0.1317048,0.112193,0.1321675,0.144372,0.09888945,0.05685806,0.02201828,0.01249373,0.007403694,0.007326572,0.004993638]},{\"_typename\":\"TLegend\",\"fUniqueID\":0,\"fBits\":50331656,\"fLineColor\":1,\"fLineStyle\":1,\"fLineWidth\":1,\"fFillColor\":0,\"fFillStyle\":1001,\"fX1\":36.000000089407,\"fY1\":0.575747739521089,\"fX2\":60.0000004470349,\"fY2\":0.767663654601299,\"fX1NDC\":0.58,\"fY1NDC\":0.7,\"fX2NDC\":0.9,\"fY2NDC\":0.9,\"fBorderSize\":1,\"fInit\":1,\"fShadowColor\":1,\"fCornerRadius\":0,\"fOption\":\"brNDC\",\"fName\":\"TPave\",\"fTextAngle\":0,\"fTextSize\":0,\"fTextAlign\":12,\"fTextColor\":1,\"fTextFont\":42,\"fPrimitives\":{\"_typename\":\"TList\",\"name\":\"TList\",\"arr\":[{\"_typename\":\"TLegendEntry\",\"fUniqueID\":0,\"fBits\":50331656,\"fTextAngle\":0,\"fTextSize\":0,\"fTextAlign\":0,\"fTextColor\":0,\"fTextFont\":42,\"fLineColor\":2,\"fLineStyle\":1,\"fLineWidth\":1,\"fFillColor\":0,\"fFillStyle\":0,\"fMarkerColor\":1,\"fMarkerStyle\":1,\"fMarkerSize\":1,\"fObject\":{\"$ref\":3},\"fLabel\":\"Layer2, Run 394\",\"fOption\":\"lep\"},{\"_typename\":\"TLegendEntry\",\"fUniqueID\":0,\"fBits\":50331656,\"fTextAngle\":0,\"fTextSize\":0,\"fTextAlign\":0,\"fTextColor\":0,\"fTextFont\":42,\"fLineColor\":3,\"fLineStyle\":1,\"fLineWidth\":1,\"fFillColor\":0,\"fFillStyle\":0,\"fMarkerColor\":1,\"fMarkerStyle\":1,\"fMarkerSize\":1,\"fObject\":{\"$ref\":8},\"fLabel\":\"Layer2, Run 395\",\"fOption\":\"lep\"},{\"_typename\":\"TLegendEntry\",\"fUniqueID\":0,\"fBits\":50331656,\"fTextAngle\":0,\"fTextSize\":0,\"fTextAlign\":0,\"fTextColor\":0,\"fTextFont\":42,\"fLineColor\":1,\"fLineStyle\":1,\"fLineWidth\":1,\"fFillColor\":0,\"fFillStyle\":0,\"fMarkerColor\":1,\"fMarkerStyle\":1,\"fMarkerSize\":1,\"fObject\":{\"$ref\":13},\"fLabel\":\"Layer2, Run 396\",\"fOption\":\"lep\"}],\"opt\":[\"lep\",\"lep\",\"lep\"]},\"fEntrySeparation\":0.1,\"fMargin\":0.25,\"fNColumns\":1,\"fColumnSeparation\":0},{\"_typename\":\"TPaveText\",\"fUniqueID\":0,\"fBits\":50331657,\"fLineColor\":1,\"fLineStyle\":1,\"fLineWidth\":1,\"fFillColor\":0,\"fFillStyle\":0,\"fX1\":24.9935344081565,\"fY1\":0.800273100679967,\"fX2\":35.0064655918435,\"fY2\":0.858823718840031,\"fX1NDC\":0.433247126436782,\"fY1NDC\":0.933983055615829,\"fX2NDC\":0.566752873563218,\"fY2NDC\":0.995000004768372,\"fBorderSize\":0,\"fInit\":1,\"fShadowColor\":1,\"fCornerRadius\":0,\"fOption\":\"blNDC\",\"fName\":\"title\",\"fTextAngle\":0,\"fTextSize\":0,\"fTextAlign\":22,\"fTextColor\":1,\"fTextFont\":42,\"fLabel\":\"\",\"fLongest\":6,\"fMargin\":0.05,\"fLines\":{\"_typename\":\"TList\",\"name\":\"TList\",\"arr\":[{\"_typename\":\"TLatex\",\"fUniqueID\":0,\"fBits\":50331648,\"fName\":\"\",\"fTitle\":\"charge\",\"fTextAngle\":0,\"fTextSize\":0,\"fTextAlign\":0,\"fTextColor\":0,\"fTextFont\":0,\"fX\":0,\"fY\":0,\"fLineColor\":1,\"fLineStyle\":1,\"fLineWidth\":2,\"fLimitFactorSize\":3,\"fOriginSize\":0.0518644079566002}],\"opt\":[\"\"]}}],\"opt\":[\"\",\"\",\"same\",\"same\",\"\",\"blNDC\"]},\"fExecs\":null,\"fName\":\"c1_n2\",\"fTitle\":\"c1_n2\",\"fNumPaletteColor\":0,\"fNextPaletteColor\":0,\"fDISPLAY\":\"$DISPLAY\",\"fDoubleBuffer\":0,\"fRetained\":true,\"fXsizeUser\":0,\"fYsizeUser\":0,\"fXsizeReal\":20,\"fYsizeReal\":14.28571,\"fWindowTopX\":0,\"fWindowTopY\":0,\"fWindowWidth\":0,\"fWindowHeight\":0,\"fCw\":696,\"fCh\":472,\"fCatt\":{\"_typename\":\"TAttCanvas\",\"fXBetween\":2,\"fYBetween\":2,\"fTitleFromTop\":1.2,\"fXdate\":0.2,\"fYdate\":0.3,\"fAdate\":1},\"kMoveOpaque\":true,\"kResizeOpaque\":true,\"fHighLightColor\":2,\"fBatch\":true,\"kShowEventStatus\":false,\"kAutoExec\":true,\"kMenuBar\":true});\n",
       "       Core.draw(\"root_plot_21\", obj, \"\");\n",
       "     }\n",
       " );\n",
       "</script>\n"
      ],
      "text/plain": [
       "<IPython.core.display.HTML object>"
      ]
     },
     "metadata": {},
     "output_type": "display_data"
    }
   ],
   "source": [
    "c.Draw()"
   ]
  },
  {
   "cell_type": "markdown",
   "metadata": {},
   "source": [
    "leg1=R.TLegend(0.58,0.7,0.9,0.9);\n",
    "leg2=R.TLegend(0.58,0.7,0.9,0.9);\n",
    "cl1=R.TCanvas()\n",
    "cl2=R.TCanvas()\n",
    "hist_list_l1=[]\n",
    "hist_list_l2=[]\n",
    "for num,run in enumerate((394,395,396)):\n",
    "    trig=get_number_of_trig(run)\n",
    "    hist_list_l1.append(load_histo_l1(run))\n",
    "    hist_list_l1[num].Scale(1/trig)\n",
    "    \n",
    "    hist_list_l2.append(load_histo_l2(run))\n",
    "    hist_list_l2[num].Scale(1/trig) \n",
    "\n",
    "    hist_list_l1[num].SetName(\"h1_{}\".format(run))\n",
    "    hist_list_l2[num].SetName(\"h2_{}\".format(run))\n",
    "\n",
    "    cl1.cd()\n",
    "    if run==394:\n",
    "        hist_list_l1[num].Draw(\"\")\n",
    "    else:\n",
    "        hist_list_l1[num].Draw(\"SAME \")\n",
    "        \n",
    "    leg1.AddEntry(\"h1_{0}\",\"Layer1, Run {0}\".format(run),\"lep\")\n",
    "    cl2.cd()\n",
    "    if run==394:\n",
    "        hist_list_l2[num].Draw(\" PLC PMC\")\n",
    "    else:\n",
    "        hist_list_l2[num].Draw(\"SAME PLC PMC\")\n",
    "        \n",
    "    leg2.AddEntry(\"h2_{0}\",\"Layer2, Run {0}\".format(run),\"lep\")\n",
    "\n",
    "cl1.cd()\n",
    "leg1.Draw()\n",
    "\n",
    "\n",
    "cl2.cd()\n",
    "leg2.Draw()"
   ]
  },
  {
   "cell_type": "markdown",
   "metadata": {},
   "source": [
    "cl2.Draw()"
   ]
  },
  {
   "cell_type": "markdown",
   "metadata": {},
   "source": [
    "h394_2=load_histo_l2(394)\n",
    "h395_2=load_histo_l2(395)\n",
    "h396_2=load_histo_l2(396)\n",
    "h398_2=load_histo_l2(398)\n",
    "\n",
    "h394_2.Scale(1/trig_394)\n",
    "h395_2.Scale(1/trig_395)\n",
    "h396_2.Scale(1/trig_396)\n",
    "h398_2.Scale(1/trig_398)\n",
    "\n",
    "h394_2.SetName(\"h394_2\")\n",
    "h395_2.SetName(\"h395_2\")\n",
    "h396_2.SetName(\"h396_2\")\n",
    "h398_2.SetName(\"h398_2\")\n",
    "\n",
    "h394_2.SetLineColor(2)\n",
    "h395_2.SetLineColor(3)\n",
    "h396_2.SetLineColor(1)\n",
    "h398_2.SetLineColor(4)\n",
    "\n",
    "h394_2.Draw()\n",
    "h395_2.Draw(\"same\")\n",
    "h396_2.Draw(\"same\")\n",
    "leg=R.TLegend(0.58,0.7,0.9,0.9);\n",
    "leg.AddEntry(\"h394_2\",\"Layer2, Run 394\",\"lep\")\n",
    "leg.AddEntry(\"h395_2\",\"Layer2, Run 395\",\"lep\")\n",
    "leg.AddEntry(\"h396_2\",\"Layer2, Run 396\",\"lep\")\n",
    "leg.AddEntry(\"h398_2\",\"Layer2, Run 398\",\"lep\")\n",
    "\n",
    "leg.Draw()\n"
   ]
  },
  {
   "cell_type": "markdown",
   "metadata": {},
   "source": [
    "trig_394 = get_number_of_trig(394)\n",
    "trig_357 = get_number_of_trig(357)"
   ]
  },
  {
   "cell_type": "markdown",
   "metadata": {},
   "source": [
    "h394=load_histo_l2(394)\n",
    "h357=load_histo_l2(357)\n",
    "h396_2=load_histo_l2(396)\n",
    "h394_2.Scale(1/trig_394)\n",
    "\n",
    "h394_2.SetLineColor(2)\n",
    "h395_2.SetLineColor(3)\n",
    "h396_2.SetLineColor(1)\n",
    "h394_2.Draw()\n",
    "h395_2.Draw(\"same\")\n",
    "h396_2.Draw(\"same\")\n",
    "leg=R.TLegend(0.58,0.7,0.9,0.9);\n",
    "leg.AddEntry(\"h394_2\",\"Layer2, Run 394\",\"lep\")\n",
    "leg.AddEntry(\"h395_2\",\"Layer2, Run 395\",\"lep\")\n",
    "leg.AddEntry(\"h396_2\",\"Layer2, Run 396\",\"lep\")\n",
    "\n",
    "leg.Draw()"
   ]
  },
  {
   "cell_type": "code",
   "execution_count": 3,
   "metadata": {},
   "outputs": [
    {
     "name": "stdout",
     "output_type": "stream",
     "text": [
      "trig 351 done\n",
      "trig 394 done\n",
      "trig 395 done\n",
      "trig 396 done\n",
      "trig 398 done\n",
      "trig 405 done\n",
      "trig 406 done\n",
      "trig 408 done\n",
      "trig 409 done\n",
      "trig 410 done\n"
     ]
    }
   ],
   "source": [
    "trig_351=get_number_of_trig(351)\n",
    "print (\"trig 351 done\")\n",
    "trig_394=get_number_of_trig(394)\n",
    "print (\"trig 394 done\")\n",
    "trig_395=get_number_of_trig(395)\n",
    "print (\"trig 395 done\")\n",
    "trig_396=get_number_of_trig(396)\n",
    "print (\"trig 396 done\")\n",
    "trig_398=get_number_of_trig(398)\n",
    "print (\"trig 398 done\")\n",
    "trig_405=get_number_of_trig(405)\n",
    "print (\"trig 405 done\")\n",
    "trig_406=get_number_of_trig(406)\n",
    "print (\"trig 406 done\")\n",
    "trig_408=get_number_of_trig(408)\n",
    "print (\"trig 408 done\")\n",
    "trig_409=get_number_of_trig(409)\n",
    "print (\"trig 409 done\")\n",
    "trig_410=get_number_of_trig(410)\n",
    "print (\"trig 410 done\")\n"
   ]
  },
  {
   "cell_type": "code",
   "execution_count": 44,
   "metadata": {},
   "outputs": [],
   "source": [
    "trig_411=get_number_of_trig(411)\n"
   ]
  },
  {
   "cell_type": "code",
   "execution_count": 34,
   "metadata": {},
   "outputs": [
    {
     "name": "stderr",
     "output_type": "stream",
     "text": [
      "Warning in <TROOT::Append>: Replacing existing TH1: h0 (Potential memory leak).\n",
      "Warning in <TROOT::Append>: Replacing existing TH1: h0 (Potential memory leak).\n",
      "Warning in <TROOT::Append>: Replacing existing TH1: h0 (Potential memory leak).\n",
      "Warning in <TROOT::Append>: Replacing existing TH1: h0 (Potential memory leak).\n",
      "Warning in <TROOT::Append>: Replacing existing TH1: h0 (Potential memory leak).\n",
      "Warning in <TROOT::Append>: Replacing existing TH1: h0 (Potential memory leak).\n",
      "Warning in <TROOT::Append>: Replacing existing TH1: h0 (Potential memory leak).\n",
      "Warning in <TROOT::Append>: Replacing existing TH1: h0 (Potential memory leak).\n",
      "Info in <TCanvas::Print>: png file L1.png has been created\n"
     ]
    },
    {
     "data": {
      "text/html": [
       "\n",
       "<div id=\"root_plot_26\"\n",
       "     style=\"width: 696px; height: 472px\">\n",
       "</div>\n",
       "\n",
       "<script>\n",
       " requirejs.config({\n",
       "     paths: {\n",
       "       'JSRootCore' : 'https://root.cern.ch/js/notebook//scripts/JSRootCore',\n",
       "     }\n",
       "   });\n",
       " require(['JSRootCore'],\n",
       "     function(Core) {\n",
       "       var obj = Core.JSONR_unref({\"_typename\":\"TCanvas\",\"fUniqueID\":0,\"fBits\":53673992,\"fLineColor\":1,\"fLineStyle\":1,\"fLineWidth\":1,\"fFillColor\":0,\"fFillStyle\":1001,\"fLeftMargin\":0.1,\"fRightMargin\":0.1,\"fBottomMargin\":0.1,\"fTopMargin\":0.1,\"fXfile\":2,\"fYfile\":2,\"fAfile\":1,\"fXstat\":0.99,\"fYstat\":0.99,\"fAstat\":2,\"fFrameFillColor\":0,\"fFrameLineColor\":1,\"fFrameFillStyle\":1001,\"fFrameLineStyle\":1,\"fFrameLineWidth\":1,\"fFrameBorderSize\":1,\"fFrameBorderMode\":0,\"fX1\":-7.50000055879358,\"fY1\":-0.101944464180394,\"fX2\":67.5000005587936,\"fY2\":0.917500116859908,\"fXtoAbsPixelk\":69.6000541484835,\"fXtoPixelk\":69.6000541484835,\"fXtoPixel\":9.27999986171722,\"fYtoAbsPixelk\":424.800047186661,\"fYtoPixelk\":424.800047186661,\"fYtoPixel\":-462.997213167138,\"fUtoAbsPixelk\":5e-5,\"fUtoPixelk\":5e-5,\"fUtoPixel\":696,\"fVtoAbsPixelk\":472.00005,\"fVtoPixelk\":472,\"fVtoPixel\":-472,\"fAbsPixeltoXk\":-7.50000055879358,\"fPixeltoXk\":-7.50000055879358,\"fPixeltoX\":0.107758622295384,\"fAbsPixeltoYk\":0.917500116859908,\"fPixeltoYk\":-0.101944464180394,\"fPixeltoY\":-0.00215984021406843,\"fXlowNDC\":0,\"fYlowNDC\":0,\"fXUpNDC\":0,\"fYUpNDC\":0,\"fWNDC\":1,\"fHNDC\":1,\"fAbsXlowNDC\":0,\"fAbsYlowNDC\":0,\"fAbsWNDC\":1,\"fAbsHNDC\":1,\"fUxmin\":0,\"fUymin\":0,\"fUxmax\":60,\"fUymax\":0.815555652679514,\"fTheta\":30,\"fPhi\":30,\"fAspectRatio\":0,\"fNumber\":0,\"fTickx\":0,\"fTicky\":0,\"fLogx\":0,\"fLogy\":0,\"fLogz\":0,\"fPadPaint\":0,\"fCrosshair\":0,\"fCrosshairPos\":0,\"fBorderSize\":2,\"fBorderMode\":0,\"fModified\":true,\"fGridx\":false,\"fGridy\":false,\"fAbsCoord\":false,\"fEditable\":true,\"fFixedAspectRatio\":false,\"fPrimitives\":{\"_typename\":\"TList\",\"name\":\"TList\",\"arr\":[{\"_typename\":\"TFrame\",\"fUniqueID\":0,\"fBits\":50331656,\"fLineColor\":1,\"fLineStyle\":1,\"fLineWidth\":1,\"fFillColor\":0,\"fFillStyle\":1001,\"fX1\":0,\"fY1\":0,\"fX2\":60,\"fY2\":0.815555652679514,\"fBorderSize\":1,\"fBorderMode\":0},{\"_typename\":\"TH1F\",\"fUniqueID\":0,\"fBits\":50332168,\"fName\":\"h351_1\",\"fTitle\":\"charge\",\"fLineColor\":5,\"fLineStyle\":1,\"fLineWidth\":1,\"fFillColor\":0,\"fFillStyle\":1001,\"fMarkerColor\":1,\"fMarkerStyle\":1,\"fMarkerSize\":1,\"fNcells\":62,\"fXaxis\":{\"_typename\":\"TAxis\",\"fUniqueID\":0,\"fBits\":50331648,\"fName\":\"xaxis\",\"fTitle\":\"\",\"fNdivisions\":510,\"fAxisColor\":1,\"fLabelColor\":1,\"fLabelFont\":42,\"fLabelOffset\":0.005,\"fLabelSize\":0.035,\"fTickLength\":0.03,\"fTitleOffset\":1,\"fTitleSize\":0.035,\"fTitleColor\":1,\"fTitleFont\":42,\"fNbins\":60,\"fXmin\":0,\"fXmax\":60,\"fXbins\":[],\"fFirst\":0,\"fLast\":0,\"fBits2\":0,\"fTimeDisplay\":false,\"fTimeFormat\":\"\",\"fLabels\":null,\"fModLabs\":null},\"fYaxis\":{\"_typename\":\"TAxis\",\"fUniqueID\":0,\"fBits\":50331648,\"fName\":\"yaxis\",\"fTitle\":\"\",\"fNdivisions\":510,\"fAxisColor\":1,\"fLabelColor\":1,\"fLabelFont\":42,\"fLabelOffset\":0.005,\"fLabelSize\":0.035,\"fTickLength\":0.03,\"fTitleOffset\":0,\"fTitleSize\":0.035,\"fTitleColor\":1,\"fTitleFont\":42,\"fNbins\":1,\"fXmin\":0,\"fXmax\":1,\"fXbins\":[],\"fFirst\":0,\"fLast\":0,\"fBits2\":0,\"fTimeDisplay\":false,\"fTimeFormat\":\"\",\"fLabels\":null,\"fModLabs\":null},\"fZaxis\":{\"_typename\":\"TAxis\",\"fUniqueID\":0,\"fBits\":50331648,\"fName\":\"zaxis\",\"fTitle\":\"\",\"fNdivisions\":510,\"fAxisColor\":1,\"fLabelColor\":1,\"fLabelFont\":42,\"fLabelOffset\":0.005,\"fLabelSize\":0.035,\"fTickLength\":0.03,\"fTitleOffset\":1,\"fTitleSize\":0.035,\"fTitleColor\":1,\"fTitleFont\":42,\"fNbins\":1,\"fXmin\":0,\"fXmax\":1,\"fXbins\":[],\"fFirst\":0,\"fLast\":0,\"fBits2\":0,\"fTimeDisplay\":false,\"fTimeFormat\":\"\",\"fLabels\":null,\"fModLabs\":null},\"fBarOffset\":0,\"fBarWidth\":1000,\"fEntries\":2770477,\"fTsumw\":2770477,\"fTsumw2\":2770477,\"fTsumwx\":69338216.4634237,\"fTsumwx2\":2210121188.82636,\"fMaximum\":-1111,\"fMinimum\":-1111,\"fNormFactor\":0,\"fContour\":[],\"fSumw2\":[0,0,0,0,0,0,0,0,0,0,0,3.04823351821428e-6,2.79690474853606e-6,2.52813999711408e-6,2.27401094997745e-6,2.07768210496566e-6,1.8794038955353e-6,1.7274772400573e-6,1.58517363750265e-6,1.45241573214046e-6,1.35008957131241e-6,1.24771699704581e-6,1.15776775316098e-6,1.07140781518967e-6,1.00112239809837e-6,9.26860896439064e-7,8.60381381307804e-7,7.98775277222936e-7,7.46420918553123e-7,6.98027173305141e-7,6.48148198023972e-7,6.04581450383844e-7,5.70606813374711e-7,5.33723600883921e-7,4.89522536250453e-7,4.63577424108233e-7,4.37059879557388e-7,4.10000844890277e-7,4.03967097880459e-7,3.81580349359413e-7,3.8985741256519e-7,3.61282205572535e-7,3.93400305040186e-7,4.84943076981463e-7,4.58224407530291e-7,5.76841685284857e-7,6.25776920649105e-7,8.50448905460871e-7,1.0061195783142e-6,1.20028246286093e-6,8.19800564880227e-7,4.64552106317511e-7,2.39369573681837e-7,8.24766802803694e-8,1.6082256453094e-7,2.35285191090575e-7,2.04853446556438e-7,1.17503355229676e-7,1.09226292023899e-8,8.91138019911701e-9,0,0],\"fOption\":\"\",\"fFunctions\":{\"_typename\":\"TList\",\"name\":\"TList\",\"arr\":[],\"opt\":[]},\"fBufferSize\":0,\"fBuffer\":[],\"fBinStatErrOpt\":0,\"fStatOverflows\":2,\"fArray\":[0,0,0,0,0,0,0,0,0,0,0,0.7749738,0.7110767,0.6427467,0.5781377,0.5282237,0.477814,0.4391886,0.4030098,0.3692578,0.3432427,0.3172158,0.2943474,0.2723915,0.2545224,0.2356423,0.2187408,0.2030782,0.1897678,0.1774643,0.1647833,0.153707,0.1450694,0.1356923,0.1244547,0.1178585,0.1111168,0.1042374,0.1027034,0.09701184,0.09911618,0.0918513,0.1000169,0.1232905,0.1164976,0.1466545,0.1590956,0.2162156,0.2557928,0.3051562,0.2084236,0.1181063,0.0608566,0.02096862,0.04088705,0.0598182,0.05208132,0.0298737,0.002776936,0.002265603,0,0]},{\"_typename\":\"TH1F\",\"fUniqueID\":0,\"fBits\":50332168,\"fName\":\"h394_1\",\"fTitle\":\"charge\",\"fLineColor\":1,\"fLineStyle\":1,\"fLineWidth\":1,\"fFillColor\":0,\"fFillStyle\":1001,\"fMarkerColor\":1,\"fMarkerStyle\":1,\"fMarkerSize\":1,\"fNcells\":62,\"fXaxis\":{\"_typename\":\"TAxis\",\"fUniqueID\":0,\"fBits\":50331648,\"fName\":\"xaxis\",\"fTitle\":\"\",\"fNdivisions\":510,\"fAxisColor\":1,\"fLabelColor\":1,\"fLabelFont\":42,\"fLabelOffset\":0.005,\"fLabelSize\":0.035,\"fTickLength\":0.03,\"fTitleOffset\":1,\"fTitleSize\":0.035,\"fTitleColor\":1,\"fTitleFont\":42,\"fNbins\":60,\"fXmin\":0,\"fXmax\":60,\"fXbins\":[],\"fFirst\":0,\"fLast\":0,\"fBits2\":0,\"fTimeDisplay\":false,\"fTimeFormat\":\"\",\"fLabels\":null,\"fModLabs\":null},\"fYaxis\":{\"_typename\":\"TAxis\",\"fUniqueID\":0,\"fBits\":50331648,\"fName\":\"yaxis\",\"fTitle\":\"\",\"fNdivisions\":510,\"fAxisColor\":1,\"fLabelColor\":1,\"fLabelFont\":42,\"fLabelOffset\":0.005,\"fLabelSize\":0.035,\"fTickLength\":0.03,\"fTitleOffset\":0,\"fTitleSize\":0.035,\"fTitleColor\":1,\"fTitleFont\":42,\"fNbins\":1,\"fXmin\":0,\"fXmax\":1,\"fXbins\":[],\"fFirst\":0,\"fLast\":0,\"fBits2\":0,\"fTimeDisplay\":false,\"fTimeFormat\":\"\",\"fLabels\":null,\"fModLabs\":null},\"fZaxis\":{\"_typename\":\"TAxis\",\"fUniqueID\":0,\"fBits\":50331648,\"fName\":\"zaxis\",\"fTitle\":\"\",\"fNdivisions\":510,\"fAxisColor\":1,\"fLabelColor\":1,\"fLabelFont\":42,\"fLabelOffset\":0.005,\"fLabelSize\":0.035,\"fTickLength\":0.03,\"fTitleOffset\":1,\"fTitleSize\":0.035,\"fTitleColor\":1,\"fTitleFont\":42,\"fNbins\":1,\"fXmin\":0,\"fXmax\":1,\"fXbins\":[],\"fFirst\":0,\"fLast\":0,\"fBits2\":0,\"fTimeDisplay\":false,\"fTimeFormat\":\"\",\"fLabels\":null,\"fModLabs\":null},\"fBarOffset\":0,\"fBarWidth\":1000,\"fEntries\":23006,\"fTsumw\":23006,\"fTsumw2\":23006,\"fTsumwx\":542244.663962364,\"fTsumwx2\":16375994.7621067,\"fMaximum\":-1111,\"fMinimum\":-1111,\"fNormFactor\":0,\"fContour\":[],\"fSumw2\":[0,0,0,0,0,0,0,0,0,0,0,1.64353848101689e-4,1.54129509876759e-4,1.4810957241722e-4,1.35496370121044e-4,1.14665475419783e-4,1.05014464571951e-4,1.05205573697651e-4,9.00123982045298e-5,7.88325143511009e-5,7.00414945689175e-5,7.10925947602655e-5,6.45948844864778e-5,5.80016196498403e-5,5.14083548132028e-5,4.72039540478107e-5,4.13751257139718e-5,4.30951078452685e-5,3.67885066971804e-5,3.19152239918396e-5,3.36352061231364e-5,2.78063777892974e-5,2.45575226524036e-5,2.35064224610555e-5,2.21686585811581e-5,1.93975762585133e-5,1.82509215043155e-5,1.9015358007114e-5,1.47154026788722e-5,1.67220484987184e-5,1.47154026788722e-5,1.51931754931213e-5,1.60531665587696e-5,1.98753490727624e-5,1.7964257815766e-5,2.64686139093999e-5,2.36975315867552e-5,3.71707249485797e-5,3.94640344569754e-5,5.72371831470417e-5,3.62151793200815e-5,2.01620127613119e-5,9.74656541068157e-6,2.19775494554584e-6,6.97548308803681e-6,1.05110019134801e-5,7.26214677658627e-6,4.87328270534078e-6,7.64436502798554e-7,6.68881939948735e-7,0,0],\"fOption\":\"\",\"fFunctions\":{\"_typename\":\"TList\",\"name\":\"TList\",\"arr\":[],\"opt\":[]},\"fBufferSize\":0,\"fBuffer\":[],\"fBinStatErrOpt\":0,\"fStatOverflows\":2,\"fArray\":[0,0,0,0,0,0,0,0,0,0,0,0.5316847,0.498609,0.4791345,0.4383308,0.3709428,0.3397218,0.34034,0.2911901,0.2550232,0.2265842,0.2299845,0.2089645,0.1876352,0.166306,0.1527048,0.1338485,0.1394127,0.1190108,0.1032458,0.1088099,0.08995363,0.07944359,0.07604328,0.07171561,0.06275116,0.05904173,0.06151468,0.04760433,0.05409583,0.04760433,0.04914992,0.05193199,0.06429675,0.05811437,0.08562597,0.07666151,0.1202473,0.1276661,0.1851623,0.1171561,0.06522411,0.03153014,0.007109737,0.02256569,0.03400309,0.02349304,0.01576507,0.002472952,0.002163833,0,0]},{\"_typename\":\"TH1F\",\"fUniqueID\":0,\"fBits\":50332168,\"fName\":\"h395_1\",\"fTitle\":\"charge\",\"fLineColor\":2,\"fLineStyle\":1,\"fLineWidth\":1,\"fFillColor\":0,\"fFillStyle\":1001,\"fMarkerColor\":1,\"fMarkerStyle\":1,\"fMarkerSize\":1,\"fNcells\":62,\"fXaxis\":{\"_typename\":\"TAxis\",\"fUniqueID\":0,\"fBits\":50331648,\"fName\":\"xaxis\",\"fTitle\":\"\",\"fNdivisions\":510,\"fAxisColor\":1,\"fLabelColor\":1,\"fLabelFont\":42,\"fLabelOffset\":0.005,\"fLabelSize\":0.035,\"fTickLength\":0.03,\"fTitleOffset\":1,\"fTitleSize\":0.035,\"fTitleColor\":1,\"fTitleFont\":42,\"fNbins\":60,\"fXmin\":0,\"fXmax\":60,\"fXbins\":[],\"fFirst\":0,\"fLast\":0,\"fBits2\":0,\"fTimeDisplay\":false,\"fTimeFormat\":\"\",\"fLabels\":null,\"fModLabs\":null},\"fYaxis\":{\"_typename\":\"TAxis\",\"fUniqueID\":0,\"fBits\":50331648,\"fName\":\"yaxis\",\"fTitle\":\"\",\"fNdivisions\":510,\"fAxisColor\":1,\"fLabelColor\":1,\"fLabelFont\":42,\"fLabelOffset\":0.005,\"fLabelSize\":0.035,\"fTickLength\":0.03,\"fTitleOffset\":0,\"fTitleSize\":0.035,\"fTitleColor\":1,\"fTitleFont\":42,\"fNbins\":1,\"fXmin\":0,\"fXmax\":1,\"fXbins\":[],\"fFirst\":0,\"fLast\":0,\"fBits2\":0,\"fTimeDisplay\":false,\"fTimeFormat\":\"\",\"fLabels\":null,\"fModLabs\":null},\"fZaxis\":{\"_typename\":\"TAxis\",\"fUniqueID\":0,\"fBits\":50331648,\"fName\":\"zaxis\",\"fTitle\":\"\",\"fNdivisions\":510,\"fAxisColor\":1,\"fLabelColor\":1,\"fLabelFont\":42,\"fLabelOffset\":0.005,\"fLabelSize\":0.035,\"fTickLength\":0.03,\"fTitleOffset\":1,\"fTitleSize\":0.035,\"fTitleColor\":1,\"fTitleFont\":42,\"fNbins\":1,\"fXmin\":0,\"fXmax\":1,\"fXbins\":[],\"fFirst\":0,\"fLast\":0,\"fBits2\":0,\"fTimeDisplay\":false,\"fTimeFormat\":\"\",\"fLabels\":null,\"fModLabs\":null},\"fBarOffset\":0,\"fBarWidth\":1000,\"fEntries\":25096,\"fTsumw\":25096,\"fTsumw2\":25096,\"fTsumwx\":725901.507350922,\"fTsumwx2\":25111376.6791894,\"fMaximum\":-1111,\"fMinimum\":-1111,\"fNormFactor\":0,\"fContour\":[],\"fSumw2\":[0,0,0,0,0,0,0,0,0,0,0,3.33508000380489e-6,7.41589218237361e-6,1.34024643631166e-5,1.92647478480655e-5,2.1564088720254e-5,2.22891061123855e-5,2.29726939392523e-5,2.3138412200311e-5,2.05283495886376e-5,1.96168991528151e-5,1.74832765416853e-5,1.83947269775077e-5,1.66546852363921e-5,1.51425061042322e-5,1.49146434952765e-5,1.26360174057204e-5,1.20560034920152e-5,1.20974330572799e-5,1.09995495777664e-5,9.69451827192975e-6,9.28022261928318e-6,8.38948696609305e-6,8.55520522715168e-6,7.78875826975552e-6,7.12588522552101e-6,7.00159652972704e-6,6.21443478969856e-6,5.51013218019939e-6,5.24084000597912e-6,5.86228348494897e-6,4.76440000543556e-6,5.92442783284596e-6,7.29160348657964e-6,7.0430260949917e-6,9.50808522823879e-6,1.08752608819725e-5,1.43346295815713e-5,1.64061078448042e-5,2.01969130665203e-5,1.35474678415429e-5,8.28591305293141e-6,4.1429565264657e-6,1.18074261004273e-6,2.38220000271778e-6,3.95652348277475e-6,3.06578782958462e-6,1.96790435007121e-6,2.07147826323285e-7,2.07147826323285e-7,0,0],\"fOption\":\"\",\"fFunctions\":{\"_typename\":\"TList\",\"name\":\"TList\",\"arr\":[],\"opt\":[]},\"fBufferSize\":0,\"fBuffer\":[],\"fBinStatErrOpt\":0,\"fStatOverflows\":2,\"fArray\":[0,0,0,0,0,0,0,0,0,0,0,0.02317214,0.05152562,0.09312032,0.1338515,0.1498273,0.1548647,0.1596143,0.1607657,0.142631,0.1362982,0.1214738,0.1278066,0.1157168,0.1052101,0.1036269,0.08779505,0.08376511,0.08405297,0.07642487,0.06735751,0.06447899,0.05829015,0.05944157,0.05411629,0.04951065,0.04864709,0.04317789,0.0382844,0.03641336,0.04073115,0.03310305,0.04116292,0.05066206,0.04893494,0.06606217,0.07556131,0.09959701,0.1139896,0.1403282,0.0941278,0.05757052,0.02878526,0.0082038,0.01655153,0.02748992,0.02130109,0.013673,0.001439263,0.001439263,0,0]},{\"_typename\":\"TH1F\",\"fUniqueID\":0,\"fBits\":50332168,\"fName\":\"h396_1\",\"fTitle\":\"charge\",\"fLineColor\":3,\"fLineStyle\":1,\"fLineWidth\":1,\"fFillColor\":0,\"fFillStyle\":1001,\"fMarkerColor\":1,\"fMarkerStyle\":1,\"fMarkerSize\":1,\"fNcells\":62,\"fXaxis\":{\"_typename\":\"TAxis\",\"fUniqueID\":0,\"fBits\":50331648,\"fName\":\"xaxis\",\"fTitle\":\"\",\"fNdivisions\":510,\"fAxisColor\":1,\"fLabelColor\":1,\"fLabelFont\":42,\"fLabelOffset\":0.005,\"fLabelSize\":0.035,\"fTickLength\":0.03,\"fTitleOffset\":1,\"fTitleSize\":0.035,\"fTitleColor\":1,\"fTitleFont\":42,\"fNbins\":60,\"fXmin\":0,\"fXmax\":60,\"fXbins\":[],\"fFirst\":0,\"fLast\":0,\"fBits2\":0,\"fTimeDisplay\":false,\"fTimeFormat\":\"\",\"fLabels\":null,\"fModLabs\":null},\"fYaxis\":{\"_typename\":\"TAxis\",\"fUniqueID\":0,\"fBits\":50331648,\"fName\":\"yaxis\",\"fTitle\":\"\",\"fNdivisions\":510,\"fAxisColor\":1,\"fLabelColor\":1,\"fLabelFont\":42,\"fLabelOffset\":0.005,\"fLabelSize\":0.035,\"fTickLength\":0.03,\"fTitleOffset\":0,\"fTitleSize\":0.035,\"fTitleColor\":1,\"fTitleFont\":42,\"fNbins\":1,\"fXmin\":0,\"fXmax\":1,\"fXbins\":[],\"fFirst\":0,\"fLast\":0,\"fBits2\":0,\"fTimeDisplay\":false,\"fTimeFormat\":\"\",\"fLabels\":null,\"fModLabs\":null},\"fZaxis\":{\"_typename\":\"TAxis\",\"fUniqueID\":0,\"fBits\":50331648,\"fName\":\"zaxis\",\"fTitle\":\"\",\"fNdivisions\":510,\"fAxisColor\":1,\"fLabelColor\":1,\"fLabelFont\":42,\"fLabelOffset\":0.005,\"fLabelSize\":0.035,\"fTickLength\":0.03,\"fTitleOffset\":1,\"fTitleSize\":0.035,\"fTitleColor\":1,\"fTitleFont\":42,\"fNbins\":1,\"fXmin\":0,\"fXmax\":1,\"fXbins\":[],\"fFirst\":0,\"fLast\":0,\"fBits2\":0,\"fTimeDisplay\":false,\"fTimeFormat\":\"\",\"fLabels\":null,\"fModLabs\":null},\"fBarOffset\":0,\"fBarWidth\":1000,\"fEntries\":335679,\"fTsumw\":335679,\"fTsumw2\":335679,\"fTsumwx\":10673185.8213005,\"fTsumwx2\":397330517.161279,\"fMaximum\":-1111,\"fMinimum\":-1111,\"fNormFactor\":0,\"fContour\":[],\"fSumw2\":[0,0,0,0,0,0,0,0,0,0,0,8.34175328746007e-7,1.4951217344993e-6,2.3646119724391e-6,3.32666444605526e-6,3.81958623122336e-6,4.04820380126738e-6,4.07942961571242e-6,4.06641885969366e-6,4.02441270454736e-6,3.89244646492845e-6,3.67869833033444e-6,3.63000092923563e-6,3.41476585109662e-6,3.27350621432145e-6,3.13745087995379e-6,2.98615437424985e-6,2.9025137998435e-6,2.68579177815949e-6,2.50587160921427e-6,2.40475944815415e-6,2.29955819234527e-6,2.21963497680143e-6,2.14417259189259e-6,1.98172400960114e-6,1.868716300181e-6,1.77132149798339e-6,1.70626771788956e-6,1.71593285093207e-6,1.6571985809045e-6,1.78804961286466e-6,1.59214480081067e-6,1.85198818529973e-6,2.3181449866578e-6,2.26238460372023e-6,2.91180719699976e-6,3.30361682110774e-6,4.50655414901419e-6,5.33887079832894e-6,6.26263447566131e-6,4.4749565986829e-6,2.53263659302431e-6,1.32449496271035e-6,4.31957099823021e-7,8.35662272291008e-7,1.27542582572529e-6,1.09662086443882e-6,6.5462689568704e-7,5.20430240750628e-8,3.41997015350413e-8,0,0],\"fOption\":\"\",\"fFunctions\":{\"_typename\":\"TList\",\"name\":\"TList\",\"arr\":[],\"opt\":[]},\"fBufferSize\":0,\"fBuffer\":[],\"fBinStatErrOpt\":0,\"fStatOverflows\":2,\"fArray\":[0,0,0,0,0,0,0,0,0,0,0,0.04326534,0.07754599,0.122643,0.1725408,0.1981067,0.2099641,0.2115837,0.2109089,0.2087302,0.2018856,0.1907994,0.1882736,0.1771102,0.1697837,0.162727,0.1548799,0.1505418,0.1393013,0.1299695,0.1247253,0.1192689,0.1151236,0.1112097,0.1027841,0.09692284,0.09187136,0.08849728,0.08899857,0.08595226,0.09273898,0.08257818,0.09605522,0.1202329,0.1173408,0.1510238,0.1713454,0.2337369,0.2769059,0.3248178,0.2320981,0.1313577,0.06869625,0.02240389,0.04334246,0.06615124,0.05687734,0.03395288,0.002699263,0.001773802,0,0]},{\"_typename\":\"TPaveText\",\"fUniqueID\":0,\"fBits\":50331657,\"fLineColor\":1,\"fLineStyle\":1,\"fLineWidth\":1,\"fFillColor\":0,\"fFillStyle\":0,\"fX1\":24.9935344081565,\"fY1\":0.850199500650626,\"fX2\":35.0064655918435,\"fY2\":0.912402898815797,\"fX1NDC\":0.433247126436782,\"fY1NDC\":0.933983055615829,\"fX2NDC\":0.566752873563218,\"fY2NDC\":0.995000004768372,\"fBorderSize\":0,\"fInit\":1,\"fShadowColor\":1,\"fCornerRadius\":0,\"fOption\":\"blNDC\",\"fName\":\"title\",\"fTextAngle\":0,\"fTextSize\":0,\"fTextAlign\":22,\"fTextColor\":1,\"fTextFont\":42,\"fLabel\":\"\",\"fLongest\":6,\"fMargin\":0.05,\"fLines\":{\"_typename\":\"TList\",\"name\":\"TList\",\"arr\":[{\"_typename\":\"TLatex\",\"fUniqueID\":0,\"fBits\":50331648,\"fName\":\"\",\"fTitle\":\"charge\",\"fTextAngle\":0,\"fTextSize\":0,\"fTextAlign\":0,\"fTextColor\":0,\"fTextFont\":0,\"fX\":0,\"fY\":0,\"fLineColor\":1,\"fLineStyle\":1,\"fLineWidth\":2,\"fLimitFactorSize\":3,\"fOriginSize\":0.0518644079566002}],\"opt\":[\"\"]}},{\"_typename\":\"TLegend\",\"fUniqueID\":0,\"fBits\":50331656,\"fLineColor\":1,\"fLineStyle\":1,\"fLineWidth\":1,\"fFillColor\":0,\"fFillStyle\":1001,\"fX1\":0.58,\"fY1\":0.7,\"fX2\":0.9,\"fY2\":0.9,\"fX1NDC\":0,\"fY1NDC\":0,\"fX2NDC\":0,\"fY2NDC\":0,\"fBorderSize\":1,\"fInit\":0,\"fShadowColor\":1,\"fCornerRadius\":0,\"fOption\":\"brNDC\",\"fName\":\"TPave\",\"fTextAngle\":0,\"fTextSize\":0,\"fTextAlign\":12,\"fTextColor\":1,\"fTextFont\":42,\"fPrimitives\":{\"_typename\":\"TList\",\"name\":\"TList\",\"arr\":[{\"_typename\":\"TLegendEntry\",\"fUniqueID\":0,\"fBits\":50331656,\"fTextAngle\":0,\"fTextSize\":0,\"fTextAlign\":0,\"fTextColor\":0,\"fTextFont\":0,\"fLineColor\":1,\"fLineStyle\":1,\"fLineWidth\":1,\"fFillColor\":0,\"fFillStyle\":0,\"fMarkerColor\":1,\"fMarkerStyle\":21,\"fMarkerSize\":1,\"fObject\":{\"$ref\":3},\"fLabel\":\"Layer1, Run 351\",\"fOption\":\"lep\"},{\"_typename\":\"TLegendEntry\",\"fUniqueID\":0,\"fBits\":50331656,\"fTextAngle\":0,\"fTextSize\":0,\"fTextAlign\":0,\"fTextColor\":0,\"fTextFont\":0,\"fLineColor\":1,\"fLineStyle\":1,\"fLineWidth\":1,\"fFillColor\":0,\"fFillStyle\":0,\"fMarkerColor\":1,\"fMarkerStyle\":21,\"fMarkerSize\":1,\"fObject\":{\"$ref\":8},\"fLabel\":\"Layer1, Run 394\",\"fOption\":\"lep\"},{\"_typename\":\"TLegendEntry\",\"fUniqueID\":0,\"fBits\":50331656,\"fTextAngle\":0,\"fTextSize\":0,\"fTextAlign\":0,\"fTextColor\":0,\"fTextFont\":0,\"fLineColor\":1,\"fLineStyle\":1,\"fLineWidth\":1,\"fFillColor\":0,\"fFillStyle\":0,\"fMarkerColor\":1,\"fMarkerStyle\":21,\"fMarkerSize\":1,\"fObject\":{\"$ref\":13},\"fLabel\":\"Layer1, Run 395\",\"fOption\":\"lep\"},{\"_typename\":\"TLegendEntry\",\"fUniqueID\":0,\"fBits\":50331656,\"fTextAngle\":0,\"fTextSize\":0,\"fTextAlign\":0,\"fTextColor\":0,\"fTextFont\":0,\"fLineColor\":1,\"fLineStyle\":1,\"fLineWidth\":1,\"fFillColor\":0,\"fFillStyle\":0,\"fMarkerColor\":1,\"fMarkerStyle\":21,\"fMarkerSize\":1,\"fObject\":{\"$ref\":18},\"fLabel\":\"Layer1, Run 396\",\"fOption\":\"lep\"}],\"opt\":[\"lep\",\"lep\",\"lep\",\"lep\"]},\"fEntrySeparation\":0.1,\"fMargin\":0.25,\"fNColumns\":1,\"fColumnSeparation\":0}],\"opt\":[\"\",\"L\",\"L same\",\"L same\",\"L same\",\"blNDC\",\"\"]},\"fExecs\":null,\"fName\":\"c1\",\"fTitle\":\"c1\",\"fNumPaletteColor\":0,\"fNextPaletteColor\":0,\"fDISPLAY\":\"$DISPLAY\",\"fDoubleBuffer\":0,\"fRetained\":true,\"fXsizeUser\":0,\"fYsizeUser\":0,\"fXsizeReal\":20,\"fYsizeReal\":14.28571,\"fWindowTopX\":0,\"fWindowTopY\":0,\"fWindowWidth\":0,\"fWindowHeight\":0,\"fCw\":696,\"fCh\":472,\"fCatt\":{\"_typename\":\"TAttCanvas\",\"fXBetween\":2,\"fYBetween\":2,\"fTitleFromTop\":1.2,\"fXdate\":0.2,\"fYdate\":0.3,\"fAdate\":1},\"kMoveOpaque\":true,\"kResizeOpaque\":true,\"fHighLightColor\":2,\"fBatch\":true,\"kShowEventStatus\":false,\"kAutoExec\":true,\"kMenuBar\":true});\n",
       "       Core.draw(\"root_plot_26\", obj, \"\");\n",
       "     }\n",
       " );\n",
       "</script>\n"
      ],
      "text/plain": [
       "<IPython.core.display.HTML object>"
      ]
     },
     "metadata": {},
     "output_type": "display_data"
    }
   ],
   "source": [
    "\n",
    "h351_1=load_histo_l1(351)\n",
    "h394_1=load_histo_l1(394)\n",
    "h395_1=load_histo_l1(395)\n",
    "h396_1=load_histo_l1(396)\n",
    "# h398_1=load_histo_l1(398)\n",
    "h405_1=load_histo_l1(405)\n",
    "h406_1=load_histo_l1(406)\n",
    "h408_1=load_histo_l1(408)\n",
    "h409_1=load_histo_l1(409)\n",
    "h410_1=load_histo_l1(410)\n",
    "\n",
    "h351_1.Scale(1/trig_351)\n",
    "h394_1.Scale(1/trig_394)\n",
    "h395_1.Scale(1/trig_395)\n",
    "h396_1.Scale(1/trig_396)\n",
    "# h398_1.Scale(1/trig_398)\n",
    "h405_1.Scale(1/trig_405)\n",
    "h406_1.Scale(1/trig_406)\n",
    "h408_1.Scale(1/trig_408)\n",
    "h409_1.Scale(1/trig_409)\n",
    "h410_1.Scale(1/trig_410)\n",
    "\n",
    "h351_1.SetName(\"h351_1\")\n",
    "h394_1.SetName(\"h394_1\")\n",
    "h395_1.SetName(\"h395_1\")\n",
    "h396_1.SetName(\"h396_1\")\n",
    "# h398_1.SetName(\"h398_1\")\n",
    "h405_1.SetName(\"h405_1\")\n",
    "h406_1.SetName(\"h406_1\")\n",
    "h408_1.SetName(\"h408_1\")\n",
    "h409_1.SetName(\"h409_1\")\n",
    "h410_1.SetName(\"h410_1\")\n",
    "\n",
    "h351_1.SetLineColor(5)\n",
    "h394_1.SetLineColor(1)\n",
    "h395_1.SetLineColor(2)\n",
    "h396_1.SetLineColor(3)\n",
    "# h398_1.SetLineColor(4)\n",
    "h405_1.SetLineColor(5)\n",
    "h406_1.SetLineColor(6)\n",
    "h408_1.SetLineColor(7)\n",
    "h409_1.SetLineColor(8)\n",
    "h410_1.SetLineColor(9)\n",
    "\n",
    "\n",
    "h351_1.Draw(\"L\")\n",
    "h394_1.Draw(\"L same\")\n",
    "h395_1.Draw(\"L same\")\n",
    "h396_1.Draw(\"L same\")\n",
    "# h398_1.Draw(\"same\")\n",
    "# h405_1.Draw(\"L same\")\n",
    "# h406_1.Draw(\"L same\")\n",
    "# h408_1.Draw(\"L same\")\n",
    "# h409_1.Draw(\"L same\")\n",
    "# h410_1.Draw(\"L same\")\n",
    "\n",
    "leg=R.TLegend(0.58,0.7,0.9,0.9);\n",
    "leg.AddEntry(\"h351_1\",\"Layer1, Run 351\",\"lep\")\n",
    "leg.AddEntry(\"h394_1\",\"Layer1, Run 394\",\"lep\")\n",
    "leg.AddEntry(\"h395_1\",\"Layer1, Run 395\",\"lep\")\n",
    "leg.AddEntry(\"h396_1\",\"Layer1, Run 396\",\"lep\")\n",
    "# leg.AddEntry(\"h398_1\",\"Layer1, Run 398\",\"lep\")\n",
    "# leg.AddEntry(\"h405_1\",\"Layer1, Run 405\",\"lep\")\n",
    "# leg.AddEntry(\"h406_1\",\"Layer1, Run 406\",\"lep\")\n",
    "# leg.AddEntry(\"h408_1\",\"Layer1, Run 408\",\"lep\")\n",
    "# leg.AddEntry(\"h409_1\",\"Layer1, Run 409\",\"lep\")\n",
    "# leg.AddEntry(\"h410_1\",\"Layer1, Run 410\",\"lep\")\n",
    "c.Draw()\n",
    "c.Print(\"L1.png\")\n",
    "leg.Draw()"
   ]
  },
  {
   "cell_type": "code",
   "execution_count": 18,
   "metadata": {},
   "outputs": [
    {
     "ename": "NameError",
     "evalue": "name 'trig_351' is not defined",
     "output_type": "error",
     "traceback": [
      "\u001b[0;31m---------------------------------------------------------------------------\u001b[0m",
      "\u001b[0;31mNameError\u001b[0m                                 Traceback (most recent call last)",
      "\u001b[0;32m<ipython-input-18-4e3ba3fd5bf2>\u001b[0m in \u001b[0;36m<module>\u001b[0;34m\u001b[0m\n\u001b[1;32m     11\u001b[0m \u001b[0mh410_2\u001b[0m\u001b[0;34m=\u001b[0m\u001b[0mload_histo_l2\u001b[0m\u001b[0;34m(\u001b[0m\u001b[0;36m410\u001b[0m\u001b[0;34m)\u001b[0m\u001b[0;34m\u001b[0m\u001b[0;34m\u001b[0m\u001b[0m\n\u001b[1;32m     12\u001b[0m \u001b[0;34m\u001b[0m\u001b[0m\n\u001b[0;32m---> 13\u001b[0;31m \u001b[0mh351_2\u001b[0m\u001b[0;34m.\u001b[0m\u001b[0mScale\u001b[0m\u001b[0;34m(\u001b[0m\u001b[0;36m1\u001b[0m\u001b[0;34m/\u001b[0m\u001b[0mtrig_351\u001b[0m\u001b[0;34m)\u001b[0m\u001b[0;34m\u001b[0m\u001b[0;34m\u001b[0m\u001b[0m\n\u001b[0m\u001b[1;32m     14\u001b[0m \u001b[0mh394_2\u001b[0m\u001b[0;34m.\u001b[0m\u001b[0mScale\u001b[0m\u001b[0;34m(\u001b[0m\u001b[0;36m1\u001b[0m\u001b[0;34m/\u001b[0m\u001b[0mtrig_394\u001b[0m\u001b[0;34m)\u001b[0m\u001b[0;34m\u001b[0m\u001b[0;34m\u001b[0m\u001b[0m\n\u001b[1;32m     15\u001b[0m \u001b[0mh395_2\u001b[0m\u001b[0;34m.\u001b[0m\u001b[0mScale\u001b[0m\u001b[0;34m(\u001b[0m\u001b[0;36m1\u001b[0m\u001b[0;34m/\u001b[0m\u001b[0mtrig_395\u001b[0m\u001b[0;34m)\u001b[0m\u001b[0;34m\u001b[0m\u001b[0;34m\u001b[0m\u001b[0m\n",
      "\u001b[0;31mNameError\u001b[0m: name 'trig_351' is not defined"
     ]
    },
    {
     "name": "stderr",
     "output_type": "stream",
     "text": [
      "Warning in <TROOT::Append>: Replacing existing TH1: h0 (Potential memory leak).\n",
      "Warning in <TROOT::Append>: Replacing existing TH1: h0 (Potential memory leak).\n",
      "Warning in <TROOT::Append>: Replacing existing TH1: h0 (Potential memory leak).\n",
      "Warning in <TROOT::Append>: Replacing existing TH1: h0 (Potential memory leak).\n",
      "Warning in <TROOT::Append>: Replacing existing TH1: h0 (Potential memory leak).\n",
      "Warning in <TROOT::Append>: Replacing existing TH1: h0 (Potential memory leak).\n",
      "Warning in <TROOT::Append>: Replacing existing TH1: h0 (Potential memory leak).\n",
      "Warning in <TROOT::Append>: Replacing existing TH1: h0 (Potential memory leak).\n"
     ]
    }
   ],
   "source": [
    "\n",
    "h351_2=load_histo_l2(351)\n",
    "h394_2=load_histo_l2(394)\n",
    "h395_2=load_histo_l2(395)\n",
    "h396_2=load_histo_l2(396)\n",
    "# h398_2=load_histo_l2(398)\n",
    "h405_2=load_histo_l2(405)\n",
    "h406_2=load_histo_l2(406)\n",
    "h408_2=load_histo_l2(408)\n",
    "h409_2=load_histo_l2(409)\n",
    "h410_2=load_histo_l2(410)\n",
    "\n",
    "h351_2.Scale(1/trig_351)\n",
    "h394_2.Scale(1/trig_394)\n",
    "h395_2.Scale(1/trig_395)\n",
    "h396_2.Scale(1/trig_396)\n",
    "# h398_2.Scale(1/trig_398)\n",
    "h405_2.Scale(1/trig_405)\n",
    "h406_2.Scale(1/trig_406)\n",
    "h408_2.Scale(1/trig_408)\n",
    "h409_2.Scale(1/trig_409)\n",
    "h410_2.Scale(1/trig_410)\n",
    "\n",
    "h351_2.SetName(\"h351_2\")\n",
    "h394_2.SetName(\"h394_2\")\n",
    "h395_2.SetName(\"h395_2\")\n",
    "h396_2.SetName(\"h396_2\")\n",
    "# h398_2.SetName(\"h398_2\")\n",
    "h405_2.SetName(\"h405_2\")\n",
    "h406_2.SetName(\"h406_2\")\n",
    "h408_2.SetName(\"h408_2\")\n",
    "h409_2.SetName(\"h409_2\")\n",
    "h410_2.SetName(\"h410_2\")\n",
    "\n",
    "h351_2.SetLineColor(5)\n",
    "h394_2.SetLineColor(1)\n",
    "h395_2.SetLineColor(2)\n",
    "h396_2.SetLineColor(3)\n",
    "# h398_2.SetLineColor(4)\n",
    "h405_2.SetLineColor(5)\n",
    "h406_2.SetLineColor(6)\n",
    "h408_2.SetLineColor(7)\n",
    "h409_2.SetLineColor(8)\n",
    "h410_2.SetLineColor(9)\n",
    "\n",
    "\n",
    "h351_2.Draw(\"L\")\n",
    "h394_2.Draw(\"L same\")\n",
    "h395_2.Draw(\"L same\")\n",
    "h396_2.Draw(\"L same\")\n",
    "# h398_2.Draw(\"same\")\n",
    "# h405_2.Draw(\"same\")\n",
    "# h406_2.Draw(\"same\")\n",
    "# h408_2.Draw(\"same\")\n",
    "# h409_2.Draw(\"same\")\n",
    "# h410_2.Draw(\"same\")\n",
    "\n",
    "leg=R.TLegend(0.58,0.7,0.9,0.9);\n",
    "leg.AddEntry(\"h351_2\",\"Layer2, Run 351\",\"lep\")\n",
    "leg.AddEntry(\"h394_2\",\"Layer2, Run 394\",\"lep\")\n",
    "leg.AddEntry(\"h395_2\",\"Layer2, Run 395\",\"lep\")\n",
    "leg.AddEntry(\"h396_2\",\"Layer2, Run 396\",\"lep\")\n",
    "# leg.AddEntry(\"h398_2\",\"Layer2, Run 398\",\"lep\")\n",
    "# leg.AddEntry(\"h405_2\",\"Layer2, Run 405\",\"lep\")\n",
    "# leg.AddEntry(\"h406_2\",\"Layer2, Run 406\",\"lep\")\n",
    "# leg.AddEntry(\"h408_2\",\"Layer2, Run 408\",\"lep\")\n",
    "# leg.AddEntry(\"h409_2\",\"Layer2, Run 409\",\"lep\")\n",
    "# leg.AddEntry(\"h410_2\",\"Layer2, Run 410\",\"lep\")\n",
    "c.Draw()\n",
    "leg.Draw()\n",
    "c.Print(\"L2.png\")\n"
   ]
  },
  {
   "cell_type": "code",
   "execution_count": 23,
   "metadata": {},
   "outputs": [
    {
     "name": "stderr",
     "output_type": "stream",
     "text": [
      "Warning in <TROOT::Append>: Replacing existing TH1: h0 (Potential memory leak).\n",
      "Warning in <TROOT::Append>: Replacing existing TH1: h0 (Potential memory leak).\n",
      "Warning in <TROOT::Append>: Replacing existing TH1: h0 (Potential memory leak).\n",
      "Warning in <TROOT::Append>: Replacing existing TH1: h0 (Potential memory leak).\n",
      "Warning in <TROOT::Append>: Replacing existing TH1: h0 (Potential memory leak).\n",
      "Warning in <TROOT::Append>: Replacing existing TH1: h0 (Potential memory leak).\n",
      "Warning in <TROOT::Append>: Replacing existing TH1: h0 (Potential memory leak).\n",
      "Warning in <TROOT::Append>: Replacing existing TH1: h0 (Potential memory leak).\n",
      "Warning in <TROOT::Append>: Replacing existing TH1: h0 (Potential memory leak).\n",
      "Info in <TCanvas::Print>: png file L1_FEB_cut.png has been created\n"
     ]
    },
    {
     "data": {
      "text/html": [
       "\n",
       "<div id=\"root_plot_11\"\n",
       "     style=\"width: 696px; height: 472px\">\n",
       "</div>\n",
       "\n",
       "<script>\n",
       " requirejs.config({\n",
       "     paths: {\n",
       "       'JSRootCore' : 'https://root.cern.ch/js/notebook//scripts/JSRootCore',\n",
       "     }\n",
       "   });\n",
       " require(['JSRootCore'],\n",
       "     function(Core) {\n",
       "       var obj = Core.JSONR_unref({\"_typename\":\"TCanvas\",\"fUniqueID\":0,\"fBits\":53673992,\"fLineColor\":1,\"fLineStyle\":1,\"fLineWidth\":1,\"fFillColor\":0,\"fFillStyle\":1001,\"fLeftMargin\":0.1,\"fRightMargin\":0.1,\"fBottomMargin\":0.1,\"fTopMargin\":0.1,\"fXfile\":2,\"fYfile\":2,\"fAfile\":1,\"fXstat\":0.99,\"fYstat\":0.99,\"fAstat\":2,\"fFrameFillColor\":0,\"fFrameLineColor\":1,\"fFrameFillStyle\":1001,\"fFrameLineStyle\":1,\"fFrameLineWidth\":1,\"fFrameBorderSize\":1,\"fFrameBorderMode\":0,\"fX1\":15.6249998230487,\"fY1\":-0.00814853066060435,\"fX2\":39.3750001769513,\"fY2\":0.0733367710885365,\"fXtoAbsPixelk\":-457.894674833337,\"fXtoPixelk\":-457.894674833337,\"fXtoPixel\":29.3052627212123,\"fYtoAbsPixelk\":424.800047186661,\"fYtoPixelk\":424.800047186661,\"fYtoPixel\":-5792.45569284496,\"fUtoAbsPixelk\":5e-5,\"fUtoPixelk\":5e-5,\"fUtoPixel\":696,\"fVtoAbsPixelk\":472.00005,\"fVtoPixelk\":472,\"fVtoPixel\":-472,\"fAbsPixeltoXk\":15.6249998230487,\"fPixeltoXk\":15.6249998230487,\"fPixeltoX\":0.0341235637268716,\"fAbsPixeltoYk\":0.0733367710885365,\"fPixeltoYk\":-0.00814853066060435,\"fPixeltoY\":-1.72638351163434e-4,\"fXlowNDC\":0,\"fYlowNDC\":0,\"fXUpNDC\":0,\"fYUpNDC\":0,\"fWNDC\":1,\"fHNDC\":1,\"fAbsXlowNDC\":0,\"fAbsYlowNDC\":0,\"fAbsWNDC\":1,\"fAbsHNDC\":1,\"fUxmin\":18,\"fUymin\":0,\"fUxmax\":37,\"fUymax\":0.0651882404279321,\"fTheta\":30,\"fPhi\":30,\"fAspectRatio\":0,\"fNumber\":0,\"fTickx\":0,\"fTicky\":0,\"fLogx\":0,\"fLogy\":0,\"fLogz\":0,\"fPadPaint\":0,\"fCrosshair\":0,\"fCrosshairPos\":0,\"fBorderSize\":2,\"fBorderMode\":0,\"fModified\":false,\"fGridx\":false,\"fGridy\":false,\"fAbsCoord\":false,\"fEditable\":true,\"fFixedAspectRatio\":false,\"fPrimitives\":{\"_typename\":\"TList\",\"name\":\"TList\",\"arr\":[{\"_typename\":\"TFrame\",\"fUniqueID\":0,\"fBits\":50331656,\"fLineColor\":1,\"fLineStyle\":1,\"fLineWidth\":1,\"fFillColor\":0,\"fFillStyle\":1001,\"fX1\":18,\"fY1\":0,\"fX2\":37,\"fY2\":0.0651882404279321,\"fBorderSize\":1,\"fBorderMode\":0},{\"_typename\":\"TH1F\",\"fUniqueID\":0,\"fBits\":50332168,\"fName\":\"h409_1\",\"fTitle\":\"charge\",\"fLineColor\":4,\"fLineStyle\":1,\"fLineWidth\":1,\"fFillColor\":0,\"fFillStyle\":1001,\"fMarkerColor\":1,\"fMarkerStyle\":1,\"fMarkerSize\":1,\"fNcells\":40,\"fXaxis\":{\"_typename\":\"TAxis\",\"fUniqueID\":0,\"fBits\":50331648,\"fName\":\"xaxis\",\"fTitle\":\"\",\"fNdivisions\":510,\"fAxisColor\":1,\"fLabelColor\":1,\"fLabelFont\":42,\"fLabelOffset\":0.005,\"fLabelSize\":0.035,\"fTickLength\":0.03,\"fTitleOffset\":1,\"fTitleSize\":0.035,\"fTitleColor\":1,\"fTitleFont\":42,\"fNbins\":38,\"fXmin\":18,\"fXmax\":37,\"fXbins\":[],\"fFirst\":0,\"fLast\":0,\"fBits2\":0,\"fTimeDisplay\":false,\"fTimeFormat\":\"\",\"fLabels\":null,\"fModLabs\":null},\"fYaxis\":{\"_typename\":\"TAxis\",\"fUniqueID\":0,\"fBits\":50331648,\"fName\":\"yaxis\",\"fTitle\":\"\",\"fNdivisions\":510,\"fAxisColor\":1,\"fLabelColor\":1,\"fLabelFont\":42,\"fLabelOffset\":0.005,\"fLabelSize\":0.035,\"fTickLength\":0.03,\"fTitleOffset\":0,\"fTitleSize\":0.035,\"fTitleColor\":1,\"fTitleFont\":42,\"fNbins\":1,\"fXmin\":0,\"fXmax\":1,\"fXbins\":[],\"fFirst\":0,\"fLast\":0,\"fBits2\":0,\"fTimeDisplay\":false,\"fTimeFormat\":\"\",\"fLabels\":null,\"fModLabs\":null},\"fZaxis\":{\"_typename\":\"TAxis\",\"fUniqueID\":0,\"fBits\":50331648,\"fName\":\"zaxis\",\"fTitle\":\"\",\"fNdivisions\":510,\"fAxisColor\":1,\"fLabelColor\":1,\"fLabelFont\":42,\"fLabelOffset\":0.005,\"fLabelSize\":0.035,\"fTickLength\":0.03,\"fTitleOffset\":1,\"fTitleSize\":0.035,\"fTitleColor\":1,\"fTitleFont\":42,\"fNbins\":1,\"fXmin\":0,\"fXmax\":1,\"fXbins\":[],\"fFirst\":0,\"fLast\":0,\"fBits2\":0,\"fTimeDisplay\":false,\"fTimeFormat\":\"\",\"fLabels\":null,\"fModLabs\":null},\"fBarOffset\":0,\"fBarWidth\":1000,\"fEntries\":96140,\"fTsumw\":96140,\"fTsumw2\":96140,\"fTsumwx\":2486050.63162804,\"fTsumwx2\":65965156.9571496,\"fMaximum\":-1111,\"fMinimum\":-1111,\"fNormFactor\":0,\"fContour\":[],\"fSumw2\":[0,0,0,0,0,6.37462295922808e-7,6.06411433918421e-7,5.75144189600415e-7,5.5101756163185e-7,5.22563287390896e-7,4.8750935258455e-7,4.58838696029977e-7,4.42393640194902e-7,4.25624010889397e-7,4.07339705388556e-7,3.83104886263181e-7,3.71528432484542e-7,3.54434229708608e-7,3.37556409246293e-7,3.16134560197971e-7,3.08669370378101e-7,2.95253666933697e-7,2.87788477113827e-7,2.73507244414945e-7,2.62688128733974e-7,2.55980277011772e-7,2.31096310945539e-7,2.25362179634625e-7,2.18437945598803e-7,2.15516784364941e-7,2.09999035367646e-7,1.92147494494044e-7,1.9355397953257e-7,1.7873179104964e-7,1.75702438658968e-7,0,0,0,0,0],\"fOption\":\"\",\"fFunctions\":{\"_typename\":\"TList\",\"name\":\"TList\",\"arr\":[],\"opt\":[]},\"fBufferSize\":0,\"fBuffer\":[],\"fBinStatErrOpt\":0,\"fStatOverflows\":2,\"fArray\":[0,0,0,0,0,0.06128563,0.05830039,0.05529436,0.05297483,0.05023924,0.04686915,0.04411275,0.04253173,0.04091949,0.03916164,0.0368317,0.03571874,0.03407531,0.03245267,0.03039318,0.02967547,0.02838569,0.02766798,0.02629499,0.02525484,0.02460994,0.0222176,0.02166632,0.02100062,0.02071978,0.02018931,0.01847306,0.01860828,0.01718327,0.01689203,0,0,0,0,0]},{\"_typename\":\"TH1F\",\"fUniqueID\":0,\"fBits\":50332168,\"fName\":\"h351_1\",\"fTitle\":\"charge\",\"fLineColor\":8,\"fLineStyle\":1,\"fLineWidth\":1,\"fFillColor\":0,\"fFillStyle\":1001,\"fMarkerColor\":1,\"fMarkerStyle\":1,\"fMarkerSize\":1,\"fNcells\":40,\"fXaxis\":{\"_typename\":\"TAxis\",\"fUniqueID\":0,\"fBits\":50331648,\"fName\":\"xaxis\",\"fTitle\":\"\",\"fNdivisions\":510,\"fAxisColor\":1,\"fLabelColor\":1,\"fLabelFont\":42,\"fLabelOffset\":0.005,\"fLabelSize\":0.035,\"fTickLength\":0.03,\"fTitleOffset\":1,\"fTitleSize\":0.035,\"fTitleColor\":1,\"fTitleFont\":42,\"fNbins\":38,\"fXmin\":18,\"fXmax\":37,\"fXbins\":[],\"fFirst\":0,\"fLast\":0,\"fBits2\":0,\"fTimeDisplay\":false,\"fTimeFormat\":\"\",\"fLabels\":null,\"fModLabs\":null},\"fYaxis\":{\"_typename\":\"TAxis\",\"fUniqueID\":0,\"fBits\":50331648,\"fName\":\"yaxis\",\"fTitle\":\"\",\"fNdivisions\":510,\"fAxisColor\":1,\"fLabelColor\":1,\"fLabelFont\":42,\"fLabelOffset\":0.005,\"fLabelSize\":0.035,\"fTickLength\":0.03,\"fTitleOffset\":0,\"fTitleSize\":0.035,\"fTitleColor\":1,\"fTitleFont\":42,\"fNbins\":1,\"fXmin\":0,\"fXmax\":1,\"fXbins\":[],\"fFirst\":0,\"fLast\":0,\"fBits2\":0,\"fTimeDisplay\":false,\"fTimeFormat\":\"\",\"fLabels\":null,\"fModLabs\":null},\"fZaxis\":{\"_typename\":\"TAxis\",\"fUniqueID\":0,\"fBits\":50331648,\"fName\":\"zaxis\",\"fTitle\":\"\",\"fNdivisions\":510,\"fAxisColor\":1,\"fLabelColor\":1,\"fLabelFont\":42,\"fLabelOffset\":0.005,\"fLabelSize\":0.035,\"fTickLength\":0.03,\"fTitleOffset\":1,\"fTitleSize\":0.035,\"fTitleColor\":1,\"fTitleFont\":42,\"fNbins\":1,\"fXmin\":0,\"fXmax\":1,\"fXbins\":[],\"fFirst\":0,\"fLast\":0,\"fBits2\":0,\"fTimeDisplay\":false,\"fTimeFormat\":\"\",\"fLabels\":null,\"fModLabs\":null},\"fBarOffset\":0,\"fBarWidth\":1000,\"fEntries\":763915,\"fTsumw\":763915,\"fTsumw2\":763915,\"fTsumwx\":20007714.1044769,\"fTsumwx2\":537645759.120743,\"fMaximum\":-1111,\"fMinimum\":-1111,\"fNormFactor\":0,\"fContour\":[],\"fSumw2\":[0,0,0,0,0,7.07683295402736e-8,6.74302331204844e-8,6.57474760957241e-8,6.24882053614125e-8,6.02982221866227e-8,5.8372133697997e-8,5.63552243108862e-8,5.45302383318946e-8,5.23539639719705e-8,5.0306209751412e-8,4.83646988460623e-8,4.69321276926004e-8,4.49083638980568e-8,4.35649000412217e-8,4.19969543409614e-8,4.06774809101413e-8,3.93648618867539e-8,3.79494267518741e-8,3.62289704862333e-8,3.55606657615322e-8,3.39858656538391e-8,3.29782677612128e-8,3.22037197213027e-8,3.09973440131243e-8,3.012169346358e-8,2.89941434408792e-8,2.75221594446785e-8,2.66979169508805e-8,2.59302233184033e-8,2.54161427609409e-8,0,0,0,0,0],\"fOption\":\"\",\"fFunctions\":{\"_typename\":\"TList\",\"name\":\"TList\",\"arr\":[],\"opt\":[]},\"fBufferSize\":0,\"fBuffer\":[],\"fBinStatErrOpt\":0,\"fStatOverflows\":2,\"fArray\":[0,0,0,0,0,0.05406099,0.05151097,0.05022548,0.04773568,0.04606272,0.04459135,0.0430506,0.04165647,0.03999398,0.03842967,0.03694652,0.03585216,0.03430617,0.03327988,0.0320821,0.03107414,0.03007141,0.02899014,0.02767585,0.02716533,0.02596231,0.02519259,0.0246009,0.02367934,0.02301041,0.02214906,0.02102459,0.02039494,0.01980849,0.01941577,0,0,0,0,0]},{\"_typename\":\"TH1F\",\"fUniqueID\":0,\"fBits\":50332168,\"fName\":\"h405_1\",\"fTitle\":\"charge\",\"fLineColor\":1,\"fLineStyle\":1,\"fLineWidth\":1,\"fFillColor\":0,\"fFillStyle\":1001,\"fMarkerColor\":1,\"fMarkerStyle\":1,\"fMarkerSize\":1,\"fNcells\":40,\"fXaxis\":{\"_typename\":\"TAxis\",\"fUniqueID\":0,\"fBits\":50331648,\"fName\":\"xaxis\",\"fTitle\":\"\",\"fNdivisions\":510,\"fAxisColor\":1,\"fLabelColor\":1,\"fLabelFont\":42,\"fLabelOffset\":0.005,\"fLabelSize\":0.035,\"fTickLength\":0.03,\"fTitleOffset\":1,\"fTitleSize\":0.035,\"fTitleColor\":1,\"fTitleFont\":42,\"fNbins\":38,\"fXmin\":18,\"fXmax\":37,\"fXbins\":[],\"fFirst\":0,\"fLast\":0,\"fBits2\":0,\"fTimeDisplay\":false,\"fTimeFormat\":\"\",\"fLabels\":null,\"fModLabs\":null},\"fYaxis\":{\"_typename\":\"TAxis\",\"fUniqueID\":0,\"fBits\":50331648,\"fName\":\"yaxis\",\"fTitle\":\"\",\"fNdivisions\":510,\"fAxisColor\":1,\"fLabelColor\":1,\"fLabelFont\":42,\"fLabelOffset\":0.005,\"fLabelSize\":0.035,\"fTickLength\":0.03,\"fTitleOffset\":0,\"fTitleSize\":0.035,\"fTitleColor\":1,\"fTitleFont\":42,\"fNbins\":1,\"fXmin\":0,\"fXmax\":1,\"fXbins\":[],\"fFirst\":0,\"fLast\":0,\"fBits2\":0,\"fTimeDisplay\":false,\"fTimeFormat\":\"\",\"fLabels\":null,\"fModLabs\":null},\"fZaxis\":{\"_typename\":\"TAxis\",\"fUniqueID\":0,\"fBits\":50331648,\"fName\":\"zaxis\",\"fTitle\":\"\",\"fNdivisions\":510,\"fAxisColor\":1,\"fLabelColor\":1,\"fLabelFont\":42,\"fLabelOffset\":0.005,\"fLabelSize\":0.035,\"fTickLength\":0.03,\"fTitleOffset\":1,\"fTitleSize\":0.035,\"fTitleColor\":1,\"fTitleFont\":42,\"fNbins\":1,\"fXmin\":0,\"fXmax\":1,\"fXbins\":[],\"fFirst\":0,\"fLast\":0,\"fBits2\":0,\"fTimeDisplay\":false,\"fTimeFormat\":\"\",\"fLabels\":null,\"fModLabs\":null},\"fBarOffset\":0,\"fBarWidth\":1000,\"fEntries\":111152,\"fTsumw\":111152,\"fTsumw2\":111152,\"fTsumwx\":2891782.95054626,\"fTsumwx2\":77186524.4951019,\"fMaximum\":-1111,\"fMinimum\":-1111,\"fNormFactor\":0,\"fContour\":[],\"fSumw2\":[0,0,0,0,0,5.19394655195274e-7,4.91874913452031e-7,4.70506643392571e-7,4.45172292905409e-7,4.35621323712166e-7,4.14657755737166e-7,3.89161524416219e-7,3.82281588980409e-7,3.59294510583111e-7,3.53223979316219e-7,3.38492823441895e-7,3.25947058823651e-7,3.07168882104732e-7,3.06683239603381e-7,2.87986003301354e-7,2.79649140361489e-7,2.60304380724326e-7,2.55286074877029e-7,2.3521285148784e-7,2.33755923983786e-7,2.25338120627029e-7,2.15301508932434e-7,2.09878501000677e-7,2.04050790984461e-7,1.80092427584461e-7,1.89157754276353e-7,1.7661198965811e-7,1.8049712966892e-7,1.63337761287839e-7,1.60747667947299e-7,0,0,0,0,0],\"fOption\":\"\",\"fFunctions\":{\"_typename\":\"TList\",\"name\":\"TList\",\"arr\":[],\"opt\":[]},\"fBufferSize\":0,\"fBuffer\":[],\"fBinStatErrOpt\":0,\"fStatOverflows\":2,\"fArray\":[0,0,0,0,0,0.05773176,0.05467288,0.05229776,0.04948179,0.04842018,0.04609004,0.04325608,0.04249136,0.0399363,0.03926155,0.03762415,0.03622967,0.03414243,0.03408846,0.03201022,0.03108356,0.02893335,0.02837556,0.02614438,0.02598244,0.02504678,0.02393119,0.02332842,0.02268065,0.02001763,0.02102526,0.01963078,0.02006262,0.01815532,0.01786743,0,0,0,0,0]},{\"_typename\":\"TH1F\",\"fUniqueID\":0,\"fBits\":50332168,\"fName\":\"h406_1\",\"fTitle\":\"charge\",\"fLineColor\":2,\"fLineStyle\":1,\"fLineWidth\":1,\"fFillColor\":0,\"fFillStyle\":1001,\"fMarkerColor\":1,\"fMarkerStyle\":1,\"fMarkerSize\":1,\"fNcells\":40,\"fXaxis\":{\"_typename\":\"TAxis\",\"fUniqueID\":0,\"fBits\":50331648,\"fName\":\"xaxis\",\"fTitle\":\"\",\"fNdivisions\":510,\"fAxisColor\":1,\"fLabelColor\":1,\"fLabelFont\":42,\"fLabelOffset\":0.005,\"fLabelSize\":0.035,\"fTickLength\":0.03,\"fTitleOffset\":1,\"fTitleSize\":0.035,\"fTitleColor\":1,\"fTitleFont\":42,\"fNbins\":38,\"fXmin\":18,\"fXmax\":37,\"fXbins\":[],\"fFirst\":0,\"fLast\":0,\"fBits2\":0,\"fTimeDisplay\":false,\"fTimeFormat\":\"\",\"fLabels\":null,\"fModLabs\":null},\"fYaxis\":{\"_typename\":\"TAxis\",\"fUniqueID\":0,\"fBits\":50331648,\"fName\":\"yaxis\",\"fTitle\":\"\",\"fNdivisions\":510,\"fAxisColor\":1,\"fLabelColor\":1,\"fLabelFont\":42,\"fLabelOffset\":0.005,\"fLabelSize\":0.035,\"fTickLength\":0.03,\"fTitleOffset\":0,\"fTitleSize\":0.035,\"fTitleColor\":1,\"fTitleFont\":42,\"fNbins\":1,\"fXmin\":0,\"fXmax\":1,\"fXbins\":[],\"fFirst\":0,\"fLast\":0,\"fBits2\":0,\"fTimeDisplay\":false,\"fTimeFormat\":\"\",\"fLabels\":null,\"fModLabs\":null},\"fZaxis\":{\"_typename\":\"TAxis\",\"fUniqueID\":0,\"fBits\":50331648,\"fName\":\"zaxis\",\"fTitle\":\"\",\"fNdivisions\":510,\"fAxisColor\":1,\"fLabelColor\":1,\"fLabelFont\":42,\"fLabelOffset\":0.005,\"fLabelSize\":0.035,\"fTickLength\":0.03,\"fTitleOffset\":1,\"fTitleSize\":0.035,\"fTitleColor\":1,\"fTitleFont\":42,\"fNbins\":1,\"fXmin\":0,\"fXmax\":1,\"fXbins\":[],\"fFirst\":0,\"fLast\":0,\"fBits2\":0,\"fTimeDisplay\":false,\"fTimeFormat\":\"\",\"fLabels\":null,\"fModLabs\":null},\"fBarOffset\":0,\"fBarWidth\":1000,\"fEntries\":87242,\"fTsumw\":87242,\"fTsumw2\":87242,\"fTsumwx\":2275446.11249542,\"fTsumwx2\":60892391.0739638,\"fMaximum\":-1111,\"fMinimum\":-1111,\"fNormFactor\":0,\"fContour\":[],\"fSumw2\":[0,0,0,0,0,6.33148671688957e-7,6.10944453901981e-7,5.97805863495487e-7,5.76258575228837e-7,5.54974058770316e-7,5.19105706960587e-7,4.91383281202884e-7,4.78770234412649e-7,4.61821452788272e-7,4.38960305480972e-7,4.18069946734646e-7,4.20172121199685e-7,3.98887604741165e-7,3.85092084814346e-7,3.64070340163955e-7,3.46596014923318e-7,3.43705525033889e-7,3.25311498464797e-7,3.1821665964529e-7,2.98508774035549e-7,2.86815428573769e-7,2.74070995879469e-7,2.69078331525002e-7,2.60144090048586e-7,2.47662429162416e-7,2.43720852040468e-7,2.34786610564052e-7,2.29137016689259e-7,2.29925332113649e-7,2.0522478214944e-7,0,0,0,0,0],\"fOption\":\"\",\"fFunctions\":{\"_typename\":\"TList\",\"name\":\"TList\",\"arr\":[],\"opt\":[]},\"fBufferSize\":0,\"fBuffer\":[],\"fBinStatErrOpt\":0,\"fStatOverflows\":2,\"fArray\":[0,0,0,0,0,0.05523716,0.05330002,0.05215378,0.05027395,0.04841705,0.04528782,0.04286926,0.04176887,0.04029023,0.03829578,0.03647326,0.03665666,0.03479975,0.0335962,0.03176222,0.03023773,0.02998556,0.02838083,0.02776186,0.0260425,0.02502235,0.0239105,0.02347493,0.02269549,0.02160657,0.02126269,0.02048325,0.01999037,0.02005915,0.01790422,0,0,0,0,0]},{\"_typename\":\"TH1F\",\"fUniqueID\":0,\"fBits\":50332168,\"fName\":\"h408_1\",\"fTitle\":\"charge\",\"fLineColor\":3,\"fLineStyle\":1,\"fLineWidth\":1,\"fFillColor\":0,\"fFillStyle\":1001,\"fMarkerColor\":1,\"fMarkerStyle\":1,\"fMarkerSize\":1,\"fNcells\":40,\"fXaxis\":{\"_typename\":\"TAxis\",\"fUniqueID\":0,\"fBits\":50331648,\"fName\":\"xaxis\",\"fTitle\":\"\",\"fNdivisions\":510,\"fAxisColor\":1,\"fLabelColor\":1,\"fLabelFont\":42,\"fLabelOffset\":0.005,\"fLabelSize\":0.035,\"fTickLength\":0.03,\"fTitleOffset\":1,\"fTitleSize\":0.035,\"fTitleColor\":1,\"fTitleFont\":42,\"fNbins\":38,\"fXmin\":18,\"fXmax\":37,\"fXbins\":[],\"fFirst\":0,\"fLast\":0,\"fBits2\":0,\"fTimeDisplay\":false,\"fTimeFormat\":\"\",\"fLabels\":null,\"fModLabs\":null},\"fYaxis\":{\"_typename\":\"TAxis\",\"fUniqueID\":0,\"fBits\":50331648,\"fName\":\"yaxis\",\"fTitle\":\"\",\"fNdivisions\":510,\"fAxisColor\":1,\"fLabelColor\":1,\"fLabelFont\":42,\"fLabelOffset\":0.005,\"fLabelSize\":0.035,\"fTickLength\":0.03,\"fTitleOffset\":0,\"fTitleSize\":0.035,\"fTitleColor\":1,\"fTitleFont\":42,\"fNbins\":1,\"fXmin\":0,\"fXmax\":1,\"fXbins\":[],\"fFirst\":0,\"fLast\":0,\"fBits2\":0,\"fTimeDisplay\":false,\"fTimeFormat\":\"\",\"fLabels\":null,\"fModLabs\":null},\"fZaxis\":{\"_typename\":\"TAxis\",\"fUniqueID\":0,\"fBits\":50331648,\"fName\":\"zaxis\",\"fTitle\":\"\",\"fNdivisions\":510,\"fAxisColor\":1,\"fLabelColor\":1,\"fLabelFont\":42,\"fLabelOffset\":0.005,\"fLabelSize\":0.035,\"fTickLength\":0.03,\"fTitleOffset\":1,\"fTitleSize\":0.035,\"fTitleColor\":1,\"fTitleFont\":42,\"fNbins\":1,\"fXmin\":0,\"fXmax\":1,\"fXbins\":[],\"fFirst\":0,\"fLast\":0,\"fBits2\":0,\"fTimeDisplay\":false,\"fTimeFormat\":\"\",\"fLabels\":null,\"fModLabs\":null},\"fBarOffset\":0,\"fBarWidth\":1000,\"fEntries\":94510,\"fTsumw\":94510,\"fTsumw2\":94510,\"fTsumwx\":2439862.79428291,\"fTsumwx2\":64618096.0995782,\"fMaximum\":-1111,\"fMinimum\":-1111,\"fNormFactor\":0,\"fContour\":[],\"fSumw2\":[0,0,0,0,0,6.55386047964026e-7,6.24150532524675e-7,5.8261513385801e-7,5.43990571755586e-7,5.26749462875084e-7,5.13090922073647e-7,4.81295630371942e-7,4.6271105846179e-7,4.32707050799617e-7,4.16249628686411e-7,3.9777701202873e-7,3.83558694964939e-7,3.64078481035021e-7,3.34410339130261e-7,3.3720922044203e-7,3.14482304190459e-7,2.99816166116785e-7,2.82239191478871e-7,2.73506681786149e-7,2.67796963910138e-7,2.4540591341598e-7,2.44734181901155e-7,2.27493073020653e-7,2.20775757872405e-7,2.05549843536377e-7,2.04206380506728e-7,1.99280349398013e-7,1.96257557581301e-7,1.79016448700799e-7,1.64350310627125e-7,0,0,0,0,0],\"fOption\":\"\",\"fFunctions\":{\"_typename\":\"TList\",\"name\":\"TList\",\"arr\":[],\"opt\":[]},\"fBufferSize\":0,\"fBuffer\":[],\"fBinStatErrOpt\":0,\"fStatOverflows\":2,\"fArray\":[0,0,0,0,0,0.06194054,0.05898847,0.05506296,0.05141255,0.04978309,0.04849222,0.04548725,0.04373082,0.04089514,0.03933975,0.0375939,0.03625013,0.03440906,0.03160512,0.03186964,0.02972172,0.02833563,0.02667443,0.02584912,0.02530949,0.02319331,0.02312983,0.02150037,0.02086552,0.01942652,0.01929954,0.01883399,0.0185483,0.01691885,0.01553275,0,0,0,0,0]},{\"_typename\":\"TH1F\",\"fUniqueID\":0,\"fBits\":50332168,\"fName\":\"h410_1\",\"fTitle\":\"charge\",\"fLineColor\":6,\"fLineStyle\":1,\"fLineWidth\":1,\"fFillColor\":0,\"fFillStyle\":1001,\"fMarkerColor\":1,\"fMarkerStyle\":1,\"fMarkerSize\":1,\"fNcells\":40,\"fXaxis\":{\"_typename\":\"TAxis\",\"fUniqueID\":0,\"fBits\":50331648,\"fName\":\"xaxis\",\"fTitle\":\"\",\"fNdivisions\":510,\"fAxisColor\":1,\"fLabelColor\":1,\"fLabelFont\":42,\"fLabelOffset\":0.005,\"fLabelSize\":0.035,\"fTickLength\":0.03,\"fTitleOffset\":1,\"fTitleSize\":0.035,\"fTitleColor\":1,\"fTitleFont\":42,\"fNbins\":38,\"fXmin\":18,\"fXmax\":37,\"fXbins\":[],\"fFirst\":0,\"fLast\":0,\"fBits2\":0,\"fTimeDisplay\":false,\"fTimeFormat\":\"\",\"fLabels\":null,\"fModLabs\":null},\"fYaxis\":{\"_typename\":\"TAxis\",\"fUniqueID\":0,\"fBits\":50331648,\"fName\":\"yaxis\",\"fTitle\":\"\",\"fNdivisions\":510,\"fAxisColor\":1,\"fLabelColor\":1,\"fLabelFont\":42,\"fLabelOffset\":0.005,\"fLabelSize\":0.035,\"fTickLength\":0.03,\"fTitleOffset\":0,\"fTitleSize\":0.035,\"fTitleColor\":1,\"fTitleFont\":42,\"fNbins\":1,\"fXmin\":0,\"fXmax\":1,\"fXbins\":[],\"fFirst\":0,\"fLast\":0,\"fBits2\":0,\"fTimeDisplay\":false,\"fTimeFormat\":\"\",\"fLabels\":null,\"fModLabs\":null},\"fZaxis\":{\"_typename\":\"TAxis\",\"fUniqueID\":0,\"fBits\":50331648,\"fName\":\"zaxis\",\"fTitle\":\"\",\"fNdivisions\":510,\"fAxisColor\":1,\"fLabelColor\":1,\"fLabelFont\":42,\"fLabelOffset\":0.005,\"fLabelSize\":0.035,\"fTickLength\":0.03,\"fTitleOffset\":1,\"fTitleSize\":0.035,\"fTitleColor\":1,\"fTitleFont\":42,\"fNbins\":1,\"fXmin\":0,\"fXmax\":1,\"fXbins\":[],\"fFirst\":0,\"fLast\":0,\"fBits2\":0,\"fTimeDisplay\":false,\"fTimeFormat\":\"\",\"fLabels\":null,\"fModLabs\":null},\"fBarOffset\":0,\"fBarWidth\":1000,\"fEntries\":39986,\"fTsumw\":39986,\"fTsumw2\":39986,\"fTsumwx\":1031054.55434608,\"fTsumwx2\":27278455.7060385,\"fMaximum\":-1111,\"fMinimum\":-1111,\"fNormFactor\":0,\"fContour\":[],\"fSumw2\":[0,0,0,0,0,1.58736095821904e-6,1.45539359723235e-6,1.41974364663405e-6,1.30091047797305e-6,1.33218236446278e-6,1.19646237709733e-6,1.12078441179216e-6,1.03697575599967e-6,1.04135382010823e-6,9.75682858479786e-7,9.55668851126354e-7,9.08761021391749e-7,8.19323426031102e-7,8.10567297813976e-7,7.78669973594444e-7,7.24882328832097e-7,6.96737630991334e-7,6.58585929473855e-7,6.54833303095087e-7,6.17932477037198e-7,6.06049160171098e-7,5.69148334113208e-7,5.24116817567987e-7,4.84714240590919e-7,4.97848432916609e-7,5.02851934754966e-7,4.74707236914203e-7,4.3593009766693e-7,4.20919592151856e-7,3.99654709338835e-7,0,0,0,0,0],\"fOption\":\"\",\"fFunctions\":{\"_typename\":\"TList\",\"name\":\"TList\",\"arr\":[],\"opt\":[]},\"fBufferSize\":0,\"fBuffer\":[],\"fBinStatErrOpt\":0,\"fStatOverflows\":2,\"fArray\":[0,0,0,0,0,0.06347222,0.05819537,0.05676987,0.05201821,0.05326864,0.04784175,0.04481569,0.04146451,0.04163957,0.03901365,0.03821338,0.03633772,0.03276147,0.03241134,0.0311359,0.02898514,0.02785975,0.02633422,0.02618416,0.02470865,0.02423348,0.02275797,0.02095734,0.01938178,0.01990697,0.02010704,0.01898164,0.0174311,0.01683089,0.01598059,0,0,0,0,0]},{\"_typename\":\"TH1F\",\"fUniqueID\":0,\"fBits\":50332168,\"fName\":\"h411_1\",\"fTitle\":\"charge\",\"fLineColor\":7,\"fLineStyle\":1,\"fLineWidth\":1,\"fFillColor\":0,\"fFillStyle\":1001,\"fMarkerColor\":1,\"fMarkerStyle\":1,\"fMarkerSize\":1,\"fNcells\":40,\"fXaxis\":{\"_typename\":\"TAxis\",\"fUniqueID\":0,\"fBits\":50331648,\"fName\":\"xaxis\",\"fTitle\":\"\",\"fNdivisions\":510,\"fAxisColor\":1,\"fLabelColor\":1,\"fLabelFont\":42,\"fLabelOffset\":0.005,\"fLabelSize\":0.035,\"fTickLength\":0.03,\"fTitleOffset\":1,\"fTitleSize\":0.035,\"fTitleColor\":1,\"fTitleFont\":42,\"fNbins\":38,\"fXmin\":18,\"fXmax\":37,\"fXbins\":[],\"fFirst\":0,\"fLast\":0,\"fBits2\":0,\"fTimeDisplay\":false,\"fTimeFormat\":\"\",\"fLabels\":null,\"fModLabs\":null},\"fYaxis\":{\"_typename\":\"TAxis\",\"fUniqueID\":0,\"fBits\":50331648,\"fName\":\"yaxis\",\"fTitle\":\"\",\"fNdivisions\":510,\"fAxisColor\":1,\"fLabelColor\":1,\"fLabelFont\":42,\"fLabelOffset\":0.005,\"fLabelSize\":0.035,\"fTickLength\":0.03,\"fTitleOffset\":0,\"fTitleSize\":0.035,\"fTitleColor\":1,\"fTitleFont\":42,\"fNbins\":1,\"fXmin\":0,\"fXmax\":1,\"fXbins\":[],\"fFirst\":0,\"fLast\":0,\"fBits2\":0,\"fTimeDisplay\":false,\"fTimeFormat\":\"\",\"fLabels\":null,\"fModLabs\":null},\"fZaxis\":{\"_typename\":\"TAxis\",\"fUniqueID\":0,\"fBits\":50331648,\"fName\":\"zaxis\",\"fTitle\":\"\",\"fNdivisions\":510,\"fAxisColor\":1,\"fLabelColor\":1,\"fLabelFont\":42,\"fLabelOffset\":0.005,\"fLabelSize\":0.035,\"fTickLength\":0.03,\"fTitleOffset\":1,\"fTitleSize\":0.035,\"fTitleColor\":1,\"fTitleFont\":42,\"fNbins\":1,\"fXmin\":0,\"fXmax\":1,\"fXbins\":[],\"fFirst\":0,\"fLast\":0,\"fBits2\":0,\"fTimeDisplay\":false,\"fTimeFormat\":\"\",\"fLabels\":null,\"fModLabs\":null},\"fBarOffset\":0,\"fBarWidth\":1000,\"fEntries\":68889,\"fTsumw\":68889,\"fTsumw2\":68889,\"fTsumwx\":1800974.26535034,\"fTsumwx2\":48305831.4930061,\"fMaximum\":-1111,\"fMinimum\":-1111,\"fNormFactor\":0,\"fContour\":[],\"fSumw2\":[0,0,0,0,0,7.90400676124795e-7,7.53946579358709e-7,7.42357126629606e-7,6.95999315713196e-7,6.94313577134417e-7,6.63970282716403e-7,6.22880404858676e-7,6.14030277320089e-7,5.64300989246121e-7,5.69990356949499e-7,5.32904108216371e-7,5.21314655487268e-7,4.78328321728415e-7,4.89074905168128e-7,4.66317434354618e-7,4.4882789659979e-7,4.47142158021012e-7,4.18695319504124e-7,4.14480973057177e-7,3.91512784921319e-7,3.6706957552903e-7,3.6706957552903e-7,3.42204931492047e-7,3.23029655158441e-7,3.20079612645578e-7,3.15443831553937e-7,3.08068725271781e-7,2.93318512707469e-7,2.90789904839301e-7,2.68243151348138e-7,0,0,0,0,0],\"fOption\":\"\",\"fFunctions\":{\"_typename\":\"TList\",\"name\":\"TList\",\"arr\":[],\"opt\":[]},\"fBufferSize\":0,\"fBuffer\":[],\"fBinStatErrOpt\":0,\"fStatOverflows\":2,\"fArray\":[0,0,0,0,0,0.05444991,0.05193863,0.05114024,0.0479467,0.04783057,0.04574025,0.04290961,0.04229993,0.03887413,0.03926606,0.03671123,0.03591285,0.03295156,0.03369188,0.03212414,0.0309193,0.03080318,0.0288435,0.02855318,0.02697092,0.02528706,0.02528706,0.02357415,0.02225319,0.02204997,0.02173061,0.02122255,0.02020642,0.02003223,0.018479,0,0,0,0,0]},{\"_typename\":\"TPaveText\",\"fUniqueID\":0,\"fBits\":50331657,\"fLineColor\":1,\"fLineStyle\":1,\"fLineWidth\":1,\"fFillColor\":0,\"fFillStyle\":0,\"fX1\":25.9146192292495,\"fY1\":0.0679573604548361,\"fX2\":29.0853807707505,\"fY2\":0.072929344968343,\"fX1NDC\":0.433247126436782,\"fY1NDC\":0.933983055615829,\"fX2NDC\":0.566752873563218,\"fY2NDC\":0.995000004768372,\"fBorderSize\":0,\"fInit\":1,\"fShadowColor\":1,\"fCornerRadius\":0,\"fOption\":\"blNDC\",\"fName\":\"title\",\"fTextAngle\":0,\"fTextSize\":0,\"fTextAlign\":22,\"fTextColor\":1,\"fTextFont\":42,\"fLabel\":\"\",\"fLongest\":6,\"fMargin\":0.05,\"fLines\":{\"_typename\":\"TList\",\"name\":\"TList\",\"arr\":[{\"_typename\":\"TLatex\",\"fUniqueID\":0,\"fBits\":50331648,\"fName\":\"\",\"fTitle\":\"charge\",\"fTextAngle\":0,\"fTextSize\":0,\"fTextAlign\":0,\"fTextColor\":0,\"fTextFont\":0,\"fX\":0,\"fY\":0,\"fLineColor\":1,\"fLineStyle\":1,\"fLineWidth\":2,\"fLimitFactorSize\":3,\"fOriginSize\":0.0518644079566002}],\"opt\":[\"\"]}},{\"_typename\":\"TLegend\",\"fUniqueID\":0,\"fBits\":50331656,\"fLineColor\":1,\"fLineStyle\":1,\"fLineWidth\":1,\"fFillColor\":0,\"fFillStyle\":1001,\"fX1\":29.4000000283122,\"fY1\":0.0488911805637942,\"fX2\":37.000000141561,\"fY2\":0.0651882409136224,\"fX1NDC\":0.58,\"fY1NDC\":0.7,\"fX2NDC\":0.9,\"fY2NDC\":0.9,\"fBorderSize\":1,\"fInit\":1,\"fShadowColor\":1,\"fCornerRadius\":0,\"fOption\":\"brNDC\",\"fName\":\"TPave\",\"fTextAngle\":0,\"fTextSize\":0,\"fTextAlign\":12,\"fTextColor\":1,\"fTextFont\":42,\"fPrimitives\":{\"_typename\":\"TList\",\"name\":\"TList\",\"arr\":[{\"_typename\":\"TLegendEntry\",\"fUniqueID\":0,\"fBits\":50331656,\"fTextAngle\":0,\"fTextSize\":0,\"fTextAlign\":0,\"fTextColor\":0,\"fTextFont\":42,\"fLineColor\":8,\"fLineStyle\":1,\"fLineWidth\":1,\"fFillColor\":0,\"fFillStyle\":0,\"fMarkerColor\":1,\"fMarkerStyle\":1,\"fMarkerSize\":1,\"fObject\":{\"$ref\":8},\"fLabel\":\"Layer1, Run 351\",\"fOption\":\"lep\"},{\"_typename\":\"TLegendEntry\",\"fUniqueID\":0,\"fBits\":50331656,\"fTextAngle\":0,\"fTextSize\":0,\"fTextAlign\":0,\"fTextColor\":0,\"fTextFont\":42,\"fLineColor\":1,\"fLineStyle\":1,\"fLineWidth\":1,\"fFillColor\":0,\"fFillStyle\":0,\"fMarkerColor\":1,\"fMarkerStyle\":1,\"fMarkerSize\":1,\"fObject\":{\"$ref\":13},\"fLabel\":\"Layer1, Run 405\",\"fOption\":\"lep\"},{\"_typename\":\"TLegendEntry\",\"fUniqueID\":0,\"fBits\":50331656,\"fTextAngle\":0,\"fTextSize\":0,\"fTextAlign\":0,\"fTextColor\":0,\"fTextFont\":42,\"fLineColor\":2,\"fLineStyle\":1,\"fLineWidth\":1,\"fFillColor\":0,\"fFillStyle\":0,\"fMarkerColor\":1,\"fMarkerStyle\":1,\"fMarkerSize\":1,\"fObject\":{\"$ref\":18},\"fLabel\":\"Layer1, Run 406\",\"fOption\":\"lep\"},{\"_typename\":\"TLegendEntry\",\"fUniqueID\":0,\"fBits\":50331656,\"fTextAngle\":0,\"fTextSize\":0,\"fTextAlign\":0,\"fTextColor\":0,\"fTextFont\":42,\"fLineColor\":3,\"fLineStyle\":1,\"fLineWidth\":1,\"fFillColor\":0,\"fFillStyle\":0,\"fMarkerColor\":1,\"fMarkerStyle\":1,\"fMarkerSize\":1,\"fObject\":{\"$ref\":23},\"fLabel\":\"Layer1, Run 408\",\"fOption\":\"lep\"},{\"_typename\":\"TLegendEntry\",\"fUniqueID\":0,\"fBits\":50331656,\"fTextAngle\":0,\"fTextSize\":0,\"fTextAlign\":0,\"fTextColor\":0,\"fTextFont\":42,\"fLineColor\":4,\"fLineStyle\":1,\"fLineWidth\":1,\"fFillColor\":0,\"fFillStyle\":0,\"fMarkerColor\":1,\"fMarkerStyle\":1,\"fMarkerSize\":1,\"fObject\":{\"$ref\":3},\"fLabel\":\"Layer1, Run 409\",\"fOption\":\"lep\"},{\"_typename\":\"TLegendEntry\",\"fUniqueID\":0,\"fBits\":50331656,\"fTextAngle\":0,\"fTextSize\":0,\"fTextAlign\":0,\"fTextColor\":0,\"fTextFont\":42,\"fLineColor\":6,\"fLineStyle\":1,\"fLineWidth\":1,\"fFillColor\":0,\"fFillStyle\":0,\"fMarkerColor\":1,\"fMarkerStyle\":1,\"fMarkerSize\":1,\"fObject\":{\"$ref\":28},\"fLabel\":\"Layer1, Run 410\",\"fOption\":\"lep\"},{\"_typename\":\"TLegendEntry\",\"fUniqueID\":0,\"fBits\":50331656,\"fTextAngle\":0,\"fTextSize\":0,\"fTextAlign\":0,\"fTextColor\":0,\"fTextFont\":42,\"fLineColor\":7,\"fLineStyle\":1,\"fLineWidth\":1,\"fFillColor\":0,\"fFillStyle\":0,\"fMarkerColor\":1,\"fMarkerStyle\":1,\"fMarkerSize\":1,\"fObject\":{\"$ref\":33},\"fLabel\":\"Layer1, Run 411\",\"fOption\":\"lep\"}],\"opt\":[\"lep\",\"lep\",\"lep\",\"lep\",\"lep\",\"lep\",\"lep\"]},\"fEntrySeparation\":0.1,\"fMargin\":0.25,\"fNColumns\":1,\"fColumnSeparation\":0}],\"opt\":[\"\",\"L \",\"L same\",\"L same\",\"L same\",\"L same\",\"L same\",\"L same\",\"blNDC\",\"\"]},\"fExecs\":null,\"fName\":\"c1\",\"fTitle\":\"c1\",\"fNumPaletteColor\":0,\"fNextPaletteColor\":0,\"fDISPLAY\":\"$DISPLAY\",\"fDoubleBuffer\":0,\"fRetained\":true,\"fXsizeUser\":0,\"fYsizeUser\":0,\"fXsizeReal\":20,\"fYsizeReal\":14.28571,\"fWindowTopX\":0,\"fWindowTopY\":0,\"fWindowWidth\":0,\"fWindowHeight\":0,\"fCw\":696,\"fCh\":472,\"fCatt\":{\"_typename\":\"TAttCanvas\",\"fXBetween\":2,\"fYBetween\":2,\"fTitleFromTop\":1.2,\"fXdate\":0.2,\"fYdate\":0.3,\"fAdate\":1},\"kMoveOpaque\":true,\"kResizeOpaque\":true,\"fHighLightColor\":2,\"fBatch\":true,\"kShowEventStatus\":false,\"kAutoExec\":true,\"kMenuBar\":true});\n",
       "       Core.draw(\"root_plot_11\", obj, \"\");\n",
       "     }\n",
       " );\n",
       "</script>\n"
      ],
      "text/plain": [
       "<IPython.core.display.HTML object>"
      ]
     },
     "metadata": {},
     "output_type": "display_data"
    }
   ],
   "source": [
    "\n",
    "h351_1=load_histo_l1_FEB_sel(351)\n",
    "h394_1=load_histo_l1_FEB_sel(394)\n",
    "h395_1=load_histo_l1_FEB_sel(395)\n",
    "h396_1=load_histo_l1_FEB_sel(396)\n",
    "# h398_1=load_histo_l1_FEB_sel(398)\n",
    "h405_1=load_histo_l1_FEB_sel(405)\n",
    "h406_1=load_histo_l1_FEB_sel(406)\n",
    "h408_1=load_histo_l1_FEB_sel(408)\n",
    "h409_1=load_histo_l1_FEB_sel(409)\n",
    "h410_1=load_histo_l1_FEB_sel(410)\n",
    "h411_1=load_histo_l1_FEB_sel(411)\n",
    "\n",
    "h351_1.Scale(1/h351_1.GetEntries())\n",
    "h394_1.Scale(1/h394_1.GetEntries())\n",
    "h395_1.Scale(1/h395_1.GetEntries())\n",
    "h396_1.Scale(1/h396_1.GetEntries())\n",
    "# h398_1.Scale(1/trig_398)\n",
    "h405_1.Scale(1/h405_1.GetEntries())\n",
    "h406_1.Scale(1/h406_1.GetEntries())\n",
    "h408_1.Scale(1/h408_1.GetEntries())\n",
    "h409_1.Scale(1/h409_1.GetEntries())\n",
    "h410_1.Scale(1/h410_1.GetEntries())\n",
    "h411_1.Scale(1/h411_1.GetEntries())\n",
    "\n",
    "h351_1.SetName(\"h351_1\")\n",
    "h394_1.SetName(\"h394_1\")\n",
    "h395_1.SetName(\"h395_1\")\n",
    "h396_1.SetName(\"h396_1\")\n",
    "# h398_1.SetName(\"h398_1\")\n",
    "h405_1.SetName(\"h405_1\")\n",
    "h406_1.SetName(\"h406_1\")\n",
    "h408_1.SetName(\"h408_1\")\n",
    "h409_1.SetName(\"h409_1\")\n",
    "h410_1.SetName(\"h410_1\")\n",
    "h411_1.SetName(\"h411_1\")\n",
    "\n",
    "h351_1.SetLineColor(8)\n",
    "# h394_1.SetLineColor(1)\n",
    "# h395_1.SetLineColor(2)\n",
    "# h396_1.SetLineColor(3)\n",
    "# h398_1.SetLineColor(4)\n",
    "h405_1.SetLineColor(1)\n",
    "h406_1.SetLineColor(2)\n",
    "h408_1.SetLineColor(3)\n",
    "h409_1.SetLineColor(4)\n",
    "h410_1.SetLineColor(6)\n",
    "h411_1.SetLineColor(7)\n",
    "\n",
    "h409_1.Draw(\"L \")\n",
    "\n",
    "h351_1.Draw(\"L same\")\n",
    "# h394_1.Draw(\"L same\")\n",
    "# h395_1.Draw(\"L same\")\n",
    "# h396_1.Draw(\"L same\")\n",
    "# h398_1.Draw(\"same\")\n",
    "h405_1.Draw(\"L same\")\n",
    "h406_1.Draw(\"L same\")\n",
    "h408_1.Draw(\"L same\")\n",
    "h410_1.Draw(\"L same\")\n",
    "h411_1.Draw(\"L same\")\n",
    "\n",
    "leg=R.TLegend(0.58,0.7,0.9,0.9);\n",
    "leg.AddEntry(\"h351_1\",\"Layer1, Run 351\",\"lep\")\n",
    "# leg.AddEntry(\"h394_1\",\"Layer1, Run 394\",\"lep\")\n",
    "# leg.AddEntry(\"h395_1\",\"Layer1, Run 395\",\"lep\")\n",
    "# leg.AddEntry(\"h396_1\",\"Layer1, Run 396\",\"lep\")\n",
    "# leg.AddEntry(\"h398_1\",\"Layer1, Run 398\",\"lep\")\n",
    "leg.AddEntry(\"h405_1\",\"Layer1, Run 405\",\"lep\")\n",
    "leg.AddEntry(\"h406_1\",\"Layer1, Run 406\",\"lep\")\n",
    "leg.AddEntry(\"h408_1\",\"Layer1, Run 408\",\"lep\")\n",
    "leg.AddEntry(\"h409_1\",\"Layer1, Run 409\",\"lep\")\n",
    "leg.AddEntry(\"h410_1\",\"Layer1, Run 410\",\"lep\")\n",
    "leg.AddEntry(\"h411_1\",\"Layer1, Run 411\",\"lep\")\n",
    "c.Draw()\n",
    "leg.Draw()\n",
    "c.Print(\"L1_FEB_cut.png\")\n"
   ]
  },
  {
   "cell_type": "code",
   "execution_count": 24,
   "metadata": {},
   "outputs": [
    {
     "name": "stderr",
     "output_type": "stream",
     "text": [
      "Warning in <TROOT::Append>: Replacing existing TH1: h0 (Potential memory leak).\n",
      "Warning in <TROOT::Append>: Replacing existing TH1: h0 (Potential memory leak).\n",
      "Warning in <TROOT::Append>: Replacing existing TH1: h0 (Potential memory leak).\n",
      "Warning in <TROOT::Append>: Replacing existing TH1: h0 (Potential memory leak).\n",
      "Warning in <TROOT::Append>: Replacing existing TH1: h0 (Potential memory leak).\n",
      "Warning in <TROOT::Append>: Replacing existing TH1: h0 (Potential memory leak).\n",
      "Warning in <TROOT::Append>: Replacing existing TH1: h0 (Potential memory leak).\n",
      "Warning in <TROOT::Append>: Replacing existing TH1: h0 (Potential memory leak).\n",
      "Warning in <TROOT::Append>: Replacing existing TH1: h0 (Potential memory leak).\n",
      "Info in <TCanvas::Print>: png file L2_FEB_cut.png has been created\n"
     ]
    },
    {
     "data": {
      "text/html": [
       "\n",
       "<div id=\"root_plot_12\"\n",
       "     style=\"width: 696px; height: 472px\">\n",
       "</div>\n",
       "\n",
       "<script>\n",
       " requirejs.config({\n",
       "     paths: {\n",
       "       'JSRootCore' : 'https://root.cern.ch/js/notebook//scripts/JSRootCore',\n",
       "     }\n",
       "   });\n",
       " require(['JSRootCore'],\n",
       "     function(Core) {\n",
       "       var obj = Core.JSONR_unref({\"_typename\":\"TCanvas\",\"fUniqueID\":0,\"fBits\":53673992,\"fLineColor\":1,\"fLineStyle\":1,\"fLineWidth\":1,\"fFillColor\":0,\"fFillStyle\":1001,\"fLeftMargin\":0.1,\"fRightMargin\":0.1,\"fBottomMargin\":0.1,\"fTopMargin\":0.1,\"fXfile\":2,\"fYfile\":2,\"fAfile\":1,\"fXstat\":0.99,\"fYstat\":0.99,\"fAstat\":2,\"fFrameFillColor\":0,\"fFrameLineColor\":1,\"fFrameFillStyle\":1001,\"fFrameLineStyle\":1,\"fFrameLineWidth\":1,\"fFrameBorderSize\":1,\"fFrameBorderMode\":0,\"fX1\":15.6249998230487,\"fY1\":-0.00825071616775448,\"fX2\":39.3750001769513,\"fY2\":0.0742564405919803,\"fXtoAbsPixelk\":-457.894674833337,\"fXtoPixelk\":-457.894674833337,\"fXtoPixel\":29.3052627212123,\"fYtoAbsPixelk\":424.800047186661,\"fYtoPixelk\":424.800047186661,\"fYtoPixel\":-5720.71585710424,\"fUtoAbsPixelk\":5e-5,\"fUtoPixelk\":5e-5,\"fUtoPixel\":696,\"fVtoAbsPixelk\":472.00005,\"fVtoPixelk\":472,\"fVtoPixel\":-472,\"fAbsPixeltoXk\":15.6249998230487,\"fPixeltoXk\":15.6249998230487,\"fPixeltoX\":0.0341235637268716,\"fAbsPixeltoYk\":0.0742564405919803,\"fPixeltoYk\":-0.00825071616775448,\"fPixeltoY\":-1.74803298219777e-4,\"fXlowNDC\":0,\"fYlowNDC\":0,\"fXUpNDC\":0,\"fYUpNDC\":0,\"fWNDC\":1,\"fHNDC\":1,\"fAbsXlowNDC\":0,\"fAbsYlowNDC\":0,\"fAbsWNDC\":1,\"fAbsHNDC\":1,\"fUxmin\":18,\"fUymin\":0,\"fUxmax\":37,\"fUymax\":0.0660057244242259,\"fTheta\":30,\"fPhi\":30,\"fAspectRatio\":0,\"fNumber\":0,\"fTickx\":0,\"fTicky\":0,\"fLogx\":0,\"fLogy\":0,\"fLogz\":0,\"fPadPaint\":0,\"fCrosshair\":0,\"fCrosshairPos\":0,\"fBorderSize\":2,\"fBorderMode\":0,\"fModified\":false,\"fGridx\":false,\"fGridy\":false,\"fAbsCoord\":false,\"fEditable\":true,\"fFixedAspectRatio\":false,\"fPrimitives\":{\"_typename\":\"TList\",\"name\":\"TList\",\"arr\":[{\"_typename\":\"TFrame\",\"fUniqueID\":0,\"fBits\":50331656,\"fLineColor\":1,\"fLineStyle\":1,\"fLineWidth\":1,\"fFillColor\":0,\"fFillStyle\":1001,\"fX1\":18,\"fY1\":0,\"fX2\":37,\"fY2\":0.0660057244242259,\"fBorderSize\":1,\"fBorderMode\":0},{\"_typename\":\"TH1F\",\"fUniqueID\":0,\"fBits\":50332168,\"fName\":\"h408_2\",\"fTitle\":\"charge\",\"fLineColor\":3,\"fLineStyle\":1,\"fLineWidth\":1,\"fFillColor\":0,\"fFillStyle\":1001,\"fMarkerColor\":1,\"fMarkerStyle\":1,\"fMarkerSize\":1,\"fNcells\":40,\"fXaxis\":{\"_typename\":\"TAxis\",\"fUniqueID\":0,\"fBits\":50331648,\"fName\":\"xaxis\",\"fTitle\":\"\",\"fNdivisions\":510,\"fAxisColor\":1,\"fLabelColor\":1,\"fLabelFont\":42,\"fLabelOffset\":0.005,\"fLabelSize\":0.035,\"fTickLength\":0.03,\"fTitleOffset\":1,\"fTitleSize\":0.035,\"fTitleColor\":1,\"fTitleFont\":42,\"fNbins\":38,\"fXmin\":18,\"fXmax\":37,\"fXbins\":[],\"fFirst\":0,\"fLast\":0,\"fBits2\":0,\"fTimeDisplay\":false,\"fTimeFormat\":\"\",\"fLabels\":null,\"fModLabs\":null},\"fYaxis\":{\"_typename\":\"TAxis\",\"fUniqueID\":0,\"fBits\":50331648,\"fName\":\"yaxis\",\"fTitle\":\"\",\"fNdivisions\":510,\"fAxisColor\":1,\"fLabelColor\":1,\"fLabelFont\":42,\"fLabelOffset\":0.005,\"fLabelSize\":0.035,\"fTickLength\":0.03,\"fTitleOffset\":0,\"fTitleSize\":0.035,\"fTitleColor\":1,\"fTitleFont\":42,\"fNbins\":1,\"fXmin\":0,\"fXmax\":1,\"fXbins\":[],\"fFirst\":0,\"fLast\":0,\"fBits2\":0,\"fTimeDisplay\":false,\"fTimeFormat\":\"\",\"fLabels\":null,\"fModLabs\":null},\"fZaxis\":{\"_typename\":\"TAxis\",\"fUniqueID\":0,\"fBits\":50331648,\"fName\":\"zaxis\",\"fTitle\":\"\",\"fNdivisions\":510,\"fAxisColor\":1,\"fLabelColor\":1,\"fLabelFont\":42,\"fLabelOffset\":0.005,\"fLabelSize\":0.035,\"fTickLength\":0.03,\"fTitleOffset\":1,\"fTitleSize\":0.035,\"fTitleColor\":1,\"fTitleFont\":42,\"fNbins\":1,\"fXmin\":0,\"fXmax\":1,\"fXbins\":[],\"fFirst\":0,\"fLast\":0,\"fBits2\":0,\"fTimeDisplay\":false,\"fTimeFormat\":\"\",\"fLabels\":null,\"fModLabs\":null},\"fBarOffset\":0,\"fBarWidth\":1000,\"fEntries\":79574,\"fTsumw\":79574,\"fTsumw2\":79574,\"fTsumwx\":2056856.66996193,\"fTsumwx2\":54566889.3248556,\"fMaximum\":-1111,\"fMinimum\":-1111,\"fNormFactor\":0,\"fContour\":[],\"fSumw2\":[0,0,0,0,0,7.78898179466629e-7,7.38626679919997e-7,6.97881398025757e-7,6.5918917297115e-7,6.18759745975315e-7,5.95070628594943e-7,5.84647416947579e-7,5.52746072208679e-7,5.23371566657017e-7,4.68886596682162e-7,4.649384104521e-7,4.43776132258968e-7,4.2608825794829e-7,3.97661317091844e-7,3.91344219123744e-7,3.73814272262269e-7,3.42702564769381e-7,3.34174482512447e-7,3.21224431677844e-7,3.17276245447782e-7,2.8790173989612e-7,2.81426714478819e-7,2.60896146082496e-7,2.7005593813624e-7,2.63107130371331e-7,2.44155836467033e-7,2.45577183509856e-7,2.35943609108505e-7,2.2994236603881e-7,2.16834387755005e-7,0,0,0,0,0],\"fOption\":\"\",\"fFunctions\":{\"_typename\":\"TList\",\"name\":\"TList\",\"arr\":[],\"opt\":[]},\"fBufferSize\":0,\"fBuffer\":[],\"fBinStatErrOpt\":0,\"fStatOverflows\":2,\"fArray\":[0,0,0,0,0,0.06198004,0.05877548,0.05553322,0.05245432,0.04923719,0.04735215,0.04652273,0.04398422,0.04164677,0.03731118,0.03699701,0.03531304,0.03390555,0.0316435,0.03114082,0.0297459,0.02727021,0.0265916,0.02556111,0.02524694,0.02290949,0.02239425,0.02076055,0.02148943,0.02093649,0.01942846,0.01954156,0.01877498,0.01829743,0.01725438,0,0,0,0,0]},{\"_typename\":\"TH1F\",\"fUniqueID\":0,\"fBits\":50332168,\"fName\":\"h351_2\",\"fTitle\":\"charge\",\"fLineColor\":8,\"fLineStyle\":1,\"fLineWidth\":1,\"fFillColor\":0,\"fFillStyle\":1001,\"fMarkerColor\":1,\"fMarkerStyle\":1,\"fMarkerSize\":1,\"fNcells\":40,\"fXaxis\":{\"_typename\":\"TAxis\",\"fUniqueID\":0,\"fBits\":50331648,\"fName\":\"xaxis\",\"fTitle\":\"\",\"fNdivisions\":510,\"fAxisColor\":1,\"fLabelColor\":1,\"fLabelFont\":42,\"fLabelOffset\":0.005,\"fLabelSize\":0.035,\"fTickLength\":0.03,\"fTitleOffset\":1,\"fTitleSize\":0.035,\"fTitleColor\":1,\"fTitleFont\":42,\"fNbins\":38,\"fXmin\":18,\"fXmax\":37,\"fXbins\":[],\"fFirst\":0,\"fLast\":0,\"fBits2\":0,\"fTimeDisplay\":false,\"fTimeFormat\":\"\",\"fLabels\":null,\"fModLabs\":null},\"fYaxis\":{\"_typename\":\"TAxis\",\"fUniqueID\":0,\"fBits\":50331648,\"fName\":\"yaxis\",\"fTitle\":\"\",\"fNdivisions\":510,\"fAxisColor\":1,\"fLabelColor\":1,\"fLabelFont\":42,\"fLabelOffset\":0.005,\"fLabelSize\":0.035,\"fTickLength\":0.03,\"fTitleOffset\":0,\"fTitleSize\":0.035,\"fTitleColor\":1,\"fTitleFont\":42,\"fNbins\":1,\"fXmin\":0,\"fXmax\":1,\"fXbins\":[],\"fFirst\":0,\"fLast\":0,\"fBits2\":0,\"fTimeDisplay\":false,\"fTimeFormat\":\"\",\"fLabels\":null,\"fModLabs\":null},\"fZaxis\":{\"_typename\":\"TAxis\",\"fUniqueID\":0,\"fBits\":50331648,\"fName\":\"zaxis\",\"fTitle\":\"\",\"fNdivisions\":510,\"fAxisColor\":1,\"fLabelColor\":1,\"fLabelFont\":42,\"fLabelOffset\":0.005,\"fLabelSize\":0.035,\"fTickLength\":0.03,\"fTitleOffset\":1,\"fTitleSize\":0.035,\"fTitleColor\":1,\"fTitleFont\":42,\"fNbins\":1,\"fXmin\":0,\"fXmax\":1,\"fXbins\":[],\"fFirst\":0,\"fLast\":0,\"fBits2\":0,\"fTimeDisplay\":false,\"fTimeFormat\":\"\",\"fLabels\":null,\"fModLabs\":null},\"fBarOffset\":0,\"fBarWidth\":1000,\"fEntries\":709102,\"fTsumw\":709102,\"fTsumw2\":709102,\"fTsumwx\":18616965.2730961,\"fTsumwx2\":501539522.542298,\"fMaximum\":-1111,\"fMinimum\":-1111,\"fNormFactor\":0,\"fContour\":[],\"fSumw2\":[0,0,0,0,0,7.50816913775058e-8,7.15735170975832e-8,6.95111720135243e-8,6.70709623528298e-8,6.4750078347915e-8,6.15879484697534e-8,5.96787379772785e-8,5.7737707309929e-8,5.58503731876803e-8,5.38894549110342e-8,5.21214464445653e-8,4.97508434164089e-8,4.81459133461722e-8,4.66185449521922e-8,4.55366590064565e-8,4.39257626534307e-8,4.2943314754178e-8,4.13861149462532e-8,4.00059148610682e-8,3.84367824875654e-8,3.71261890349185e-8,3.59746964566446e-8,3.46541591993494e-8,3.37353516498459e-8,3.23571403255905e-8,3.20170622066184e-8,3.07740866255801e-8,3.01496156936664e-8,2.89722692233069e-8,2.88708424158942e-8,0,0,0,0,0],\"fOption\":\"\",\"fFunctions\":{\"_typename\":\"TList\",\"name\":\"TList\",\"arr\":[],\"opt\":[]},\"fBufferSize\":0,\"fBuffer\":[],\"fBinStatErrOpt\":0,\"fStatOverflows\":2,\"fArray\":[0,0,0,0,0,0.05324058,0.05075292,0.04929051,0.04756016,0.04591441,0.04367214,0.04231831,0.04094192,0.03960361,0.03821312,0.03695942,0.03527842,0.03414036,0.0330573,0.03229013,0.03114785,0.03045119,0.02934698,0.02836827,0.0272556,0.02632625,0.02550973,0.02457333,0.0239218,0.02294451,0.02270336,0.02182197,0.02137915,0.02054429,0.02047237,0,0,0,0,0]},{\"_typename\":\"TH1F\",\"fUniqueID\":0,\"fBits\":50332168,\"fName\":\"h405_2\",\"fTitle\":\"charge\",\"fLineColor\":1,\"fLineStyle\":1,\"fLineWidth\":1,\"fFillColor\":0,\"fFillStyle\":1001,\"fMarkerColor\":1,\"fMarkerStyle\":1,\"fMarkerSize\":1,\"fNcells\":40,\"fXaxis\":{\"_typename\":\"TAxis\",\"fUniqueID\":0,\"fBits\":50331648,\"fName\":\"xaxis\",\"fTitle\":\"\",\"fNdivisions\":510,\"fAxisColor\":1,\"fLabelColor\":1,\"fLabelFont\":42,\"fLabelOffset\":0.005,\"fLabelSize\":0.035,\"fTickLength\":0.03,\"fTitleOffset\":1,\"fTitleSize\":0.035,\"fTitleColor\":1,\"fTitleFont\":42,\"fNbins\":38,\"fXmin\":18,\"fXmax\":37,\"fXbins\":[],\"fFirst\":0,\"fLast\":0,\"fBits2\":0,\"fTimeDisplay\":false,\"fTimeFormat\":\"\",\"fLabels\":null,\"fModLabs\":null},\"fYaxis\":{\"_typename\":\"TAxis\",\"fUniqueID\":0,\"fBits\":50331648,\"fName\":\"yaxis\",\"fTitle\":\"\",\"fNdivisions\":510,\"fAxisColor\":1,\"fLabelColor\":1,\"fLabelFont\":42,\"fLabelOffset\":0.005,\"fLabelSize\":0.035,\"fTickLength\":0.03,\"fTitleOffset\":0,\"fTitleSize\":0.035,\"fTitleColor\":1,\"fTitleFont\":42,\"fNbins\":1,\"fXmin\":0,\"fXmax\":1,\"fXbins\":[],\"fFirst\":0,\"fLast\":0,\"fBits2\":0,\"fTimeDisplay\":false,\"fTimeFormat\":\"\",\"fLabels\":null,\"fModLabs\":null},\"fZaxis\":{\"_typename\":\"TAxis\",\"fUniqueID\":0,\"fBits\":50331648,\"fName\":\"zaxis\",\"fTitle\":\"\",\"fNdivisions\":510,\"fAxisColor\":1,\"fLabelColor\":1,\"fLabelFont\":42,\"fLabelOffset\":0.005,\"fLabelSize\":0.035,\"fTickLength\":0.03,\"fTitleOffset\":1,\"fTitleSize\":0.035,\"fTitleColor\":1,\"fTitleFont\":42,\"fNbins\":1,\"fXmin\":0,\"fXmax\":1,\"fXbins\":[],\"fFirst\":0,\"fLast\":0,\"fBits2\":0,\"fTimeDisplay\":false,\"fTimeFormat\":\"\",\"fLabels\":null,\"fModLabs\":null},\"fBarOffset\":0,\"fBarWidth\":1000,\"fEntries\":82954,\"fTsumw\":82954,\"fTsumw2\":82954,\"fTsumwx\":2148526.95494461,\"fTsumwx2\":57102889.605773,\"fMaximum\":-1111,\"fMinimum\":-1111,\"fNormFactor\":0,\"fContour\":[],\"fSumw2\":[0,0,0,0,0,7.27907789756089e-7,7.01314233053081e-7,6.55538438728232e-7,6.20225683106206e-7,6.06710924781727e-7,5.70235609303832e-7,5.37974573303462e-7,5.13706136312193e-7,4.83624900041578e-7,4.5703134333857e-7,4.46422984653764e-7,4.29275226779694e-7,4.01373790238834e-7,3.93526511211717e-7,3.70856594022268e-7,3.6577039465284e-7,3.42083237589505e-7,3.31184238940732e-7,3.27260599427173e-7,2.90639963967294e-7,2.98196603030444e-7,2.8686164443572e-7,2.74364125985126e-7,2.52856768651546e-7,2.54019328507415e-7,2.37452850561279e-7,2.33819851011688e-7,2.27135131840441e-7,2.12748453624059e-7,2.04755854614959e-7,0,0,0,0,0],\"fOption\":\"\",\"fFunctions\":{\"_typename\":\"TList\",\"name\":\"TList\",\"arr\":[],\"opt\":[]},\"fBufferSize\":0,\"fBuffer\":[],\"fBinStatErrOpt\":0,\"fStatOverflows\":2,\"fArray\":[0,0,0,0,0,0.06038286,0.05817682,0.05437953,0.0514502,0.0503291,0.04730333,0.04462714,0.04261398,0.04011862,0.03791258,0.03703257,0.0356101,0.03329556,0.0326446,0.03076404,0.03034212,0.02837717,0.02747306,0.02714758,0.02410975,0.0247366,0.02379632,0.0227596,0.02097548,0.02107192,0.01969766,0.01939629,0.01884177,0.01764834,0.01698532,0,0,0,0,0]},{\"_typename\":\"TH1F\",\"fUniqueID\":0,\"fBits\":50332168,\"fName\":\"h406_2\",\"fTitle\":\"charge\",\"fLineColor\":2,\"fLineStyle\":1,\"fLineWidth\":1,\"fFillColor\":0,\"fFillStyle\":1001,\"fMarkerColor\":1,\"fMarkerStyle\":1,\"fMarkerSize\":1,\"fNcells\":40,\"fXaxis\":{\"_typename\":\"TAxis\",\"fUniqueID\":0,\"fBits\":50331648,\"fName\":\"xaxis\",\"fTitle\":\"\",\"fNdivisions\":510,\"fAxisColor\":1,\"fLabelColor\":1,\"fLabelFont\":42,\"fLabelOffset\":0.005,\"fLabelSize\":0.035,\"fTickLength\":0.03,\"fTitleOffset\":1,\"fTitleSize\":0.035,\"fTitleColor\":1,\"fTitleFont\":42,\"fNbins\":38,\"fXmin\":18,\"fXmax\":37,\"fXbins\":[],\"fFirst\":0,\"fLast\":0,\"fBits2\":0,\"fTimeDisplay\":false,\"fTimeFormat\":\"\",\"fLabels\":null,\"fModLabs\":null},\"fYaxis\":{\"_typename\":\"TAxis\",\"fUniqueID\":0,\"fBits\":50331648,\"fName\":\"yaxis\",\"fTitle\":\"\",\"fNdivisions\":510,\"fAxisColor\":1,\"fLabelColor\":1,\"fLabelFont\":42,\"fLabelOffset\":0.005,\"fLabelSize\":0.035,\"fTickLength\":0.03,\"fTitleOffset\":0,\"fTitleSize\":0.035,\"fTitleColor\":1,\"fTitleFont\":42,\"fNbins\":1,\"fXmin\":0,\"fXmax\":1,\"fXbins\":[],\"fFirst\":0,\"fLast\":0,\"fBits2\":0,\"fTimeDisplay\":false,\"fTimeFormat\":\"\",\"fLabels\":null,\"fModLabs\":null},\"fZaxis\":{\"_typename\":\"TAxis\",\"fUniqueID\":0,\"fBits\":50331648,\"fName\":\"zaxis\",\"fTitle\":\"\",\"fNdivisions\":510,\"fAxisColor\":1,\"fLabelColor\":1,\"fLabelFont\":42,\"fLabelOffset\":0.005,\"fLabelSize\":0.035,\"fTickLength\":0.03,\"fTitleOffset\":1,\"fTitleSize\":0.035,\"fTitleColor\":1,\"fTitleFont\":42,\"fNbins\":1,\"fXmin\":0,\"fXmax\":1,\"fXbins\":[],\"fFirst\":0,\"fLast\":0,\"fBits2\":0,\"fTimeDisplay\":false,\"fTimeFormat\":\"\",\"fLabels\":null,\"fModLabs\":null},\"fBarOffset\":0,\"fBarWidth\":1000,\"fEntries\":67138,\"fTsumw\":67138,\"fTsumw2\":67138,\"fTsumwx\":1741853.18063736,\"fTsumwx2\":46371212.4356063,\"fMaximum\":-1111,\"fMinimum\":-1111,\"fNormFactor\":0,\"fContour\":[],\"fSumw2\":[0,0,0,0,0,8.64113246086148e-7,8.36825459367638e-7,7.99776187969336e-7,7.77812847439803e-7,7.40985427966042e-7,6.98389858454222e-7,6.56681696640564e-7,6.40708358073631e-7,6.04102790524411e-7,5.94341305844619e-7,5.59066849842642e-7,5.14252761085415e-7,5.26676468859696e-7,4.80974972404305e-7,4.56571260704825e-7,4.37270143269781e-7,4.18412729683819e-7,4.20631248929226e-7,3.89571979493524e-7,3.72489381303888e-7,3.51413448472518e-7,3.58512710057821e-7,3.5806900620874e-7,3.17470104017786e-7,3.05490100092587e-7,3.13476769376053e-7,2.77980461449536e-7,2.82639351864891e-7,2.70659347939692e-7,2.69328236392448e-7,0,0,0,0,0],\"fOption\":\"\",\"fFunctions\":{\"_typename\":\"TList\",\"name\":\"TList\",\"arr\":[],\"opt\":[]},\"fBufferSize\":0,\"fBuffer\":[],\"fBinStatErrOpt\":0,\"fStatOverflows\":2,\"fArray\":[0,0,0,0,0,0.05801484,0.05618279,0.05369537,0.0522208,0.04974828,0.0468885,0.0440883,0.04301588,0.04055825,0.03990289,0.03753463,0.0345259,0.03536,0.0322917,0.03065328,0.02935744,0.02809139,0.02824034,0.02615508,0.02500819,0.0235932,0.02406983,0.02404004,0.02131431,0.02050999,0.0210462,0.01866305,0.01897584,0.01817153,0.01808216,0,0,0,0,0]},{\"_typename\":\"TH1F\",\"fUniqueID\":0,\"fBits\":50332168,\"fName\":\"h409_2\",\"fTitle\":\"charge\",\"fLineColor\":4,\"fLineStyle\":1,\"fLineWidth\":1,\"fFillColor\":0,\"fFillStyle\":1001,\"fMarkerColor\":1,\"fMarkerStyle\":1,\"fMarkerSize\":1,\"fNcells\":40,\"fXaxis\":{\"_typename\":\"TAxis\",\"fUniqueID\":0,\"fBits\":50331648,\"fName\":\"xaxis\",\"fTitle\":\"\",\"fNdivisions\":510,\"fAxisColor\":1,\"fLabelColor\":1,\"fLabelFont\":42,\"fLabelOffset\":0.005,\"fLabelSize\":0.035,\"fTickLength\":0.03,\"fTitleOffset\":1,\"fTitleSize\":0.035,\"fTitleColor\":1,\"fTitleFont\":42,\"fNbins\":38,\"fXmin\":18,\"fXmax\":37,\"fXbins\":[],\"fFirst\":0,\"fLast\":0,\"fBits2\":0,\"fTimeDisplay\":false,\"fTimeFormat\":\"\",\"fLabels\":null,\"fModLabs\":null},\"fYaxis\":{\"_typename\":\"TAxis\",\"fUniqueID\":0,\"fBits\":50331648,\"fName\":\"yaxis\",\"fTitle\":\"\",\"fNdivisions\":510,\"fAxisColor\":1,\"fLabelColor\":1,\"fLabelFont\":42,\"fLabelOffset\":0.005,\"fLabelSize\":0.035,\"fTickLength\":0.03,\"fTitleOffset\":0,\"fTitleSize\":0.035,\"fTitleColor\":1,\"fTitleFont\":42,\"fNbins\":1,\"fXmin\":0,\"fXmax\":1,\"fXbins\":[],\"fFirst\":0,\"fLast\":0,\"fBits2\":0,\"fTimeDisplay\":false,\"fTimeFormat\":\"\",\"fLabels\":null,\"fModLabs\":null},\"fZaxis\":{\"_typename\":\"TAxis\",\"fUniqueID\":0,\"fBits\":50331648,\"fName\":\"zaxis\",\"fTitle\":\"\",\"fNdivisions\":510,\"fAxisColor\":1,\"fLabelColor\":1,\"fLabelFont\":42,\"fLabelOffset\":0.005,\"fLabelSize\":0.035,\"fTickLength\":0.03,\"fTitleOffset\":1,\"fTitleSize\":0.035,\"fTitleColor\":1,\"fTitleFont\":42,\"fNbins\":1,\"fXmin\":0,\"fXmax\":1,\"fXbins\":[],\"fFirst\":0,\"fLast\":0,\"fBits2\":0,\"fTimeDisplay\":false,\"fTimeFormat\":\"\",\"fLabels\":null,\"fModLabs\":null},\"fBarOffset\":0,\"fBarWidth\":1000,\"fEntries\":76657,\"fTsumw\":76657,\"fTsumw2\":76657,\"fTsumwx\":1980368.34563637,\"fTsumwx2\":52499316.7712206,\"fMaximum\":-1111,\"fMinimum\":-1111,\"fNormFactor\":0,\"fContour\":[],\"fSumw2\":[0,0,0,0,0,8.00163960572706e-7,7.87060467385956e-7,7.20181599562674e-7,6.77807965750976e-7,6.59429040242288e-7,6.01229109464775e-7,5.88636141986599e-7,5.6464143368359e-7,5.46943209119668e-7,5.13418687589931e-7,4.74618733738255e-7,4.58962612008632e-7,4.44838067404733e-7,4.26118791423661e-7,4.04336361191142e-7,3.95317073672989e-7,3.73874993912853e-7,3.53794316042249e-7,3.32352236282113e-7,3.04954023255272e-7,3.14483836481999e-7,2.91169829123756e-7,2.77896160700814e-7,2.82320716841795e-7,2.67004945584555e-7,2.50668122910165e-7,2.44371639171077e-7,2.24631311772857e-7,2.41478660155821e-7,2.22419033702366e-7,0,0,0,0,0],\"fOption\":\"\",\"fFunctions\":{\"_typename\":\"TList\",\"name\":\"TList\",\"arr\":[],\"opt\":[]},\"fBufferSize\":0,\"fBuffer\":[],\"fBinStatErrOpt\":0,\"fStatOverflows\":2,\"fArray\":[0,0,0,0,0,0.06133817,0.0603337,0.05520696,0.05195872,0.05054985,0.04608842,0.04512308,0.04328372,0.04192702,0.03935714,0.03638285,0.0351827,0.03409995,0.03266499,0.03099521,0.03030382,0.02866014,0.02712081,0.02547713,0.02337686,0.02410739,0.02232021,0.02130269,0.02164186,0.0204678,0.01921547,0.0187328,0.01721956,0.01851103,0.01704998,0,0,0,0,0]},{\"_typename\":\"TH1F\",\"fUniqueID\":0,\"fBits\":50332168,\"fName\":\"h410_2\",\"fTitle\":\"charge\",\"fLineColor\":6,\"fLineStyle\":1,\"fLineWidth\":1,\"fFillColor\":0,\"fFillStyle\":1001,\"fMarkerColor\":1,\"fMarkerStyle\":1,\"fMarkerSize\":1,\"fNcells\":40,\"fXaxis\":{\"_typename\":\"TAxis\",\"fUniqueID\":0,\"fBits\":50331648,\"fName\":\"xaxis\",\"fTitle\":\"\",\"fNdivisions\":510,\"fAxisColor\":1,\"fLabelColor\":1,\"fLabelFont\":42,\"fLabelOffset\":0.005,\"fLabelSize\":0.035,\"fTickLength\":0.03,\"fTitleOffset\":1,\"fTitleSize\":0.035,\"fTitleColor\":1,\"fTitleFont\":42,\"fNbins\":38,\"fXmin\":18,\"fXmax\":37,\"fXbins\":[],\"fFirst\":0,\"fLast\":0,\"fBits2\":0,\"fTimeDisplay\":false,\"fTimeFormat\":\"\",\"fLabels\":null,\"fModLabs\":null},\"fYaxis\":{\"_typename\":\"TAxis\",\"fUniqueID\":0,\"fBits\":50331648,\"fName\":\"yaxis\",\"fTitle\":\"\",\"fNdivisions\":510,\"fAxisColor\":1,\"fLabelColor\":1,\"fLabelFont\":42,\"fLabelOffset\":0.005,\"fLabelSize\":0.035,\"fTickLength\":0.03,\"fTitleOffset\":0,\"fTitleSize\":0.035,\"fTitleColor\":1,\"fTitleFont\":42,\"fNbins\":1,\"fXmin\":0,\"fXmax\":1,\"fXbins\":[],\"fFirst\":0,\"fLast\":0,\"fBits2\":0,\"fTimeDisplay\":false,\"fTimeFormat\":\"\",\"fLabels\":null,\"fModLabs\":null},\"fZaxis\":{\"_typename\":\"TAxis\",\"fUniqueID\":0,\"fBits\":50331648,\"fName\":\"zaxis\",\"fTitle\":\"\",\"fNdivisions\":510,\"fAxisColor\":1,\"fLabelColor\":1,\"fLabelFont\":42,\"fLabelOffset\":0.005,\"fLabelSize\":0.035,\"fTickLength\":0.03,\"fTitleOffset\":1,\"fTitleSize\":0.035,\"fTitleColor\":1,\"fTitleFont\":42,\"fNbins\":1,\"fXmin\":0,\"fXmax\":1,\"fXbins\":[],\"fFirst\":0,\"fLast\":0,\"fBits2\":0,\"fTimeDisplay\":false,\"fTimeFormat\":\"\",\"fLabels\":null,\"fModLabs\":null},\"fBarOffset\":0,\"fBarWidth\":1000,\"fEntries\":32063,\"fTsumw\":32063,\"fTsumw2\":32063,\"fTsumwx\":825925.322502136,\"fTsumwx2\":21828672.4613981,\"fMaximum\":-1111,\"fMinimum\":-1111,\"fNormFactor\":0,\"fContour\":[],\"fSumw2\":[0,0,0,0,0,1.92113900637265e-6,1.83942980306363e-6,1.74118421337065e-6,1.79468428696584e-6,1.61959313701795e-6,1.41629285735624e-6,1.45033835873499e-6,1.37641098431255e-6,1.33166546821476e-6,1.25481990795985e-6,1.09334695856347e-6,1.08653785828772e-6,1.04276507080075e-6,1.03498324191417e-6,9.5911041027009e-7,9.48410395551053e-7,8.51137534468893e-7,8.29737505030819e-7,8.16119304479316e-7,7.58728316440842e-7,6.52700897861289e-7,6.73128198688542e-7,6.97446413959082e-7,6.5367362647211e-7,6.30328139812392e-7,5.76828066217204e-7,5.63209865665702e-7,5.34028007341054e-7,5.18464349567909e-7,5.22355264011195e-7,0,0,0,0,0],\"fOption\":\"\",\"fFunctions\":{\"_typename\":\"TList\",\"name\":\"TList\",\"arr\":[],\"opt\":[]},\"fBufferSize\":0,\"fBuffer\":[],\"fBinStatErrOpt\":0,\"fStatOverflows\":2,\"fArray\":[0,0,0,0,0,0.06159748,0.05897764,0.05582759,0.05754296,0.05192902,0.0454106,0.0465022,0.04413186,0.04269719,0.04023329,0.03505598,0.03483766,0.03343417,0.03318467,0.03075196,0.03040888,0.02729002,0.02660387,0.02616723,0.02432711,0.02092755,0.02158251,0.02236222,0.02095874,0.02021021,0.01849484,0.0180582,0.01712254,0.01662352,0.01674828,0,0,0,0,0]},{\"_typename\":\"TH1F\",\"fUniqueID\":0,\"fBits\":50332168,\"fName\":\"h411_2\",\"fTitle\":\"charge\",\"fLineColor\":7,\"fLineStyle\":1,\"fLineWidth\":1,\"fFillColor\":0,\"fFillStyle\":1001,\"fMarkerColor\":1,\"fMarkerStyle\":1,\"fMarkerSize\":1,\"fNcells\":40,\"fXaxis\":{\"_typename\":\"TAxis\",\"fUniqueID\":0,\"fBits\":50331648,\"fName\":\"xaxis\",\"fTitle\":\"\",\"fNdivisions\":510,\"fAxisColor\":1,\"fLabelColor\":1,\"fLabelFont\":42,\"fLabelOffset\":0.005,\"fLabelSize\":0.035,\"fTickLength\":0.03,\"fTitleOffset\":1,\"fTitleSize\":0.035,\"fTitleColor\":1,\"fTitleFont\":42,\"fNbins\":38,\"fXmin\":18,\"fXmax\":37,\"fXbins\":[],\"fFirst\":0,\"fLast\":0,\"fBits2\":0,\"fTimeDisplay\":false,\"fTimeFormat\":\"\",\"fLabels\":null,\"fModLabs\":null},\"fYaxis\":{\"_typename\":\"TAxis\",\"fUniqueID\":0,\"fBits\":50331648,\"fName\":\"yaxis\",\"fTitle\":\"\",\"fNdivisions\":510,\"fAxisColor\":1,\"fLabelColor\":1,\"fLabelFont\":42,\"fLabelOffset\":0.005,\"fLabelSize\":0.035,\"fTickLength\":0.03,\"fTitleOffset\":0,\"fTitleSize\":0.035,\"fTitleColor\":1,\"fTitleFont\":42,\"fNbins\":1,\"fXmin\":0,\"fXmax\":1,\"fXbins\":[],\"fFirst\":0,\"fLast\":0,\"fBits2\":0,\"fTimeDisplay\":false,\"fTimeFormat\":\"\",\"fLabels\":null,\"fModLabs\":null},\"fZaxis\":{\"_typename\":\"TAxis\",\"fUniqueID\":0,\"fBits\":50331648,\"fName\":\"zaxis\",\"fTitle\":\"\",\"fNdivisions\":510,\"fAxisColor\":1,\"fLabelColor\":1,\"fLabelFont\":42,\"fLabelOffset\":0.005,\"fLabelSize\":0.035,\"fTickLength\":0.03,\"fTitleOffset\":1,\"fTitleSize\":0.035,\"fTitleColor\":1,\"fTitleFont\":42,\"fNbins\":1,\"fXmin\":0,\"fXmax\":1,\"fXbins\":[],\"fFirst\":0,\"fLast\":0,\"fBits2\":0,\"fTimeDisplay\":false,\"fTimeFormat\":\"\",\"fLabels\":null,\"fModLabs\":null},\"fBarOffset\":0,\"fBarWidth\":1000,\"fEntries\":55676,\"fTsumw\":55676,\"fTsumw2\":55676,\"fTsumwx\":1447041.93182564,\"fTsumwx2\":38590184.6824965,\"fMaximum\":-1111,\"fMinimum\":-1111,\"fNormFactor\":0,\"fContour\":[],\"fSumw2\":[0,0,0,0,0,1.05683658918061e-6,1.00683363700632e-6,9.47797893471502e-7,9.13279726486665e-7,8.53598783568956e-7,8.23919611955825e-7,7.71335862249953e-7,7.57786675209175e-7,7.2423630729868e-7,7.23913707607233e-7,6.65200563763865e-7,6.61006767775053e-7,6.15520211281016e-7,5.87454038125121e-7,5.50677673300154e-7,5.49064674842919e-7,5.1583690662387e-7,4.97771323902834e-7,4.89706331616657e-7,4.56478563397609e-7,4.55833364014715e-7,4.53897765866032e-7,3.99378418011477e-7,3.71634844547029e-7,3.86474430353594e-7,3.54859660591781e-7,3.67763648249664e-7,3.45181669848369e-7,3.43568671391133e-7,3.14212099469449e-7,0,0,0,0,0],\"fOption\":\"\",\"fFunctions\":{\"_typename\":\"TList\",\"name\":\"TList\",\"arr\":[],\"opt\":[]},\"fBufferSize\":0,\"fBuffer\":[],\"fBinStatErrOpt\":0,\"fStatOverflows\":2,\"fArray\":[0,0,0,0,0,0.05884043,0.05605647,0.05276959,0.05084776,0.04752497,0.04587255,0.0429449,0.04219053,0.04032258,0.04030462,0.03703571,0.03680221,0.0342697,0.03270709,0.03065953,0.03056972,0.02871974,0.02771392,0.02726489,0.0254149,0.02537898,0.02527121,0.02223579,0.02069114,0.02151735,0.01975717,0.02047561,0.01921833,0.01912853,0.01749407,0,0,0,0,0]},{\"_typename\":\"TPaveText\",\"fUniqueID\":0,\"fBits\":50331657,\"fLineColor\":1,\"fLineStyle\":1,\"fLineWidth\":1,\"fFillColor\":0,\"fFillStyle\":0,\"fX1\":25.9146192292495,\"fY1\":0.0688095702128769,\"fX2\":29.0853807707505,\"fY2\":0.0738439052016065,\"fX1NDC\":0.433247126436782,\"fY1NDC\":0.933983055615829,\"fX2NDC\":0.566752873563218,\"fY2NDC\":0.995000004768372,\"fBorderSize\":0,\"fInit\":1,\"fShadowColor\":1,\"fCornerRadius\":0,\"fOption\":\"blNDC\",\"fName\":\"title\",\"fTextAngle\":0,\"fTextSize\":0,\"fTextAlign\":22,\"fTextColor\":1,\"fTextFont\":42,\"fLabel\":\"\",\"fLongest\":6,\"fMargin\":0.05,\"fLines\":{\"_typename\":\"TList\",\"name\":\"TList\",\"arr\":[{\"_typename\":\"TLatex\",\"fUniqueID\":0,\"fBits\":50331648,\"fName\":\"\",\"fTitle\":\"charge\",\"fTextAngle\":0,\"fTextSize\":0,\"fTextAlign\":0,\"fTextColor\":0,\"fTextFont\":0,\"fX\":0,\"fY\":0,\"fLineColor\":1,\"fLineStyle\":1,\"fLineWidth\":2,\"fLimitFactorSize\":3,\"fOriginSize\":0.0518644079566002}],\"opt\":[\"\"]}},{\"_typename\":\"TLegend\",\"fUniqueID\":0,\"fBits\":50331656,\"fLineColor\":1,\"fLineStyle\":1,\"fLineWidth\":1,\"fFillColor\":0,\"fFillStyle\":1001,\"fX1\":29.4000000283122,\"fY1\":0.0495042935640599,\"fX2\":37.000000141561,\"fY2\":0.0660057249160069,\"fX1NDC\":0.58,\"fY1NDC\":0.7,\"fX2NDC\":0.9,\"fY2NDC\":0.9,\"fBorderSize\":1,\"fInit\":1,\"fShadowColor\":1,\"fCornerRadius\":0,\"fOption\":\"brNDC\",\"fName\":\"TPave\",\"fTextAngle\":0,\"fTextSize\":0,\"fTextAlign\":12,\"fTextColor\":1,\"fTextFont\":42,\"fPrimitives\":{\"_typename\":\"TList\",\"name\":\"TList\",\"arr\":[{\"_typename\":\"TLegendEntry\",\"fUniqueID\":0,\"fBits\":50331656,\"fTextAngle\":0,\"fTextSize\":0,\"fTextAlign\":0,\"fTextColor\":0,\"fTextFont\":42,\"fLineColor\":8,\"fLineStyle\":1,\"fLineWidth\":1,\"fFillColor\":0,\"fFillStyle\":0,\"fMarkerColor\":1,\"fMarkerStyle\":1,\"fMarkerSize\":1,\"fObject\":{\"$ref\":8},\"fLabel\":\"Layer2, Run 351\",\"fOption\":\"lep\"},{\"_typename\":\"TLegendEntry\",\"fUniqueID\":0,\"fBits\":50331656,\"fTextAngle\":0,\"fTextSize\":0,\"fTextAlign\":0,\"fTextColor\":0,\"fTextFont\":42,\"fLineColor\":1,\"fLineStyle\":1,\"fLineWidth\":1,\"fFillColor\":0,\"fFillStyle\":0,\"fMarkerColor\":1,\"fMarkerStyle\":1,\"fMarkerSize\":1,\"fObject\":{\"$ref\":13},\"fLabel\":\"Layer2, Run 405\",\"fOption\":\"lep\"},{\"_typename\":\"TLegendEntry\",\"fUniqueID\":0,\"fBits\":50331656,\"fTextAngle\":0,\"fTextSize\":0,\"fTextAlign\":0,\"fTextColor\":0,\"fTextFont\":42,\"fLineColor\":2,\"fLineStyle\":1,\"fLineWidth\":1,\"fFillColor\":0,\"fFillStyle\":0,\"fMarkerColor\":1,\"fMarkerStyle\":1,\"fMarkerSize\":1,\"fObject\":{\"$ref\":18},\"fLabel\":\"Layer2, Run 406\",\"fOption\":\"lep\"},{\"_typename\":\"TLegendEntry\",\"fUniqueID\":0,\"fBits\":50331656,\"fTextAngle\":0,\"fTextSize\":0,\"fTextAlign\":0,\"fTextColor\":0,\"fTextFont\":42,\"fLineColor\":3,\"fLineStyle\":1,\"fLineWidth\":1,\"fFillColor\":0,\"fFillStyle\":0,\"fMarkerColor\":1,\"fMarkerStyle\":1,\"fMarkerSize\":1,\"fObject\":{\"$ref\":3},\"fLabel\":\"Layer2, Run 408\",\"fOption\":\"lep\"},{\"_typename\":\"TLegendEntry\",\"fUniqueID\":0,\"fBits\":50331656,\"fTextAngle\":0,\"fTextSize\":0,\"fTextAlign\":0,\"fTextColor\":0,\"fTextFont\":42,\"fLineColor\":4,\"fLineStyle\":1,\"fLineWidth\":1,\"fFillColor\":0,\"fFillStyle\":0,\"fMarkerColor\":1,\"fMarkerStyle\":1,\"fMarkerSize\":1,\"fObject\":{\"$ref\":23},\"fLabel\":\"Layer2, Run 409\",\"fOption\":\"lep\"},{\"_typename\":\"TLegendEntry\",\"fUniqueID\":0,\"fBits\":50331656,\"fTextAngle\":0,\"fTextSize\":0,\"fTextAlign\":0,\"fTextColor\":0,\"fTextFont\":42,\"fLineColor\":6,\"fLineStyle\":1,\"fLineWidth\":1,\"fFillColor\":0,\"fFillStyle\":0,\"fMarkerColor\":1,\"fMarkerStyle\":1,\"fMarkerSize\":1,\"fObject\":{\"$ref\":28},\"fLabel\":\"Layer2, Run 410\",\"fOption\":\"lep\"},{\"_typename\":\"TLegendEntry\",\"fUniqueID\":0,\"fBits\":50331656,\"fTextAngle\":0,\"fTextSize\":0,\"fTextAlign\":0,\"fTextColor\":0,\"fTextFont\":42,\"fLineColor\":7,\"fLineStyle\":1,\"fLineWidth\":1,\"fFillColor\":0,\"fFillStyle\":0,\"fMarkerColor\":1,\"fMarkerStyle\":1,\"fMarkerSize\":1,\"fObject\":{\"$ref\":33},\"fLabel\":\"Layer2, Run 411\",\"fOption\":\"lep\"}],\"opt\":[\"lep\",\"lep\",\"lep\",\"lep\",\"lep\",\"lep\",\"lep\"]},\"fEntrySeparation\":0.1,\"fMargin\":0.25,\"fNColumns\":1,\"fColumnSeparation\":0}],\"opt\":[\"\",\"L \",\"L same\",\"L same\",\"L same\",\"L same\",\"L same\",\"L same\",\"blNDC\",\"\"]},\"fExecs\":null,\"fName\":\"c1\",\"fTitle\":\"c1\",\"fNumPaletteColor\":0,\"fNextPaletteColor\":0,\"fDISPLAY\":\"$DISPLAY\",\"fDoubleBuffer\":0,\"fRetained\":true,\"fXsizeUser\":0,\"fYsizeUser\":0,\"fXsizeReal\":20,\"fYsizeReal\":14.28571,\"fWindowTopX\":0,\"fWindowTopY\":0,\"fWindowWidth\":0,\"fWindowHeight\":0,\"fCw\":696,\"fCh\":472,\"fCatt\":{\"_typename\":\"TAttCanvas\",\"fXBetween\":2,\"fYBetween\":2,\"fTitleFromTop\":1.2,\"fXdate\":0.2,\"fYdate\":0.3,\"fAdate\":1},\"kMoveOpaque\":true,\"kResizeOpaque\":true,\"fHighLightColor\":2,\"fBatch\":true,\"kShowEventStatus\":false,\"kAutoExec\":true,\"kMenuBar\":true});\n",
       "       Core.draw(\"root_plot_12\", obj, \"\");\n",
       "     }\n",
       " );\n",
       "</script>\n"
      ],
      "text/plain": [
       "<IPython.core.display.HTML object>"
      ]
     },
     "metadata": {},
     "output_type": "display_data"
    }
   ],
   "source": [
    "\n",
    "h351_2=load_histo_l2_FEB_sel(351)\n",
    "h394_2=load_histo_l2_FEB_sel(394)\n",
    "h395_2=load_histo_l2_FEB_sel(395)\n",
    "h396_2=load_histo_l2_FEB_sel(396)\n",
    "# h398_2=load_histo_l2_FEB_sel(398)\n",
    "h405_2=load_histo_l2_FEB_sel(405)\n",
    "h406_2=load_histo_l2_FEB_sel(406)\n",
    "h408_2=load_histo_l2_FEB_sel(408)\n",
    "h409_2=load_histo_l2_FEB_sel(409)\n",
    "h410_2=load_histo_l2_FEB_sel(410)\n",
    "h411_2=load_histo_l2_FEB_sel(411)\n",
    "\n",
    "h351_2.Scale(1/h351_2.GetEntries())\n",
    "h394_2.Scale(1/h394_2.GetEntries())\n",
    "h395_2.Scale(1/h395_2.GetEntries())\n",
    "h396_2.Scale(1/h396_2.GetEntries())\n",
    "# h398_1.Scale(1/trig_398)\n",
    "h405_2.Scale(1/h405_2.GetEntries())\n",
    "h406_2.Scale(1/h406_2.GetEntries())\n",
    "h408_2.Scale(1/h408_2.GetEntries())\n",
    "h409_2.Scale(1/h409_2.GetEntries())\n",
    "h410_2.Scale(1/h410_2.GetEntries())\n",
    "h411_2.Scale(1/h411_2.GetEntries())\n",
    "\n",
    "h351_2.SetName(\"h351_2\")\n",
    "h394_2.SetName(\"h394_2\")\n",
    "h395_2.SetName(\"h395_2\")\n",
    "h396_2.SetName(\"h396_2\")\n",
    "# h398_2.SetName(\"h398_2\")\n",
    "h405_2.SetName(\"h405_2\")\n",
    "h406_2.SetName(\"h406_2\")\n",
    "h408_2.SetName(\"h408_2\")\n",
    "h409_2.SetName(\"h409_2\")\n",
    "h410_2.SetName(\"h410_2\")\n",
    "h411_2.SetName(\"h411_2\")\n",
    "\n",
    "h351_2.SetLineColor(8)\n",
    "# h394_2.SetLineColor(1)\n",
    "# h395_2.SetLineColor(2)\n",
    "# h396_2.SetLineColor(3)\n",
    "# h398_2.SetLineColor(4)\n",
    "h405_2.SetLineColor(1)\n",
    "h406_2.SetLineColor(2)\n",
    "h408_2.SetLineColor(3)\n",
    "h409_2.SetLineColor(4)\n",
    "h410_2.SetLineColor(6)\n",
    "h411_2.SetLineColor(7)\n",
    "\n",
    "h408_2.Draw(\"L \")\n",
    "\n",
    "h351_2.Draw(\"L same\")\n",
    "# h394_2.Draw(\"L same\")\n",
    "# h395_2.Draw(\"L same\")\n",
    "# h396_2.Draw(\"L same\")\n",
    "# h398_2.Draw(\"same\")\n",
    "h405_2.Draw(\"L same\")\n",
    "h406_2.Draw(\"L same\")\n",
    "h409_2.Draw(\"L same\")\n",
    "h410_2.Draw(\"L same\")\n",
    "h411_2.Draw(\"L same\")\n",
    "\n",
    "leg=R.TLegend(0.58,0.7,0.9,0.9);\n",
    "leg.AddEntry(\"h351_2\",\"Layer2, Run 351\",\"lep\")\n",
    "# leg.AddEntry(\"h394_2\",\"Layer2, Run 394\",\"lep\")\n",
    "# leg.AddEntry(\"h395_2\",\"Layer2, Run 395\",\"lep\")\n",
    "# leg.AddEntry(\"h396_2\",\"Layer2, Run 396\",\"lep\")\n",
    "# # leg.AddEntry(\"h398_2\",\"Layer2, Run 398\",\"lep\")\n",
    "leg.AddEntry(\"h405_2\",\"Layer2, Run 405\",\"lep\")\n",
    "leg.AddEntry(\"h406_2\",\"Layer2, Run 406\",\"lep\")\n",
    "leg.AddEntry(\"h408_2\",\"Layer2, Run 408\",\"lep\")\n",
    "leg.AddEntry(\"h409_2\",\"Layer2, Run 409\",\"lep\")\n",
    "leg.AddEntry(\"h410_2\",\"Layer2, Run 410\",\"lep\")\n",
    "leg.AddEntry(\"h411_2\",\"Layer2, Run 411\",\"lep\")\n",
    "\n",
    "c.Draw()\n",
    "leg.Draw()\n",
    "c.Print(\"L2_FEB_cut.png\")\n"
   ]
  },
  {
   "cell_type": "code",
   "execution_count": 20,
   "metadata": {},
   "outputs": [],
   "source": [
    "h351_1.SetLineColor(1)"
   ]
  },
  {
   "cell_type": "code",
   "execution_count": 21,
   "metadata": {},
   "outputs": [
    {
     "data": {
      "text/html": [
       "\n",
       "<div id=\"root_plot_9\"\n",
       "     style=\"width: 696px; height: 472px\">\n",
       "</div>\n",
       "\n",
       "<script>\n",
       " requirejs.config({\n",
       "     paths: {\n",
       "       'JSRootCore' : 'https://root.cern.ch/js/notebook//scripts/JSRootCore',\n",
       "     }\n",
       "   });\n",
       " require(['JSRootCore'],\n",
       "     function(Core) {\n",
       "       var obj = Core.JSONR_unref({\"_typename\":\"TCanvas\",\"fUniqueID\":0,\"fBits\":53673992,\"fLineColor\":1,\"fLineStyle\":1,\"fLineWidth\":1,\"fFillColor\":0,\"fFillStyle\":1001,\"fLeftMargin\":0.1,\"fRightMargin\":0.1,\"fBottomMargin\":0.1,\"fTopMargin\":0.1,\"fXfile\":2,\"fYfile\":2,\"fAfile\":1,\"fXstat\":0.99,\"fYstat\":0.99,\"fAstat\":2,\"fFrameFillColor\":0,\"fFrameLineColor\":1,\"fFrameFillStyle\":1001,\"fFrameLineStyle\":1,\"fFrameLineWidth\":1,\"fFrameBorderSize\":1,\"fFrameBorderMode\":0,\"fX1\":15.6249998230487,\"fY1\":-0.00713042076477692,\"fX2\":39.3750001769513,\"fY2\":0.0641737826329304,\"fXtoAbsPixelk\":-457.894674833337,\"fXtoPixelk\":-457.894674833337,\"fXtoPixel\":29.3052627212123,\"fYtoAbsPixelk\":424.800047186661,\"fYtoPixelk\":424.800047186661,\"fYtoPixel\":-6619.52560310317,\"fUtoAbsPixelk\":5e-5,\"fUtoPixelk\":5e-5,\"fUtoPixel\":696,\"fVtoAbsPixelk\":472.00005,\"fVtoPixelk\":472,\"fVtoPixel\":-472,\"fAbsPixeltoXk\":15.6249998230487,\"fPixeltoXk\":15.6249998230487,\"fPixeltoX\":0.0341235637268716,\"fAbsPixeltoYk\":0.0641737826329304,\"fPixeltoYk\":-0.00713042076477692,\"fPixeltoY\":-1.51068227537516e-4,\"fXlowNDC\":0,\"fYlowNDC\":0,\"fXUpNDC\":0,\"fYUpNDC\":0,\"fWNDC\":1,\"fHNDC\":1,\"fAbsXlowNDC\":0,\"fAbsYlowNDC\":0,\"fAbsWNDC\":1,\"fAbsHNDC\":1,\"fUxmin\":18,\"fUymin\":0,\"fUxmax\":37,\"fUymax\":0.0570433618681535,\"fTheta\":30,\"fPhi\":30,\"fAspectRatio\":0,\"fNumber\":0,\"fTickx\":0,\"fTicky\":0,\"fLogx\":0,\"fLogy\":0,\"fLogz\":0,\"fPadPaint\":0,\"fCrosshair\":0,\"fCrosshairPos\":0,\"fBorderSize\":2,\"fBorderMode\":0,\"fModified\":false,\"fGridx\":false,\"fGridy\":false,\"fAbsCoord\":false,\"fEditable\":true,\"fFixedAspectRatio\":false,\"fPrimitives\":{\"_typename\":\"TList\",\"name\":\"TList\",\"arr\":[{\"_typename\":\"TFrame\",\"fUniqueID\":0,\"fBits\":50331656,\"fLineColor\":1,\"fLineStyle\":1,\"fLineWidth\":1,\"fFillColor\":0,\"fFillStyle\":1001,\"fX1\":18,\"fY1\":0,\"fX2\":37,\"fY2\":0.0570433618681535,\"fBorderSize\":1,\"fBorderMode\":0},{\"_typename\":\"TH1F\",\"fUniqueID\":0,\"fBits\":50332168,\"fName\":\"h351_1\",\"fTitle\":\"charge\",\"fLineColor\":1,\"fLineStyle\":1,\"fLineWidth\":1,\"fFillColor\":0,\"fFillStyle\":1001,\"fMarkerColor\":1,\"fMarkerStyle\":1,\"fMarkerSize\":1,\"fNcells\":40,\"fXaxis\":{\"_typename\":\"TAxis\",\"fUniqueID\":0,\"fBits\":50331648,\"fName\":\"xaxis\",\"fTitle\":\"\",\"fNdivisions\":510,\"fAxisColor\":1,\"fLabelColor\":1,\"fLabelFont\":42,\"fLabelOffset\":0.005,\"fLabelSize\":0.035,\"fTickLength\":0.03,\"fTitleOffset\":1,\"fTitleSize\":0.035,\"fTitleColor\":1,\"fTitleFont\":42,\"fNbins\":38,\"fXmin\":18,\"fXmax\":37,\"fXbins\":[],\"fFirst\":0,\"fLast\":0,\"fBits2\":0,\"fTimeDisplay\":false,\"fTimeFormat\":\"\",\"fLabels\":null,\"fModLabs\":null},\"fYaxis\":{\"_typename\":\"TAxis\",\"fUniqueID\":0,\"fBits\":50331648,\"fName\":\"yaxis\",\"fTitle\":\"\",\"fNdivisions\":510,\"fAxisColor\":1,\"fLabelColor\":1,\"fLabelFont\":42,\"fLabelOffset\":0.005,\"fLabelSize\":0.035,\"fTickLength\":0.03,\"fTitleOffset\":0,\"fTitleSize\":0.035,\"fTitleColor\":1,\"fTitleFont\":42,\"fNbins\":1,\"fXmin\":0,\"fXmax\":1,\"fXbins\":[],\"fFirst\":0,\"fLast\":0,\"fBits2\":0,\"fTimeDisplay\":false,\"fTimeFormat\":\"\",\"fLabels\":null,\"fModLabs\":null},\"fZaxis\":{\"_typename\":\"TAxis\",\"fUniqueID\":0,\"fBits\":50331648,\"fName\":\"zaxis\",\"fTitle\":\"\",\"fNdivisions\":510,\"fAxisColor\":1,\"fLabelColor\":1,\"fLabelFont\":42,\"fLabelOffset\":0.005,\"fLabelSize\":0.035,\"fTickLength\":0.03,\"fTitleOffset\":1,\"fTitleSize\":0.035,\"fTitleColor\":1,\"fTitleFont\":42,\"fNbins\":1,\"fXmin\":0,\"fXmax\":1,\"fXbins\":[],\"fFirst\":0,\"fLast\":0,\"fBits2\":0,\"fTimeDisplay\":false,\"fTimeFormat\":\"\",\"fLabels\":null,\"fModLabs\":null},\"fBarOffset\":0,\"fBarWidth\":1000,\"fEntries\":763915,\"fTsumw\":763915,\"fTsumw2\":763915,\"fTsumwx\":20007714.1044769,\"fTsumwx2\":537645759.120743,\"fMaximum\":-1111,\"fMinimum\":-1111,\"fNormFactor\":0,\"fContour\":[],\"fSumw2\":[0,0,0,0,0,7.07683295402736e-8,6.74302331204844e-8,6.57474760957241e-8,6.24882053614125e-8,6.02982221866227e-8,5.8372133697997e-8,5.63552243108862e-8,5.45302383318946e-8,5.23539639719705e-8,5.0306209751412e-8,4.83646988460623e-8,4.69321276926004e-8,4.49083638980568e-8,4.35649000412217e-8,4.19969543409614e-8,4.06774809101413e-8,3.93648618867539e-8,3.79494267518741e-8,3.62289704862333e-8,3.55606657615322e-8,3.39858656538391e-8,3.29782677612128e-8,3.22037197213027e-8,3.09973440131243e-8,3.012169346358e-8,2.89941434408792e-8,2.75221594446785e-8,2.66979169508805e-8,2.59302233184033e-8,2.54161427609409e-8,0,0,0,0,0],\"fOption\":\"\",\"fFunctions\":{\"_typename\":\"TList\",\"name\":\"TList\",\"arr\":[{\"_typename\":\"TF1\",\"fUniqueID\":0,\"fBits\":50332680,\"fName\":\"f1\",\"fTitle\":\"x*[0]+[1]\",\"fLineColor\":2,\"fLineStyle\":1,\"fLineWidth\":2,\"fFillColor\":19,\"fFillStyle\":0,\"fMarkerColor\":1,\"fMarkerStyle\":1,\"fMarkerSize\":1,\"fXmin\":18,\"fXmax\":37,\"fNpar\":2,\"fNdim\":1,\"fNpx\":100,\"fType\":0,\"fNpfits\":30,\"fNDF\":28,\"fChisquare\":1706.4227650078,\"fMinimum\":-1111,\"fMaximum\":-1111,\"fParErrors\":[8.66882084273417e-6,2.52250851496959e-4],\"fParMin\":[0,0],\"fParMax\":[0,0],\"fSave\":[0.0544296597878755,0.054006244070437,0.0535828283529984,0.0531594126355599,0.0527359969181214,0.0523125812006828,0.0518891654832443,0.0514657497658058,0.0510423340483672,0.0506189183309287,0.0501955026134901,0.0497720868960516,0.049348671178613,0.0489252554611745,0.048501839743736,0.0480784240262974,0.0476550083088589,0.0472315925914203,0.0468081768739818,0.0463847611565433,0.0459613454391047,0.0455379297216662,0.0451145140042276,0.0446910982867891,0.0442676825693505,0.043844266851912,0.0434208511344735,0.0429974354170349,0.0425740196995964,0.0421506039821578,0.0417271882647193,0.0413037725472808,0.0408803568298422,0.0404569411124037,0.0400335253949651,0.0396101096775266,0.0391866939600881,0.0387632782426495,0.038339862525211,0.0379164468077724,0.0374930310903339,0.0370696153728954,0.0366461996554568,0.0362227839380183,0.0357993682205797,0.0353759525031412,0.0349525367857026,0.0345291210682641,0.0341057053508256,0.033682289633387,0.0332588739159485,0.0328354581985099,0.0324120424810714,0.0319886267636329,0.0315652110461943,0.0311417953287558,0.0307183796113172,0.0302949638938787,0.0298715481764402,0.0294481324590016,0.0290247167415631,0.0286013010241245,0.028177885306686,0.0277544695892475,0.0273310538718089,0.0269076381543704,0.0264842224369318,0.0260608067194933,0.0256373910020547,0.0252139752846162,0.0247905595671777,0.0243671438497391,0.0239437281323006,0.023520312414862,0.0230968966974235,0.022673480979985,0.0222500652625464,0.0218266495451079,0.0214032338276693,0.0209798181102308,0.0205564023927923,0.0201329866753537,0.0197095709579152,0.0192861552404767,0.0188627395230381,0.0184393238055996,0.018015908088161,0.0175924923707225,0.0171690766532839,0.0167456609358454,0.0163222452184068,0.0158988295009683,0.0154754137835298,0.0150519980660912,0.0146285823486527,0.0142051666312142,0.0137817509137756,0.0133583351963371,0.0129349194788985,0.01251150376146,0.0120880880440214,18,37],\"fNormalized\":false,\"fNormIntegral\":0,\"fFormula\":{\"_typename\":\"TFormula\",\"fUniqueID\":0,\"fBits\":50332672,\"fName\":\"f1\",\"fTitle\":\"x*[0]+[1]\",\"fClingParameters\":[-0.00222850377599232,0.0945427277557373],\"fAllParametersSetted\":true,\"fParams\":[{\"$pair\":\"pair<TString,int,TFormulaParamOrder>\",\"first\":\"p0\",\"second\":0},{\"$pair\":\"pair<TString,int,TFormulaParamOrder>\",\"first\":\"p1\",\"second\":1}],\"fFormula\":\"x*[p0]+[p1]\",\"fNdim\":1,\"fLinearParts\":[],\"fVectorized\":false},\"fParams\":null,\"fComposition_ptr\":null}],\"opt\":[\"\"]},\"fBufferSize\":0,\"fBuffer\":[],\"fBinStatErrOpt\":0,\"fStatOverflows\":2,\"fArray\":[0,0,0,0,0,0.05406099,0.05151097,0.05022548,0.04773568,0.04606272,0.04459135,0.0430506,0.04165647,0.03999398,0.03842967,0.03694652,0.03585216,0.03430617,0.03327988,0.0320821,0.03107414,0.03007141,0.02899014,0.02767585,0.02716533,0.02596231,0.02519259,0.0246009,0.02367934,0.02301041,0.02214906,0.02102459,0.02039494,0.01980849,0.01941577,0,0,0,0,0]},{\"_typename\":\"TPaveText\",\"fUniqueID\":0,\"fBits\":50331657,\"fLineColor\":1,\"fLineStyle\":1,\"fLineWidth\":1,\"fFillColor\":0,\"fFillStyle\":0,\"fX1\":25.9146192292495,\"fY1\":0.0594664970028664,\"fX2\":29.0853807707505,\"fY2\":0.0638172619559468,\"fX1NDC\":0.433247126436782,\"fY1NDC\":0.933983055615829,\"fX2NDC\":0.566752873563218,\"fY2NDC\":0.995000004768372,\"fBorderSize\":0,\"fInit\":1,\"fShadowColor\":1,\"fCornerRadius\":0,\"fOption\":\"blNDC\",\"fName\":\"title\",\"fTextAngle\":0,\"fTextSize\":0,\"fTextAlign\":22,\"fTextColor\":1,\"fTextFont\":42,\"fLabel\":\"\",\"fLongest\":6,\"fMargin\":0.05,\"fLines\":{\"_typename\":\"TList\",\"name\":\"TList\",\"arr\":[{\"_typename\":\"TLatex\",\"fUniqueID\":0,\"fBits\":50331648,\"fName\":\"\",\"fTitle\":\"charge\",\"fTextAngle\":0,\"fTextSize\":0,\"fTextAlign\":0,\"fTextColor\":0,\"fTextFont\":0,\"fX\":0,\"fY\":0,\"fLineColor\":1,\"fLineStyle\":1,\"fLineWidth\":2,\"fLimitFactorSize\":3,\"fOriginSize\":0.0518644079566002}],\"opt\":[\"\"]}}],\"opt\":[\"\",\"\",\"blNDC\"]},\"fExecs\":null,\"fName\":\"c1\",\"fTitle\":\"c1\",\"fNumPaletteColor\":0,\"fNextPaletteColor\":0,\"fDISPLAY\":\"$DISPLAY\",\"fDoubleBuffer\":0,\"fRetained\":true,\"fXsizeUser\":0,\"fYsizeUser\":0,\"fXsizeReal\":20,\"fYsizeReal\":14.28571,\"fWindowTopX\":0,\"fWindowTopY\":0,\"fWindowWidth\":0,\"fWindowHeight\":0,\"fCw\":696,\"fCh\":472,\"fCatt\":{\"_typename\":\"TAttCanvas\",\"fXBetween\":2,\"fYBetween\":2,\"fTitleFromTop\":1.2,\"fXdate\":0.2,\"fYdate\":0.3,\"fAdate\":1},\"kMoveOpaque\":true,\"kResizeOpaque\":true,\"fHighLightColor\":2,\"fBatch\":true,\"kShowEventStatus\":false,\"kAutoExec\":true,\"kMenuBar\":true});\n",
       "       Core.draw(\"root_plot_9\", obj, \"\");\n",
       "     }\n",
       " );\n",
       "</script>\n"
      ],
      "text/plain": [
       "<IPython.core.display.HTML object>"
      ]
     },
     "metadata": {},
     "output_type": "display_data"
    }
   ],
   "source": [
    "h351_1.Draw()\n",
    "\n",
    "c.Draw()"
   ]
  },
  {
   "cell_type": "code",
   "execution_count": 22,
   "metadata": {},
   "outputs": [
    {
     "data": {
      "text/html": [
       "\n",
       "<div id=\"root_plot_10\"\n",
       "     style=\"width: 696px; height: 472px\">\n",
       "</div>\n",
       "\n",
       "<script>\n",
       " requirejs.config({\n",
       "     paths: {\n",
       "       'JSRootCore' : 'https://root.cern.ch/js/notebook//scripts/JSRootCore',\n",
       "     }\n",
       "   });\n",
       " require(['JSRootCore'],\n",
       "     function(Core) {\n",
       "       var obj = Core.JSONR_unref({\"_typename\":\"TCanvas\",\"fUniqueID\":0,\"fBits\":53673992,\"fLineColor\":1,\"fLineStyle\":1,\"fLineWidth\":1,\"fFillColor\":0,\"fFillStyle\":1001,\"fLeftMargin\":0.1,\"fRightMargin\":0.1,\"fBottomMargin\":0.1,\"fTopMargin\":0.1,\"fXfile\":2,\"fYfile\":2,\"fAfile\":1,\"fXstat\":0.99,\"fYstat\":0.99,\"fAstat\":2,\"fFrameFillColor\":0,\"fFrameLineColor\":1,\"fFrameFillStyle\":1001,\"fFrameLineStyle\":1,\"fFrameLineWidth\":1,\"fFrameBorderSize\":1,\"fFrameBorderMode\":0,\"fX1\":15.6249998230487,\"fY1\":-0.00857125234819172,\"fX2\":39.3750001769513,\"fY2\":0.0771412660248611,\"fXtoAbsPixelk\":-457.894674833337,\"fXtoPixelk\":-457.894674833337,\"fXtoPixel\":29.3052627212123,\"fYtoAbsPixelk\":424.800047186661,\"fYtoPixelk\":424.800047186661,\"fYtoPixel\":-5506.78021086349,\"fUtoAbsPixelk\":5e-5,\"fUtoPixelk\":5e-5,\"fUtoPixel\":696,\"fVtoAbsPixelk\":472.00005,\"fVtoPixelk\":472,\"fVtoPixel\":-472,\"fAbsPixeltoXk\":15.6249998230487,\"fPixeltoXk\":15.6249998230487,\"fPixeltoX\":0.0341235637268716,\"fAbsPixeltoYk\":0.0771412660248611,\"fPixeltoYk\":-0.00857125234819172,\"fPixeltoY\":-1.81594318586976e-4,\"fXlowNDC\":0,\"fYlowNDC\":0,\"fXUpNDC\":0,\"fYUpNDC\":0,\"fWNDC\":1,\"fHNDC\":1,\"fAbsXlowNDC\":0,\"fAbsYlowNDC\":0,\"fAbsWNDC\":1,\"fAbsHNDC\":1,\"fUxmin\":18,\"fUymin\":0,\"fUxmax\":37,\"fUymax\":0.0685700136766693,\"fTheta\":30,\"fPhi\":30,\"fAspectRatio\":0,\"fNumber\":0,\"fTickx\":0,\"fTicky\":0,\"fLogx\":0,\"fLogy\":0,\"fLogz\":0,\"fPadPaint\":0,\"fCrosshair\":0,\"fCrosshairPos\":0,\"fBorderSize\":2,\"fBorderMode\":0,\"fModified\":false,\"fGridx\":false,\"fGridy\":false,\"fAbsCoord\":false,\"fEditable\":true,\"fFixedAspectRatio\":false,\"fPrimitives\":{\"_typename\":\"TList\",\"name\":\"TList\",\"arr\":[{\"_typename\":\"TFrame\",\"fUniqueID\":0,\"fBits\":50331656,\"fLineColor\":1,\"fLineStyle\":1,\"fLineWidth\":1,\"fFillColor\":0,\"fFillStyle\":1001,\"fX1\":18,\"fY1\":0,\"fX2\":37,\"fY2\":0.0685700136766693,\"fBorderSize\":1,\"fBorderMode\":0},{\"_typename\":\"TH1F\",\"fUniqueID\":0,\"fBits\":50332168,\"fName\":\"h394_1\",\"fTitle\":\"charge\",\"fLineColor\":602,\"fLineStyle\":1,\"fLineWidth\":1,\"fFillColor\":0,\"fFillStyle\":1001,\"fMarkerColor\":1,\"fMarkerStyle\":1,\"fMarkerSize\":1,\"fNcells\":40,\"fXaxis\":{\"_typename\":\"TAxis\",\"fUniqueID\":0,\"fBits\":50331648,\"fName\":\"xaxis\",\"fTitle\":\"\",\"fNdivisions\":510,\"fAxisColor\":1,\"fLabelColor\":1,\"fLabelFont\":42,\"fLabelOffset\":0.005,\"fLabelSize\":0.035,\"fTickLength\":0.03,\"fTitleOffset\":1,\"fTitleSize\":0.035,\"fTitleColor\":1,\"fTitleFont\":42,\"fNbins\":38,\"fXmin\":18,\"fXmax\":37,\"fXbins\":[],\"fFirst\":0,\"fLast\":0,\"fBits2\":0,\"fTimeDisplay\":false,\"fTimeFormat\":\"\",\"fLabels\":null,\"fModLabs\":null},\"fYaxis\":{\"_typename\":\"TAxis\",\"fUniqueID\":0,\"fBits\":50331648,\"fName\":\"yaxis\",\"fTitle\":\"\",\"fNdivisions\":510,\"fAxisColor\":1,\"fLabelColor\":1,\"fLabelFont\":42,\"fLabelOffset\":0.005,\"fLabelSize\":0.035,\"fTickLength\":0.03,\"fTitleOffset\":0,\"fTitleSize\":0.035,\"fTitleColor\":1,\"fTitleFont\":42,\"fNbins\":1,\"fXmin\":0,\"fXmax\":1,\"fXbins\":[],\"fFirst\":0,\"fLast\":0,\"fBits2\":0,\"fTimeDisplay\":false,\"fTimeFormat\":\"\",\"fLabels\":null,\"fModLabs\":null},\"fZaxis\":{\"_typename\":\"TAxis\",\"fUniqueID\":0,\"fBits\":50331648,\"fName\":\"zaxis\",\"fTitle\":\"\",\"fNdivisions\":510,\"fAxisColor\":1,\"fLabelColor\":1,\"fLabelFont\":42,\"fLabelOffset\":0.005,\"fLabelSize\":0.035,\"fTickLength\":0.03,\"fTitleOffset\":1,\"fTitleSize\":0.035,\"fTitleColor\":1,\"fTitleFont\":42,\"fNbins\":1,\"fXmin\":0,\"fXmax\":1,\"fXbins\":[],\"fFirst\":0,\"fLast\":0,\"fBits2\":0,\"fTimeDisplay\":false,\"fTimeFormat\":\"\",\"fLabels\":null,\"fModLabs\":null},\"fBarOffset\":0,\"fBarWidth\":1000,\"fEntries\":6243,\"fTsumw\":6243,\"fTsumw2\":6243,\"fTsumwx\":161362.767379761,\"fTsumwx2\":4278655.22320733,\"fMaximum\":-1111,\"fMinimum\":-1111,\"fNormFactor\":0,\"fContour\":[],\"fSumw2\":[0,0,0,0,0,9.95508690701069e-6,9.13404881158713e-6,8.4412979185735e-6,8.90313184724925e-6,8.08209375182569e-6,7.49197262074e-6,6.95316637061829e-6,6.85053660869034e-6,6.72224940628041e-6,5.95252619182082e-6,5.95252619182082e-6,5.15714553687925e-6,6.1834431561587e-6,5.38806250121712e-6,4.84925625109541e-6,5.02885833446932e-6,4.38742232241966e-6,4.18216279856377e-6,4.10519047711781e-6,4.92622857254137e-6,3.84861607229795e-6,3.61769910796007e-6,3.23283750073027e-6,3.36112470314021e-6,3.54072678651411e-6,2.77100357205452e-6,3.15586517928432e-6,2.79666101253651e-6,2.28351220289678e-6,2.92494821494644e-6,0,0,0,0,0],\"fOption\":\"\",\"fFunctions\":{\"_typename\":\"TList\",\"name\":\"TList\",\"arr\":[{\"_typename\":\"TF1\",\"fUniqueID\":0,\"fBits\":50332680,\"fName\":\"f1\",\"fTitle\":\"x*[0]+[1]\",\"fLineColor\":3,\"fLineStyle\":1,\"fLineWidth\":2,\"fFillColor\":19,\"fFillStyle\":0,\"fMarkerColor\":1,\"fMarkerStyle\":1,\"fMarkerSize\":1,\"fXmin\":18,\"fXmax\":37,\"fNpar\":2,\"fNdim\":1,\"fNpx\":100,\"fType\":0,\"fNpfits\":30,\"fNDF\":28,\"fChisquare\":59.2995925690568,\"fMinimum\":-1111,\"fMaximum\":-1111,\"fParErrors\":[9.44395615792417e-5,0.00277998929024331],\"fParMin\":[0,0],\"fParMax\":[0,0],\"fSave\":[0.0591293231301344,0.0586070709542096,0.0580848187782847,0.0575625666023599,0.057040314426435,0.0565180622505102,0.0559958100745853,0.0554735578986605,0.0549513057227356,0.0544290535468107,0.0539068013708859,0.053384549194961,0.0528622970190362,0.0523400448431113,0.0518177926671865,0.0512955404912616,0.0507732883153368,0.0502510361394119,0.049728783963487,0.0492065317875622,0.0486842796116373,0.0481620274357125,0.0476397752597876,0.0471175230838628,0.0465952709079379,0.046073018732013,0.0455507665560882,0.0450285143801633,0.0445062622042385,0.0439840100283136,0.0434617578523888,0.0429395056764639,0.0424172535005391,0.0418950013246142,0.0413727491486893,0.0408504969727645,0.0403282447968396,0.0398059926209148,0.0392837404449899,0.0387614882690651,0.0382392360931402,0.0377169839172154,0.0371947317412905,0.0366724795653656,0.0361502273894408,0.0356279752135159,0.0351057230375911,0.0345834708616662,0.0340612186857414,0.0335389665098165,0.0330167143338916,0.0324944621579668,0.0319722099820419,0.0314499578061171,0.0309277056301922,0.0304054534542674,0.0298832012783425,0.0293609491024177,0.0288386969264928,0.0283164447505679,0.0277941925746431,0.0272719403987182,0.0267496882227934,0.0262274360468685,0.0257051838709437,0.0251829316950188,0.024660679519094,0.0241384273431691,0.0236161751672442,0.0230939229913194,0.0225716708153945,0.0220494186394697,0.0215271664635448,0.02100491428762,0.0204826621116951,0.0199604099357702,0.0194381577598454,0.0189159055839205,0.0183936534079957,0.0178714012320708,0.017349149056146,0.0168268968802211,0.0163046447042963,0.0157823925283714,0.0152601403524465,0.0147378881765217,0.0142156360005968,0.013693383824672,0.0131711316487471,0.0126488794728223,0.0121266272968974,0.0116043751209726,0.0110821229450477,0.0105598707691228,0.010037618593198,0.00951536641727313,0.00899311424134826,0.00847086206542341,0.00794860988949854,0.00742635771357369,0.00690410553764884,18,37],\"fNormalized\":false,\"fNormIntegral\":0,\"fFormula\":{\"_typename\":\"TFormula\",\"fUniqueID\":0,\"fBits\":50332672,\"fName\":\"f1\",\"fTitle\":\"x*[0]+[1]\",\"fClingParameters\":[-0.0027486956627624,0.108605845059858],\"fAllParametersSetted\":true,\"fParams\":[{\"$pair\":\"pair<TString,int,TFormulaParamOrder>\",\"first\":\"p0\",\"second\":0},{\"$pair\":\"pair<TString,int,TFormulaParamOrder>\",\"first\":\"p1\",\"second\":1}],\"fFormula\":\"x*[p0]+[p1]\",\"fNdim\":1,\"fLinearParts\":[],\"fVectorized\":false},\"fParams\":null,\"fComposition_ptr\":null}],\"opt\":[\"\"]},\"fBufferSize\":0,\"fBuffer\":[],\"fBinStatErrOpt\":0,\"fStatOverflows\":2,\"fArray\":[0,0,0,0,0,0.06214961,0.05702387,0.05269902,0.05558225,0.05045651,0.04677239,0.04340862,0.0427679,0.041967,0.03716162,0.03716162,0.03219606,0.03860324,0.03363767,0.03027391,0.03139516,0.02739068,0.02610924,0.0256287,0.03075445,0.02402691,0.0225853,0.0201826,0.0209835,0.02210476,0.01729937,0.01970207,0.01745955,0.01425597,0.01826045,0,0,0,0,0]},{\"_typename\":\"TH1F\",\"fUniqueID\":0,\"fBits\":50332168,\"fName\":\"h351_1\",\"fTitle\":\"charge\",\"fLineColor\":1,\"fLineStyle\":1,\"fLineWidth\":1,\"fFillColor\":0,\"fFillStyle\":1001,\"fMarkerColor\":1,\"fMarkerStyle\":1,\"fMarkerSize\":1,\"fNcells\":40,\"fXaxis\":{\"_typename\":\"TAxis\",\"fUniqueID\":0,\"fBits\":50331648,\"fName\":\"xaxis\",\"fTitle\":\"\",\"fNdivisions\":510,\"fAxisColor\":1,\"fLabelColor\":1,\"fLabelFont\":42,\"fLabelOffset\":0.005,\"fLabelSize\":0.035,\"fTickLength\":0.03,\"fTitleOffset\":1,\"fTitleSize\":0.035,\"fTitleColor\":1,\"fTitleFont\":42,\"fNbins\":38,\"fXmin\":18,\"fXmax\":37,\"fXbins\":[],\"fFirst\":0,\"fLast\":0,\"fBits2\":0,\"fTimeDisplay\":false,\"fTimeFormat\":\"\",\"fLabels\":null,\"fModLabs\":null},\"fYaxis\":{\"_typename\":\"TAxis\",\"fUniqueID\":0,\"fBits\":50331648,\"fName\":\"yaxis\",\"fTitle\":\"\",\"fNdivisions\":510,\"fAxisColor\":1,\"fLabelColor\":1,\"fLabelFont\":42,\"fLabelOffset\":0.005,\"fLabelSize\":0.035,\"fTickLength\":0.03,\"fTitleOffset\":0,\"fTitleSize\":0.035,\"fTitleColor\":1,\"fTitleFont\":42,\"fNbins\":1,\"fXmin\":0,\"fXmax\":1,\"fXbins\":[],\"fFirst\":0,\"fLast\":0,\"fBits2\":0,\"fTimeDisplay\":false,\"fTimeFormat\":\"\",\"fLabels\":null,\"fModLabs\":null},\"fZaxis\":{\"_typename\":\"TAxis\",\"fUniqueID\":0,\"fBits\":50331648,\"fName\":\"zaxis\",\"fTitle\":\"\",\"fNdivisions\":510,\"fAxisColor\":1,\"fLabelColor\":1,\"fLabelFont\":42,\"fLabelOffset\":0.005,\"fLabelSize\":0.035,\"fTickLength\":0.03,\"fTitleOffset\":1,\"fTitleSize\":0.035,\"fTitleColor\":1,\"fTitleFont\":42,\"fNbins\":1,\"fXmin\":0,\"fXmax\":1,\"fXbins\":[],\"fFirst\":0,\"fLast\":0,\"fBits2\":0,\"fTimeDisplay\":false,\"fTimeFormat\":\"\",\"fLabels\":null,\"fModLabs\":null},\"fBarOffset\":0,\"fBarWidth\":1000,\"fEntries\":763915,\"fTsumw\":763915,\"fTsumw2\":763915,\"fTsumwx\":20007714.1044769,\"fTsumwx2\":537645759.120743,\"fMaximum\":-1111,\"fMinimum\":-1111,\"fNormFactor\":0,\"fContour\":[],\"fSumw2\":[0,0,0,0,0,7.07683295402736e-8,6.74302331204844e-8,6.57474760957241e-8,6.24882053614125e-8,6.02982221866227e-8,5.8372133697997e-8,5.63552243108862e-8,5.45302383318946e-8,5.23539639719705e-8,5.0306209751412e-8,4.83646988460623e-8,4.69321276926004e-8,4.49083638980568e-8,4.35649000412217e-8,4.19969543409614e-8,4.06774809101413e-8,3.93648618867539e-8,3.79494267518741e-8,3.62289704862333e-8,3.55606657615322e-8,3.39858656538391e-8,3.29782677612128e-8,3.22037197213027e-8,3.09973440131243e-8,3.012169346358e-8,2.89941434408792e-8,2.75221594446785e-8,2.66979169508805e-8,2.59302233184033e-8,2.54161427609409e-8,0,0,0,0,0],\"fOption\":\"\",\"fFunctions\":{\"_typename\":\"TList\",\"name\":\"TList\",\"arr\":[{\"_typename\":\"TF1\",\"fUniqueID\":0,\"fBits\":50332680,\"fName\":\"f1\",\"fTitle\":\"x*[0]+[1]\",\"fLineColor\":2,\"fLineStyle\":1,\"fLineWidth\":2,\"fFillColor\":19,\"fFillStyle\":0,\"fMarkerColor\":1,\"fMarkerStyle\":1,\"fMarkerSize\":1,\"fXmin\":18,\"fXmax\":37,\"fNpar\":2,\"fNdim\":1,\"fNpx\":100,\"fType\":0,\"fNpfits\":30,\"fNDF\":28,\"fChisquare\":1706.4227650078,\"fMinimum\":-1111,\"fMaximum\":-1111,\"fParErrors\":[8.66882084273417e-6,2.52250851496959e-4],\"fParMin\":[0,0],\"fParMax\":[0,0],\"fSave\":[0.0544296597878755,0.054006244070437,0.0535828283529984,0.0531594126355599,0.0527359969181214,0.0523125812006828,0.0518891654832443,0.0514657497658058,0.0510423340483672,0.0506189183309287,0.0501955026134901,0.0497720868960516,0.049348671178613,0.0489252554611745,0.048501839743736,0.0480784240262974,0.0476550083088589,0.0472315925914203,0.0468081768739818,0.0463847611565433,0.0459613454391047,0.0455379297216662,0.0451145140042276,0.0446910982867891,0.0442676825693505,0.043844266851912,0.0434208511344735,0.0429974354170349,0.0425740196995964,0.0421506039821578,0.0417271882647193,0.0413037725472808,0.0408803568298422,0.0404569411124037,0.0400335253949651,0.0396101096775266,0.0391866939600881,0.0387632782426495,0.038339862525211,0.0379164468077724,0.0374930310903339,0.0370696153728954,0.0366461996554568,0.0362227839380183,0.0357993682205797,0.0353759525031412,0.0349525367857026,0.0345291210682641,0.0341057053508256,0.033682289633387,0.0332588739159485,0.0328354581985099,0.0324120424810714,0.0319886267636329,0.0315652110461943,0.0311417953287558,0.0307183796113172,0.0302949638938787,0.0298715481764402,0.0294481324590016,0.0290247167415631,0.0286013010241245,0.028177885306686,0.0277544695892475,0.0273310538718089,0.0269076381543704,0.0264842224369318,0.0260608067194933,0.0256373910020547,0.0252139752846162,0.0247905595671777,0.0243671438497391,0.0239437281323006,0.023520312414862,0.0230968966974235,0.022673480979985,0.0222500652625464,0.0218266495451079,0.0214032338276693,0.0209798181102308,0.0205564023927923,0.0201329866753537,0.0197095709579152,0.0192861552404767,0.0188627395230381,0.0184393238055996,0.018015908088161,0.0175924923707225,0.0171690766532839,0.0167456609358454,0.0163222452184068,0.0158988295009683,0.0154754137835298,0.0150519980660912,0.0146285823486527,0.0142051666312142,0.0137817509137756,0.0133583351963371,0.0129349194788985,0.01251150376146,0.0120880880440214,18,37],\"fNormalized\":false,\"fNormIntegral\":0,\"fFormula\":{\"_typename\":\"TFormula\",\"fUniqueID\":0,\"fBits\":50332672,\"fName\":\"f1\",\"fTitle\":\"x*[0]+[1]\",\"fClingParameters\":[-0.00222850377599232,0.0945427277557373],\"fAllParametersSetted\":true,\"fParams\":[{\"$pair\":\"pair<TString,int,TFormulaParamOrder>\",\"first\":\"p0\",\"second\":0},{\"$pair\":\"pair<TString,int,TFormulaParamOrder>\",\"first\":\"p1\",\"second\":1}],\"fFormula\":\"x*[p0]+[p1]\",\"fNdim\":1,\"fLinearParts\":[],\"fVectorized\":false},\"fParams\":null,\"fComposition_ptr\":null}],\"opt\":[\"\"]},\"fBufferSize\":0,\"fBuffer\":[],\"fBinStatErrOpt\":0,\"fStatOverflows\":2,\"fArray\":[0,0,0,0,0,0.05406099,0.05151097,0.05022548,0.04773568,0.04606272,0.04459135,0.0430506,0.04165647,0.03999398,0.03842967,0.03694652,0.03585216,0.03430617,0.03327988,0.0320821,0.03107414,0.03007141,0.02899014,0.02767585,0.02716533,0.02596231,0.02519259,0.0246009,0.02367934,0.02301041,0.02214906,0.02102459,0.02039494,0.01980849,0.01941577,0,0,0,0,0]},{\"_typename\":\"TPaveText\",\"fUniqueID\":0,\"fBits\":50331657,\"fLineColor\":1,\"fLineStyle\":1,\"fLineWidth\":1,\"fFillColor\":0,\"fFillStyle\":0,\"fX1\":25.9146192292495,\"fY1\":0.0714827874664,\"fX2\":29.0853807707505,\"fY2\":0.0767127038417049,\"fX1NDC\":0.433247126436782,\"fY1NDC\":0.933983055615829,\"fX2NDC\":0.566752873563218,\"fY2NDC\":0.995000004768372,\"fBorderSize\":0,\"fInit\":1,\"fShadowColor\":1,\"fCornerRadius\":0,\"fOption\":\"blNDC\",\"fName\":\"title\",\"fTextAngle\":0,\"fTextSize\":0,\"fTextAlign\":22,\"fTextColor\":1,\"fTextFont\":42,\"fLabel\":\"\",\"fLongest\":6,\"fMargin\":0.05,\"fLines\":{\"_typename\":\"TList\",\"name\":\"TList\",\"arr\":[{\"_typename\":\"TLatex\",\"fUniqueID\":0,\"fBits\":50331648,\"fName\":\"\",\"fTitle\":\"charge\",\"fTextAngle\":0,\"fTextSize\":0,\"fTextAlign\":0,\"fTextColor\":0,\"fTextFont\":0,\"fX\":0,\"fY\":0,\"fLineColor\":1,\"fLineStyle\":1,\"fLineWidth\":2,\"fLimitFactorSize\":3,\"fOriginSize\":0.0518644079566002}],\"opt\":[\"\"]}}],\"opt\":[\"\",\"\",\"same\",\"blNDC\"]},\"fExecs\":null,\"fName\":\"c1\",\"fTitle\":\"c1\",\"fNumPaletteColor\":0,\"fNextPaletteColor\":0,\"fDISPLAY\":\"$DISPLAY\",\"fDoubleBuffer\":0,\"fRetained\":true,\"fXsizeUser\":0,\"fYsizeUser\":0,\"fXsizeReal\":20,\"fYsizeReal\":14.28571,\"fWindowTopX\":0,\"fWindowTopY\":0,\"fWindowWidth\":0,\"fWindowHeight\":0,\"fCw\":696,\"fCh\":472,\"fCatt\":{\"_typename\":\"TAttCanvas\",\"fXBetween\":2,\"fYBetween\":2,\"fTitleFromTop\":1.2,\"fXdate\":0.2,\"fYdate\":0.3,\"fAdate\":1},\"kMoveOpaque\":true,\"kResizeOpaque\":true,\"fHighLightColor\":2,\"fBatch\":true,\"kShowEventStatus\":false,\"kAutoExec\":true,\"kMenuBar\":true});\n",
       "       Core.draw(\"root_plot_10\", obj, \"\");\n",
       "     }\n",
       " );\n",
       "</script>\n"
      ],
      "text/plain": [
       "<IPython.core.display.HTML object>"
      ]
     },
     "metadata": {},
     "output_type": "display_data"
    }
   ],
   "source": [
    "h394_1.Draw()\n",
    "h394_1.GetFunction(\"f1\").SetLineColor(3)\n",
    "h351_1.Draw(\"same\")\n",
    "\n",
    "c.Draw()"
   ]
  },
  {
   "cell_type": "code",
   "execution_count": 44,
   "metadata": {},
   "outputs": [],
   "source": [
    "m_351_1=h351_1.GetMean()\n",
    "m_394_1=h394_1.GetMean()\n",
    "m_395_1=h395_1.GetMean()\n",
    "m_396_1=h396_1.GetMean()\n",
    "m_405_1=h405_1.GetMean()\n",
    "m_406_1=h406_1.GetMean()\n",
    "m_408_1=h408_1.GetMean()\n",
    "m_409_1=h409_1.GetMean()\n",
    "m_410_1=h410_1.GetMean()\n",
    "m_411_1=h411_1.GetMean()\n"
   ]
  },
  {
   "cell_type": "code",
   "execution_count": 45,
   "metadata": {},
   "outputs": [
    {
     "data": {
      "text/plain": [
       "[<matplotlib.lines.Line2D at 0x7f8c2e1919e8>]"
      ]
     },
     "execution_count": 45,
     "metadata": {},
     "output_type": "execute_result"
    },
    {
     "data": {
      "image/png": "[encoded data removed]",
      "text/plain": [
       "<Figure size 432x288 with 1 Axes>"
      ]
     },
     "metadata": {
      "needs_background": "light"
     },
     "output_type": "display_data"
    }
   ],
   "source": [
    "plt.plot((394,395,396),(m_394_1,m_395_1,m_396_1),\"ro\")"
   ]
  },
  {
   "cell_type": "code",
   "execution_count": 46,
   "metadata": {},
   "outputs": [
    {
     "data": {
      "text/plain": [
       "[<matplotlib.lines.Line2D at 0x7f8c2e0f6ac8>]"
      ]
     },
     "execution_count": 46,
     "metadata": {},
     "output_type": "execute_result"
    },
    {
     "data": {
      "image/png": "[encoded data removed]",
      "text/plain": [
       "<Figure size 432x288 with 1 Axes>"
      ]
     },
     "metadata": {
      "needs_background": "light"
     },
     "output_type": "display_data"
    }
   ],
   "source": [
    "plt.plot((405,406,408,409,410,411),(m_405_1,m_406_1,m_408_1,m_409_1,m_410_1,m_411_1),\"ro\")"
   ]
  },
  {
   "cell_type": "code",
   "execution_count": null,
   "metadata": {},
   "outputs": [],
   "source": []
  }
 ],
 "metadata": {
  "kernelspec": {
   "display_name": "Python 3",
   "language": "python",
   "name": "python3"
  },
  "language_info": {
   "codemirror_mode": {
    "name": "ipython",
    "version": 3
   },
   "file_extension": ".py",
   "mimetype": "text/x-python",
   "name": "python",
   "nbconvert_exporter": "python",
   "pygments_lexer": "ipython3",
   "version": "3.7.3"
  }
 },
 "nbformat": 4,
 "nbformat_minor": 2
}
