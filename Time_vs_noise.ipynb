{
 "cells": [
  {
   "cell_type": "code",
   "execution_count": 9,
   "metadata": {},
   "outputs": [],
   "source": [
    "!jt -t grade3 -fs 90 -tfs 15 -nfs 115 -cellw 80% -T\n",
    "import ROOT as R\n",
    "import array\n",
    "import numpy as np\n",
    "import pandas as pd\n",
    "import pickle\n",
    "import datetime\n",
    "%jsroot on\n",
    "c = R.TCanvas()\n",
    "import plotly.express as px\n",
    "import plotly.graph_objects as go\n",
    "from tqdm import tqdm\n"
   ]
  },
  {
   "cell_type": "code",
   "execution_count": 10,
   "metadata": {},
   "outputs": [],
   "source": [
    "import log_loader_time"
   ]
  },
  {
   "cell_type": "code",
   "execution_count": 11,
   "metadata": {},
   "outputs": [
    {
     "data": {
      "text/plain": [
       "990"
      ]
     },
     "execution_count": 11,
     "metadata": {},
     "output_type": "execute_result"
    }
   ],
   "source": [
    "chain=R.TChain(\"tree\")\n",
    "chain.Add(\"/media/alb/Removibile/dati/351/Sub_RUN_ana_*\")\n"
   ]
  },
  {
   "cell_type": "code",
   "execution_count": 12,
   "metadata": {},
   "outputs": [],
   "source": [
    "chunck_size=chain.GetEntries()\n"
   ]
  },
  {
   "cell_type": "code",
   "execution_count": 13,
   "metadata": {},
   "outputs": [
    {
     "name": "stderr",
     "output_type": "stream",
     "text": [
      "\u001b[1minput_line_73:1:8: \u001b[0m\u001b[0;1;31merror: \u001b[0m\u001b[1mredefinition of 'TreeStruct'\u001b[0m\n",
      "struct TreeStruct {                int runNo;                int subRunNo;                int triggers...\n",
      "\u001b[0;1;32m       ^\n",
      "\u001b[0m\u001b[1minput_line_68:1:8: \u001b[0m\u001b[0;1;30mnote: \u001b[0mprevious definition is here\u001b[0m\n",
      "struct TreeStruct {                int runNo;                int subRunNo;                int triggers...\n",
      "\u001b[0;1;32m       ^\n",
      "\u001b[0m"
     ]
    }
   ],
   "source": [
    "red=log_loader_time.reader(\"/media/alb/Removibile/dati_raw/\", \"/media/alb/Removibile/dati/\")\n"
   ]
  },
  {
   "cell_type": "code",
   "execution_count": 14,
   "metadata": {},
   "outputs": [],
   "source": [
    "dict_time=red.elab_on_run_dict(351)"
   ]
  },
  {
   "cell_type": "code",
   "execution_count": null,
   "metadata": {},
   "outputs": [],
   "source": []
  },
  {
   "cell_type": "code",
   "execution_count": 17,
   "metadata": {},
   "outputs": [],
   "source": [
    "def get_number_of_trig_per_sub(num):\n",
    "    \n",
    "    tree=R.TChain(\"tree\")\n",
    "    tree.Add(\"/media/alb/Removibile/dati/{}/Sub_RUN_ana_*\".format(num))\n",
    "\n",
    "    num_trig_strart = {}\n",
    "    num_trig_end = {}\n",
    "    num_trig_per_sub = {}\n",
    "    hit_noise_per_sub={}\n",
    "    hit_charge_per_sub={}\n",
    "    \n",
    "    for entryNum in tqdm(range (0,chunck_size)):\n",
    "        #parte trigger\n",
    "        tree.GetEntry(entryNum)\n",
    "        subRunNo=getattr(tree ,\"subRunNo\")\n",
    "        count=getattr(tree ,\"count\")\n",
    "        if subRunNo in num_trig_strart.keys():\n",
    "            if count < num_trig_strart[subRunNo]:\n",
    "                num_trig_strart[subRunNo]=count\n",
    "            if count > num_trig_end[subRunNo]:\n",
    "                num_trig_end[subRunNo]=count\n",
    "        else:\n",
    "            num_trig_strart[subRunNo]=count\n",
    "            num_trig_end[subRunNo]=count\n",
    "\n",
    "        #parte hit\n",
    "        subRunNo=getattr(tree ,\"subRunNo\")\n",
    "        charge_SH=getattr(tree ,\"charge_SH\")\n",
    "        delta_coarse=getattr(tree ,\"delta_coarse\")\n",
    "        l1ts_min_tcoarse=getattr(tree ,\"l1ts_min_tcoarse\")\n",
    "        if delta_coarse==25 or delta_coarse==26:\n",
    "            if (l1ts_min_tcoarse<1370 or l1ts_min_tcoarse>1430):\n",
    "                if subRunNo in hit_noise_per_sub.keys():\n",
    "                    hit_noise_per_sub[subRunNo]+=1\n",
    "                else:\n",
    "                    hit_noise_per_sub[subRunNo]=0\n",
    "            elif (l1ts_min_tcoarse>1380 and l1ts_min_tcoarse<1420) and charge_SH>30:\n",
    "                if subRunNo in hit_charge_per_sub.keys():\n",
    "                    hit_charge_per_sub[subRunNo]+=1\n",
    "                else:\n",
    "                    hit_charge_per_sub[subRunNo]=0\n",
    "\n",
    "    tot=0\n",
    "    for key in num_trig_strart.keys():\n",
    "        tot += num_trig_end[key]-num_trig_strart[key]\n",
    "        num_trig_per_sub[key]=num_trig_end[key]-num_trig_strart[key]\n",
    "\n",
    "    return tot,num_trig_per_sub,hit_noise_per_sub,hit_charge_per_sub"
   ]
  },
  {
   "cell_type": "code",
   "execution_count": 18,
   "metadata": {},
   "outputs": [
    {
     "name": "stderr",
     "output_type": "stream",
     "text": [
      "100%|██████████| 25448176/25448176 [10:48<00:00, 39240.83it/s]\n"
     ]
    }
   ],
   "source": [
    " tot,num_trig_per_sub,hit_noise_per_sub,hit_charge_per_sub=get_number_of_trig_per_sub(351)"
   ]
  },
  {
   "cell_type": "code",
   "execution_count": 20,
   "metadata": {},
   "outputs": [
    {
     "ename": "TypeError",
     "evalue": "tuple indices must be integers or slices, not str",
     "output_type": "error",
     "traceback": [
      "\u001b[0;31m---------------------------------------------------------------------------\u001b[0m",
      "\u001b[0;31mTypeError\u001b[0m                                 Traceback (most recent call last)",
      "\u001b[0;32m<ipython-input-20-4a3e56a40277>\u001b[0m in \u001b[0;36m<module>\u001b[0;34m\u001b[0m\n\u001b[1;32m     14\u001b[0m         \u001b[0mdata_4_pd\u001b[0m\u001b[0;34m[\u001b[0m\u001b[0;34m\"charge_hits\"\u001b[0m\u001b[0;34m]\u001b[0m\u001b[0;34m.\u001b[0m\u001b[0mappend\u001b[0m\u001b[0;34m(\u001b[0m\u001b[0mhit_charge_per_sub\u001b[0m\u001b[0;34m[\u001b[0m\u001b[0mkey\u001b[0m\u001b[0;34m]\u001b[0m\u001b[0;34m/\u001b[0m\u001b[0mnum_trig_per_sub\u001b[0m\u001b[0;34m[\u001b[0m\u001b[0mkey\u001b[0m\u001b[0;34m]\u001b[0m\u001b[0;34m)\u001b[0m\u001b[0;34m\u001b[0m\u001b[0;34m\u001b[0m\u001b[0m\n\u001b[1;32m     15\u001b[0m         \u001b[0mdata_4_pd\u001b[0m\u001b[0;34m[\u001b[0m\u001b[0;34m\"noise_hits\"\u001b[0m\u001b[0;34m]\u001b[0m\u001b[0;34m.\u001b[0m\u001b[0mappend\u001b[0m\u001b[0;34m(\u001b[0m\u001b[0mhit_noise_per_sub\u001b[0m\u001b[0;34m[\u001b[0m\u001b[0mkey\u001b[0m\u001b[0;34m]\u001b[0m\u001b[0;34m/\u001b[0m\u001b[0mnum_trig_per_sub\u001b[0m\u001b[0;34m[\u001b[0m\u001b[0mkey\u001b[0m\u001b[0;34m]\u001b[0m\u001b[0;34m)\u001b[0m\u001b[0;34m\u001b[0m\u001b[0;34m\u001b[0m\u001b[0m\n\u001b[0;32m---> 16\u001b[0;31m         \u001b[0mdata_4_pd\u001b[0m\u001b[0;34m[\u001b[0m\u001b[0;34m\"time\"\u001b[0m\u001b[0;34m]\u001b[0m\u001b[0;34m.\u001b[0m\u001b[0mappend\u001b[0m\u001b[0;34m(\u001b[0m\u001b[0mdict_time\u001b[0m\u001b[0;34m[\u001b[0m\u001b[0;34m\"{}\"\u001b[0m\u001b[0;34m.\u001b[0m\u001b[0mformat\u001b[0m\u001b[0;34m(\u001b[0m\u001b[0mkey\u001b[0m\u001b[0;34m)\u001b[0m\u001b[0;34m]\u001b[0m\u001b[0;34m)\u001b[0m\u001b[0;34m\u001b[0m\u001b[0;34m\u001b[0m\u001b[0m\n\u001b[0m\u001b[1;32m     17\u001b[0m         \u001b[0mdata_4_pd\u001b[0m\u001b[0;34m[\u001b[0m\u001b[0;34m\"triggers\"\u001b[0m\u001b[0;34m]\u001b[0m\u001b[0;34m.\u001b[0m\u001b[0mappend\u001b[0m\u001b[0;34m(\u001b[0m\u001b[0mnum_trig_per_sub\u001b[0m\u001b[0;34m[\u001b[0m\u001b[0mkey\u001b[0m\u001b[0;34m]\u001b[0m\u001b[0;34m)\u001b[0m\u001b[0;34m\u001b[0m\u001b[0;34m\u001b[0m\u001b[0m\n\u001b[1;32m     18\u001b[0m         \u001b[0mdata_4_pd\u001b[0m\u001b[0;34m[\u001b[0m\u001b[0;34m\"error_charge\"\u001b[0m\u001b[0;34m]\u001b[0m\u001b[0;34m.\u001b[0m\u001b[0mappend\u001b[0m\u001b[0;34m(\u001b[0m  \u001b[0;34m(\u001b[0m\u001b[0;34m(\u001b[0m\u001b[0;34m(\u001b[0m\u001b[0mhit_charge_per_sub\u001b[0m\u001b[0;34m[\u001b[0m\u001b[0mkey\u001b[0m\u001b[0;34m]\u001b[0m  \u001b[0;34m)\u001b[0m\u001b[0;34m**\u001b[0m\u001b[0;34m(\u001b[0m\u001b[0;36m1\u001b[0m\u001b[0;34m/\u001b[0m\u001b[0;36m2\u001b[0m\u001b[0;34m)\u001b[0m\u001b[0;34m/\u001b[0m \u001b[0mnum_trig_per_sub\u001b[0m\u001b[0;34m[\u001b[0m\u001b[0mkey\u001b[0m\u001b[0;34m]\u001b[0m\u001b[0;34m)\u001b[0m\u001b[0;34m**\u001b[0m\u001b[0;36m2\u001b[0m\u001b[0;34m+\u001b[0m\u001b[0;34m(\u001b[0m\u001b[0;34m(\u001b[0m\u001b[0mnum_trig_per_sub\u001b[0m\u001b[0;34m[\u001b[0m\u001b[0mkey\u001b[0m\u001b[0;34m]\u001b[0m\u001b[0;34m**\u001b[0m\u001b[0;34m(\u001b[0m\u001b[0;36m1\u001b[0m\u001b[0;34m/\u001b[0m\u001b[0;36m2\u001b[0m\u001b[0;34m)\u001b[0m\u001b[0;34m)\u001b[0m\u001b[0;34m/\u001b[0m\u001b[0mnum_trig_per_sub\u001b[0m\u001b[0;34m[\u001b[0m\u001b[0mkey\u001b[0m\u001b[0;34m]\u001b[0m\u001b[0;34m**\u001b[0m\u001b[0;36m2\u001b[0m\u001b[0;34m*\u001b[0m\u001b[0mhit_charge_per_sub\u001b[0m\u001b[0;34m[\u001b[0m\u001b[0mkey\u001b[0m\u001b[0;34m]\u001b[0m\u001b[0;34m)\u001b[0m\u001b[0;34m**\u001b[0m\u001b[0;36m2\u001b[0m\u001b[0;34m)\u001b[0m\u001b[0;34m**\u001b[0m\u001b[0;34m(\u001b[0m\u001b[0;36m1\u001b[0m\u001b[0;34m/\u001b[0m\u001b[0;36m2\u001b[0m\u001b[0;34m)\u001b[0m \u001b[0;34m)\u001b[0m\u001b[0;34m\u001b[0m\u001b[0;34m\u001b[0m\u001b[0m\n",
      "\u001b[0;31mTypeError\u001b[0m: tuple indices must be integers or slices, not str"
     ]
    }
   ],
   "source": [
    "data_4_pd={\n",
    "    \"sub_num\":[],\n",
    "    \"charge_hits\":[],\n",
    "    \"noise_hits\":[],\n",
    "    \"time\":[],\n",
    "    \"triggers\":[],\n",
    "    \"error_charge\":[],\n",
    "    \"error_noise\":[]\n",
    "\n",
    "}\n",
    "for key in num_trig_per_sub:\n",
    "    if  key in num_trig_per_sub.keys() and key in hit_charge_per_sub.keys() and key in hit_noise_per_sub.keys() and num_trig_per_sub[key]>50:\n",
    "        data_4_pd[\"sub_num\"].append(key)\n",
    "        data_4_pd[\"charge_hits\"].append(hit_charge_per_sub[key]/num_trig_per_sub[key])\n",
    "        data_4_pd[\"noise_hits\"].append(hit_noise_per_sub[key]/num_trig_per_sub[key])\n",
    "        data_4_pd[\"time\"].append(dict_time[\"{}\".format(key)])\n",
    "        data_4_pd[\"triggers\"].append(num_trig_per_sub[key])\n",
    "        data_4_pd[\"error_charge\"].append(  (((hit_charge_per_sub[key]  )**(1/2)/ num_trig_per_sub[key])**2+((num_trig_per_sub[key]**(1/2))/num_trig_per_sub[key]**2*hit_charge_per_sub[key])**2)**(1/2) )\n",
    "        data_4_pd[\"error_noise\"].append(( ((hit_noise_per_sub[key]  )**(1/2)/ num_trig_per_sub[key]   )**2+((num_trig_per_sub[key]**(1/2))/num_trig_per_sub[key]**2*hit_noise_per_sub[key])**2)**1/2  )\n",
    "\n",
    "\n",
    "    else:\n",
    "        print (\"Can't save for suburn {}\".format(key))"
   ]
  },
  {
   "cell_type": "code",
   "execution_count": 19,
   "metadata": {},
   "outputs": [
    {
     "ename": "NameError",
     "evalue": "name 'data_4_pd' is not defined",
     "output_type": "error",
     "traceback": [
      "\u001b[0;31m---------------------------------------------------------------------------\u001b[0m",
      "\u001b[0;31mNameError\u001b[0m                                 Traceback (most recent call last)",
      "\u001b[0;32m<ipython-input-19-4be6bcfd5f61>\u001b[0m in \u001b[0;36m<module>\u001b[0;34m\u001b[0m\n\u001b[0;32m----> 1\u001b[0;31m \u001b[0mdf_sub\u001b[0m\u001b[0;34m=\u001b[0m\u001b[0mpd\u001b[0m\u001b[0;34m.\u001b[0m\u001b[0mDataFrame\u001b[0m\u001b[0;34m(\u001b[0m\u001b[0mdata_4_pd\u001b[0m\u001b[0;34m)\u001b[0m\u001b[0;34m\u001b[0m\u001b[0;34m\u001b[0m\u001b[0m\n\u001b[0m\u001b[1;32m      2\u001b[0m \u001b[0mdf_sub\u001b[0m\u001b[0;34m[\u001b[0m\u001b[0;34m'time'\u001b[0m\u001b[0;34m]\u001b[0m \u001b[0;34m=\u001b[0m \u001b[0mpd\u001b[0m\u001b[0;34m.\u001b[0m\u001b[0mto_datetime\u001b[0m\u001b[0;34m(\u001b[0m\u001b[0mdf_sub\u001b[0m\u001b[0;34m[\u001b[0m\u001b[0;34m'time'\u001b[0m\u001b[0;34m]\u001b[0m\u001b[0;34m,\u001b[0m\u001b[0munit\u001b[0m\u001b[0;34m=\u001b[0m\u001b[0;34m's'\u001b[0m\u001b[0;34m)\u001b[0m\u001b[0;34m\u001b[0m\u001b[0;34m\u001b[0m\u001b[0m\n",
      "\u001b[0;31mNameError\u001b[0m: name 'data_4_pd' is not defined"
     ]
    }
   ],
   "source": [
    "df_sub=pd.DataFrame(data_4_pd)\n",
    "df_sub['time'] = pd.to_datetime(df_sub['time'],unit='s')\n"
   ]
  },
  {
   "cell_type": "code",
   "execution_count": null,
   "metadata": {},
   "outputs": [],
   "source": [
    "df_sub=df_sub.set_index(\"time\")"
   ]
  },
  {
   "cell_type": "code",
   "execution_count": null,
   "metadata": {},
   "outputs": [],
   "source": [
    "df_sub[\"hour\"]=df_sub.index.hour\n",
    "df_sub[\"day\"]=df_sub.index.date"
   ]
  },
  {
   "cell_type": "code",
   "execution_count": null,
   "metadata": {},
   "outputs": [],
   "source": [
    "df_sub.to_pickle(\"vs_time_analysys_save/351\")"
   ]
  },
  {
   "cell_type": "code",
   "execution_count": null,
   "metadata": {},
   "outputs": [],
   "source": [
    "fig = px.scatter(df_sub,y=\"charge_hits\",error_y=\"error_charge\",hover_data=[\"triggers\"])"
   ]
  },
  {
   "cell_type": "code",
   "execution_count": null,
   "metadata": {},
   "outputs": [],
   "source": [
    "fig.show()"
   ]
  },
  {
   "cell_type": "code",
   "execution_count": null,
   "metadata": {},
   "outputs": [],
   "source": [
    "fig = px.box(df_sub, x=\"hour\", y=\"charge_hits\",hover_data=[\"triggers\"])"
   ]
  },
  {
   "cell_type": "code",
   "execution_count": null,
   "metadata": {},
   "outputs": [],
   "source": [
    "fig.show()"
   ]
  },
  {
   "cell_type": "code",
   "execution_count": null,
   "metadata": {},
   "outputs": [],
   "source": [
    "fig = px.box(df_sub, x=\"day\", y=\"charge_hits\",hover_name=\"sub_num\",hover_data=[\"triggers\"])\n",
    "fig.show()"
   ]
  },
  {
   "cell_type": "code",
   "execution_count": null,
   "metadata": {},
   "outputs": [],
   "source": [
    "fig = px.scatter(df_sub,y=\"noise_hits\",error_y=\"error_noise\")\n",
    "fig.show()"
   ]
  },
  {
   "cell_type": "code",
   "execution_count": null,
   "metadata": {},
   "outputs": [],
   "source": [
    "fig = px.box(df_sub, x=\"hour\", y=\"noise_hits\")\n",
    "fig.show()"
   ]
  },
  {
   "cell_type": "code",
   "execution_count": null,
   "metadata": {},
   "outputs": [],
   "source": [
    "fig = px.box(df_sub, x=\"day\", y=\"noise_hits\")\n",
    "fig.show()"
   ]
  },
  {
   "cell_type": "code",
   "execution_count": null,
   "metadata": {},
   "outputs": [],
   "source": [
    "fig = px.scatter(df_sub, y=\"triggers\")\n",
    "fig.show()"
   ]
  },
  {
   "cell_type": "code",
   "execution_count": null,
   "metadata": {},
   "outputs": [],
   "source": [
    "df_sub=pd.read_pickle(\"/home/alb/Desktop/elaborazioni_e_dati/analisi_run/vs_time_analysys_save/351\")\n",
    "df_sub"
   ]
  },
  {
   "cell_type": "code",
   "execution_count": null,
   "metadata": {},
   "outputs": [],
   "source": [
    "df_sub[\"sig/noise\"]=df_sub.charge_hits/df_sub.noise_hits"
   ]
  },
  {
   "cell_type": "code",
   "execution_count": null,
   "metadata": {},
   "outputs": [],
   "source": [
    "df_sub"
   ]
  },
  {
   "cell_type": "code",
   "execution_count": null,
   "metadata": {},
   "outputs": [],
   "source": [
    "fig = px.scatter(df_sub,x=\"hour\",y=\"sig/noise\")\n",
    "fig.show()"
   ]
  },
  {
   "cell_type": "code",
   "execution_count": null,
   "metadata": {},
   "outputs": [],
   "source": []
  }
 ],
 "metadata": {
  "kernelspec": {
   "display_name": "Python 3",
   "language": "python",
   "name": "python3"
  },
  "language_info": {
   "codemirror_mode": {
    "name": "ipython",
    "version": 3
   },
   "file_extension": ".py",
   "mimetype": "text/x-python",
   "name": "python",
   "nbconvert_exporter": "python",
   "pygments_lexer": "ipython3",
   "version": "3.7.3"
  }
 },
 "nbformat": 4,
 "nbformat_minor": 2
}
