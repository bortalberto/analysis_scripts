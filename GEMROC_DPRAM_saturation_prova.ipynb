{
 "cells": [
  {
   "cell_type": "markdown",
   "metadata": {},
   "source": [
    "### Riempimento della DPRAM"
   ]
  },
  {
   "cell_type": "code",
   "execution_count": 1,
   "metadata": {
    "scrolled": true
   },
   "outputs": [
    {
     "name": "stdout",
     "output_type": "stream",
     "text": [
      "Welcome to JupyROOT 6.16/00\n"
     ]
    }
   ],
   "source": [
    "import ROOT as R\n",
    "import glob\n",
    "import matplotlib.pyplot as plt\n",
    "import numpy as np\n",
    "from scipy import stats"
   ]
  },
  {
   "cell_type": "code",
   "execution_count": 2,
   "metadata": {},
   "outputs": [],
   "source": [
    "def load_file(path):\n",
    "    return R.TFile.Open(path)"
   ]
  },
  {
   "cell_type": "code",
   "execution_count": 3,
   "metadata": {},
   "outputs": [],
   "source": [
    "c = R.TCanvas(\"c\")"
   ]
  },
  {
   "cell_type": "code",
   "execution_count": 99,
   "metadata": {},
   "outputs": [],
   "source": [
    "f=load_file(\"/home/alb/srv_lab/376/Sub_RUN_ana_135.root\")\n",
    "tcoarse_dict={}\n",
    "l1_trigger_dict={}"
   ]
  },
  {
   "cell_type": "code",
   "execution_count": 100,
   "metadata": {},
   "outputs": [],
   "source": [
    "for  entryNum  in  range(0,f.tree.GetEntries ()):\n",
    "    f.tree.GetEntry(entryNum)\n",
    "    tcoarse=int(getattr(f.tree,\"tcoarse\"))\n",
    "    l1ts_min_tcoarse=int(getattr(f.tree,\"l1ts_min_tcoarse\"))\n",
    "\n",
    "    page= (f'{tcoarse:016b}'[4:8])\n",
    "    count=getattr(f.tree,\"count\")\n",
    "    gemroc=getattr(f.tree,\"gemroc\")\n",
    "    tiger=getattr(f.tree,\"tiger\")\n",
    "    if tiger<4:\n",
    "        FEB_group=0\n",
    "    else:\n",
    "        FEB_group=1\n",
    "\n",
    "    if count not in tcoarse_dict.keys():\n",
    "        tcoarse_dict[count]={}\n",
    "    if gemroc not in tcoarse_dict[count].keys():\n",
    "        tcoarse_dict[count][gemroc]={}\n",
    "    if FEB_group not in tcoarse_dict[count][gemroc].keys():\n",
    "        tcoarse_dict[count][gemroc][FEB_group]={}\n",
    "    if  page not in tcoarse_dict[count][gemroc][FEB_group].keys():\n",
    "        tcoarse_dict[count][gemroc][FEB_group][page]=0\n",
    "    tcoarse_dict[count][gemroc][FEB_group][page]+=1\n",
    "    \n",
    "    if count not in l1_trigger_dict.keys():\n",
    "        l1_trigger_dict[count]=[]\n",
    "    l1_trigger_dict[count].append(l1ts_min_tcoarse+tcoarse)\n"
   ]
  },
  {
   "cell_type": "code",
   "execution_count": 101,
   "metadata": {},
   "outputs": [
    {
     "data": {
      "text/plain": [
       "[5921,\n",
       " 5921,\n",
       " 5921,\n",
       " 5921,\n",
       " 5921,\n",
       " 5921,\n",
       " 5921,\n",
       " 5921,\n",
       " 5921,\n",
       " 5921,\n",
       " 5921,\n",
       " 5921,\n",
       " 5921,\n",
       " 5921,\n",
       " 5921,\n",
       " 5921,\n",
       " 5921,\n",
       " 5921,\n",
       " 5921,\n",
       " 5921,\n",
       " 5921,\n",
       " 5921]"
      ]
     },
     "execution_count": 101,
     "metadata": {},
     "output_type": "execute_result"
    }
   ],
   "source": [
    "l1_trigger_dict[106]"
   ]
  },
  {
   "cell_type": "code",
   "execution_count": 102,
   "metadata": {},
   "outputs": [],
   "source": [
    "l1_trigger_extremes={}\n",
    "for count in l1_trigger_dict:\n",
    "#     print (f'Count: {count}, Std:{np.std(l1_trigger_dict[count])}\\n {l1_trigger_dict[count]}')\n",
    "    l1_trigger_dict[count]= (stats.mode(l1_trigger_dict[count])).mode[0]\n",
    "    l1_trigger_extremes[count]=(l1_trigger_dict[count]-1567,l1_trigger_dict[count]-1300)"
   ]
  },
  {
   "cell_type": "code",
   "execution_count": 103,
   "metadata": {},
   "outputs": [
    {
     "name": "stdout",
     "output_type": "stream",
     "text": [
      "['0001']\n",
      "['0010']\n",
      "5921\n"
     ]
    }
   ],
   "source": [
    "print([(f'{l1_trigger_extremes[106][0]:016b}'[4:8])])\n",
    "print([(f'{l1_trigger_extremes[106][1]:016b}'[4:8])])\n",
    "print(l1_trigger_dict[106])"
   ]
  },
  {
   "cell_type": "code",
   "execution_count": 104,
   "metadata": {},
   "outputs": [],
   "source": [
    "p_lenght= 256\n",
    "lenght_dict={}\n",
    "for count in l1_trigger_dict:\n",
    "        lenght_dict[count]={}\n",
    "#         print (count)\n",
    "        len3=0\n",
    "        beginning=(int(f'{l1_trigger_extremes[count][0]:016b}'[4:16],2))\n",
    "        end=(int(f'{l1_trigger_extremes[count][1]:016b}'[4:16],2))\n",
    "        first_page=(int(f'{l1_trigger_extremes[count][0]:016b}'[4:8],2))*256\n",
    "        last_page=(int(f'{l1_trigger_extremes[count][1]:016b}'[4:8],2))*256\n",
    "        if int(f'{l1_trigger_extremes[count][1]:016b}'[4:8],2)-int(f'{l1_trigger_extremes[count][0]:016b}'[4:8],2)>1:\n",
    "            len1=256-(beginning-first_page)\n",
    "            len2=256\n",
    "            len3=end-last_page\n",
    "        elif  (last_page-beginning>0):\n",
    "            len1=last_page-beginning\n",
    "            len2=end-last_page\n",
    "        elif  (last_page-beginning<0):\n",
    "            len1=last_page+4096-beginning\n",
    "            len2=end-last_page\n",
    "#         print (len1,len2,len3,len1+len2+len3)\n",
    "        if len3==0:\n",
    "            lenght_dict[count][(f'{l1_trigger_extremes[count][0]:016b}'[4:8])]=len1/256\n",
    "            lenght_dict[count][(f'{l1_trigger_extremes[count][1]:016b}'[4:8])]=len2/256\n",
    "        else:\n",
    "            lenght_dict[count][(f'{l1_trigger_extremes[count][0]:016b}'[4:8])]=len1/256\n",
    "            lenght_dict[count][(f'{l1_trigger_extremes[count][0]+256:016b}'[4:8])]=len2/256\n",
    "            lenght_dict[count][(f'{l1_trigger_extremes[count][1]:016b}'[4:8])]=len3/256"
   ]
  },
  {
   "cell_type": "code",
   "execution_count": 105,
   "metadata": {},
   "outputs": [
    {
     "data": {
      "text/plain": [
       "{'0001': 0.9921875, '0010': 0.05078125}"
      ]
     },
     "execution_count": 105,
     "metadata": {},
     "output_type": "execute_result"
    }
   ],
   "source": [
    "lenght_dict[106]"
   ]
  },
  {
   "cell_type": "code",
   "execution_count": 106,
   "metadata": {
    "scrolled": false
   },
   "outputs": [
    {
     "name": "stdout",
     "output_type": "stream",
     "text": [
      "Count: 2 wrong trigger time (0001)\n",
      "19 hits from Count= 3,GEMROC =0, FEB_couple=1,Tcoarse[8:11]=0001\n",
      "28 hits from Count= 3,GEMROC =10, FEB_couple=0,Tcoarse[8:11]=0001\n",
      "43 hits from Count= 3,GEMROC =2, FEB_couple=1,Tcoarse[8:11]=0001\n",
      "37 hits from Count= 3,GEMROC =3, FEB_couple=0,Tcoarse[8:11]=0001\n",
      "25 hits from Count= 3,GEMROC =3, FEB_couple=1,Tcoarse[8:11]=0001\n",
      "26 hits from Count= 3,GEMROC =4, FEB_couple=1,Tcoarse[8:11]=0001\n",
      "18 hits from Count= 3,GEMROC =5, FEB_couple=1,Tcoarse[8:11]=0001\n",
      "29 hits from Count= 3,GEMROC =7, FEB_couple=1,Tcoarse[8:11]=0001\n",
      "22 hits from Count= 3,GEMROC =7, FEB_couple=0,Tcoarse[8:11]=0001\n",
      "55 hits from Count= 3,GEMROC =8, FEB_couple=0,Tcoarse[8:11]=0001\n",
      "Count: 4 wrong trigger time (1100)\n",
      "5 hits from Count= 5,GEMROC =3, FEB_couple=1,Tcoarse[8:11]=1101\n",
      "30 hits from Count= 5,GEMROC =8, FEB_couple=1,Tcoarse[8:11]=1100\n",
      "34 hits from Count= 7,GEMROC =2, FEB_couple=0,Tcoarse[8:11]=1101\n",
      "27 hits from Count= 7,GEMROC =3, FEB_couple=0,Tcoarse[8:11]=1101\n",
      "Count: 11 wrong trigger time (1100)\n",
      "25 hits from Count= 12,GEMROC =3, FEB_couple=0,Tcoarse[8:11]=1100\n",
      "32 hits from Count= 12,GEMROC =4, FEB_couple=1,Tcoarse[8:11]=1100\n",
      "31 hits from Count= 15,GEMROC =3, FEB_couple=1,Tcoarse[8:11]=0001\n",
      "10 hits from Count= 15,GEMROC =4, FEB_couple=0,Tcoarse[8:11]=0010\n",
      "Count: 15 wrong trigger time (1011)\n",
      "Count: 15 wrong trigger time (1010)\n",
      "15 hits from Count= 16,GEMROC =6, FEB_couple=1,Tcoarse[8:11]=1011\n",
      "Count: 16 wrong trigger time (0010)\n",
      "Count: 16 wrong trigger time (0001)\n",
      "17 hits from Count= 23,GEMROC =2, FEB_couple=0,Tcoarse[8:11]=1001\n",
      "20 hits from Count= 23,GEMROC =9, FEB_couple=1,Tcoarse[8:11]=1001\n",
      "21 hits from Count= 27,GEMROC =7, FEB_couple=1,Tcoarse[8:11]=0100\n",
      "32 hits from Count= 33,GEMROC =3, FEB_couple=1,Tcoarse[8:11]=0100\n",
      "36 hits from Count= 33,GEMROC =4, FEB_couple=0,Tcoarse[8:11]=0100\n",
      "29 hits from Count= 34,GEMROC =10, FEB_couple=1,Tcoarse[8:11]=1011\n",
      "37 hits from Count= 34,GEMROC =5, FEB_couple=0,Tcoarse[8:11]=1011\n",
      "33 hits from Count= 34,GEMROC =5, FEB_couple=1,Tcoarse[8:11]=1011\n",
      "Count: 34 wrong trigger time (1001)\n",
      "22 hits from Count= 35,GEMROC =0, FEB_couple=0,Tcoarse[8:11]=1001\n",
      "31 hits from Count= 35,GEMROC =10, FEB_couple=0,Tcoarse[8:11]=1001\n",
      "26 hits from Count= 35,GEMROC =6, FEB_couple=0,Tcoarse[8:11]=1001\n",
      "27 hits from Count= 35,GEMROC =8, FEB_couple=1,Tcoarse[8:11]=1001\n",
      "Count: 35 wrong trigger time (0001)\n",
      "3 hits from Count= 36,GEMROC =9, FEB_couple=0,Tcoarse[8:11]=0010\n",
      "Count: 42 wrong trigger time (1111)\n",
      "24 hits from Count= 43,GEMROC =4, FEB_couple=0,Tcoarse[8:11]=1110\n",
      "11 hits from Count= 43,GEMROC =5, FEB_couple=0,Tcoarse[8:11]=1111\n",
      "26 hits from Count= 43,GEMROC =6, FEB_couple=1,Tcoarse[8:11]=1110\n",
      "15 hits from Count= 43,GEMROC =9, FEB_couple=1,Tcoarse[8:11]=1111\n",
      "42 hits from Count= 44,GEMROC =7, FEB_couple=0,Tcoarse[8:11]=1000\n",
      "Count: 48 wrong trigger time (1000)\n",
      "Count: 49 wrong trigger time (0110)\n",
      "15 hits from Count= 58,GEMROC =7, FEB_couple=0,Tcoarse[8:11]=0110\n",
      "Count: 59 wrong trigger time (0111)\n",
      "Count: 65 wrong trigger time (0000)\n",
      "34 hits from Count= 67,GEMROC =1, FEB_couple=0,Tcoarse[8:11]=1111\n",
      "23 hits from Count= 67,GEMROC =3, FEB_couple=0,Tcoarse[8:11]=1111\n",
      "23 hits from Count= 67,GEMROC =3, FEB_couple=1,Tcoarse[8:11]=1111\n",
      "17 hits from Count= 67,GEMROC =4, FEB_couple=0,Tcoarse[8:11]=1111\n",
      "30 hits from Count= 67,GEMROC =5, FEB_couple=0,Tcoarse[8:11]=1111\n",
      "31 hits from Count= 67,GEMROC =5, FEB_couple=1,Tcoarse[8:11]=1111\n",
      "30 hits from Count= 67,GEMROC =6, FEB_couple=1,Tcoarse[8:11]=1111\n",
      "Count: 67 wrong trigger time (0100)\n",
      "4 hits from Count= 70,GEMROC =9, FEB_couple=0,Tcoarse[8:11]=0011\n",
      "Count: 72 wrong trigger time (0101)\n",
      "Count: 76 wrong trigger time (0000)\n",
      "30 hits from Count= 77,GEMROC =0, FEB_couple=0,Tcoarse[8:11]=0000\n",
      "31 hits from Count= 77,GEMROC =2, FEB_couple=1,Tcoarse[8:11]=0000\n",
      "Count: 79 wrong trigger time (0000)\n",
      "Count: 79 wrong trigger time (0000)\n",
      "Count: 79 wrong trigger time (0000)\n",
      "Count: 79 wrong trigger time (0000)\n",
      "Count: 79 wrong trigger time (0000)\n",
      "Count: 79 wrong trigger time (0000)\n",
      "Count: 79 wrong trigger time (0000)\n",
      "Count: 79 wrong trigger time (0000)\n",
      "Count: 79 wrong trigger time (0000)\n",
      "Count: 79 wrong trigger time (0000)\n",
      "Count: 79 wrong trigger time (0000)\n",
      "20 hits from Count= 80,GEMROC =4, FEB_couple=1,Tcoarse[8:11]=0000\n",
      "31 hits from Count= 84,GEMROC =0, FEB_couple=0,Tcoarse[8:11]=0010\n",
      "33 hits from Count= 86,GEMROC =1, FEB_couple=0,Tcoarse[8:11]=1110\n",
      "31 hits from Count= 86,GEMROC =3, FEB_couple=1,Tcoarse[8:11]=1110\n",
      "Count: 86 wrong trigger time (1010)\n",
      "24 hits from Count= 87,GEMROC =9, FEB_couple=0,Tcoarse[8:11]=1001\n",
      "41 hits from Count= 88,GEMROC =0, FEB_couple=0,Tcoarse[8:11]=1001\n",
      "17 hits from Count= 88,GEMROC =10, FEB_couple=1,Tcoarse[8:11]=1001\n",
      "33 hits from Count= 88,GEMROC =1, FEB_couple=0,Tcoarse[8:11]=1001\n",
      "26 hits from Count= 88,GEMROC =2, FEB_couple=1,Tcoarse[8:11]=1001\n",
      "32 hits from Count= 88,GEMROC =3, FEB_couple=0,Tcoarse[8:11]=1001\n",
      "37 hits from Count= 88,GEMROC =3, FEB_couple=1,Tcoarse[8:11]=1001\n",
      "19 hits from Count= 88,GEMROC =4, FEB_couple=0,Tcoarse[8:11]=1001\n",
      "21 hits from Count= 88,GEMROC =4, FEB_couple=1,Tcoarse[8:11]=1001\n",
      "16 hits from Count= 88,GEMROC =5, FEB_couple=0,Tcoarse[8:11]=1001\n",
      "29 hits from Count= 88,GEMROC =6, FEB_couple=0,Tcoarse[8:11]=1001\n",
      "28 hits from Count= 88,GEMROC =6, FEB_couple=1,Tcoarse[8:11]=1001\n",
      "22 hits from Count= 88,GEMROC =8, FEB_couple=1,Tcoarse[8:11]=1001\n",
      "9 hits from Count= 90,GEMROC =9, FEB_couple=0,Tcoarse[8:11]=0000\n",
      "63 hits from Count= 91,GEMROC =0, FEB_couple=1,Tcoarse[8:11]=0000\n",
      "Count: 92 wrong trigger time (0111)\n",
      "23 hits from Count= 94,GEMROC =10, FEB_couple=1,Tcoarse[8:11]=0111\n",
      "Count: 94 wrong trigger time (1101)\n",
      "26 hits from Count= 96,GEMROC =4, FEB_couple=0,Tcoarse[8:11]=1001\n",
      "34 hits from Count= 96,GEMROC =4, FEB_couple=0,Tcoarse[8:11]=1000\n",
      "26 hits from Count= 96,GEMROC =5, FEB_couple=0,Tcoarse[8:11]=1000\n",
      "Count: 96 wrong trigger time (1100)\n",
      "49 hits from Count= 97,GEMROC =5, FEB_couple=1,Tcoarse[8:11]=1100\n",
      "59 hits from Count= 97,GEMROC =9, FEB_couple=1,Tcoarse[8:11]=1100\n",
      "19 hits from Count= 98,GEMROC =4, FEB_couple=0,Tcoarse[8:11]=1001\n",
      "44 hits from Count= 98,GEMROC =5, FEB_couple=0,Tcoarse[8:11]=1001\n",
      "30 hits from Count= 98,GEMROC =5, FEB_couple=0,Tcoarse[8:11]=1000\n",
      "Count: 99 wrong trigger time (1010)\n",
      "25 hits from Count= 101,GEMROC =3, FEB_couple=0,Tcoarse[8:11]=0010\n",
      "Count: 101 wrong trigger time (0001)\n",
      "Count: 104 wrong trigger time (1001)\n",
      "Count: 104 wrong trigger time (1000)\n",
      "Count: 104 wrong trigger time (1001)\n",
      "Count: 104 wrong trigger time (1000)\n",
      "Count: 104 wrong trigger time (1000)\n",
      "Count: 104 wrong trigger time (1000)\n",
      "Count: 104 wrong trigger time (1001)\n",
      "Count: 104 wrong trigger time (1001)\n",
      "Count: 104 wrong trigger time (1001)\n",
      "Count: 104 wrong trigger time (1001)\n",
      "Count: 104 wrong trigger time (1001)\n",
      "Count: 104 wrong trigger time (1010)\n",
      "Count: 104 wrong trigger time (1001)\n",
      "19 hits from Count= 105,GEMROC =0, FEB_couple=0,Tcoarse[8:11]=1010\n",
      "37 hits from Count= 105,GEMROC =10, FEB_couple=0,Tcoarse[8:11]=1010\n",
      "27 hits from Count= 105,GEMROC =1, FEB_couple=0,Tcoarse[8:11]=1010\n",
      "40 hits from Count= 105,GEMROC =2, FEB_couple=0,Tcoarse[8:11]=1010\n",
      "55 hits from Count= 105,GEMROC =2, FEB_couple=1,Tcoarse[8:11]=1010\n",
      "39 hits from Count= 105,GEMROC =3, FEB_couple=0,Tcoarse[8:11]=1010\n",
      "42 hits from Count= 105,GEMROC =4, FEB_couple=0,Tcoarse[8:11]=1010\n",
      "40 hits from Count= 105,GEMROC =4, FEB_couple=1,Tcoarse[8:11]=1010\n",
      "43 hits from Count= 105,GEMROC =5, FEB_couple=1,Tcoarse[8:11]=1010\n",
      "21 hits from Count= 105,GEMROC =7, FEB_couple=0,Tcoarse[8:11]=1010\n",
      "18 hits from Count= 105,GEMROC =7, FEB_couple=1,Tcoarse[8:11]=1010\n",
      "23 hits from Count= 105,GEMROC =8, FEB_couple=0,Tcoarse[8:11]=1010\n",
      "35 hits from Count= 105,GEMROC =9, FEB_couple=1,Tcoarse[8:11]=1010\n",
      "Count: 9 wrong trigger time (1100)\n",
      "Count: 25 wrong trigger time (1111)\n",
      "Count: 32 wrong trigger time (0100)\n",
      "Count: 52 wrong trigger time (1111)\n",
      "33 hits from Count= 69,GEMROC =6, FEB_couple=0,Tcoarse[8:11]=1010\n",
      "27 hits from Count= 20,GEMROC =3, FEB_couple=0,Tcoarse[8:11]=0000\n",
      "32 hits from Count= 20,GEMROC =8, FEB_couple=0,Tcoarse[8:11]=0000\n",
      "18 hits from Count= 20,GEMROC =8, FEB_couple=1,Tcoarse[8:11]=0000\n",
      "12 hits from Count= 37,GEMROC =9, FEB_couple=0,Tcoarse[8:11]=0011\n",
      "95/1110 count at risk, sure sat=0\n"
     ]
    }
   ],
   "source": [
    "risky=0\n",
    "sure_sat=0\n",
    "for count in tcoarse_dict.keys():\n",
    "    for gemroc in tcoarse_dict[count].keys():\n",
    "        for FEB_group in tcoarse_dict[count][gemroc].keys():\n",
    "            for page in tcoarse_dict[count][gemroc][FEB_group].keys():\n",
    "                try:\n",
    "                    if (tcoarse_dict[count][gemroc][FEB_group][page]>lenght_dict[count][page]*32) and gemroc not in (12,13):\n",
    "                        risky+=1\n",
    "                        print (\"{} hits from Count= {},GEMROC ={}, FEB_couple={},Tcoarse[8:11]={}\".format(tcoarse_dict[count][gemroc][FEB_group][page],count,gemroc,FEB_group,page))\n",
    "                        if lenght_dict[count][page]==256:\n",
    "                            sure_sat+=1\n",
    "                except:\n",
    "                    print (\"Count: {} wrong trigger time ({})\".format(count,page))\n",
    "tot = max(tcoarse_dict.keys())\n",
    "print (\"{}/{} count at risk, sure sat={}\".format(risky,tot*10,sure_sat))"
   ]
  },
  {
   "cell_type": "code",
   "execution_count": 112,
   "metadata": {},
   "outputs": [
    {
     "data": {
      "text/plain": [
       "56"
      ]
     },
     "execution_count": 112,
     "metadata": {},
     "output_type": "execute_result"
    }
   ],
   "source": [
    "f.tree.Draw(\"tiger:tcoarse\",\"count==4\",\"colz\")"
   ]
  },
  {
   "cell_type": "code",
   "execution_count": 113,
   "metadata": {},
   "outputs": [
    {
     "data": {
      "image/png": "[encoded data removed]",
      "text/plain": [
       "<IPython.core.display.Image object>"
      ]
     },
     "metadata": {},
     "output_type": "display_data"
    }
   ],
   "source": [
    "c.Draw()"
   ]
  },
  {
   "cell_type": "code",
   "execution_count": 109,
   "metadata": {
    "scrolled": false
   },
   "outputs": [
    {
     "name": "stdout",
     "output_type": "stream",
     "text": [
      "======> EVENT:5532\n",
      " runNo           = 376\n",
      " subRunNo        = 135\n",
      " layer           = 2\n",
      " channel         = 59\n",
      " gemroc          = 4\n",
      " tiger           = 5\n",
      " max_count       = 111\n",
      " strip_x         = 882\n",
      " strip_v         = -1\n",
      " radius          = 129.8\n",
      " charge_SH_uncal = 1008\n",
      " charge_SH       = 54.7353\n",
      " charge_TOT_uncal = 167.32\n",
      " charge_TOT      = 15.2821\n",
      " constant        = 479.724\n",
      " slope           = -9.05675\n",
      " qmax            = 52.9687\n",
      " delta_coarse    = 26\n",
      " pos_phi         = 4.39324\n",
      " count           = 3\n",
      " timestamp       = 55187\n",
      " l1ts_min_tcoarse = 1411\n",
      " tcoarse_min_ts  = -1411\n",
      " tcoarse         = 4370\n",
      " ecoarse         = 300\n",
      " tfine_uncal     = 296\n",
      " efine_uncal     = 1008\n",
      " ttrigg          = 1503\n",
      " trigg_tcoarse   = 4789\n",
      " lasttigerframenum = 0\n",
      " chip            = 2\n",
      " FEB_label       = 18\n",
      " tfine           = 4.8205\n",
      " efine           = 0\n",
      " tac             = 3\n",
      " trigg_flag      = 0\n",
      " time            = 1.13023e+10\n",
      " saturated       = 1\n"
     ]
    }
   ],
   "source": [
    "f.tree.Show(5532)"
   ]
  },
  {
   "cell_type": "code",
   "execution_count": 111,
   "metadata": {},
   "outputs": [
    {
     "name": "stdout",
     "output_type": "stream",
     "text": [
      "9342\n",
      "9343\n",
      "9344\n",
      "9345\n"
     ]
    }
   ],
   "source": [
    "for  entryNum  in  range(0,f.tree.GetEntries ()):\n",
    "    f.tree.GetEntry(entryNum)\n",
    "    delta_coarse=int(getattr(f.tree,\"delta_coarse\"))\n",
    "    count=int(getattr(f.tree,\"count\"))\n",
    "\n",
    "    ecoarse=getattr(f.tree,\"ecoarse\")\n",
    "    tcoarse=getattr(f.tree,\"tcoarse\")\n",
    "    if tcoarse <40000 and count == 4:\n",
    "        print (entryNum)"
   ]
  },
  {
   "cell_type": "code",
   "execution_count": null,
   "metadata": {},
   "outputs": [],
   "source": []
  },
  {
   "cell_type": "code",
   "execution_count": null,
   "metadata": {},
   "outputs": [],
   "source": []
  },
  {
   "cell_type": "code",
   "execution_count": null,
   "metadata": {},
   "outputs": [],
   "source": []
  },
  {
   "cell_type": "code",
   "execution_count": null,
   "metadata": {},
   "outputs": [],
   "source": []
  },
  {
   "cell_type": "code",
   "execution_count": null,
   "metadata": {},
   "outputs": [],
   "source": []
  },
  {
   "cell_type": "code",
   "execution_count": null,
   "metadata": {},
   "outputs": [],
   "source": []
  },
  {
   "cell_type": "code",
   "execution_count": null,
   "metadata": {},
   "outputs": [],
   "source": []
  },
  {
   "cell_type": "code",
   "execution_count": null,
   "metadata": {},
   "outputs": [],
   "source": []
  },
  {
   "cell_type": "code",
   "execution_count": null,
   "metadata": {},
   "outputs": [],
   "source": []
  },
  {
   "cell_type": "code",
   "execution_count": null,
   "metadata": {},
   "outputs": [],
   "source": []
  },
  {
   "cell_type": "code",
   "execution_count": null,
   "metadata": {},
   "outputs": [],
   "source": []
  }
 ],
 "metadata": {
  "kernelspec": {
   "display_name": "Python 3",
   "language": "python",
   "name": "python3"
  },
  "language_info": {
   "codemirror_mode": {
    "name": "ipython",
    "version": 3
   },
   "file_extension": ".py",
   "mimetype": "text/x-python",
   "name": "python",
   "nbconvert_exporter": "python",
   "pygments_lexer": "ipython3",
   "version": "3.7.3"
  }
 },
 "nbformat": 4,
 "nbformat_minor": 2
}
