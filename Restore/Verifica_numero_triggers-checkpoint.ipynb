{
 "cells": [
  {
   "cell_type": "code",
   "execution_count": 24,
   "metadata": {},
   "outputs": [],
   "source": [
    "!jt -t grade3 -fs 90 -tfs 14 -nfs 115 -cellw 80% -T\n",
    "import ROOT as R\n",
    "import array\n",
    "import numpy as np\n",
    "import glob\n",
    "%jsroot on\n",
    "R.gStyle.SetOptStat(0)"
   ]
  },
  {
   "cell_type": "code",
   "execution_count": 49,
   "metadata": {},
   "outputs": [],
   "source": [
    "def search_numb_of_trig_ana(run):\n",
    "    triggers=0\n",
    "    for filenmane in glob.glob (\"/home/alb/srv_lab/{}/Sub_RUN_ana_*.root\".format(run)):\n",
    "        f= R.TFile.Open(filenmane)\n",
    "        triggers+=f.tree.GetMaximum(\"count\")-f.tree.GetMinimum(\"count\")\n",
    "        f.Close()\n",
    "    print (\"Triggers {}\".format(triggers))\n"
   ]
  },
  {
   "cell_type": "code",
   "execution_count": 70,
   "metadata": {},
   "outputs": [],
   "source": [
    "def search_numb_of_trig_dec(run):\n",
    "    triggers=0\n",
    "    for filenmane in glob.glob (\"/home/alb/srv_lab/{}/Sub_RUN_dec_*.root\".format(run)):\n",
    "        f= R.TFile.Open(filenmane)\n",
    "        triggers+=f.tree.GetMaximum(\"count\")-f.tree.GetMinimum(\"count\")\n",
    "        f.Close()\n",
    "    print (\"Triggers {}\".format(triggers))\n"
   ]
  },
  {
   "cell_type": "code",
   "execution_count": 61,
   "metadata": {},
   "outputs": [],
   "source": [
    "def search_numb_of_trig_event(run):\n",
    "    triggers=0\n",
    "#     for filenmane in glob.glob (\"/home/alb/srv_lab/{}/Sub_RUN_event_*.root\".format(run)):\n",
    "#         f= R.TFile.Open(filenmane)\n",
    "#         triggers+=f.tree.GetMaximum(\"count\")-f.tree.GetMinimum(\"count\")\n",
    "#         f.Close()\n",
    "    for filenmane in glob.glob (\"/home/alb/srv_lab/{}/badSubRUN/*/Sub_RUN_event_*.root\".format(run)):\n",
    "        print (filenmane)\n",
    "        f= R.TFile.Open(filenmane)\n",
    "        triggers+=f.tree.GetMaximum(\"count\")-f.tree.GetMinimum(\"count\")\n",
    "        f.Close()\n",
    "    print (\"Triggers {}\".format(triggers))\n"
   ]
  },
  {
   "cell_type": "code",
   "execution_count": 45,
   "metadata": {},
   "outputs": [
    {
     "data": {
      "text/plain": [
       "109.0"
      ]
     },
     "execution_count": 45,
     "metadata": {},
     "output_type": "execute_result"
    }
   ],
   "source": [
    "f.tree.GetMaximum(\"count\")"
   ]
  },
  {
   "cell_type": "code",
   "execution_count": 63,
   "metadata": {
    "scrolled": true
   },
   "outputs": [
    {
     "name": "stdout",
     "output_type": "stream",
     "text": [
      "Triggers 81426.0\n"
     ]
    }
   ],
   "source": [
    "search_numb_of_trig_ana(376)"
   ]
  },
  {
   "cell_type": "code",
   "execution_count": null,
   "metadata": {},
   "outputs": [],
   "source": [
    "search_numb_of_trig_dec(376)\n"
   ]
  },
  {
   "cell_type": "code",
   "execution_count": 71,
   "metadata": {},
   "outputs": [],
   "source": [
    "g= R.TFile.Open(\"/home/alb/srv_lab/376/Sub_RUN_event_41.root\")"
   ]
  },
  {
   "cell_type": "code",
   "execution_count": 79,
   "metadata": {},
   "outputs": [
    {
     "data": {
      "text/plain": [
       "103"
      ]
     },
     "execution_count": 79,
     "metadata": {},
     "output_type": "execute_result"
    }
   ],
   "source": [
    "g.tree.GetEntries()"
   ]
  },
  {
   "cell_type": "code",
   "execution_count": null,
   "metadata": {},
   "outputs": [],
   "source": [
    "    "
   ]
  }
 ],
 "metadata": {
  "kernelspec": {
   "display_name": "Python 3",
   "language": "python",
   "name": "python3"
  },
  "language_info": {
   "codemirror_mode": {
    "name": "ipython",
    "version": 3
   },
   "file_extension": ".py",
   "mimetype": "text/x-python",
   "name": "python",
   "nbconvert_exporter": "python",
   "pygments_lexer": "ipython3",
   "version": "3.7.3"
  }
 },
 "nbformat": 4,
 "nbformat_minor": 2
}
