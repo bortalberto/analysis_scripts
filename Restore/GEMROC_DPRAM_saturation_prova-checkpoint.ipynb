{
 "cells": [
  {
   "cell_type": "markdown",
   "metadata": {},
   "source": [
    "### Riempimento della DPRAM"
   ]
  },
  {
   "cell_type": "code",
   "execution_count": 1,
   "metadata": {
    "scrolled": true
   },
   "outputs": [
    {
     "name": "stdout",
     "output_type": "stream",
     "text": [
      "Welcome to JupyROOT 6.16/00\n"
     ]
    }
   ],
   "source": [
    "import ROOT as R\n",
    "import glob\n",
    "import matplotlib.pyplot as plt\n",
    "import numpy as np\n",
    "from scipy import stats"
   ]
  },
  {
   "cell_type": "code",
   "execution_count": 2,
   "metadata": {},
   "outputs": [],
   "source": [
    "def load_file(path):\n",
    "    return R.TFile.Open(path)"
   ]
  },
  {
   "cell_type": "code",
   "execution_count": 3,
   "metadata": {},
   "outputs": [],
   "source": [
    "c = R.TCanvas(\"c\")"
   ]
  },
  {
   "cell_type": "code",
   "execution_count": 17,
   "metadata": {},
   "outputs": [],
   "source": [
    "f=load_file(\"/home/alb/srv_lab/376/Sub_RUN_ana_18.root\")\n",
    "tcoarse_dict={}\n",
    "l1_trigger_dict={}"
   ]
  },
  {
   "cell_type": "code",
   "execution_count": 18,
   "metadata": {},
   "outputs": [],
   "source": [
    "for  entryNum  in  range(0,f.tree.GetEntries ()):\n",
    "    f.tree.GetEntry(entryNum)\n",
    "    tcoarse=int(getattr(f.tree,\"tcoarse\"))\n",
    "    l1ts_min_tcoarse=int(getattr(f.tree,\"l1ts_min_tcoarse\"))\n",
    "\n",
    "    page= (f'{tcoarse:016b}'[4:8])\n",
    "    count=getattr(f.tree,\"count\")\n",
    "    gemroc=getattr(f.tree,\"gemroc\")\n",
    "    tiger=getattr(f.tree,\"tiger\")\n",
    "    if tiger<4:\n",
    "        FEB_group=0\n",
    "    else:\n",
    "        FEB_group=1\n",
    "\n",
    "    if count not in tcoarse_dict.keys():\n",
    "        tcoarse_dict[count]={}\n",
    "    if gemroc not in tcoarse_dict[count].keys():\n",
    "        tcoarse_dict[count][gemroc]={}\n",
    "    if FEB_group not in tcoarse_dict[count][gemroc].keys():\n",
    "        tcoarse_dict[count][gemroc][FEB_group]={}\n",
    "    if  page not in tcoarse_dict[count][gemroc][FEB_group].keys():\n",
    "        tcoarse_dict[count][gemroc][FEB_group][page]=0\n",
    "    tcoarse_dict[count][gemroc][FEB_group][page]+=1\n",
    "    \n",
    "    if count not in l1_trigger_dict.keys():\n",
    "        l1_trigger_dict[count]=[]\n",
    "    l1_trigger_dict[count].append(l1ts_min_tcoarse+tcoarse)\n"
   ]
  },
  {
   "cell_type": "code",
   "execution_count": 19,
   "metadata": {},
   "outputs": [
    {
     "data": {
      "text/plain": [
       "[42983,\n",
       " 42983,\n",
       " 42983,\n",
       " 42983,\n",
       " 42983,\n",
       " 42983,\n",
       " 42983,\n",
       " 42983,\n",
       " 42983,\n",
       " 42983,\n",
       " 42983,\n",
       " 42983,\n",
       " 42983,\n",
       " 42983,\n",
       " 42983,\n",
       " 42983,\n",
       " 42983,\n",
       " 42983,\n",
       " 42983,\n",
       " 42983,\n",
       " 42983,\n",
       " 42983,\n",
       " 42983,\n",
       " 42983,\n",
       " 42983,\n",
       " 42983,\n",
       " 42983,\n",
       " 42983,\n",
       " 42983,\n",
       " 42983,\n",
       " 42983,\n",
       " 42983,\n",
       " 42983,\n",
       " 42983,\n",
       " 42983,\n",
       " 42983,\n",
       " 42983,\n",
       " 42983]"
      ]
     },
     "execution_count": 19,
     "metadata": {},
     "output_type": "execute_result"
    }
   ],
   "source": [
    "l1_trigger_dict[106]"
   ]
  },
  {
   "cell_type": "code",
   "execution_count": 20,
   "metadata": {},
   "outputs": [],
   "source": [
    "l1_trigger_extremes={}\n",
    "for count in l1_trigger_dict:\n",
    "#     print (f'Count: {count}, Std:{np.std(l1_trigger_dict[count])}\\n {l1_trigger_dict[count]}')\n",
    "    l1_trigger_dict[count]= (stats.mode(l1_trigger_dict[count])).mode[0]\n",
    "    l1_trigger_extremes[count]=(l1_trigger_dict[count]-1567,l1_trigger_dict[count]-1300)"
   ]
  },
  {
   "cell_type": "code",
   "execution_count": 21,
   "metadata": {},
   "outputs": [
    {
     "name": "stdout",
     "output_type": "stream",
     "text": [
      "['0001']\n",
      "['0010']\n",
      "42983\n"
     ]
    }
   ],
   "source": [
    "print([(f'{l1_trigger_extremes[106][0]:016b}'[4:8])])\n",
    "print([(f'{l1_trigger_extremes[106][1]:016b}'[4:8])])\n",
    "print(l1_trigger_dict[106])"
   ]
  },
  {
   "cell_type": "code",
   "execution_count": 22,
   "metadata": {},
   "outputs": [],
   "source": [
    "p_lenght= 256\n",
    "lenght_dict={}\n",
    "for count in l1_trigger_dict:\n",
    "        lenght_dict[count]={}\n",
    "#         print (count)\n",
    "        len3=0\n",
    "        beginning=(int(f'{l1_trigger_extremes[count][0]:016b}'[4:16],2))\n",
    "        end=(int(f'{l1_trigger_extremes[count][1]:016b}'[4:16],2))\n",
    "        first_page=(int(f'{l1_trigger_extremes[count][0]:016b}'[4:8],2))*256\n",
    "        last_page=(int(f'{l1_trigger_extremes[count][1]:016b}'[4:8],2))*256\n",
    "        if int(f'{l1_trigger_extremes[count][1]:016b}'[4:8],2)-int(f'{l1_trigger_extremes[count][0]:016b}'[4:8],2)>1:\n",
    "            len1=256-(beginning-first_page)\n",
    "            len2=256\n",
    "            len3=end-last_page\n",
    "        elif  (last_page-beginning>0):\n",
    "            len1=last_page-beginning\n",
    "            len2=end-last_page\n",
    "        elif  (last_page-beginning<0):\n",
    "            len1=last_page+4096-beginning\n",
    "            len2=end-last_page\n",
    "#         print (len1,len2,len3,len1+len2+len3)\n",
    "        if len3==0:\n",
    "            lenght_dict[count][(f'{l1_trigger_extremes[count][0]:016b}'[4:8])]=len1/256\n",
    "            lenght_dict[count][(f'{l1_trigger_extremes[count][1]:016b}'[4:8])]=len2/256\n",
    "        else:\n",
    "            lenght_dict[count][(f'{l1_trigger_extremes[count][0]:016b}'[4:8])]=len1/256\n",
    "            lenght_dict[count][(f'{l1_trigger_extremes[count][0]+256:016b}'[4:8])]=len2/256\n",
    "            lenght_dict[count][(f'{l1_trigger_extremes[count][1]:016b}'[4:8])]=len3/256"
   ]
  },
  {
   "cell_type": "code",
   "execution_count": 23,
   "metadata": {},
   "outputs": [
    {
     "data": {
      "text/plain": [
       "{'0001': 0.21875, '0010': 0.82421875}"
      ]
     },
     "execution_count": 23,
     "metadata": {},
     "output_type": "execute_result"
    }
   ],
   "source": [
    "lenght_dict[106]"
   ]
  },
  {
   "cell_type": "code",
   "execution_count": 24,
   "metadata": {
    "scrolled": false
   },
   "outputs": [
    {
     "name": "stdout",
     "output_type": "stream",
     "text": [
      "22 hits from Count= 4,GEMROC =0, FEB_couple=0,Tcoarse[8:11]=0000\n",
      "19 hits from Count= 4,GEMROC =10, FEB_couple=1,Tcoarse[8:11]=0000\n",
      "30 hits from Count= 4,GEMROC =2, FEB_couple=0,Tcoarse[8:11]=0000\n",
      "44 hits from Count= 4,GEMROC =3, FEB_couple=1,Tcoarse[8:11]=0000\n",
      "31 hits from Count= 4,GEMROC =3, FEB_couple=0,Tcoarse[8:11]=0000\n",
      "41 hits from Count= 8,GEMROC =0, FEB_couple=0,Tcoarse[8:11]=0010\n",
      "17 hits from Count= 8,GEMROC =0, FEB_couple=0,Tcoarse[8:11]=0001\n",
      "27 hits from Count= 8,GEMROC =2, FEB_couple=1,Tcoarse[8:11]=0001\n",
      "12 hits from Count= 8,GEMROC =3, FEB_couple=1,Tcoarse[8:11]=0001\n",
      "52 hits from Count= 8,GEMROC =3, FEB_couple=0,Tcoarse[8:11]=0010\n",
      "14 hits from Count= 8,GEMROC =3, FEB_couple=0,Tcoarse[8:11]=0001\n",
      "36 hits from Count= 10,GEMROC =0, FEB_couple=1,Tcoarse[8:11]=1111\n",
      "38 hits from Count= 10,GEMROC =9, FEB_couple=1,Tcoarse[8:11]=1111\n",
      "14 hits from Count= 17,GEMROC =0, FEB_couple=0,Tcoarse[8:11]=0011\n",
      "17 hits from Count= 18,GEMROC =1, FEB_couple=0,Tcoarse[8:11]=1001\n",
      "28 hits from Count= 18,GEMROC =5, FEB_couple=0,Tcoarse[8:11]=1010\n",
      "60 hits from Count= 18,GEMROC =9, FEB_couple=0,Tcoarse[8:11]=1010\n",
      "27 hits from Count= 21,GEMROC =10, FEB_couple=1,Tcoarse[8:11]=1100\n",
      "27 hits from Count= 29,GEMROC =0, FEB_couple=0,Tcoarse[8:11]=1110\n",
      "31 hits from Count= 29,GEMROC =1, FEB_couple=1,Tcoarse[8:11]=1110\n",
      "33 hits from Count= 36,GEMROC =0, FEB_couple=0,Tcoarse[8:11]=1001\n",
      "23 hits from Count= 36,GEMROC =0, FEB_couple=1,Tcoarse[8:11]=1001\n",
      "15 hits from Count= 36,GEMROC =10, FEB_couple=0,Tcoarse[8:11]=1001\n",
      "33 hits from Count= 36,GEMROC =2, FEB_couple=0,Tcoarse[8:11]=1001\n",
      "19 hits from Count= 36,GEMROC =3, FEB_couple=0,Tcoarse[8:11]=1001\n",
      "17 hits from Count= 36,GEMROC =4, FEB_couple=0,Tcoarse[8:11]=1001\n",
      "21 hits from Count= 36,GEMROC =5, FEB_couple=0,Tcoarse[8:11]=1001\n",
      "18 hits from Count= 36,GEMROC =8, FEB_couple=0,Tcoarse[8:11]=1001\n",
      "13 hits from Count= 39,GEMROC =9, FEB_couple=0,Tcoarse[8:11]=1010\n",
      "18 hits from Count= 47,GEMROC =2, FEB_couple=0,Tcoarse[8:11]=0100\n",
      "13 hits from Count= 47,GEMROC =2, FEB_couple=1,Tcoarse[8:11]=0100\n",
      "14 hits from Count= 47,GEMROC =3, FEB_couple=1,Tcoarse[8:11]=0100\n",
      "26 hits from Count= 56,GEMROC =2, FEB_couple=1,Tcoarse[8:11]=0111\n",
      "29 hits from Count= 56,GEMROC =7, FEB_couple=1,Tcoarse[8:11]=0111\n",
      "24 hits from Count= 56,GEMROC =8, FEB_couple=1,Tcoarse[8:11]=0111\n",
      "28 hits from Count= 58,GEMROC =0, FEB_couple=1,Tcoarse[8:11]=1010\n",
      "27 hits from Count= 58,GEMROC =3, FEB_couple=1,Tcoarse[8:11]=1001\n",
      "24 hits from Count= 58,GEMROC =7, FEB_couple=0,Tcoarse[8:11]=1001\n",
      "33 hits from Count= 72,GEMROC =2, FEB_couple=0,Tcoarse[8:11]=1000\n",
      "35 hits from Count= 72,GEMROC =3, FEB_couple=1,Tcoarse[8:11]=1000\n",
      "51 hits from Count= 72,GEMROC =3, FEB_couple=0,Tcoarse[8:11]=1000\n",
      "33 hits from Count= 72,GEMROC =4, FEB_couple=1,Tcoarse[8:11]=1000\n",
      "36 hits from Count= 72,GEMROC =6, FEB_couple=0,Tcoarse[8:11]=1000\n",
      "33 hits from Count= 74,GEMROC =0, FEB_couple=0,Tcoarse[8:11]=0111\n",
      "45 hits from Count= 74,GEMROC =0, FEB_couple=1,Tcoarse[8:11]=0111\n",
      "31 hits from Count= 74,GEMROC =2, FEB_couple=1,Tcoarse[8:11]=0111\n",
      "60 hits from Count= 74,GEMROC =3, FEB_couple=1,Tcoarse[8:11]=0111\n",
      "36 hits from Count= 74,GEMROC =3, FEB_couple=0,Tcoarse[8:11]=0111\n",
      "25 hits from Count= 77,GEMROC =3, FEB_couple=1,Tcoarse[8:11]=1000\n",
      "32 hits from Count= 77,GEMROC =9, FEB_couple=1,Tcoarse[8:11]=1000\n",
      "15 hits from Count= 80,GEMROC =9, FEB_couple=1,Tcoarse[8:11]=1100\n",
      "17 hits from Count= 85,GEMROC =0, FEB_couple=0,Tcoarse[8:11]=1000\n",
      "17 hits from Count= 85,GEMROC =0, FEB_couple=1,Tcoarse[8:11]=1000\n",
      "31 hits from Count= 85,GEMROC =10, FEB_couple=0,Tcoarse[8:11]=1000\n",
      "28 hits from Count= 85,GEMROC =1, FEB_couple=0,Tcoarse[8:11]=1000\n",
      "40 hits from Count= 85,GEMROC =3, FEB_couple=0,Tcoarse[8:11]=1000\n",
      "22 hits from Count= 85,GEMROC =9, FEB_couple=1,Tcoarse[8:11]=1000\n",
      "20 hits from Count= 90,GEMROC =0, FEB_couple=1,Tcoarse[8:11]=0001\n",
      "31 hits from Count= 93,GEMROC =4, FEB_couple=1,Tcoarse[8:11]=1101\n",
      "26 hits from Count= 99,GEMROC =10, FEB_couple=1,Tcoarse[8:11]=0111\n",
      "43 hits from Count= 101,GEMROC =4, FEB_couple=0,Tcoarse[8:11]=0101\n",
      "24 hits from Count= 101,GEMROC =7, FEB_couple=1,Tcoarse[8:11]=0101\n",
      "33 hits from Count= 101,GEMROC =8, FEB_couple=0,Tcoarse[8:11]=0101\n",
      "14 hits from Count= 116,GEMROC =10, FEB_couple=0,Tcoarse[8:11]=0101\n",
      "25 hits from Count= 116,GEMROC =10, FEB_couple=0,Tcoarse[8:11]=0100\n",
      "18 hits from Count= 22,GEMROC =10, FEB_couple=1,Tcoarse[8:11]=0110\n",
      "15 hits from Count= 22,GEMROC =5, FEB_couple=0,Tcoarse[8:11]=0110\n",
      "15 hits from Count= 22,GEMROC =5, FEB_couple=1,Tcoarse[8:11]=0110\n",
      "45 hits from Count= 118,GEMROC =4, FEB_couple=0,Tcoarse[8:11]=0100\n",
      "69/1200 count at risk, sure sat=0\n"
     ]
    }
   ],
   "source": [
    "risky=0\n",
    "sure_sat=0\n",
    "for count in tcoarse_dict.keys():\n",
    "    for gemroc in tcoarse_dict[count].keys():\n",
    "        for FEB_group in tcoarse_dict[count][gemroc].keys():\n",
    "            for page in tcoarse_dict[count][gemroc][FEB_group].keys():\n",
    "                try:\n",
    "                    if (tcoarse_dict[count][gemroc][FEB_group][page]>lenght_dict[count][page]*32) and gemroc not in (12,13):\n",
    "                        risky+=1\n",
    "                        print (\"{} hits from Count= {},GEMROC ={}, FEB_couple={},Tcoarse[8:11]={}\".format(tcoarse_dict[count][gemroc][FEB_group][page],count,gemroc,FEB_group,page))\n",
    "                        if lenght_dict[count][page]==256:\n",
    "                            sure_sat+=1\n",
    "                except:\n",
    "                    print (\"Count: {} wrong trigger time ({})\".format(count,page))\n",
    "tot = max(tcoarse_dict.keys())\n",
    "print (\"{}/{} count at risk, sure sat={}\".format(risky,tot*10,sure_sat))"
   ]
  },
  {
   "cell_type": "code",
   "execution_count": 25,
   "metadata": {},
   "outputs": [
    {
     "data": {
      "text/plain": [
       "3"
      ]
     },
     "execution_count": 25,
     "metadata": {},
     "output_type": "execute_result"
    }
   ],
   "source": [
    "f.tree.Draw(\"tiger:tcoarse\",\"gemroc==8 && count==52\",\"colz\")"
   ]
  },
  {
   "cell_type": "code",
   "execution_count": null,
   "metadata": {},
   "outputs": [],
   "source": []
  },
  {
   "cell_type": "code",
   "execution_count": null,
   "metadata": {},
   "outputs": [],
   "source": []
  }
 ],
 "metadata": {
  "kernelspec": {
   "display_name": "Python 3",
   "language": "python",
   "name": "python3"
  },
  "language_info": {
   "codemirror_mode": {
    "name": "ipython",
    "version": 3
   },
   "file_extension": ".py",
   "mimetype": "text/x-python",
   "name": "python",
   "nbconvert_exporter": "python",
   "pygments_lexer": "ipython3",
   "version": "3.7.3"
  }
 },
 "nbformat": 4,
 "nbformat_minor": 2
}
