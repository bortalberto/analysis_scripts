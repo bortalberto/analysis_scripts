{
 "cells": [
  {
   "cell_type": "code",
   "execution_count": 1,
   "metadata": {},
   "outputs": [
    {
     "name": "stdout",
     "output_type": "stream",
     "text": [
      "Welcome to JupyROOT 6.16/00\n"
     ]
    }
   ],
   "source": [
    "!jt -t grade3 -fs 90 -tfs 15 -nfs 115 -cellw 80% -T\n",
    "import ROOT as R\n",
    "import array\n",
    "import numpy as np\n",
    "%jsroot on"
   ]
  },
  {
   "cell_type": "code",
   "execution_count": 15,
   "metadata": {},
   "outputs": [],
   "source": [
    "\n",
    "def missing_elements(L, start, end):\n",
    "    if end - start <= 1: \n",
    "        if L[end] - L[start] > 1:\n",
    "            yield from range(L[start] + 1, L[end])\n",
    "        return\n",
    "\n",
    "    index = start + (end - start) // 2\n",
    "\n",
    "    # is the lower half consecutive?\n",
    "    consecutive_low =  L[index] == L[start] + (index - start)\n",
    "    if not consecutive_low:\n",
    "        yield from missing_elements(L, start, index)\n",
    "\n",
    "    # is the upper part consecutive?\n",
    "    consecutive_high =  L[index] == L[end] - (end - index)\n",
    "    if not consecutive_high:\n",
    "        yield from missing_elements(L, index, end)"
   ]
  },
  {
   "cell_type": "code",
   "execution_count": 2,
   "metadata": {},
   "outputs": [],
   "source": [
    "c = R.TCanvas(\"c\")\n",
    "R.gStyle.SetOptStat(0)"
   ]
  },
  {
   "cell_type": "code",
   "execution_count": 6,
   "metadata": {},
   "outputs": [],
   "source": [
    "f= R.TFile.Open(\"/home/alb/srv_lab/351/Sub_RUN_ana_3.root\")"
   ]
  },
  {
   "cell_type": "code",
   "execution_count": 9,
   "metadata": {},
   "outputs": [],
   "source": [
    "trigger_dict={}"
   ]
  },
  {
   "cell_type": "code",
   "execution_count": 11,
   "metadata": {},
   "outputs": [],
   "source": [
    "for  entryNum  in  range(0,f.tree.GetEntries ()):\n",
    "    f.tree.GetEntry(entryNum)\n",
    "    count=getattr(f.tree,\"count\")\n",
    "    gemroc=getattr(f.tree,\"gemroc\")\n",
    "    if gemroc not in trigger_dict.keys():\n",
    "        trigger_dict[gemroc]= []\n",
    "    if count not in trigger_dict[gemroc]:\n",
    "        trigger_dict[gemroc].append(count)"
   ]
  },
  {
   "cell_type": "code",
   "execution_count": 18,
   "metadata": {},
   "outputs": [
    {
     "name": "stdout",
     "output_type": "stream",
     "text": [
      "<generator object missing_elements at 0x7f782d752cf0>\n",
      "<generator object missing_elements at 0x7f782d752cf0>\n",
      "<generator object missing_elements at 0x7f782d752cf0>\n",
      "<generator object missing_elements at 0x7f782d752cf0>\n",
      "<generator object missing_elements at 0x7f782d752cf0>\n",
      "<generator object missing_elements at 0x7f782d752cf0>\n",
      "<generator object missing_elements at 0x7f782d752cf0>\n",
      "<generator object missing_elements at 0x7f782d752cf0>\n",
      "<generator object missing_elements at 0x7f782d752cf0>\n",
      "<generator object missing_elements at 0x7f782d752cf0>\n",
      "<generator object missing_elements at 0x7f782d752cf0>\n"
     ]
    }
   ],
   "source": [
    "for gemroc in trigger_dict:\n",
    "    print(missing_elements(trigger_dict[gemroc],0, np.max(trigger_dict[gemroc])))"
   ]
  },
  {
   "cell_type": "code",
   "execution_count": null,
   "metadata": {},
   "outputs": [],
   "source": []
  }
 ],
 "metadata": {
  "kernelspec": {
   "display_name": "Python 3",
   "language": "python",
   "name": "python3"
  },
  "language_info": {
   "codemirror_mode": {
    "name": "ipython",
    "version": 3
   },
   "file_extension": ".py",
   "mimetype": "text/x-python",
   "name": "python",
   "nbconvert_exporter": "python",
   "pygments_lexer": "ipython3",
   "version": "3.7.3"
  }
 },
 "nbformat": 4,
 "nbformat_minor": 2
}
