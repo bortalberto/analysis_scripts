{
 "cells": [
  {
   "cell_type": "code",
   "execution_count": 5,
   "metadata": {},
   "outputs": [
    {
     "name": "stderr",
     "output_type": "stream",
     "text": [
      "\u001b[1minput_line_37:1:8: \u001b[0m\u001b[0;1;31merror: \u001b[0m\u001b[1mredefinition of 'TreeStruct'\u001b[0m\n",
      "struct TreeStruct {                int runNo;                int subRunNo;                int triggers;                int start_time;                int end_time;        };\n",
      "\u001b[0;1;32m       ^\n",
      "\u001b[0m\u001b[1minput_line_31:1:8: \u001b[0m\u001b[0;1;30mnote: \u001b[0mprevious definition is here\u001b[0m\n",
      "struct TreeStruct {                int runNo;                int subRunNo;                int triggers;                int start_time;                int end_time;        };\n",
      "\u001b[0;1;32m       ^\n",
      "\u001b[0m"
     ]
    }
   ],
   "source": [
    "import log_loader_time\n",
    "import pickle\n",
    "red=log_loader_time.reader(\"/home/alb/Desktop/alb/srv_lab_raw/\", \"/media/alb/Removibile/dati/\")\n"
   ]
  },
  {
   "cell_type": "code",
   "execution_count": 6,
   "metadata": {},
   "outputs": [],
   "source": [
    "def extact_and_save_time(run):\n",
    "    start,end=red.elab_on_run_dict(run)\n",
    "    with open (\"/media/alb/Removibile/time_save/{}\".format(run),\"wb+\") as savefile:\n",
    "        pickle.dump((start,end),savefile)"
   ]
  },
  {
   "cell_type": "code",
   "execution_count": 7,
   "metadata": {},
   "outputs": [],
   "source": [
    "for run in (394,395,365,360,356,357):\n",
    "    extact_and_save_time(run)"
   ]
  },
  {
   "cell_type": "code",
   "execution_count": null,
   "metadata": {},
   "outputs": [],
   "source": []
  }
 ],
 "metadata": {
  "kernelspec": {
   "display_name": "Python 3",
   "language": "python",
   "name": "python3"
  },
  "language_info": {
   "codemirror_mode": {
    "name": "ipython",
    "version": 3
   },
   "file_extension": ".py",
   "mimetype": "text/x-python",
   "name": "python",
   "nbconvert_exporter": "python",
   "pygments_lexer": "ipython3",
   "version": "3.7.3"
  }
 },
 "nbformat": 4,
 "nbformat_minor": 2
}
