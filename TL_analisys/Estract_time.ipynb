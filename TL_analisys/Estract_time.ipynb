{
 "cells": [
  {
   "cell_type": "code",
   "execution_count": 5,
   "metadata": {},
   "outputs": [
    {
     "name": "stderr",
     "output_type": "stream",
     "text": [
      "\u001b[1minput_line_36:1:8: \u001b[0m\u001b[0;1;31merror: \u001b[0m\u001b[1mredefinition of 'TreeStruct'\u001b[0m\n",
      "struct TreeStruct {                int runNo;                int subRunNo;                int triggers;                int start_time;                int end_time;        };\n",
      "\u001b[0;1;32m       ^\n",
      "\u001b[0m\u001b[1minput_line_31:1:8: \u001b[0m\u001b[0;1;30mnote: \u001b[0mprevious definition is here\u001b[0m\n",
      "struct TreeStruct {                int runNo;                int subRunNo;                int triggers;                int start_time;                int end_time;        };\n",
      "\u001b[0;1;32m       ^\n",
      "\u001b[0m"
     ]
    }
   ],
   "source": [
    "import log_loader_time\n",
    "import pickle\n",
    "red=log_loader_time.reader(\"/home/alb/Desktop/alb/srv_lab_raw/\", \"/media/alb/Removibile/dati/\")\n"
   ]
  },
  {
   "cell_type": "code",
   "execution_count": 6,
   "metadata": {},
   "outputs": [],
   "source": [
    "def extact_and_save_time(run):\n",
    "    start,end=red.elab_on_run_dict(run)\n",
    "    with open (\"/media/alb/Removibile/time_save/{}\".format(run),\"wb+\") as savefile:\n",
    "        pickle.dump((start,end),savefile)"
   ]
  },
  {
   "cell_type": "code",
   "execution_count": 7,
   "metadata": {},
   "outputs": [],
   "source": [
    "for run in (337,338,339,341,342,343,368,370,372,375,355,376,377,378,387,395,396,397,400,405,406,409,406,410,411,412):\n",
    "    extact_and_save_time(run)"
   ]
  },
  {
   "cell_type": "code",
   "execution_count": null,
   "metadata": {},
   "outputs": [],
   "source": [
    "for run in (337,338,339,341,342,343,368,370,372,375,355,376,377,378,387,395,396,397,400,405,406,409,406,410,411,412):\n",
    "    extact_and_save_time(run)"
   ]
  }
 ],
 "metadata": {
  "kernelspec": {
   "display_name": "Python 3",
   "language": "python",
   "name": "python3"
  },
  "language_info": {
   "codemirror_mode": {
    "name": "ipython",
    "version": 3
   },
   "file_extension": ".py",
   "mimetype": "text/x-python",
   "name": "python",
   "nbconvert_exporter": "python",
   "pygments_lexer": "ipython3",
   "version": "3.7.3"
  }
 },
 "nbformat": 4,
 "nbformat_minor": 2
}
