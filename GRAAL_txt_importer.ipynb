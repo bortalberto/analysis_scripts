{
 "cells": [
  {
   "cell_type": "code",
   "execution_count": 1,
   "metadata": {
    "scrolled": false
   },
   "outputs": [
    {
     "name": "stdout",
     "output_type": "stream",
     "text": [
      "Welcome to JupyROOT 6.16/00\n"
     ]
    }
   ],
   "source": [
    "import pickle\n",
    "import pandas as pd\n",
    "import glob2\n",
    "import plotly.express as px\n",
    "import plotly.graph_objects as go\n",
    "from influxdb import InfluxDBClient\n",
    "from plotly.subplots import make_subplots\n",
    "import log_loader_time"
   ]
  },
  {
   "cell_type": "markdown",
   "metadata": {},
   "source": [
    "Ricordati di generare i file di tempo (log_loader_time.py)"
   ]
  },
  {
   "cell_type": "code",
   "execution_count": 14,
   "metadata": {},
   "outputs": [],
   "source": [
    "def extract_from_graal_and_save():\n",
    "    dict_4_pd={\n",
    "        \"run\":[],\n",
    "        \"subrun\":[],\n",
    "        \"time\":[],\n",
    "        \"Number_of_cluster_L1top_spX\":[],\n",
    "        \"Number_of_cluster_L1bot_spX\":[],\n",
    "        \"Number_of_cluster_L2top_spX\":[],\n",
    "        \"Number_of_cluster_L2bot_spX\":[],\n",
    "        \"Number_of_cluster_L1top_spV\":[],\n",
    "        \"Number_of_cluster_L1bot_spV\":[],\n",
    "        \"Number_of_cluster_L2top_spV\":[],\n",
    "        \"Number_of_cluster_L2bot_spV\":[],\n",
    "        \"Cluster_size_L1top_spX\":[],\n",
    "        \"Cluster_size_L1bot_spX\":[],\n",
    "        \"Cluster_size_L2top_spX\":[],\n",
    "        \"Cluster_size_L2bot_spX\":[],\n",
    "        \"Cluster_size_L1top_spV\":[],\n",
    "        \"Cluster_size_L1bot_spV\":[],\n",
    "        \"Cluster_size_L2top_spV\":[],\n",
    "        \"Cluster_size_L2bot_spV\":[],\n",
    "        \"Cluster_charge_L1top_spX\":[],\n",
    "        \"Cluster_charge_L1bot_spX\":[],\n",
    "        \"Cluster_charge_L2top_spX\":[],\n",
    "        \"Cluster_charge_L2bot_spX\":[],\n",
    "        \"Cluster_charge_L1top_spV\":[],\n",
    "        \"Cluster_charge_L1bot_spV\":[],\n",
    "        \"Cluster_charge_L2top_spV\":[],\n",
    "        \"Cluster_charge_L2bot_spV\":[]\n",
    "    }\n",
    "    time={}\n",
    "    for filename, (run,)in glob2.iglob(\"/media/alb/Removibile/time_save/*\", with_matches=True):\n",
    "        if int(run)>395:\n",
    "            with open (filename,\"rb+\") as savefile:\n",
    "                start,end=pickle.load(savefile)\n",
    "            time[int(run)]=start\n",
    "\n",
    "            for filename, (subrun,)in glob2.iglob(\"/home/alb/GRAAL_out/srv_lab_mount/716392{}_*.txt\".format(run), with_matches=True):\n",
    "                with open (filename,'r') as graal_file:\n",
    "                    if subrun in time[int(run)].keys():\n",
    "                        dict_4_pd[\"run\"].append(int(run))\n",
    "                        dict_4_pd[\"subrun\"].append(int(subrun))\n",
    "                        dict_4_pd[\"time\"].append(time[int(run)][subrun])\n",
    "                        for line in graal_file.readlines():\n",
    "                            for key in dict_4_pd:\n",
    "                                if \"X\" in key:\n",
    "                                    if key.split(\"_sp\")[0].replace(\"_\",\" \") in line:\n",
    "                                        dict_4_pd[\"{}_spX\".format(key.split(\"_sp\")[0])].append(float(line.split(\"-->\")[1].split(\"|\")[0].strip(\"\\n\").strip(\" fC \")))\n",
    "                                        dict_4_pd[\"{}_spV\".format(key.split(\"_sp\")[0])].append(float(line.split(\"-->\")[2].strip(\"\\n\").strip(\" fC \")))\n",
    "                    else:\n",
    "                        print (\"Missing, R{}, S{}\".format(run,subrun))\n",
    "            print (\"RUN {} done\".format(run))\n",
    "            cluster_pd=pd.DataFrame(dict_4_pd)\n",
    "            cluster_pd=cluster_pd.sort_values(by=[\"run\",\"subrun\"])\n",
    "            # cluster_pd['time'] = pd.to_datetime(cluster_pd['time'],unit='s')\n",
    "            # cluster_pd=cluster_pd.set_index(\"time\")\n",
    "            # cluster_pd[\"hour\"]=cluster_pd.index.hour\n",
    "            # cluster_pd[\"day\"]=cluster_pd.index.date\n",
    "            savefilename=\"/media/alb/Removibile/graal_extract/cluster_dataframe\"\n",
    "            with open (savefilename,\"wb+\") as savefile:\n",
    "                pickle.dump(cluster_pd,savefile)  \n",
    "    return cluster_pd"
   ]
  },
  {
   "cell_type": "code",
   "execution_count": 15,
   "metadata": {},
   "outputs": [
    {
     "name": "stdout",
     "output_type": "stream",
     "text": [
      "RUN 396 done\n",
      "RUN 397 done\n",
      "RUN 400 done\n",
      "RUN 405 done\n",
      "RUN 406 done\n",
      "RUN 409 done\n",
      "RUN 410 done\n",
      "RUN 411 done\n",
      "RUN 412 done\n",
      "RUN 418 done\n",
      "RUN 419 done\n",
      "RUN 420 done\n"
     ]
    }
   ],
   "source": [
    "cluster_pd=extract_from_graal_and_save()"
   ]
  },
  {
   "cell_type": "code",
   "execution_count": 16,
   "metadata": {},
   "outputs": [],
   "source": [
    "cluster_pd['time'] = pd.to_datetime(cluster_pd['time'],unit='s')\n",
    "cluster_pd=cluster_pd.set_index(\"time\")\n",
    "cluster_pd[\"hour\"]=cluster_pd.index.hour\n",
    "cluster_pd[\"day\"]=cluster_pd.index.date"
   ]
  },
  {
   "cell_type": "code",
   "execution_count": 17,
   "metadata": {},
   "outputs": [],
   "source": [
    "cluster_pd_1h=cluster_pd.resample(\"1h\").mean()"
   ]
  },
  {
   "cell_type": "code",
   "execution_count": null,
   "metadata": {},
   "outputs": [],
   "source": []
  }
 ],
 "metadata": {
  "kernelspec": {
   "display_name": "Python 3",
   "language": "python",
   "name": "python3"
  },
  "language_info": {
   "codemirror_mode": {
    "name": "ipython",
    "version": 3
   },
   "file_extension": ".py",
   "mimetype": "text/x-python",
   "name": "python",
   "nbconvert_exporter": "python",
   "pygments_lexer": "ipython3",
   "version": "3.7.3"
  }
 },
 "nbformat": 4,
 "nbformat_minor": 2
}
