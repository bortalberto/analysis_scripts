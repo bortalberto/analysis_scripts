{
 "cells": [
  {
   "cell_type": "code",
   "execution_count": 1,
   "metadata": {},
   "outputs": [],
   "source": [
    "import requests\n",
    "import json "
   ]
  },
  {
   "cell_type": "code",
   "execution_count": 2,
   "metadata": {},
   "outputs": [],
   "source": [
    "auth = requests.auth.HTTPBasicAuth('admin', 'Gr4fana')"
   ]
  },
  {
   "cell_type": "code",
   "execution_count": 6,
   "metadata": {},
   "outputs": [],
   "source": [
    "url = 'http://localhost:3000/api/alerts'\n",
    "r=requests.get(url, auth=auth,json=payload)"
   ]
  },
  {
   "cell_type": "code",
   "execution_count": 13,
   "metadata": {},
   "outputs": [],
   "source": [
    "allerts=r.json()"
   ]
  },
  {
   "cell_type": "code",
   "execution_count": 29,
   "metadata": {},
   "outputs": [
    {
     "name": "stdout",
     "output_type": "stream",
     "text": [
      "{'id': 9, 'dashboardId': 5, 'dashboardUid': 'jQsu3zlWz', 'dashboardSlug': 'ivt-status', 'panelId': 6, 'name': 'FEB IA alert', 'state': 'paused', 'newStateDate': '2020-11-28T00:57:58.978111407+08:00', 'evalDate': '0001-01-01T00:00:00Z', 'evalData': {}, 'executionError': '', 'url': '/d/jQsu3zlWz/ivt-status'}\n",
      "{'id': 10, 'dashboardId': 5, 'dashboardUid': 'jQsu3zlWz', 'dashboardSlug': 'ivt-status', 'panelId': 7, 'name': 'FEB ID alert', 'state': 'paused', 'newStateDate': '2020-11-28T00:57:57.823654705+08:00', 'evalDate': '0001-01-01T00:00:00Z', 'evalData': {}, 'executionError': '', 'url': '/d/jQsu3zlWz/ivt-status'}\n",
      "{'id': 7, 'dashboardId': 5, 'dashboardUid': 'jQsu3zlWz', 'dashboardSlug': 'ivt-status', 'panelId': 4, 'name': 'FEB VA alert', 'state': 'paused', 'newStateDate': '2020-11-28T00:57:56.737811539+08:00', 'evalDate': '0001-01-01T00:00:00Z', 'evalData': {}, 'executionError': '', 'url': '/d/jQsu3zlWz/ivt-status'}\n",
      "{'id': 8, 'dashboardId': 5, 'dashboardUid': 'jQsu3zlWz', 'dashboardSlug': 'ivt-status', 'panelId': 5, 'name': 'FEB VD alert', 'state': 'paused', 'newStateDate': '2020-11-28T00:57:51.559449811+08:00', 'evalDate': '0001-01-01T00:00:00Z', 'evalData': {}, 'executionError': '', 'url': '/d/jQsu3zlWz/ivt-status'}\n",
      "{'id': 6, 'dashboardId': 5, 'dashboardUid': 'jQsu3zlWz', 'dashboardSlug': 'ivt-status', 'panelId': 3, 'name': 'FEB temperature alert', 'state': 'paused', 'newStateDate': '2020-11-28T00:57:47.865677258+08:00', 'evalDate': '0001-01-01T00:00:00Z', 'evalData': {'noData': True}, 'executionError': '', 'url': '/d/jQsu3zlWz/ivt-status'}\n"
     ]
    }
   ],
   "source": [
    "for allert in allerts:\n",
    "    if allert[\"dashboardSlug\"]==\"ivt-status\":\n",
    "        print (allert)"
   ]
  },
  {
   "cell_type": "code",
   "execution_count": 30,
   "metadata": {},
   "outputs": [],
   "source": [
    "ivt_allert_list=[]\n",
    "for allert in allerts:\n",
    "    if allert[\"dashboardSlug\"]==\"ivt-status\":\n",
    "        ivt_allert_list.append(allert['id'])"
   ]
  },
  {
   "cell_type": "code",
   "execution_count": 31,
   "metadata": {},
   "outputs": [
    {
     "data": {
      "text/plain": [
       "[9, 10, 7, 8, 6]"
      ]
     },
     "execution_count": 31,
     "metadata": {},
     "output_type": "execute_result"
    }
   ],
   "source": [
    "ivt_allert_list"
   ]
  },
  {
   "cell_type": "code",
   "execution_count": 34,
   "metadata": {},
   "outputs": [],
   "source": [
    "for i in (ivt_allert_list):\n",
    "    payload={\"paused\" : True}\n",
    "    url = 'http://localhost:3000/api/alerts/{}/pause'.format(i)\n",
    "    r=requests.post(url, auth=auth,json=payload)"
   ]
  },
  {
   "cell_type": "code",
   "execution_count": 35,
   "metadata": {},
   "outputs": [
    {
     "data": {
      "text/plain": [
       "b'{\"alertId\":6,\"message\":\"Alert paused\",\"state\":\"paused\"}'"
      ]
     },
     "execution_count": 35,
     "metadata": {},
     "output_type": "execute_result"
    }
   ],
   "source": [
    "r.content"
   ]
  },
  {
   "cell_type": "code",
   "execution_count": null,
   "metadata": {},
   "outputs": [],
   "source": []
  },
  {
   "cell_type": "code",
   "execution_count": null,
   "metadata": {},
   "outputs": [],
   "source": []
  }
 ],
 "metadata": {
  "kernelspec": {
   "display_name": "Python 3",
   "language": "python",
   "name": "python3"
  },
  "language_info": {
   "codemirror_mode": {
    "name": "ipython",
    "version": 3
   },
   "file_extension": ".py",
   "mimetype": "text/x-python",
   "name": "python",
   "nbconvert_exporter": "python",
   "pygments_lexer": "ipython3",
   "version": "3.7.3"
  }
 },
 "nbformat": 4,
 "nbformat_minor": 2
}
