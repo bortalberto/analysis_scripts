{
 "cells": [
  {
   "cell_type": "code",
   "execution_count": 25,
   "metadata": {},
   "outputs": [],
   "source": [
    "import ROOT as R\n",
    "%jsroot on"
   ]
  },
  {
   "cell_type": "code",
   "execution_count": 26,
   "metadata": {},
   "outputs": [],
   "source": [
    "c=R.TCanvas()"
   ]
  },
  {
   "cell_type": "code",
   "execution_count": 27,
   "metadata": {},
   "outputs": [],
   "source": [
    "f=R.TFile(\"/home/alb/carmen/420/time_diff.root\")"
   ]
  },
  {
   "cell_type": "code",
   "execution_count": 28,
   "metadata": {},
   "outputs": [
    {
     "name": "stdout",
     "output_type": "stream",
     "text": [
      "======> EVENT:2\n",
      " runNo           = 420\n",
      " subRunNo        = 14\n",
      " count           = 4\n",
      " gemroc          = 9\n",
      " l1_ts_diff_from_mode = 0\n"
     ]
    }
   ],
   "source": [
    "f.tree.Show(2)"
   ]
  },
  {
   "cell_type": "code",
   "execution_count": 29,
   "metadata": {},
   "outputs": [],
   "source": [
    "f.tree.Draw(\"l1_ts_diff_from_mode\")\n"
   ]
  },
  {
   "cell_type": "code",
   "execution_count": 30,
   "metadata": {},
   "outputs": [
    {
     "data": {
      "text/html": [
       "\n",
       "<div id=\"root_plot_1\"\n",
       "     style=\"width: 696px; height: 472px\">\n",
       "</div>\n",
       "\n",
       "<script>\n",
       " requirejs.config({\n",
       "     paths: {\n",
       "       'JSRootCore' : 'https://root.cern.ch/js/notebook//scripts/JSRootCore',\n",
       "     }\n",
       "   });\n",
       " require(['JSRootCore'],\n",
       "     function(Core) {\n",
       "       var obj = Core.JSONR_unref({\"_typename\":\"TCanvas\",\"fUniqueID\":0,\"fBits\":53673992,\"fLineColor\":1,\"fLineStyle\":1,\"fLineWidth\":1,\"fFillColor\":0,\"fFillStyle\":1001,\"fLeftMargin\":0.1,\"fRightMargin\":0.1,\"fBottomMargin\":0.1,\"fTopMargin\":0.1,\"fXfile\":2,\"fYfile\":2,\"fAfile\":1,\"fXstat\":0.99,\"fYstat\":0.99,\"fAstat\":2,\"fFrameFillColor\":0,\"fFrameLineColor\":1,\"fFrameFillStyle\":1001,\"fFrameLineStyle\":1,\"fFrameLineWidth\":1,\"fFrameBorderSize\":1,\"fFrameBorderMode\":0,\"fX1\":-8585.00063963238,\"fY1\":-1028.8688266567,\"fX2\":77265.0006396324,\"fY2\":9259.8188266567,\"fXtoAbsPixelk\":69.6000541484835,\"fXtoPixelk\":69.6000541484835,\"fXtoPixel\":0.00810716353673607,\"fYtoAbsPixelk\":424.800047186661,\"fYtoPixelk\":424.800047186661,\"fYtoPixel\":-0.04587562728158,\"fUtoAbsPixelk\":5e-5,\"fUtoPixelk\":5e-5,\"fUtoPixel\":696,\"fVtoAbsPixelk\":472.00005,\"fVtoPixelk\":472,\"fVtoPixel\":-472,\"fAbsPixeltoXk\":-8585.00063963238,\"fPixeltoXk\":-8585.00063963238,\"fPixeltoX\":123.347702987449,\"fAbsPixeltoYk\":9259.8188266567,\"fPixeltoYk\":-1028.8688266567,\"fPixeltoY\":-21.7980670621047,\"fXlowNDC\":0,\"fYlowNDC\":0,\"fXUpNDC\":0,\"fYUpNDC\":0,\"fWNDC\":1,\"fHNDC\":1,\"fAbsXlowNDC\":0,\"fAbsYlowNDC\":0,\"fAbsWNDC\":1,\"fAbsHNDC\":1,\"fUxmin\":0,\"fUymin\":0,\"fUxmax\":68680,\"fUymax\":8230.95,\"fTheta\":30,\"fPhi\":30,\"fAspectRatio\":0,\"fNumber\":0,\"fTickx\":0,\"fTicky\":0,\"fLogx\":0,\"fLogy\":0,\"fLogz\":0,\"fPadPaint\":0,\"fCrosshair\":0,\"fCrosshairPos\":0,\"fBorderSize\":2,\"fBorderMode\":0,\"fModified\":false,\"fGridx\":false,\"fGridy\":false,\"fAbsCoord\":false,\"fEditable\":true,\"fFixedAspectRatio\":false,\"fPrimitives\":{\"_typename\":\"TList\",\"name\":\"TList\",\"arr\":[{\"_typename\":\"TFrame\",\"fUniqueID\":0,\"fBits\":50331656,\"fLineColor\":1,\"fLineStyle\":1,\"fLineWidth\":1,\"fFillColor\":0,\"fFillStyle\":1001,\"fX1\":0,\"fY1\":0,\"fX2\":68680,\"fY2\":8230.95,\"fBorderSize\":1,\"fBorderMode\":0},{\"_typename\":\"TH1F\",\"fUniqueID\":0,\"fBits\":50331657,\"fName\":\"htemp\",\"fTitle\":\"l1_ts_diff_from_mode\",\"fLineColor\":602,\"fLineStyle\":1,\"fLineWidth\":1,\"fFillColor\":0,\"fFillStyle\":1001,\"fMarkerColor\":1,\"fMarkerStyle\":1,\"fMarkerSize\":1,\"fNcells\":103,\"fXaxis\":{\"_typename\":\"TAxis\",\"fUniqueID\":0,\"fBits\":54525952,\"fName\":\"xaxis\",\"fTitle\":\"l1_ts_diff_from_mode\",\"fNdivisions\":510,\"fAxisColor\":1,\"fLabelColor\":1,\"fLabelFont\":42,\"fLabelOffset\":0.005,\"fLabelSize\":0.035,\"fTickLength\":0.03,\"fTitleOffset\":1,\"fTitleSize\":0.035,\"fTitleColor\":1,\"fTitleFont\":42,\"fNbins\":101,\"fXmin\":0,\"fXmax\":68680,\"fXbins\":[],\"fFirst\":1,\"fLast\":100,\"fBits2\":0,\"fTimeDisplay\":false,\"fTimeFormat\":\"\",\"fLabels\":null,\"fModLabs\":null},\"fYaxis\":{\"_typename\":\"TAxis\",\"fUniqueID\":0,\"fBits\":50331648,\"fName\":\"yaxis\",\"fTitle\":\"\",\"fNdivisions\":510,\"fAxisColor\":1,\"fLabelColor\":1,\"fLabelFont\":42,\"fLabelOffset\":0.005,\"fLabelSize\":0.035,\"fTickLength\":0.03,\"fTitleOffset\":0,\"fTitleSize\":0.035,\"fTitleColor\":1,\"fTitleFont\":42,\"fNbins\":1,\"fXmin\":0,\"fXmax\":1,\"fXbins\":[],\"fFirst\":0,\"fLast\":0,\"fBits2\":0,\"fTimeDisplay\":false,\"fTimeFormat\":\"\",\"fLabels\":null,\"fModLabs\":null},\"fZaxis\":{\"_typename\":\"TAxis\",\"fUniqueID\":0,\"fBits\":50331648,\"fName\":\"zaxis\",\"fTitle\":\"\",\"fNdivisions\":510,\"fAxisColor\":1,\"fLabelColor\":1,\"fLabelFont\":42,\"fLabelOffset\":0.005,\"fLabelSize\":0.035,\"fTickLength\":0.03,\"fTitleOffset\":1,\"fTitleSize\":0.035,\"fTitleColor\":1,\"fTitleFont\":42,\"fNbins\":1,\"fXmin\":0,\"fXmax\":1,\"fXbins\":[],\"fFirst\":0,\"fLast\":0,\"fBits2\":0,\"fTimeDisplay\":false,\"fTimeFormat\":\"\",\"fLabels\":null,\"fModLabs\":null},\"fBarOffset\":0,\"fBarWidth\":1000,\"fEntries\":69033,\"fTsumw\":69033,\"fTsumw2\":69033,\"fTsumwx\":1784125395,\"fTsumwx2\":71267685498331,\"fMaximum\":-1111,\"fMinimum\":-1111,\"fNormFactor\":0,\"fContour\":[],\"fSumw2\":[],\"fOption\":\"\",\"fFunctions\":{\"_typename\":\"TList\",\"name\":\"TList\",\"arr\":[{\"_typename\":\"TPaveStats\",\"fUniqueID\":0,\"fBits\":50331657,\"fLineColor\":1,\"fLineStyle\":1,\"fLineWidth\":1,\"fFillColor\":0,\"fFillStyle\":1001,\"fX1\":58378.0017398,\"fY1\":6944.86416598654,\"fX2\":75548.0022515059,\"fY2\":8591.05415372147,\"fX1NDC\":0.780000016093254,\"fY1NDC\":0.775000005960464,\"fX2NDC\":0.980000019073486,\"fY2NDC\":0.935000002384186,\"fBorderSize\":1,\"fInit\":1,\"fShadowColor\":1,\"fCornerRadius\":0,\"fOption\":\"brNDC\",\"fName\":\"stats\",\"fTextAngle\":0,\"fTextSize\":0,\"fTextAlign\":12,\"fTextColor\":1,\"fTextFont\":42,\"fLabel\":\"\",\"fLongest\":21,\"fMargin\":0.05,\"fLines\":{\"_typename\":\"TList\",\"name\":\"TList\",\"arr\":[{\"_typename\":\"TLatex\",\"fUniqueID\":0,\"fBits\":50331648,\"fName\":\"\",\"fTitle\":\"htemp\",\"fTextAngle\":0,\"fTextSize\":0.0368,\"fTextAlign\":0,\"fTextColor\":0,\"fTextFont\":0,\"fX\":0,\"fY\":0,\"fLineColor\":1,\"fLineStyle\":1,\"fLineWidth\":2,\"fLimitFactorSize\":3,\"fOriginSize\":0.0368000008165836},{\"_typename\":\"TLatex\",\"fUniqueID\":0,\"fBits\":50331648,\"fName\":\"\",\"fTitle\":\"Entries = 69033  \",\"fTextAngle\":0,\"fTextSize\":0,\"fTextAlign\":0,\"fTextColor\":0,\"fTextFont\":0,\"fX\":0,\"fY\":0,\"fLineColor\":1,\"fLineStyle\":1,\"fLineWidth\":2,\"fLimitFactorSize\":3,\"fOriginSize\":0.04},{\"_typename\":\"TLatex\",\"fUniqueID\":0,\"fBits\":50331648,\"fName\":\"\",\"fTitle\":\"Mean  = 2.584e+04\",\"fTextAngle\":0,\"fTextSize\":0,\"fTextAlign\":0,\"fTextColor\":0,\"fTextFont\":0,\"fX\":0,\"fY\":0,\"fLineColor\":1,\"fLineStyle\":1,\"fLineWidth\":2,\"fLimitFactorSize\":3,\"fOriginSize\":0.04},{\"_typename\":\"TLatex\",\"fUniqueID\":0,\"fBits\":50331648,\"fName\":\"\",\"fTitle\":\"Std Dev   = 1.909e+04\",\"fTextAngle\":0,\"fTextSize\":0,\"fTextAlign\":0,\"fTextColor\":0,\"fTextFont\":0,\"fX\":0,\"fY\":0,\"fLineColor\":1,\"fLineStyle\":1,\"fLineWidth\":2,\"fLimitFactorSize\":3,\"fOriginSize\":0.04}],\"opt\":[\"\",\"\",\"\",\"\"]},\"fOptFit\":0,\"fOptStat\":1111,\"fFitFormat\":\"5.4g\",\"fStatFormat\":\"6.4g\",\"fParent\":{\"$ref\":3}}],\"opt\":[\"brNDC\"]},\"fBufferSize\":0,\"fBuffer\":[],\"fBinStatErrOpt\":0,\"fStatOverflows\":2,\"fArray\":[0,7839,920,962,945,942,886,879,863,858,753,798,782,744,774,732,711,696,711,725,688,702,737,706,707,677,707,719,701,693,696,661,693,707,671,690,670,688,667,728,704,693,660,664,663,646,707,660,710,679,673,673,644,664,632,676,674,647,720,687,702,703,714,741,724,720,697,680,695,618,622,607,602,586,572,539,540,534,524,530,493,512,514,514,518,433,451,422,413,403,404,352,329,265,220,164,67,5,0,0,0,0,0]},{\"_typename\":\"TPaveText\",\"fUniqueID\":0,\"fBits\":50331657,\"fLineColor\":1,\"fLineStyle\":1,\"fLineWidth\":1,\"fFillColor\":0,\"fFillStyle\":0,\"fX1\":18124.7109652699,\"fY1\":8606.74878653633,\"fX2\":50555.2890347301,\"fY2\":9208.37543745042,\"fX1NDC\":0.311120689655172,\"fY1NDC\":0.936525428497185,\"fX2NDC\":0.688879310344828,\"fY2NDC\":0.995000004768372,\"fBorderSize\":0,\"fInit\":1,\"fShadowColor\":1,\"fCornerRadius\":0,\"fOption\":\"blNDC\",\"fName\":\"title\",\"fTextAngle\":0,\"fTextSize\":0,\"fTextAlign\":22,\"fTextColor\":1,\"fTextFont\":42,\"fLabel\":\"\",\"fLongest\":20,\"fMargin\":0.05,\"fLines\":{\"_typename\":\"TList\",\"name\":\"TList\",\"arr\":[{\"_typename\":\"TLatex\",\"fUniqueID\":0,\"fBits\":50331648,\"fName\":\"\",\"fTitle\":\"l1_ts_diff_from_mode\",\"fTextAngle\":0,\"fTextSize\":0,\"fTextAlign\":0,\"fTextColor\":0,\"fTextFont\":0,\"fX\":0,\"fY\":0,\"fLineColor\":1,\"fLineStyle\":1,\"fLineWidth\":2,\"fLimitFactorSize\":3,\"fOriginSize\":0.0497033894062042}],\"opt\":[\"\"]}}],\"opt\":[\"\",\"\",\"blNDC\"]},\"fExecs\":null,\"fName\":\"c1_n3\",\"fTitle\":\"c1_n3\",\"fNumPaletteColor\":0,\"fNextPaletteColor\":0,\"fDISPLAY\":\"$DISPLAY\",\"fDoubleBuffer\":0,\"fRetained\":true,\"fXsizeUser\":0,\"fYsizeUser\":0,\"fXsizeReal\":20,\"fYsizeReal\":14.28571,\"fWindowTopX\":0,\"fWindowTopY\":0,\"fWindowWidth\":0,\"fWindowHeight\":0,\"fCw\":696,\"fCh\":472,\"fCatt\":{\"_typename\":\"TAttCanvas\",\"fXBetween\":2,\"fYBetween\":2,\"fTitleFromTop\":1.2,\"fXdate\":0.2,\"fYdate\":0.3,\"fAdate\":1},\"kMoveOpaque\":true,\"kResizeOpaque\":true,\"fHighLightColor\":2,\"fBatch\":true,\"kShowEventStatus\":false,\"kAutoExec\":true,\"kMenuBar\":true});\n",
       "       Core.draw(\"root_plot_1\", obj, \"\");\n",
       "     }\n",
       " );\n",
       "</script>\n"
      ],
      "text/plain": [
       "<IPython.core.display.HTML object>"
      ]
     },
     "metadata": {},
     "output_type": "display_data"
    }
   ],
   "source": [
    "c.Draw()"
   ]
  },
  {
   "cell_type": "code",
   "execution_count": 37,
   "metadata": {},
   "outputs": [],
   "source": [
    "f=R.TFile(\"/home/alb/carmen/351/time_diff.root\")"
   ]
  },
  {
   "cell_type": "code",
   "execution_count": 38,
   "metadata": {},
   "outputs": [],
   "source": [
    "f.tree.Draw(\"l1_ts_diff_from_mode\")\n"
   ]
  },
  {
   "cell_type": "code",
   "execution_count": 39,
   "metadata": {},
   "outputs": [
    {
     "data": {
      "text/html": [
       "\n",
       "<div id=\"root_plot_4\"\n",
       "     style=\"width: 696px; height: 472px\">\n",
       "</div>\n",
       "\n",
       "<script>\n",
       " requirejs.config({\n",
       "     paths: {\n",
       "       'JSRootCore' : 'https://root.cern.ch/js/notebook//scripts/JSRootCore',\n",
       "     }\n",
       "   });\n",
       " require(['JSRootCore'],\n",
       "     function(Core) {\n",
       "       var obj = Core.JSONR_unref({\"_typename\":\"TCanvas\",\"fUniqueID\":0,\"fBits\":53673992,\"fLineColor\":1,\"fLineStyle\":1,\"fLineWidth\":1,\"fFillColor\":0,\"fFillStyle\":1001,\"fLeftMargin\":0.1,\"fRightMargin\":0.1,\"fBottomMargin\":0.1,\"fTopMargin\":0.1,\"fXfile\":2,\"fYfile\":2,\"fAfile\":1,\"fXstat\":0.99,\"fYstat\":0.99,\"fAstat\":2,\"fFrameFillColor\":0,\"fFrameLineColor\":1,\"fFrameFillStyle\":1001,\"fFrameLineStyle\":1,\"fFrameLineWidth\":1,\"fFrameBorderSize\":1,\"fFrameBorderMode\":0,\"fX1\":-0.625000046566132,\"fY1\":-343887.494371615,\"fX2\":5.62500004656613,\"fY2\":3094987.24437161,\"fXtoAbsPixelk\":69.6000541484835,\"fXtoPixelk\":69.6000541484835,\"fXtoPixel\":111.359998340607,\"fYtoAbsPixelk\":424.800047186661,\"fYtoPixelk\":424.800047186661,\"fYtoPixel\":-1.37254199660816e-4,\"fUtoAbsPixelk\":5e-5,\"fUtoPixelk\":5e-5,\"fUtoPixel\":696,\"fVtoAbsPixelk\":472.00005,\"fVtoPixelk\":472,\"fVtoPixel\":-472,\"fAbsPixeltoXk\":-0.625000046566132,\"fPixeltoXk\":-0.625000046566132,\"fPixeltoX\":0.00897988519128199,\"fAbsPixeltoYk\":3094987.24437161,\"fPixeltoYk\":-343887.494371615,\"fPixeltoY\":-7285.75156513396,\"fXlowNDC\":0,\"fYlowNDC\":0,\"fXUpNDC\":0,\"fYUpNDC\":0,\"fWNDC\":1,\"fHNDC\":1,\"fAbsXlowNDC\":0,\"fAbsYlowNDC\":0,\"fAbsWNDC\":1,\"fAbsHNDC\":1,\"fUxmin\":0,\"fUymin\":0,\"fUxmax\":5,\"fUymax\":2751099.75,\"fTheta\":30,\"fPhi\":30,\"fAspectRatio\":0,\"fNumber\":0,\"fTickx\":0,\"fTicky\":0,\"fLogx\":0,\"fLogy\":0,\"fLogz\":0,\"fPadPaint\":0,\"fCrosshair\":0,\"fCrosshairPos\":0,\"fBorderSize\":2,\"fBorderMode\":0,\"fModified\":false,\"fGridx\":false,\"fGridy\":false,\"fAbsCoord\":false,\"fEditable\":true,\"fFixedAspectRatio\":false,\"fPrimitives\":{\"_typename\":\"TList\",\"name\":\"TList\",\"arr\":[{\"_typename\":\"TFrame\",\"fUniqueID\":0,\"fBits\":50331656,\"fLineColor\":1,\"fLineStyle\":1,\"fLineWidth\":1,\"fFillColor\":0,\"fFillStyle\":1001,\"fX1\":0,\"fY1\":0,\"fX2\":5,\"fY2\":2751099.75,\"fBorderSize\":1,\"fBorderMode\":0},{\"_typename\":\"TH1F\",\"fUniqueID\":0,\"fBits\":50331657,\"fName\":\"htemp\",\"fTitle\":\"l1_ts_diff_from_mode\",\"fLineColor\":602,\"fLineStyle\":1,\"fLineWidth\":1,\"fFillColor\":0,\"fFillStyle\":1001,\"fMarkerColor\":1,\"fMarkerStyle\":1,\"fMarkerSize\":1,\"fNcells\":7,\"fXaxis\":{\"_typename\":\"TAxis\",\"fUniqueID\":0,\"fBits\":54525952,\"fName\":\"xaxis\",\"fTitle\":\"l1_ts_diff_from_mode\",\"fNdivisions\":510,\"fAxisColor\":1,\"fLabelColor\":1,\"fLabelFont\":42,\"fLabelOffset\":0.005,\"fLabelSize\":0.035,\"fTickLength\":0.03,\"fTitleOffset\":1,\"fTitleSize\":0.035,\"fTitleColor\":1,\"fTitleFont\":42,\"fNbins\":5,\"fXmin\":0,\"fXmax\":5,\"fXbins\":[],\"fFirst\":1,\"fLast\":100,\"fBits2\":0,\"fTimeDisplay\":false,\"fTimeFormat\":\"\",\"fLabels\":null,\"fModLabs\":null},\"fYaxis\":{\"_typename\":\"TAxis\",\"fUniqueID\":0,\"fBits\":50331648,\"fName\":\"yaxis\",\"fTitle\":\"\",\"fNdivisions\":510,\"fAxisColor\":1,\"fLabelColor\":1,\"fLabelFont\":42,\"fLabelOffset\":0.005,\"fLabelSize\":0.035,\"fTickLength\":0.03,\"fTitleOffset\":0,\"fTitleSize\":0.035,\"fTitleColor\":1,\"fTitleFont\":42,\"fNbins\":1,\"fXmin\":0,\"fXmax\":1,\"fXbins\":[],\"fFirst\":0,\"fLast\":0,\"fBits2\":0,\"fTimeDisplay\":false,\"fTimeFormat\":\"\",\"fLabels\":null,\"fModLabs\":null},\"fZaxis\":{\"_typename\":\"TAxis\",\"fUniqueID\":0,\"fBits\":50331648,\"fName\":\"zaxis\",\"fTitle\":\"\",\"fNdivisions\":510,\"fAxisColor\":1,\"fLabelColor\":1,\"fLabelFont\":42,\"fLabelOffset\":0.005,\"fLabelSize\":0.035,\"fTickLength\":0.03,\"fTitleOffset\":1,\"fTitleSize\":0.035,\"fTitleColor\":1,\"fTitleFont\":42,\"fNbins\":1,\"fXmin\":0,\"fXmax\":1,\"fXbins\":[],\"fFirst\":0,\"fLast\":0,\"fBits2\":0,\"fTimeDisplay\":false,\"fTimeFormat\":\"\",\"fLabels\":null,\"fModLabs\":null},\"fBarOffset\":0,\"fBarWidth\":1000,\"fEntries\":2784434,\"fTsumw\":2784434,\"fTsumw2\":2784434,\"fTsumwx\":269926,\"fTsumwx2\":684478,\"fMaximum\":-1111,\"fMinimum\":-1111,\"fNormFactor\":0,\"fContour\":[],\"fSumw2\":[],\"fOption\":\"\",\"fFunctions\":{\"_typename\":\"TList\",\"name\":\"TList\",\"arr\":[{\"_typename\":\"TPaveStats\",\"fUniqueID\":0,\"fBits\":50331657,\"fLineColor\":1,\"fLineStyle\":1,\"fLineWidth\":1,\"fFillColor\":0,\"fFillStyle\":1001,\"fX1\":4.25000012665987,\"fY1\":2321240.44865168,\"fX2\":5.50000016391278,\"fY2\":2871460.39455222,\"fX1NDC\":0.780000016093254,\"fY1NDC\":0.775000005960464,\"fX2NDC\":0.980000019073486,\"fY2NDC\":0.935000002384186,\"fBorderSize\":1,\"fInit\":1,\"fShadowColor\":1,\"fCornerRadius\":0,\"fOption\":\"brNDC\",\"fName\":\"stats\",\"fTextAngle\":0,\"fTextSize\":0,\"fTextAlign\":12,\"fTextColor\":1,\"fTextFont\":42,\"fLabel\":\"\",\"fLongest\":18,\"fMargin\":0.05,\"fLines\":{\"_typename\":\"TList\",\"name\":\"TList\",\"arr\":[{\"_typename\":\"TLatex\",\"fUniqueID\":0,\"fBits\":50331648,\"fName\":\"\",\"fTitle\":\"htemp\",\"fTextAngle\":0,\"fTextSize\":0.0368,\"fTextAlign\":0,\"fTextColor\":0,\"fTextFont\":0,\"fX\":0,\"fY\":0,\"fLineColor\":1,\"fLineStyle\":1,\"fLineWidth\":2,\"fLimitFactorSize\":3,\"fOriginSize\":0.0368000008165836},{\"_typename\":\"TLatex\",\"fUniqueID\":0,\"fBits\":50331648,\"fName\":\"\",\"fTitle\":\"Entries = 2784434\",\"fTextAngle\":0,\"fTextSize\":0,\"fTextAlign\":0,\"fTextColor\":0,\"fTextFont\":0,\"fX\":0,\"fY\":0,\"fLineColor\":1,\"fLineStyle\":1,\"fLineWidth\":2,\"fLimitFactorSize\":3,\"fOriginSize\":0.04},{\"_typename\":\"TLatex\",\"fUniqueID\":0,\"fBits\":50331648,\"fName\":\"\",\"fTitle\":\"Mean  = 0.09694\",\"fTextAngle\":0,\"fTextSize\":0,\"fTextAlign\":0,\"fTextColor\":0,\"fTextFont\":0,\"fX\":0,\"fY\":0,\"fLineColor\":1,\"fLineStyle\":1,\"fLineWidth\":2,\"fLimitFactorSize\":3,\"fOriginSize\":0.04},{\"_typename\":\"TLatex\",\"fUniqueID\":0,\"fBits\":50331648,\"fName\":\"\",\"fTitle\":\"Std Dev   = 0.4862\",\"fTextAngle\":0,\"fTextSize\":0,\"fTextAlign\":0,\"fTextColor\":0,\"fTextFont\":0,\"fX\":0,\"fY\":0,\"fLineColor\":1,\"fLineStyle\":1,\"fLineWidth\":2,\"fLimitFactorSize\":3,\"fOriginSize\":0.04}],\"opt\":[\"\",\"\",\"\",\"\"]},\"fOptFit\":0,\"fOptStat\":1111,\"fFitFormat\":\"5.4g\",\"fStatFormat\":\"6.4g\",\"fParent\":{\"$ref\":3}}],\"opt\":[\"brNDC\"]},\"fBufferSize\":0,\"fBuffer\":[],\"fBinStatErrOpt\":0,\"fStatOverflows\":2,\"fArray\":[0,2620095,127844,0,3898,32597,0]},{\"_typename\":\"TPaveText\",\"fUniqueID\":0,\"fBits\":50331657,\"fLineColor\":1,\"fLineStyle\":1,\"fLineWidth\":1,\"fFillColor\":0,\"fFillStyle\":0,\"fX1\":1.31950429275407,\"fY1\":2876706.14387803,\"fX2\":3.68049570724593,\"fY2\":3077792.88707573,\"fX1NDC\":0.311120689655172,\"fY1NDC\":0.936525428497185,\"fX2NDC\":0.688879310344828,\"fY2NDC\":0.995000004768372,\"fBorderSize\":0,\"fInit\":1,\"fShadowColor\":1,\"fCornerRadius\":0,\"fOption\":\"blNDC\",\"fName\":\"title\",\"fTextAngle\":0,\"fTextSize\":0,\"fTextAlign\":22,\"fTextColor\":1,\"fTextFont\":42,\"fLabel\":\"\",\"fLongest\":20,\"fMargin\":0.05,\"fLines\":{\"_typename\":\"TList\",\"name\":\"TList\",\"arr\":[{\"_typename\":\"TLatex\",\"fUniqueID\":0,\"fBits\":50331648,\"fName\":\"\",\"fTitle\":\"l1_ts_diff_from_mode\",\"fTextAngle\":0,\"fTextSize\":0,\"fTextAlign\":0,\"fTextColor\":0,\"fTextFont\":0,\"fX\":0,\"fY\":0,\"fLineColor\":1,\"fLineStyle\":1,\"fLineWidth\":2,\"fLimitFactorSize\":3,\"fOriginSize\":0.0497033894062042}],\"opt\":[\"\"]}}],\"opt\":[\"\",\"\",\"blNDC\"]},\"fExecs\":null,\"fName\":\"c1_n3\",\"fTitle\":\"c1_n3\",\"fNumPaletteColor\":0,\"fNextPaletteColor\":0,\"fDISPLAY\":\"$DISPLAY\",\"fDoubleBuffer\":0,\"fRetained\":true,\"fXsizeUser\":0,\"fYsizeUser\":0,\"fXsizeReal\":20,\"fYsizeReal\":14.28571,\"fWindowTopX\":0,\"fWindowTopY\":0,\"fWindowWidth\":0,\"fWindowHeight\":0,\"fCw\":696,\"fCh\":472,\"fCatt\":{\"_typename\":\"TAttCanvas\",\"fXBetween\":2,\"fYBetween\":2,\"fTitleFromTop\":1.2,\"fXdate\":0.2,\"fYdate\":0.3,\"fAdate\":1},\"kMoveOpaque\":true,\"kResizeOpaque\":true,\"fHighLightColor\":2,\"fBatch\":true,\"kShowEventStatus\":false,\"kAutoExec\":true,\"kMenuBar\":true});\n",
       "       Core.draw(\"root_plot_4\", obj, \"\");\n",
       "     }\n",
       " );\n",
       "</script>\n"
      ],
      "text/plain": [
       "<IPython.core.display.HTML object>"
      ]
     },
     "metadata": {},
     "output_type": "display_data"
    }
   ],
   "source": [
    "c.Draw()"
   ]
  },
  {
   "cell_type": "code",
   "execution_count": 40,
   "metadata": {},
   "outputs": [
    {
     "data": {
      "text/html": [
       "\n",
       "<div id=\"root_plot_5\"\n",
       "     style=\"width: 696px; height: 472px\">\n",
       "</div>\n",
       "\n",
       "<script>\n",
       " requirejs.config({\n",
       "     paths: {\n",
       "       'JSRootCore' : 'https://root.cern.ch/js/notebook//scripts/JSRootCore',\n",
       "     }\n",
       "   });\n",
       " require(['JSRootCore'],\n",
       "     function(Core) {\n",
       "       var obj = Core.JSONR_unref({\"_typename\":\"TCanvas\",\"fUniqueID\":0,\"fBits\":53673992,\"fLineColor\":1,\"fLineStyle\":1,\"fLineWidth\":1,\"fFillColor\":0,\"fFillStyle\":1001,\"fLeftMargin\":0.1,\"fRightMargin\":0.1,\"fBottomMargin\":0.1,\"fTopMargin\":0.1,\"fXfile\":2,\"fYfile\":2,\"fAfile\":1,\"fXstat\":0.99,\"fYstat\":0.99,\"fAstat\":2,\"fFrameFillColor\":0,\"fFrameLineColor\":1,\"fFrameFillStyle\":1001,\"fFrameLineStyle\":1,\"fFrameLineWidth\":1,\"fFrameBorderSize\":1,\"fFrameBorderMode\":0,\"fX1\":-0.625000046566132,\"fY1\":-36511.6527203301,\"fX2\":5.62500004656613,\"fY2\":328604.85272033,\"fXtoAbsPixelk\":69.6000541484835,\"fXtoPixelk\":69.6000541484835,\"fXtoPixel\":111.359998340607,\"fYtoAbsPixelk\":424.800047186661,\"fYtoPixelk\":424.800047186661,\"fYtoPixel\":-0.00129273805200984,\"fUtoAbsPixelk\":5e-5,\"fUtoPixelk\":5e-5,\"fUtoPixel\":696,\"fVtoAbsPixelk\":472.00005,\"fVtoPixelk\":472,\"fVtoPixel\":-472,\"fAbsPixeltoXk\":-0.625000046566132,\"fPixeltoXk\":-0.625000046566132,\"fPixeltoX\":0.00897988519128199,\"fAbsPixeltoYk\":328604.85272033,\"fPixeltoYk\":-36511.6527203301,\"fPixeltoY\":-773.551918306483,\"fXlowNDC\":0,\"fYlowNDC\":0,\"fXUpNDC\":0,\"fYUpNDC\":0,\"fWNDC\":1,\"fHNDC\":1,\"fAbsXlowNDC\":0,\"fAbsYlowNDC\":0,\"fAbsWNDC\":1,\"fAbsHNDC\":1,\"fUxmin\":0,\"fUymin\":0,\"fUxmax\":5,\"fUymax\":292093.2,\"fTheta\":30,\"fPhi\":30,\"fAspectRatio\":0,\"fNumber\":0,\"fTickx\":0,\"fTicky\":0,\"fLogx\":0,\"fLogy\":0,\"fLogz\":0,\"fPadPaint\":0,\"fCrosshair\":0,\"fCrosshairPos\":0,\"fBorderSize\":2,\"fBorderMode\":0,\"fModified\":false,\"fGridx\":false,\"fGridy\":false,\"fAbsCoord\":false,\"fEditable\":true,\"fFixedAspectRatio\":false,\"fPrimitives\":{\"_typename\":\"TList\",\"name\":\"TList\",\"arr\":[{\"_typename\":\"TFrame\",\"fUniqueID\":0,\"fBits\":50331656,\"fLineColor\":1,\"fLineStyle\":1,\"fLineWidth\":1,\"fFillColor\":0,\"fFillStyle\":1001,\"fX1\":0,\"fY1\":0,\"fX2\":5,\"fY2\":292093.2,\"fBorderSize\":1,\"fBorderMode\":0},{\"_typename\":\"TH1F\",\"fUniqueID\":0,\"fBits\":50331657,\"fName\":\"htemp\",\"fTitle\":\"l1_ts_diff_from_mode\",\"fLineColor\":602,\"fLineStyle\":1,\"fLineWidth\":1,\"fFillColor\":0,\"fFillStyle\":1001,\"fMarkerColor\":1,\"fMarkerStyle\":1,\"fMarkerSize\":1,\"fNcells\":7,\"fXaxis\":{\"_typename\":\"TAxis\",\"fUniqueID\":0,\"fBits\":54525952,\"fName\":\"xaxis\",\"fTitle\":\"l1_ts_diff_from_mode\",\"fNdivisions\":510,\"fAxisColor\":1,\"fLabelColor\":1,\"fLabelFont\":42,\"fLabelOffset\":0.005,\"fLabelSize\":0.035,\"fTickLength\":0.03,\"fTitleOffset\":1,\"fTitleSize\":0.035,\"fTitleColor\":1,\"fTitleFont\":42,\"fNbins\":5,\"fXmin\":0,\"fXmax\":5,\"fXbins\":[],\"fFirst\":1,\"fLast\":100,\"fBits2\":0,\"fTimeDisplay\":false,\"fTimeFormat\":\"\",\"fLabels\":null,\"fModLabs\":null},\"fYaxis\":{\"_typename\":\"TAxis\",\"fUniqueID\":0,\"fBits\":50331648,\"fName\":\"yaxis\",\"fTitle\":\"\",\"fNdivisions\":510,\"fAxisColor\":1,\"fLabelColor\":1,\"fLabelFont\":42,\"fLabelOffset\":0.005,\"fLabelSize\":0.035,\"fTickLength\":0.03,\"fTitleOffset\":0,\"fTitleSize\":0.035,\"fTitleColor\":1,\"fTitleFont\":42,\"fNbins\":1,\"fXmin\":0,\"fXmax\":1,\"fXbins\":[],\"fFirst\":0,\"fLast\":0,\"fBits2\":0,\"fTimeDisplay\":false,\"fTimeFormat\":\"\",\"fLabels\":null,\"fModLabs\":null},\"fZaxis\":{\"_typename\":\"TAxis\",\"fUniqueID\":0,\"fBits\":50331648,\"fName\":\"zaxis\",\"fTitle\":\"\",\"fNdivisions\":510,\"fAxisColor\":1,\"fLabelColor\":1,\"fLabelFont\":42,\"fLabelOffset\":0.005,\"fLabelSize\":0.035,\"fTickLength\":0.03,\"fTitleOffset\":1,\"fTitleSize\":0.035,\"fTitleColor\":1,\"fTitleFont\":42,\"fNbins\":1,\"fXmin\":0,\"fXmax\":1,\"fXbins\":[],\"fFirst\":0,\"fLast\":0,\"fBits2\":0,\"fTimeDisplay\":false,\"fTimeFormat\":\"\",\"fLabels\":null,\"fModLabs\":null},\"fBarOffset\":0,\"fBarWidth\":1000,\"fEntries\":295280,\"fTsumw\":295280,\"fTsumw2\":295280,\"fTsumwx\":27564,\"fTsumwx2\":68676,\"fMaximum\":-1111,\"fMinimum\":-1111,\"fNormFactor\":0,\"fContour\":[],\"fSumw2\":[],\"fOption\":\"\",\"fFunctions\":{\"_typename\":\"TList\",\"name\":\"TList\",\"arr\":[{\"_typename\":\"TPaveStats\",\"fUniqueID\":0,\"fBits\":50331657,\"fLineColor\":1,\"fLineStyle\":1,\"fLineWidth\":1,\"fFillColor\":0,\"fFillStyle\":1001,\"fX1\":4.25000012665987,\"fY1\":246453.641172446,\"fX2\":5.50000016391278,\"fY2\":304872.280737193,\"fX1NDC\":0.780000016093254,\"fY1NDC\":0.775000005960464,\"fX2NDC\":0.980000019073486,\"fY2NDC\":0.935000002384186,\"fBorderSize\":1,\"fInit\":1,\"fShadowColor\":1,\"fCornerRadius\":0,\"fOption\":\"brNDC\",\"fName\":\"stats\",\"fTextAngle\":0,\"fTextSize\":0,\"fTextAlign\":12,\"fTextColor\":1,\"fTextFont\":42,\"fLabel\":\"\",\"fLongest\":18,\"fMargin\":0.05,\"fLines\":{\"_typename\":\"TList\",\"name\":\"TList\",\"arr\":[{\"_typename\":\"TLatex\",\"fUniqueID\":0,\"fBits\":50331648,\"fName\":\"\",\"fTitle\":\"htemp\",\"fTextAngle\":0,\"fTextSize\":0.0368,\"fTextAlign\":0,\"fTextColor\":0,\"fTextFont\":0,\"fX\":0,\"fY\":0,\"fLineColor\":1,\"fLineStyle\":1,\"fLineWidth\":2,\"fLimitFactorSize\":3,\"fOriginSize\":0.0368000008165836},{\"_typename\":\"TLatex\",\"fUniqueID\":0,\"fBits\":50331648,\"fName\":\"\",\"fTitle\":\"Entries = 295280 \",\"fTextAngle\":0,\"fTextSize\":0,\"fTextAlign\":0,\"fTextColor\":0,\"fTextFont\":0,\"fX\":0,\"fY\":0,\"fLineColor\":1,\"fLineStyle\":1,\"fLineWidth\":2,\"fLimitFactorSize\":3,\"fOriginSize\":0.04},{\"_typename\":\"TLatex\",\"fUniqueID\":0,\"fBits\":50331648,\"fName\":\"\",\"fTitle\":\"Mean  = 0.09335\",\"fTextAngle\":0,\"fTextSize\":0,\"fTextAlign\":0,\"fTextColor\":0,\"fTextFont\":0,\"fX\":0,\"fY\":0,\"fLineColor\":1,\"fLineStyle\":1,\"fLineWidth\":2,\"fLimitFactorSize\":3,\"fOriginSize\":0.04},{\"_typename\":\"TLatex\",\"fUniqueID\":0,\"fBits\":50331648,\"fName\":\"\",\"fTitle\":\"Std Dev   = 0.4731\",\"fTextAngle\":0,\"fTextSize\":0,\"fTextAlign\":0,\"fTextColor\":0,\"fTextFont\":0,\"fX\":0,\"fY\":0,\"fLineColor\":1,\"fLineStyle\":1,\"fLineWidth\":2,\"fLimitFactorSize\":3,\"fOriginSize\":0.04}],\"opt\":[\"\",\"\",\"\",\"\"]},\"fOptFit\":0,\"fOptStat\":1111,\"fFitFormat\":\"5.4g\",\"fStatFormat\":\"6.4g\",\"fParent\":{\"$ref\":3}}],\"opt\":[\"brNDC\"]},\"fBufferSize\":0,\"fBuffer\":[],\"fBinStatErrOpt\":0,\"fStatOverflows\":2,\"fArray\":[0,278184,13480,0,380,3236,0]},{\"_typename\":\"TPaveText\",\"fUniqueID\":0,\"fBits\":50331657,\"fLineColor\":1,\"fLineStyle\":1,\"fLineWidth\":1,\"fFillColor\":0,\"fFillStyle\":0,\"fX1\":1.31950429275407,\"fY1\":305429.238988879,\"fX2\":3.68049570724593,\"fY2\":326779.271934138,\"fX1NDC\":0.311120689655172,\"fY1NDC\":0.936525428497185,\"fX2NDC\":0.688879310344828,\"fY2NDC\":0.995000004768372,\"fBorderSize\":0,\"fInit\":1,\"fShadowColor\":1,\"fCornerRadius\":0,\"fOption\":\"blNDC\",\"fName\":\"title\",\"fTextAngle\":0,\"fTextSize\":0,\"fTextAlign\":22,\"fTextColor\":1,\"fTextFont\":42,\"fLabel\":\"\",\"fLongest\":20,\"fMargin\":0.05,\"fLines\":{\"_typename\":\"TList\",\"name\":\"TList\",\"arr\":[{\"_typename\":\"TLatex\",\"fUniqueID\":0,\"fBits\":50331648,\"fName\":\"\",\"fTitle\":\"l1_ts_diff_from_mode\",\"fTextAngle\":0,\"fTextSize\":0,\"fTextAlign\":0,\"fTextColor\":0,\"fTextFont\":0,\"fX\":0,\"fY\":0,\"fLineColor\":1,\"fLineStyle\":1,\"fLineWidth\":2,\"fLimitFactorSize\":3,\"fOriginSize\":0.0497033894062042}],\"opt\":[\"\"]}}],\"opt\":[\"\",\"\",\"blNDC\"]},\"fExecs\":null,\"fName\":\"c1_n3\",\"fTitle\":\"c1_n3\",\"fNumPaletteColor\":0,\"fNextPaletteColor\":0,\"fDISPLAY\":\"$DISPLAY\",\"fDoubleBuffer\":0,\"fRetained\":true,\"fXsizeUser\":0,\"fYsizeUser\":0,\"fXsizeReal\":20,\"fYsizeReal\":14.28571,\"fWindowTopX\":0,\"fWindowTopY\":0,\"fWindowWidth\":0,\"fWindowHeight\":0,\"fCw\":696,\"fCh\":472,\"fCatt\":{\"_typename\":\"TAttCanvas\",\"fXBetween\":2,\"fYBetween\":2,\"fTitleFromTop\":1.2,\"fXdate\":0.2,\"fYdate\":0.3,\"fAdate\":1},\"kMoveOpaque\":true,\"kResizeOpaque\":true,\"fHighLightColor\":2,\"fBatch\":true,\"kShowEventStatus\":false,\"kAutoExec\":true,\"kMenuBar\":true});\n",
       "       Core.draw(\"root_plot_5\", obj, \"\");\n",
       "     }\n",
       " );\n",
       "</script>\n"
      ],
      "text/plain": [
       "<IPython.core.display.HTML object>"
      ]
     },
     "metadata": {},
     "output_type": "display_data"
    }
   ],
   "source": [
    "f=R.TFile(\"/home/alb/carmen/424/time_diff.root\")\n",
    "f.tree.Draw(\"l1_ts_diff_from_mode\")\n",
    "c.Draw()"
   ]
  },
  {
   "cell_type": "code",
   "execution_count": 43,
   "metadata": {},
   "outputs": [
    {
     "data": {
      "text/html": [
       "\n",
       "<div id=\"root_plot_8\"\n",
       "     style=\"width: 696px; height: 472px\">\n",
       "</div>\n",
       "\n",
       "<script>\n",
       " requirejs.config({\n",
       "     paths: {\n",
       "       'JSRootCore' : 'https://root.cern.ch/js/notebook//scripts/JSRootCore',\n",
       "     }\n",
       "   });\n",
       " require(['JSRootCore'],\n",
       "     function(Core) {\n",
       "       var obj = Core.JSONR_unref({\"_typename\":\"TCanvas\",\"fUniqueID\":0,\"fBits\":53673992,\"fLineColor\":1,\"fLineStyle\":1,\"fLineWidth\":1,\"fFillColor\":0,\"fFillStyle\":1001,\"fLeftMargin\":0.1,\"fRightMargin\":0.1,\"fBottomMargin\":0.1,\"fTopMargin\":0.1,\"fXfile\":2,\"fYfile\":2,\"fAfile\":1,\"fXstat\":0.99,\"fYstat\":0.99,\"fAstat\":2,\"fFrameFillColor\":0,\"fFrameLineColor\":1,\"fFrameFillStyle\":1001,\"fFrameLineStyle\":1,\"fFrameLineWidth\":1,\"fFrameBorderSize\":1,\"fFrameBorderMode\":0,\"fX1\":-1.50000011175872,\"fY1\":-9225.0006873161,\"fX2\":13.5000001117587,\"fY2\":83025.0006873161,\"fXtoAbsPixelk\":69.6000541484835,\"fXtoPixelk\":69.6000541484835,\"fXtoPixel\":46.3999993085861,\"fYtoAbsPixelk\":424.800047186661,\"fYtoPixelk\":424.800047186661,\"fYtoPixel\":-0.00511653108906939,\"fUtoAbsPixelk\":5e-5,\"fUtoPixelk\":5e-5,\"fUtoPixel\":696,\"fVtoAbsPixelk\":472.00005,\"fVtoPixelk\":472,\"fVtoPixel\":-472,\"fAbsPixeltoXk\":-1.50000011175872,\"fPixeltoXk\":-1.50000011175872,\"fPixeltoX\":0.0215517244590768,\"fAbsPixeltoYk\":83025.0006873161,\"fPixeltoYk\":-9225.0006873161,\"fPixeltoY\":-195.444918166594,\"fXlowNDC\":0,\"fYlowNDC\":0,\"fXUpNDC\":0,\"fYUpNDC\":0,\"fWNDC\":1,\"fHNDC\":1,\"fAbsXlowNDC\":0,\"fAbsYlowNDC\":0,\"fAbsWNDC\":1,\"fAbsHNDC\":1,\"fUxmin\":0,\"fUymin\":0,\"fUxmax\":12,\"fUymax\":73800,\"fTheta\":30,\"fPhi\":30,\"fAspectRatio\":0,\"fNumber\":0,\"fTickx\":0,\"fTicky\":0,\"fLogx\":0,\"fLogy\":0,\"fLogz\":0,\"fPadPaint\":0,\"fCrosshair\":0,\"fCrosshairPos\":0,\"fBorderSize\":2,\"fBorderMode\":0,\"fModified\":false,\"fGridx\":false,\"fGridy\":false,\"fAbsCoord\":false,\"fEditable\":true,\"fFixedAspectRatio\":false,\"fPrimitives\":{\"_typename\":\"TList\",\"name\":\"TList\",\"arr\":[{\"_typename\":\"TFrame\",\"fUniqueID\":0,\"fBits\":50331656,\"fLineColor\":1,\"fLineStyle\":1,\"fLineWidth\":1,\"fFillColor\":0,\"fFillStyle\":1001,\"fX1\":0,\"fY1\":0,\"fX2\":12,\"fY2\":73800,\"fBorderSize\":1,\"fBorderMode\":0},{\"_typename\":\"TH2F\",\"fUniqueID\":0,\"fBits\":50332169,\"fName\":\"htemp\",\"fTitle\":\"l1_ts_diff_from_mode:gemroc\",\"fLineColor\":602,\"fLineStyle\":1,\"fLineWidth\":1,\"fFillColor\":0,\"fFillStyle\":1001,\"fMarkerColor\":1,\"fMarkerStyle\":1,\"fMarkerSize\":1,\"fNcells\":602,\"fXaxis\":{\"_typename\":\"TAxis\",\"fUniqueID\":0,\"fBits\":54525952,\"fName\":\"xaxis\",\"fTitle\":\"gemroc\",\"fNdivisions\":510,\"fAxisColor\":1,\"fLabelColor\":1,\"fLabelFont\":42,\"fLabelOffset\":0.005,\"fLabelSize\":0.035,\"fTickLength\":0.03,\"fTitleOffset\":1,\"fTitleSize\":0.035,\"fTitleColor\":1,\"fTitleFont\":42,\"fNbins\":12,\"fXmin\":0,\"fXmax\":12,\"fXbins\":[],\"fFirst\":1,\"fLast\":40,\"fBits2\":0,\"fTimeDisplay\":false,\"fTimeFormat\":\"\",\"fLabels\":null,\"fModLabs\":null},\"fYaxis\":{\"_typename\":\"TAxis\",\"fUniqueID\":0,\"fBits\":54525952,\"fName\":\"yaxis\",\"fTitle\":\"l1_ts_diff_from_mode\",\"fNdivisions\":510,\"fAxisColor\":1,\"fLabelColor\":1,\"fLabelFont\":42,\"fLabelOffset\":0.005,\"fLabelSize\":0.035,\"fTickLength\":0.03,\"fTitleOffset\":0,\"fTitleSize\":0.035,\"fTitleColor\":1,\"fTitleFont\":42,\"fNbins\":41,\"fXmin\":0,\"fXmax\":73800,\"fXbins\":[],\"fFirst\":1,\"fLast\":40,\"fBits2\":0,\"fTimeDisplay\":false,\"fTimeFormat\":\"\",\"fLabels\":null,\"fModLabs\":null},\"fZaxis\":{\"_typename\":\"TAxis\",\"fUniqueID\":0,\"fBits\":50331648,\"fName\":\"zaxis\",\"fTitle\":\"\",\"fNdivisions\":510,\"fAxisColor\":1,\"fLabelColor\":1,\"fLabelFont\":42,\"fLabelOffset\":0.005,\"fLabelSize\":0.035,\"fTickLength\":0.03,\"fTitleOffset\":1,\"fTitleSize\":0.035,\"fTitleColor\":1,\"fTitleFont\":42,\"fNbins\":1,\"fXmin\":0,\"fXmax\":1,\"fXbins\":[],\"fFirst\":0,\"fLast\":0,\"fBits2\":0,\"fTimeDisplay\":false,\"fTimeFormat\":\"\",\"fLabels\":null,\"fModLabs\":null},\"fBarOffset\":0,\"fBarWidth\":1000,\"fEntries\":69033,\"fTsumw\":69033,\"fTsumw2\":69033,\"fTsumwx\":345245,\"fTsumwx2\":2416651,\"fMaximum\":-1111,\"fMinimum\":-1111,\"fNormFactor\":0,\"fContour\":[0,61.3,122.6,183.9,245.2,306.5,367.8,429.1,490.4,551.7,613,674.3,735.6,796.9,858.2,919.5,980.8,1042.1,1103.4,1164.7],\"fSumw2\":[],\"fOption\":\"\",\"fFunctions\":{\"_typename\":\"TList\",\"name\":\"TList\",\"arr\":[{\"_typename\":\"TPaletteAxis\",\"fUniqueID\":0,\"fBits\":50331648,\"fLineColor\":1,\"fLineStyle\":1,\"fLineWidth\":1,\"fFillColor\":1178,\"fFillStyle\":1001,\"fX1\":12.0750000011176,\"fY1\":0,\"fX2\":12.7500000111759,\"fY2\":73800,\"fX1NDC\":0.904999994039535,\"fY1NDC\":0.100000005960465,\"fX2NDC\":0.949999994039535,\"fY2NDC\":0.899999994039535,\"fBorderSize\":4,\"fInit\":1,\"fShadowColor\":1,\"fCornerRadius\":0,\"fOption\":\"br\",\"fName\":\"TPave\",\"fAxis\":{\"_typename\":\"TGaxis\",\"fUniqueID\":0,\"fBits\":50331648,\"fLineColor\":1,\"fLineStyle\":1,\"fLineWidth\":1,\"fX1\":0,\"fY1\":0,\"fX2\":0,\"fY2\":0,\"fTextAngle\":0,\"fTextSize\":0.04,\"fTextAlign\":11,\"fTextColor\":1,\"fTextFont\":42,\"fWmin\":0,\"fWmax\":0,\"fGridLength\":0,\"fTickSize\":0.03,\"fLabelOffset\":0.005,\"fLabelSize\":0.035,\"fTitleOffset\":1,\"fTitleSize\":0.035,\"fNdiv\":0,\"fLabelColor\":1,\"fLabelFont\":42,\"fNModLabs\":0,\"fChopt\":\"\",\"fName\":\"\",\"fTitle\":\"\",\"fTimeFormat\":\"\",\"fFunctionName\":\"\",\"fModLabs\":null},\"fName\":\"palette\"}],\"opt\":[\"br\"]},\"fBufferSize\":0,\"fBuffer\":[],\"fBinStatErrOpt\":0,\"fStatOverflows\":2,\"fScalefactor\":1,\"fTsumwy\":1784125395,\"fTsumwy2\":71267685498331,\"fTsumwxy\":8877747868,\"fArray\":[0,0,0,0,0,0,0,0,0,0,0,0,0,0,0,961,647,927,643,616,813,880,930,1117,1226,624,0,0,0,181,332,171,293,412,270,168,152,171,169,185,0,0,0,176,341,141,224,266,206,181,166,168,159,264,0,0,0,152,262,170,246,168,220,187,192,177,122,246,0,0,0,165,211,188,211,180,196,180,177,152,123,270,0,0,0,151,203,160,166,184,191,157,166,150,126,282,0,0,0,140,173,155,148,163,162,188,168,157,139,260,0,0,0,167,137,179,161,164,196,180,193,165,157,173,0,0,0,207,104,184,183,192,137,202,212,176,155,136,0,0,0,188,131,150,166,189,168,168,201,167,178,153,0,0,0,183,146,181,184,150,180,218,167,169,138,143,0,0,0,145,140,170,170,175,163,185,194,174,110,150,0,0,0,116,132,155,180,246,190,209,199,157,127,158,0,0,0,154,116,184,193,172,180,185,140,150,180,126,0,0,0,213,157,197,169,170,186,191,143,162,148,152,0,0,0,206,155,157,162,146,161,194,132,152,144,164,0,0,0,193,174,180,172,121,128,135,106,140,163,218,0,0,0,200,158,172,174,115,143,147,160,175,175,209,0,0,0,220,149,167,180,116,160,126,132,159,213,179,0,0,0,165,141,155,149,154,148,156,154,158,164,191,0,0,0,133,153,184,178,137,165,148,151,164,158,161,0,0,0,166,143,176,156,149,157,170,167,173,192,158,0,0,0,190,173,141,158,159,187,165,226,161,147,156,0,0,0,174,180,145,155,194,170,194,201,166,164,179,0,0,0,134,181,171,158,230,158,170,189,158,116,210,0,0,0,132,233,152,170,198,172,145,164,116,109,177,0,0,0,94,184,150,170,166,141,152,149,120,144,152,0,0,0,87,149,153,144,158,128,182,140,123,151,133,0,0,0,102,125,134,166,131,119,148,117,110,151,121,0,0,0,110,136,94,133,148,129,118,125,134,129,107,0,0,0,142,151,104,107,121,138,97,118,123,162,92,0,0,0,131,145,94,115,140,126,116,89,124,143,91,0,0,0,107,115,112,100,91,91,79,80,124,141,104,0,0,0,130,90,123,82,68,96,71,92,112,129,79,0,0,0,83,71,120,63,58,65,54,97,101,87,50,0,0,0,65,35,68,42,29,34,40,76,67,36,21,0,0,0,3,1,8,3,1,5,3,10,3,2,1,0,0,0,0,0,0,0,0,0,0,0,0,0,0,0,0,0,0,0,0,0,0,0,0,0,0,0,0,0,0,0,0,0,0,0,0,0,0,0,0,0,0,0,0,0,0,0,0,0,0,0,0,0,0,0,0,0,0,0,0,0,0,0,0,0,0,0,0,0,0,0,0]},{\"_typename\":\"TPaveText\",\"fUniqueID\":0,\"fBits\":50331657,\"fLineColor\":1,\"fLineStyle\":1,\"fLineWidth\":1,\"fFillColor\":0,\"fFillStyle\":0,\"fX1\":2.14310339080362,\"fY1\":76934.9374771273,\"fX2\":9.85689660919638,\"fY2\":82563.7511203252,\"fX1NDC\":0.242873563218391,\"fY1NDC\":0.933983055615829,\"fX2NDC\":0.757126436781609,\"fY2NDC\":0.995000004768372,\"fBorderSize\":0,\"fInit\":1,\"fShadowColor\":1,\"fCornerRadius\":0,\"fOption\":\"blNDC\",\"fName\":\"title\",\"fTextAngle\":0,\"fTextSize\":0,\"fTextAlign\":22,\"fTextColor\":1,\"fTextFont\":42,\"fLabel\":\"\",\"fLongest\":27,\"fMargin\":0.05,\"fLines\":{\"_typename\":\"TList\",\"name\":\"TList\",\"arr\":[{\"_typename\":\"TLatex\",\"fUniqueID\":0,\"fBits\":50331648,\"fName\":\"\",\"fTitle\":\"l1_ts_diff_from_mode:gemroc\",\"fTextAngle\":0,\"fTextSize\":0,\"fTextAlign\":0,\"fTextColor\":0,\"fTextFont\":0,\"fX\":0,\"fY\":0,\"fLineColor\":1,\"fLineStyle\":1,\"fLineWidth\":2,\"fLimitFactorSize\":3,\"fOriginSize\":0.0518644079566002}],\"opt\":[\"\"]}}],\"opt\":[\"\",\"colz\",\"blNDC\"]},\"fExecs\":null,\"fName\":\"c1_n3\",\"fTitle\":\"c1_n3\",\"fNumPaletteColor\":0,\"fNextPaletteColor\":0,\"fDISPLAY\":\"$DISPLAY\",\"fDoubleBuffer\":0,\"fRetained\":true,\"fXsizeUser\":0,\"fYsizeUser\":0,\"fXsizeReal\":20,\"fYsizeReal\":14.28571,\"fWindowTopX\":0,\"fWindowTopY\":0,\"fWindowWidth\":0,\"fWindowHeight\":0,\"fCw\":696,\"fCh\":472,\"fCatt\":{\"_typename\":\"TAttCanvas\",\"fXBetween\":2,\"fYBetween\":2,\"fTitleFromTop\":1.2,\"fXdate\":0.2,\"fYdate\":0.3,\"fAdate\":1},\"kMoveOpaque\":true,\"kResizeOpaque\":true,\"fHighLightColor\":2,\"fBatch\":true,\"kShowEventStatus\":false,\"kAutoExec\":true,\"kMenuBar\":true});\n",
       "       Core.draw(\"root_plot_8\", obj, \"\");\n",
       "     }\n",
       " );\n",
       "</script>\n"
      ],
      "text/plain": [
       "<IPython.core.display.HTML object>"
      ]
     },
     "metadata": {},
     "output_type": "display_data"
    }
   ],
   "source": [
    "f=R.TFile(\"/home/alb/carmen/420/time_diff.root\")\n",
    "f.tree.Draw(\"l1_ts_diff_from_mode:gemroc\",\"\", \"colz\")\n",
    "c.Draw()"
   ]
  },
  {
   "cell_type": "code",
   "execution_count": 44,
   "metadata": {},
   "outputs": [
    {
     "data": {
      "text/html": [
       "\n",
       "<div id=\"root_plot_9\"\n",
       "     style=\"width: 696px; height: 472px\">\n",
       "</div>\n",
       "\n",
       "<script>\n",
       " requirejs.config({\n",
       "     paths: {\n",
       "       'JSRootCore' : 'https://root.cern.ch/js/notebook//scripts/JSRootCore',\n",
       "     }\n",
       "   });\n",
       " require(['JSRootCore'],\n",
       "     function(Core) {\n",
       "       var obj = Core.JSONR_unref({\"_typename\":\"TCanvas\",\"fUniqueID\":0,\"fBits\":53673992,\"fLineColor\":1,\"fLineStyle\":1,\"fLineWidth\":1,\"fFillColor\":0,\"fFillStyle\":1001,\"fLeftMargin\":0.1,\"fRightMargin\":0.1,\"fBottomMargin\":0.1,\"fTopMargin\":0.1,\"fXfile\":2,\"fYfile\":2,\"fAfile\":1,\"fXstat\":0.99,\"fYstat\":0.99,\"fAstat\":2,\"fFrameFillColor\":0,\"fFrameLineColor\":1,\"fFrameFillStyle\":1001,\"fFrameLineStyle\":1,\"fFrameLineWidth\":1,\"fFrameBorderSize\":1,\"fFrameBorderMode\":0,\"fX1\":-13.250000987202,\"fY1\":-9225.0006873161,\"fX2\":119.250000987202,\"fY2\":83025.0006873161,\"fXtoAbsPixelk\":69.6000541484835,\"fXtoPixelk\":69.6000541484835,\"fXtoPixel\":5.25283011040597,\"fYtoAbsPixelk\":424.800047186661,\"fYtoPixelk\":424.800047186661,\"fYtoPixel\":-0.00511653108906939,\"fUtoAbsPixelk\":5e-5,\"fUtoPixelk\":5e-5,\"fUtoPixel\":696,\"fVtoAbsPixelk\":472.00005,\"fVtoPixelk\":472,\"fVtoPixel\":-472,\"fAbsPixeltoXk\":-13.250000987202,\"fPixeltoXk\":-13.250000987202,\"fPixeltoX\":0.190373566055178,\"fAbsPixeltoYk\":83025.0006873161,\"fPixeltoYk\":-9225.0006873161,\"fPixeltoY\":-195.444918166594,\"fXlowNDC\":0,\"fYlowNDC\":0,\"fXUpNDC\":0,\"fYUpNDC\":0,\"fWNDC\":1,\"fHNDC\":1,\"fAbsXlowNDC\":0,\"fAbsYlowNDC\":0,\"fAbsWNDC\":1,\"fAbsHNDC\":1,\"fUxmin\":0,\"fUymin\":0,\"fUxmax\":106,\"fUymax\":73800,\"fTheta\":30,\"fPhi\":30,\"fAspectRatio\":0,\"fNumber\":0,\"fTickx\":0,\"fTicky\":0,\"fLogx\":0,\"fLogy\":0,\"fLogz\":0,\"fPadPaint\":0,\"fCrosshair\":0,\"fCrosshairPos\":0,\"fBorderSize\":2,\"fBorderMode\":0,\"fModified\":false,\"fGridx\":false,\"fGridy\":false,\"fAbsCoord\":false,\"fEditable\":true,\"fFixedAspectRatio\":false,\"fPrimitives\":{\"_typename\":\"TList\",\"name\":\"TList\",\"arr\":[{\"_typename\":\"TFrame\",\"fUniqueID\":0,\"fBits\":50331656,\"fLineColor\":1,\"fLineStyle\":1,\"fLineWidth\":1,\"fFillColor\":0,\"fFillStyle\":1001,\"fX1\":0,\"fY1\":0,\"fX2\":106,\"fY2\":73800,\"fBorderSize\":1,\"fBorderMode\":0},{\"_typename\":\"TH2F\",\"fUniqueID\":0,\"fBits\":50332169,\"fName\":\"htemp\",\"fTitle\":\"l1_ts_diff_from_mode:subRunNo\",\"fLineColor\":602,\"fLineStyle\":1,\"fLineWidth\":1,\"fFillColor\":0,\"fFillStyle\":1001,\"fMarkerColor\":1,\"fMarkerStyle\":1,\"fMarkerSize\":1,\"fNcells\":2365,\"fXaxis\":{\"_typename\":\"TAxis\",\"fUniqueID\":0,\"fBits\":54525952,\"fName\":\"xaxis\",\"fTitle\":\"subRunNo\",\"fNdivisions\":510,\"fAxisColor\":1,\"fLabelColor\":1,\"fLabelFont\":42,\"fLabelOffset\":0.005,\"fLabelSize\":0.035,\"fTickLength\":0.03,\"fTitleOffset\":1,\"fTitleSize\":0.035,\"fTitleColor\":1,\"fTitleFont\":42,\"fNbins\":53,\"fXmin\":0,\"fXmax\":106,\"fXbins\":[],\"fFirst\":1,\"fLast\":40,\"fBits2\":0,\"fTimeDisplay\":false,\"fTimeFormat\":\"\",\"fLabels\":null,\"fModLabs\":null},\"fYaxis\":{\"_typename\":\"TAxis\",\"fUniqueID\":0,\"fBits\":54525952,\"fName\":\"yaxis\",\"fTitle\":\"l1_ts_diff_from_mode\",\"fNdivisions\":510,\"fAxisColor\":1,\"fLabelColor\":1,\"fLabelFont\":42,\"fLabelOffset\":0.005,\"fLabelSize\":0.035,\"fTickLength\":0.03,\"fTitleOffset\":0,\"fTitleSize\":0.035,\"fTitleColor\":1,\"fTitleFont\":42,\"fNbins\":41,\"fXmin\":0,\"fXmax\":73800,\"fXbins\":[],\"fFirst\":1,\"fLast\":40,\"fBits2\":0,\"fTimeDisplay\":false,\"fTimeFormat\":\"\",\"fLabels\":null,\"fModLabs\":null},\"fZaxis\":{\"_typename\":\"TAxis\",\"fUniqueID\":0,\"fBits\":50331648,\"fName\":\"zaxis\",\"fTitle\":\"\",\"fNdivisions\":510,\"fAxisColor\":1,\"fLabelColor\":1,\"fLabelFont\":42,\"fLabelOffset\":0.005,\"fLabelSize\":0.035,\"fTickLength\":0.03,\"fTitleOffset\":1,\"fTitleSize\":0.035,\"fTitleColor\":1,\"fTitleFont\":42,\"fNbins\":1,\"fXmin\":0,\"fXmax\":1,\"fXbins\":[],\"fFirst\":0,\"fLast\":0,\"fBits2\":0,\"fTimeDisplay\":false,\"fTimeFormat\":\"\",\"fLabels\":null,\"fModLabs\":null},\"fBarOffset\":0,\"fBarWidth\":1000,\"fEntries\":69033,\"fTsumw\":69033,\"fTsumw2\":69033,\"fTsumwx\":4428018,\"fTsumwx2\":325894118,\"fMaximum\":-1111,\"fMinimum\":-1111,\"fNormFactor\":0,\"fContour\":[0,33.15,66.3,99.45,132.6,165.75,198.9,232.05,265.2,298.35,331.5,364.65,397.8,430.95,464.1,497.25,530.4,563.55,596.7,629.85],\"fSumw2\":[],\"fOption\":\"\",\"fFunctions\":{\"_typename\":\"TList\",\"name\":\"TList\",\"arr\":[{\"_typename\":\"TPaletteAxis\",\"fUniqueID\":0,\"fBits\":50331648,\"fLineColor\":1,\"fLineStyle\":1,\"fLineWidth\":1,\"fFillColor\":1178,\"fFillStyle\":1001,\"fX1\":106.662500009872,\"fY1\":0,\"fX2\":112.62500009872,\"fY2\":73800,\"fX1NDC\":0.904999994039535,\"fY1NDC\":0.100000005960465,\"fX2NDC\":0.949999994039535,\"fY2NDC\":0.899999994039535,\"fBorderSize\":4,\"fInit\":1,\"fShadowColor\":1,\"fCornerRadius\":0,\"fOption\":\"br\",\"fName\":\"TPave\",\"fAxis\":{\"_typename\":\"TGaxis\",\"fUniqueID\":0,\"fBits\":50331648,\"fLineColor\":1,\"fLineStyle\":1,\"fLineWidth\":1,\"fX1\":0,\"fY1\":0,\"fX2\":0,\"fY2\":0,\"fTextAngle\":0,\"fTextSize\":0.04,\"fTextAlign\":11,\"fTextColor\":1,\"fTextFont\":42,\"fWmin\":0,\"fWmax\":0,\"fGridLength\":0,\"fTickSize\":0.03,\"fLabelOffset\":0.005,\"fLabelSize\":0.035,\"fTitleOffset\":1,\"fTitleSize\":0.035,\"fNdiv\":0,\"fLabelColor\":1,\"fLabelFont\":42,\"fNModLabs\":0,\"fChopt\":\"\",\"fName\":\"\",\"fTitle\":\"\",\"fTimeFormat\":\"\",\"fFunctionName\":\"\",\"fModLabs\":null},\"fName\":\"palette\"}],\"opt\":[\"br\"]},\"fBufferSize\":0,\"fBuffer\":[],\"fBinStatErrOpt\":0,\"fStatOverflows\":2,\"fScalefactor\":1,\"fTsumwy\":1784125395,\"fTsumwy2\":71267685498331,\"fTsumwxy\":114353706048,\"fArray\":[0,0,0,0,0,0,0,0,0,0,0,0,0,0,0,0,0,0,0,0,0,0,0,0,0,0,0,0,0,0,0,0,0,0,0,0,0,0,0,0,0,0,0,0,0,0,0,0,0,0,0,0,0,0,0,0,0,0,69,127,100,0,0,164,127,42,220,0,195,0,298,42,0,166,0,361,0,172,147,192,330,0,178,227,338,432,388,0,0,0,386,315,0,484,278,281,550,297,286,186,663,275,98,594,0,376,0,0,0,0,0,0,0,11,48,17,0,0,43,14,1,49,0,44,0,71,7,0,48,0,85,0,35,32,65,90,0,60,69,79,121,83,0,0,0,96,113,0,142,87,68,184,85,81,65,190,75,9,162,0,75,0,0,0,0,0,0,0,11,45,24,0,0,31,18,6,40,0,52,0,78,1,0,46,0,98,0,32,35,40,67,0,46,61,91,115,91,0,0,0,109,87,0,128,58,60,140,76,87,61,140,92,20,124,0,82,0,0,0,0,0,0,0,10,29,27,0,0,39,15,11,39,0,31,0,90,0,0,47,0,83,0,28,32,35,79,0,55,48,85,92,92,0,0,0,89,72,0,130,59,60,140,92,66,55,148,53,31,115,0,65,0,0,0,0,0,0,0,14,37,13,0,0,43,11,3,55,0,42,0,66,2,0,27,0,81,0,29,29,39,86,0,49,41,82,79,92,0,0,0,72,61,0,113,58,69,124,64,63,44,174,60,23,135,0,73,0,0,0,0,0,0,0,20,19,28,0,0,28,16,3,47,0,49,0,58,0,0,40,0,68,0,40,45,45,68,0,39,56,86,75,61,0,0,0,95,80,0,101,46,70,100,65,54,33,135,76,29,112,0,49,0,0,0,0,0,0,0,13,20,20,0,0,30,13,2,48,0,42,0,67,1,0,36,0,61,0,31,27,44,75,0,39,45,67,86,68,0,0,0,80,75,0,102,59,61,102,79,41,40,143,49,20,116,0,51,0,0,0,0,0,0,0,14,19,10,0,0,32,15,7,33,0,45,0,64,1,0,35,0,68,0,30,36,38,71,0,35,39,76,76,67,0,0,0,72,70,0,122,49,80,120,81,54,37,129,71,8,111,0,57,0,0,0,0,0,0,0,19,24,23,0,0,28,15,2,35,0,34,0,58,0,0,35,0,56,0,36,36,46,81,0,44,48,77,65,75,0,0,0,83,65,0,126,47,64,112,67,65,51,125,57,12,119,0,58,0,0,0,0,0,0,0,13,30,26,0,0,26,16,3,37,0,29,0,58,0,0,40,0,65,0,33,33,52,56,0,25,49,53,83,88,0,0,0,80,47,0,114,59,70,119,54,56,42,120,63,18,129,0,73,0,0,0,0,0,0,0,15,16,18,0,0,27,25,4,37,0,46,0,65,0,0,42,0,67,0,35,25,35,71,0,42,45,58,88,75,0,0,0,68,70,0,111,62,46,107,69,51,31,131,67,21,131,0,58,0,0,0,0,0,0,0,4,30,10,0,0,34,25,5,37,0,40,0,46,1,0,39,0,74,0,41,38,35,51,0,33,33,65,82,78,0,0,0,81,40,0,99,64,71,98,63,62,37,124,54,9,119,0,54,0,0,0,0,0,0,0,10,22,15,0,0,23,18,6,43,0,43,0,66,0,0,38,0,76,0,37,37,45,65,0,29,34,64,77,65,0,0,0,76,62,0,107,55,69,118,63,68,48,122,67,4,121,0,76,0,0,0,0,0,0,0,14,20,13,0,0,31,15,8,38,0,44,0,54,0,0,28,0,66,0,32,29,44,81,0,42,49,79,64,64,0,0,0,69,51,0,95,56,61,104,62,53,33,137,46,12,110,0,76,0,0,0,0,0,0,0,11,25,22,0,0,23,21,5,45,0,40,0,54,0,0,39,0,67,0,43,25,42,70,0,41,41,62,84,73,0,0,0,78,66,0,118,72,61,85,77,58,41,139,68,20,115,0,57,0,0,0,0,0,0,0,11,25,12,0,0,25,22,5,40,0,43,0,45,2,0,37,0,49,0,47,28,57,76,0,28,46,72,86,72,0,0,0,61,68,0,95,54,53,111,48,48,39,115,61,10,114,0,68,0,0,0,0,0,0,0,9,20,18,0,0,26,14,5,42,0,27,0,64,1,0,31,0,58,0,40,26,36,68,0,39,37,70,74,70,0,0,0,64,65,0,79,49,55,108,48,61,42,139,51,20,121,0,53,0,0,0,0,0,0,0,10,15,15,0,0,26,17,6,43,0,42,0,75,0,0,45,0,80,0,40,28,47,65,0,31,39,72,82,89,0,0,0,72,70,0,94,71,69,94,62,51,42,116,41,9,117,0,53,0,0,0,0,0,0,0,14,26,22,0,0,28,11,4,25,0,42,0,72,0,0,35,0,63,0,33,35,37,63,0,37,41,54,55,85,0,0,0,95,62,0,90,63,65,97,52,55,38,147,62,13,130,0,50,0,0,0,0,0,0,0,11,16,14,0,0,20,13,3,52,0,31,0,52,0,0,36,0,67,0,25,22,32,93,0,33,39,66,85,81,0,0,0,66,78,0,81,58,61,106,49,61,49,125,40,8,114,0,48,0,0,0,0,0,0,0,9,14,8,0,0,24,23,1,38,0,33,0,66,2,0,37,0,58,0,32,30,41,67,0,37,42,69,94,71,0,0,0,69,68,0,80,52,59,93,62,39,37,135,43,17,107,0,75,0,0,0,0,0,0,0,8,22,13,0,0,32,13,8,46,0,44,0,64,2,0,34,0,75,0,34,27,42,67,0,33,40,60,78,58,0,0,0,85,82,0,85,65,60,104,58,51,37,135,58,8,103,0,76,0,0,0,0,0,0,0,11,18,18,0,0,23,17,7,31,0,48,0,56,0,0,35,0,78,0,33,37,40,69,0,44,49,78,75,70,0,0,0,68,90,0,99,59,63,111,55,61,39,130,48,13,128,0,62,0,0,0,0,0,0,0,11,33,13,0,0,31,11,4,41,0,47,0,69,1,0,38,0,75,0,32,36,38,74,0,36,40,82,71,77,0,0,0,61,66,0,108,66,80,93,75,67,46,159,61,12,116,0,52,0,0,0,0,0,0,0,8,21,18,0,0,30,17,6,40,0,42,0,67,0,0,28,0,70,0,41,32,28,82,0,41,39,78,67,77,0,0,0,76,71,0,100,61,57,99,61,68,47,150,57,11,121,0,64,0,0,0,0,0,0,0,13,16,12,0,0,38,21,6,38,0,42,0,59,0,0,34,0,80,0,32,23,35,67,0,37,35,57,84,78,0,0,0,69,69,0,91,47,78,109,51,52,37,126,44,5,107,0,76,0,0,0,0,0,0,0,11,24,18,0,0,27,14,12,34,0,37,0,53,1,0,39,0,61,0,37,28,34,50,0,33,43,65,78,68,0,0,0,60,68,0,79,48,51,74,60,45,34,104,57,10,111,0,54,0,0,0,0,0,0,0,7,17,18,0,0,22,12,10,26,0,34,0,59,0,0,23,0,54,0,27,22,26,61,0,32,42,69,59,75,0,0,0,60,53,0,85,58,64,72,51,46,28,127,46,13,87,0,63,0,0,0,0,0,0,0,8,13,14,0,0,18,13,7,38,0,42,0,40,2,0,28,0,65,0,19,21,26,52,0,31,35,57,66,60,0,0,0,55,54,0,65,38,49,86,39,49,32,100,43,10,100,0,49,0,0,0,0,0,0,0,10,6,23,0,0,23,12,2,30,0,34,0,58,3,0,32,0,69,0,29,24,31,69,0,25,31,49,52,43,0,0,0,46,44,0,62,43,47,67,42,46,28,106,37,14,73,0,53,0,0,0,0,0,0,0,5,22,18,0,0,14,10,3,28,0,18,0,44,4,0,26,0,44,0,24,24,28,59,0,28,33,54,83,57,0,0,0,50,49,0,54,24,57,80,50,42,27,113,28,13,98,0,44,0,0,0,0,0,0,0,12,14,10,0,0,18,15,2,32,0,30,0,40,2,0,28,0,50,0,16,22,38,53,0,28,27,49,64,58,0,0,0,43,41,0,75,28,44,74,45,43,27,89,44,12,93,0,48,0,0,0,0,0,0,0,9,17,7,0,0,16,13,3,34,0,13,0,35,0,0,28,0,44,0,16,27,25,51,0,23,22,48,51,47,0,0,0,32,35,0,55,26,36,70,38,51,21,92,32,4,84,0,39,0,0,0,0,0,0,0,7,19,10,0,0,14,11,9,20,0,21,0,45,1,0,25,0,35,0,9,27,21,35,0,27,14,50,41,42,0,0,0,40,34,0,59,26,42,50,35,43,26,74,41,5,79,0,35,0,0,0,0,0,0,0,4,7,10,0,0,18,9,8,22,0,27,0,30,1,0,15,0,37,0,13,13,12,52,0,25,18,34,34,31,0,0,0,29,31,0,56,20,31,38,27,23,15,53,24,6,44,0,32,0,0,0,0,0,0,0,4,4,2,0,0,7,7,0,12,0,20,0,22,1,0,9,0,21,0,8,6,24,19,0,12,9,23,13,22,0,0,0,20,14,0,33,16,19,31,19,18,11,33,16,3,23,0,12,0,0,0,0,0,0,0,0,0,1,0,0,0,1,1,2,0,3,0,2,0,0,1,0,3,0,1,0,1,2,0,2,0,0,3,1,0,0,0,1,0,0,1,1,1,2,0,2,1,1,1,0,4,0,1,0,0,0,0,0,0,0,0,0,0,0,0,0,0,0,0,0,0,0,0,0,0,0,0,0,0,0,0,0,0,0,0,0,0,0,0,0,0,0,0,0,0,0,0,0,0,0,0,0,0,0,0,0,0,0,0,0,0,0,0,0,0,0,0,0,0,0,0,0,0,0,0,0,0,0,0,0,0,0,0,0,0,0,0,0,0,0,0,0,0,0,0,0,0,0,0,0,0,0,0,0,0,0,0,0,0,0,0,0,0,0,0,0,0,0,0,0,0,0,0,0,0,0,0,0,0,0,0,0,0,0,0,0,0,0,0,0,0,0,0,0,0,0,0,0,0,0,0,0,0,0,0,0,0,0,0,0,0,0,0,0,0,0,0,0,0,0,0,0,0,0,0,0,0,0,0,0,0,0,0,0,0,0,0,0,0,0,0,0,0,0,0,0,0,0,0,0,0,0,0,0,0,0,0,0,0,0,0,0,0,0,0,0,0,0,0,0,0,0,0,0,0,0,0,0,0,0,0,0,0,0,0,0,0,0,0,0,0,0,0,0,0,0,0,0,0,0,0,0,0,0,0,0,0,0,0,0,0,0,0,0,0,0,0,0,0,0,0,0,0,0,0,0,0,0,0,0,0,0]},{\"_typename\":\"TPaveText\",\"fUniqueID\":0,\"fBits\":50331657,\"fLineColor\":1,\"fLineStyle\":1,\"fLineWidth\":1,\"fFillColor\":0,\"fFillStyle\":0,\"fX1\":15.6943959958273,\"fY1\":77169.4713789272,\"fX2\":90.3056040041727,\"fY2\":82563.7511203252,\"fX1NDC\":0.218448275862069,\"fY1NDC\":0.936525428497185,\"fX2NDC\":0.781551724137931,\"fY2NDC\":0.995000004768372,\"fBorderSize\":0,\"fInit\":1,\"fShadowColor\":1,\"fCornerRadius\":0,\"fOption\":\"blNDC\",\"fName\":\"title\",\"fTextAngle\":0,\"fTextSize\":0,\"fTextAlign\":22,\"fTextColor\":1,\"fTextFont\":42,\"fLabel\":\"\",\"fLongest\":29,\"fMargin\":0.05,\"fLines\":{\"_typename\":\"TList\",\"name\":\"TList\",\"arr\":[{\"_typename\":\"TLatex\",\"fUniqueID\":0,\"fBits\":50331648,\"fName\":\"\",\"fTitle\":\"l1_ts_diff_from_mode:subRunNo\",\"fTextAngle\":0,\"fTextSize\":0,\"fTextAlign\":0,\"fTextColor\":0,\"fTextFont\":0,\"fX\":0,\"fY\":0,\"fLineColor\":1,\"fLineStyle\":1,\"fLineWidth\":2,\"fLimitFactorSize\":3,\"fOriginSize\":0.0497033894062042}],\"opt\":[\"\"]}}],\"opt\":[\"\",\"colz\",\"blNDC\"]},\"fExecs\":null,\"fName\":\"c1_n3\",\"fTitle\":\"c1_n3\",\"fNumPaletteColor\":0,\"fNextPaletteColor\":0,\"fDISPLAY\":\"$DISPLAY\",\"fDoubleBuffer\":0,\"fRetained\":true,\"fXsizeUser\":0,\"fYsizeUser\":0,\"fXsizeReal\":20,\"fYsizeReal\":14.28571,\"fWindowTopX\":0,\"fWindowTopY\":0,\"fWindowWidth\":0,\"fWindowHeight\":0,\"fCw\":696,\"fCh\":472,\"fCatt\":{\"_typename\":\"TAttCanvas\",\"fXBetween\":2,\"fYBetween\":2,\"fTitleFromTop\":1.2,\"fXdate\":0.2,\"fYdate\":0.3,\"fAdate\":1},\"kMoveOpaque\":true,\"kResizeOpaque\":true,\"fHighLightColor\":2,\"fBatch\":true,\"kShowEventStatus\":false,\"kAutoExec\":true,\"kMenuBar\":true});\n",
       "       Core.draw(\"root_plot_9\", obj, \"\");\n",
       "     }\n",
       " );\n",
       "</script>\n"
      ],
      "text/plain": [
       "<IPython.core.display.HTML object>"
      ]
     },
     "metadata": {},
     "output_type": "display_data"
    }
   ],
   "source": [
    "f=R.TFile(\"/home/alb/carmen/420/time_diff.root\")\n",
    "f.tree.Draw(\"l1_ts_diff_from_mode:subRunNo\",\"\", \"colz\")\n",
    "c.Draw()"
   ]
  },
  {
   "cell_type": "code",
   "execution_count": 67,
   "metadata": {},
   "outputs": [
    {
     "data": {
      "text/plain": [
       "11"
      ]
     },
     "execution_count": 67,
     "metadata": {},
     "output_type": "execute_result"
    }
   ],
   "source": [
    "f=R.TFile(\"/home/alb/Desktop/elaborazioni_e_dati/analisi_run/trigger_decode/420/header_trailer_info/420.root\")\n",
    "f.tree.Draw(\"last_l1_ts_dif:gemroc\", \"subRunNo==80 && count==40\",\"*\")"
   ]
  },
  {
   "cell_type": "code",
   "execution_count": 68,
   "metadata": {},
   "outputs": [
    {
     "data": {
      "text/html": [
       "\n",
       "<div id=\"root_plot_17\"\n",
       "     style=\"width: 696px; height: 472px\">\n",
       "</div>\n",
       "\n",
       "<script>\n",
       " requirejs.config({\n",
       "     paths: {\n",
       "       'JSRootCore' : 'https://root.cern.ch/js/notebook//scripts/JSRootCore',\n",
       "     }\n",
       "   });\n",
       " require(['JSRootCore'],\n",
       "     function(Core) {\n",
       "       var obj = Core.JSONR_unref({\"_typename\":\"TCanvas\",\"fUniqueID\":0,\"fBits\":53673992,\"fLineColor\":1,\"fLineStyle\":1,\"fLineWidth\":1,\"fFillColor\":0,\"fFillStyle\":1001,\"fLeftMargin\":0.1,\"fRightMargin\":0.1,\"fBottomMargin\":0.1,\"fTopMargin\":0.1,\"fXfile\":2,\"fYfile\":2,\"fAfile\":1,\"fXstat\":0.99,\"fYstat\":0.99,\"fAstat\":2,\"fFrameFillColor\":0,\"fFrameLineColor\":1,\"fFrameFillStyle\":1001,\"fFrameLineStyle\":1,\"fFrameLineWidth\":1,\"fFrameBorderSize\":1,\"fFrameBorderMode\":0,\"fX1\":-1.50000011175872,\"fY1\":3999.9998435378,\"fX2\":13.5000001117587,\"fY2\":25000.0001564622,\"fXtoAbsPixelk\":69.6000541484835,\"fXtoPixelk\":69.6000541484835,\"fXtoPixel\":46.3999993085861,\"fYtoAbsPixelk\":561.904807048402,\"fYtoPixelk\":561.904807048402,\"fYtoPixel\":-0.0224761901412691,\"fUtoAbsPixelk\":5e-5,\"fUtoPixelk\":5e-5,\"fUtoPixel\":696,\"fVtoAbsPixelk\":472.00005,\"fVtoPixelk\":472,\"fVtoPixel\":-472,\"fAbsPixeltoXk\":-1.50000011175872,\"fPixeltoXk\":-1.50000011175872,\"fPixeltoX\":0.0215517244590768,\"fAbsPixeltoYk\":25000.0001564622,\"fPixeltoYk\":3999.9998435378,\"fPixeltoY\":-44.4915260867043,\"fXlowNDC\":0,\"fYlowNDC\":0,\"fXUpNDC\":0,\"fYUpNDC\":0,\"fWNDC\":1,\"fHNDC\":1,\"fAbsXlowNDC\":0,\"fAbsYlowNDC\":0,\"fAbsWNDC\":1,\"fAbsHNDC\":1,\"fUxmin\":0,\"fUymin\":6100,\"fUxmax\":12,\"fUymax\":22900,\"fTheta\":30,\"fPhi\":30,\"fAspectRatio\":0,\"fNumber\":0,\"fTickx\":0,\"fTicky\":0,\"fLogx\":0,\"fLogy\":0,\"fLogz\":0,\"fPadPaint\":0,\"fCrosshair\":0,\"fCrosshairPos\":0,\"fBorderSize\":2,\"fBorderMode\":0,\"fModified\":false,\"fGridx\":false,\"fGridy\":false,\"fAbsCoord\":false,\"fEditable\":true,\"fFixedAspectRatio\":false,\"fPrimitives\":{\"_typename\":\"TList\",\"name\":\"TList\",\"arr\":[{\"_typename\":\"TFrame\",\"fUniqueID\":0,\"fBits\":50331656,\"fLineColor\":1,\"fLineStyle\":1,\"fLineWidth\":1,\"fFillColor\":0,\"fFillStyle\":1001,\"fX1\":0,\"fY1\":6100,\"fX2\":12,\"fY2\":22900,\"fBorderSize\":1,\"fBorderMode\":0},{\"_typename\":\"TH2F\",\"fUniqueID\":0,\"fBits\":50332169,\"fName\":\"htemp\",\"fTitle\":\"last_l1_ts_dif:gemroc {subRunNo==80 && count==40}\",\"fLineColor\":602,\"fLineStyle\":1,\"fLineWidth\":1,\"fFillColor\":0,\"fFillStyle\":1001,\"fMarkerColor\":1,\"fMarkerStyle\":1,\"fMarkerSize\":1,\"fNcells\":616,\"fXaxis\":{\"_typename\":\"TAxis\",\"fUniqueID\":0,\"fBits\":54525952,\"fName\":\"xaxis\",\"fTitle\":\"gemroc\",\"fNdivisions\":510,\"fAxisColor\":1,\"fLabelColor\":1,\"fLabelFont\":42,\"fLabelOffset\":0.005,\"fLabelSize\":0.035,\"fTickLength\":0.03,\"fTitleOffset\":1,\"fTitleSize\":0.035,\"fTitleColor\":1,\"fTitleFont\":42,\"fNbins\":12,\"fXmin\":0,\"fXmax\":12,\"fXbins\":[],\"fFirst\":1,\"fLast\":12,\"fBits2\":0,\"fTimeDisplay\":false,\"fTimeFormat\":\"\",\"fLabels\":null,\"fModLabs\":null},\"fYaxis\":{\"_typename\":\"TAxis\",\"fUniqueID\":0,\"fBits\":54525952,\"fName\":\"yaxis\",\"fTitle\":\"last_l1_ts_dif\",\"fNdivisions\":510,\"fAxisColor\":1,\"fLabelColor\":1,\"fLabelFont\":42,\"fLabelOffset\":0.005,\"fLabelSize\":0.035,\"fTickLength\":0.03,\"fTitleOffset\":0,\"fTitleSize\":0.035,\"fTitleColor\":1,\"fTitleFont\":42,\"fNbins\":42,\"fXmin\":6100,\"fXmax\":22900,\"fXbins\":[],\"fFirst\":1,\"fLast\":42,\"fBits2\":0,\"fTimeDisplay\":false,\"fTimeFormat\":\"\",\"fLabels\":null,\"fModLabs\":null},\"fZaxis\":{\"_typename\":\"TAxis\",\"fUniqueID\":0,\"fBits\":50331648,\"fName\":\"zaxis\",\"fTitle\":\"\",\"fNdivisions\":510,\"fAxisColor\":1,\"fLabelColor\":1,\"fLabelFont\":42,\"fLabelOffset\":0.005,\"fLabelSize\":0.035,\"fTickLength\":0.03,\"fTitleOffset\":1,\"fTitleSize\":0.035,\"fTitleColor\":1,\"fTitleFont\":42,\"fNbins\":1,\"fXmin\":0,\"fXmax\":1,\"fXbins\":[],\"fFirst\":0,\"fLast\":0,\"fBits2\":0,\"fTimeDisplay\":false,\"fTimeFormat\":\"\",\"fLabels\":null,\"fModLabs\":null},\"fBarOffset\":0,\"fBarWidth\":1000,\"fEntries\":0,\"fTsumw\":0,\"fTsumw2\":0,\"fTsumwx\":0,\"fTsumwx2\":0,\"fMaximum\":-1111,\"fMinimum\":-1111,\"fNormFactor\":0,\"fContour\":[],\"fSumw2\":[],\"fOption\":\"\",\"fFunctions\":{\"_typename\":\"TList\",\"name\":\"TList\",\"arr\":[],\"opt\":[]},\"fBufferSize\":3001,\"fBuffer\":[0,0,0,0,0,0,0,0,0,0,0,0,0,0,0,0,0,0,0,0,0,0,0,0,0,0,0,0,0,0,0,0,0,0,0,0,0,0,0,0,0,0,0,0,0,0,0,0,0,0,0,0,0,0,0,0,0,0,0,0,0,0,0,0,0,0,0,0,0,0,0,0,0,0,0,0,0,0,0,0,0,0,0,0,0,0,0,0,0,0,0,0,0,0,0,0,0,0,0,0,0,0,0,0,0,0,0,0,0,0,0,0,0,0,0,0,0,0,0,0,0,0,0,0,0,0,0,0,0,0,0,0,0,0,0,0,0,0,0,0,0,0,0,0,0,0,0,0,0,0,0,0,0,0,0,0,0,0,0,0,0,0,0,0,0,0,0,0,0,0,0,0,0,0,0,0,0,0,0,0,0,0,0,0,0,0,0,0,0,0,0,0,0,0,0,0,0,0,0,0,0,0,0,0,0,0,0,0,0,0,0,0,0,0,0,0,0,0,0,0,0,0,0,0,0,0,0,0,0,0,0,0,0,0,0,0,0,0,0,0,0,0,0,0,0,0,0,0,0,0,0,0,0,0,0,0,0,0,0,0,0,0,0,0,0,0,0,0,0,0,0,0,0,0,0,0,0,0,0,0,0,0,0,0,0,0,0,0,0,0,0,0,0,0,0,0,0,0,0,0,0,0,0,0,0,0,0,0,0,0,0,0,0,0,0,0,0,0,0,0,0,0,0,0,0,0,0,0,0,0,0,0,0,0,0,0,0,0,0,0,0,0,0,0,0,0,0,0,0,0,0,0,0,0,0,0,0,0,0,0,0,0,0,0,0,0,0,0,0,0,0,0,0,0,0,0,0,0,0,0,0,0,0,0,0,0,0,0,0,0,0,0,0,0,0,0,0,0,0,0,0,0,0,0,0,0,0,0,0,0,0,0,0,0,0,0,0,0,0,0,0,0,0,0,0,0,0,0,0,0,0,0,0,0,0,0,0,0,0,0,0,0,0,0,0,0,0,0,0,0,0,0,0,0,0,0,0,0,0,0,0,0,0,0,0,0,0,0,0,0,0,0,0,0,0,0,0,0,0,0,0,0,0,0,0,0,0,0,0,0,0,0,0,0,0,0,0,0,0,0,0,0,0,0,0,0,0,0,0,0,0,0,0,0,0,0,0,0,0,0,0,0,0,0,0,0,0,0,0,0,0,0,0,0,0,0,0,0,0,0,0,0,0,0,0,0,0,0,0,0,0,0,0,0,0,0,0,0,0,0,0,0,0,0,0,0,0,0,0,0,0,0,0,0,0,0,0,0,0,0,0,0,0,0,0,0,0,0,0,0,0,0,0,0,0,0,0,0,0,0,0,0,0,0,0,0,0,0,0,0,0,0,0,0,0,0,0,0,0,0,0,0,0,0,0,0,0,0,0,0,0,0,0,0,0,0,0,0,0,0,0,0,0,0,0,0,0,0,0,0,0,0,0,0,0,0,0,0,0,0,0,0,0,0,0,0,0,0,0,0,0,0,0,0,0,0,0,0,0,0,0,0,0,0,0,0,0,0,0,0,0,0,0,0,0,0,0,0,0,0,0,0,0,0,0,0,0,0,0,0,0,0,0,0,0,0,0,0,0,0,0,0,0,0,0,0,0,0,0,0,0,0,0,0,0,0,0,0,0,0,0,0,0,0,0,0,0,0,0,0,0,0,0,0,0,0,0,0,0,0,0,0,0,0,0,0,0,0,0,0,0,0,0,0,0,0,0,0,0,0,0,0,0,0,0,0,0,0,0,0,0,0,0,0,0,0,0,0,0,0,0,0,0,0,0,0,0,0,0,0,0,0,0,0,0,0,0,0,0,0,0,0,0,0,0,0,0,0,0,0,0,0,0,0,0,0,0,0,0,0,0,0,0,0,0,0,0,0,0,0,0,0,0,0,0,0,0,0,0,0,0,0,0,0,0,0,0,0,0,0,0,0,0,0,0,0,0,0,0,0,0,0,0,0,0,0,0,0,0,0,0,0,0,0,0,0,0,0,0,0,0,0,0,0,0,0,0,0,0,0,0,0,0,0,0,0,0,0,0,0,0,0,0,0,0,0,0,0,0,0,0,0,0,0,0,0,0,0,0,0,0,0,0,0,0,0,0,0,0,0,0,0,0,0,0,0,0,0,0,0,0,0,0,0,0,0,0,0,0,0,0,0,0,0,0,0,0,0,0,0,0,0,0,0,0,0,0,0,0,0,0,0,0,0,0,0,0,0,0,0,0,0,0,0,0,0,0,0,0,0,0,0,0,0,0,0,0,0,0,0,0,0,0,0,0,0,0,0,0,0,0,0,0,0,0,0,0,0,0,0,0,0,0,0,0,0,0,0,0,0,0,0,0,0,0,0,0,0,0,0,0,0,0,0,0,0,0,0,0,0,0,0,0,0,0,0,0,0,0,0,0,0,0,0,0,0,0,0,0,0,0,0,0,0,0,0,0,0,0,0,0,0,0,0,0,0,0,0,0,0,0,0,0,0,0,0,0,0,0,0,0,0,0,0,0,0,0,0,0,0,0,0,0,0,0,0,0,0,0,0,0,0,0,0,0,0,0,0,0,0,0,0,0,0,0,0,0,0,0,0,0,0,0,0,0,0,0,0,0,0,0,0,0,0,0,0,0,0,0,0,0,0,0,0,0,0,0,0,0,0,0,0,0,0,0,0,0,0,0,0,0,0,0,0,0,0,0,0,0,0,0,0,0,0,0,0,0,0,0,0,0,0,0,0,0,0,0,0,0,0,0,0,0,0,0,0,0,0,0,0,0,0,0,0,0,0,0,0,0,0,0,0,0,0,0,0,0,0,0,0,0,0,0,0,0,0,0,0,0,0,0,0,0,0,0,0,0,0,0,0,0,0,0,0,0,0,0,0,0,0,0,0,0,0,0,0,0,0,0,0,0,0,0,0,0,0,0,0,0,0,0,0,0,0,0,0,0,0,0,0,0,0,0,0,0,0,0,0,0,0,0,0,0,0,0,0,0,0,0,0,0,0,0,0,0,0,0,0,0,0,0,0,0,0,0,0,0,0,0,0,0,0,0,0,0,0,0,0,0,0,0,0,0,0,0,0,0,0,0,0,0,0,0,0,0,0,0,0,0,0,0,0,0,0,0,0,0,0,0,0,0,0,0,0,0,0,0,0,0,0,0,0,0,0,0,0,0,0,0,0,0,0,0,0,0,0,0,0,0,0,0,0,0,0,0,0,0,0,0,0,0,0,0,0,0,0,0,0,0,0,0,0,0,0,0,0,0,0,0,0,0,0,0,0,0,0,0,0,0,0,0,0,0,0,0,0,0,0,0,0,0,0,0,0,0,0,0,0,0,0,0,0,0,0,0,0,0,0,0,0,0,0,0,0,0,0,0,0,0,0,0,0,0,0,0,0,0,0,0,0,0,0,0,0,0,0,0,0,0,0,0,0,0,0,0,0,0,0,0,0,0,0,0,0,0,0,0,0,0,0,0,0,0,0,0,0,0,0,0,0,0,0,0,0,0,0,0,0,0,0,0,0,0,0,0,0,0,0,0,0,0,0,0,0,0,0,0,0,0,0,0,0,0,0,0,0,0,0,0,0,0,0,0,0,0,0,0,0,0,0,0,0,0,0,0,0,0,0,0,0,0,0,0,0,0,0,0,0,0,0,0,0,0,0,0,0,0,0,0,0,0,0,0,0,0,0,0,0,0,0,0,0,0,0,0,0,0,0,0,0,0,0,0,0,0,0,0,0,0,0,0,0,0,0,0,0,0,0,0,0,0,0,0,0,0,0,0,0,0,0,0,0,0,0,0,0,0,0,0,0,0,0,0,0,0,0,0,0,0,0,0,0,0,0,0,0,0,0,0,0,0,0,0,0,0,0,0,0,0,0,0,0,0,0,0,0,0,0,0,0,0,0,0,0,0,0,0,0,0,0,0,0,0,0,0,0,0,0,0,0,0,0,0,0,0,0,0,0,0,0,0,0,0,0,0,0,0,0,0,0,0,0,0,0,0,0,0,0,0,0,0,0,0,0,0,0,0,0,0,0,0,0,0,0,0,0,0,0,0,0,0,0,0,0,0,0,0,0,0,0,0,0,0,0,0,0,0,0,0,0,0,0,0,0,0,0,0,0,0,0,0,0,0,0,0,0,0,0,0,0,0,0,0,0,0,0,0,0,0,0,0,0,0,0,0,0,0,0,0,0,0,0,0,0,0,0,0,0,0,0,0,0,0,0,0,0,0,0,0,0,0,0,0,0,0,0,0,0,0,0,0,0,0,0,0,0,0,0,0,0,0,0,0,0,0,0,0,0,0,0,0,0,0,0,0,0,0,0,0,0,0,0,0,0,0,0,0,0,0,0,0,0,0,0,0,0,0,0,0,0,0,0,0,0,0,0,0,0,0,0,0,0,0,0,0,0,0,0,0,0,0,0,0,0,0,0,0,0,0,0,0,0,0,0,0,0,0,0,0,0,0,0,0,0,0,0,0,0,0,0,0,0,0,0,0,0,0,0,0,0,0,0,0,0,0,0,0,0,0,0,0,0,0,0,0,0,0,0,0,0,0,0,0,0,0,0,0,0,0,0,0,0,0,0,0,0,0,0,0,0,0,0,0,0,0,0,0,0,0,0,0,0,0,0,0,0,0,0,0,0,0,0,0,0,0,0,0,0,0,0,0,0,0,0,0,0,0,0,0,0,0,0,0,0,0,0,0,0,0,0,0,0,0,0,0,0,0,0,0,0,0,0,0,0,0,0,0,0,0,0,0,0,0,0,0,0,0,0,0,0,0,0,0,0,0,0,0,0,0,0,0,0,0,0,0,0,0,0,0,0,0,0,0,0,0,0,0,0,0,0,0,0,0,0,0,0,0,0,0,0,0,0,0,0,0,0,0,0,0,0,0,0,0,0,0,0,0,0,0,0,0,0,0,0,0,0,0,0,0,0,0,0,0,0,0,0,0,0,0,0,0,0,0,0,0,0,0,0,0,0,0,0,0,0,0,0,0,0,0,0,0,0,0,0,0,0,0,0,0,0,0,0,0,0,0,0,0,0,0,0,0,0,0,0,0,0,0,0,0,0,0,0,0,0,0,0,0,0,0,0,0,0,0,0,0,0,0,0,0,0,0,0,0,0,0,0,0,0,0,0,0,0,0,0,0,0,0,0,0,0,0,0,0,0,0,0,0,0,0,0,0,0,0,0,0,0,0,0,0,0,0,0,0,0,0,0,0,0,0,0,0,0,0,0,0,0,0,0,0,0,0,0,0,0,0,0,0,0,0,0,0,0,0,0,0,0,0,0,0,0,0,0,0,0,0,0,0,0,0,0,0,0,0,0,0,0,0,0,0,0,0,0,0,0,0,0,0,0,0,0,0,0,0,0,0,0,0,0,0,0,0,0,0,0,0,0,0,0,0,0,0,0,0,0,0,0,0,0,0,0,0,0,0,0,0,0,0,0,0,0,0,0,0,0,0,0,0,0,0,0,0,0,0,0,0,0,0,0,0,0,0,0,0,0,0,0,0,0,0,0,0,0,0,0,0,0,0,0,0,0,0,0,0,0,0,0,0,0,0,0,0,0,0,0,0,0,0,0,0,0,0,0,0,0,0,0,0,0,0,0,0,0,0,0,0,0,0,0,0,0,0,0,0,0,0,0,0,0,0,0,0,0,0,0,0,0,0,0,0,0,0,0,0,0,0,0,0,0,0,0,0,0,0,0,0,0,0,0,0,0,0,0,0,0,0,0,0,0,0,0,0,0,0,0,0,0,0,0,0,0,0,0,0,0,0,0,0,0,0,0,0,0,0,0,0,0,0,0,0,0,0,0,0,0,0,0,0,0,0,0,0,0,0,0,0,0,0,0,0,0,0,0,0,0,0,0,0,0,0,0,0,0,0,0,0,0,0,0,0,0,0,0,0,0,0,0,0,0,0,0,0,0,0,0,0,0,0,0,0,0,0,0,0,0,0,0,0,0,0,0,0,0,0,0,0,0,0,0,0,0,0,0,0,0,0,0,0,0,0,0,0,0,0,0,0,0,0,0,0,0,0,0,0,0,0,0,0,0,0,0,0,0,0,0,0,0,0,0,0,0,0,0,0,0,0,0,0,0,0,0,0,0,0,0,0,0,0,0,0,0,0,0,0,0,0,0,0,0,0,0,0,0,0,0,0,0,0,0,0,0,0,0,0,0,0,0,0,0,0,0,0,0,0,0,0,0,0,0,0,0,0,0,0,0,0,0,0,0,0,0,0,0,0,0,0,0,0,0,0,0,0,0,0,0,0,0,0,0,0,0,0,0,0,0,0,0,0,0,0,0,0,0,0,0,0,0,0,0,0,0,0,0,0,0,0,0,0,0,0,0,0,0,0,0,0,0,0,0,0,0,0,0,0,0,0,0,0,0,0,0,0,0,0,0,0,0,0,0,0,0,0,0,0,0,0,0,0,0,0,0,0,0,0,0,0,0,0,0,0,0,0,0,0,0,0,0,0,0,0,0,0,0,0,0,0,0,0,0,0,0,0,0,0,0,0,0,0,0,0,0,0,0,0,0,0,0,0,0,0,0,0,0,0,0,0,0,0,0,0,0,0,0,0,0,0,0,0,0,0,0,0,0,0,0,0,0,0,0,0,0,0,0,0,0,0,0,0,0,0,0,0,0,0,0,0,0,0,0,0,0,0,0,0,0,0,0,0,0,0,0,0,0,0,0,0,0,0,0,0,0,0,0,0,0,0,0,0,0,0,0,0],\"fBinStatErrOpt\":0,\"fStatOverflows\":2,\"fScalefactor\":1,\"fTsumwy\":0,\"fTsumwy2\":0,\"fTsumwxy\":0,\"fArray\":[0,0,0,0,0,0,0,0,0,0,0,0,0,0,0,0,0,0,0,0,0,0,0,0,0,0,0,0,0,0,0,0,0,0,0,0,0,0,0,0,0,0,0,0,0,0,0,0,0,0,0,0,0,0,0,0,0,0,0,0,0,0,0,0,0,0,0,0,0,0,0,0,0,0,0,0,0,0,0,0,0,0,0,0,0,0,0,0,0,0,0,0,0,0,0,0,0,0,0,0,0,0,0,0,0,0,0,0,0,0,0,0,0,0,0,0,0,0,0,0,0,0,0,0,0,0,0,0,0,0,0,0,0,0,0,0,0,0,0,0,0,0,0,0,0,0,0,0,0,0,0,0,0,0,0,0,0,0,0,0,0,0,0,0,0,0,0,0,0,0,0,0,0,0,0,0,0,0,0,0,0,0,0,0,0,0,0,0,0,0,0,0,0,0,0,0,0,0,0,0,0,0,0,0,0,0,0,0,0,0,0,0,0,0,0,0,0,0,0,0,0,0,0,0,0,0,0,0,0,0,0,0,0,0,0,0,0,0,0,0,0,0,0,0,0,0,0,0,0,0,0,0,0,0,0,0,0,0,0,0,0,0,0,0,0,0,0,0,0,0,0,0,0,0,0,0,0,0,0,0,0,0,0,0,0,0,0,0,0,0,0,0,0,0,0,0,0,0,0,0,0,0,0,0,0,0,0,0,0,0,0,0,0,0,0,0,0,0,0,0,0,0,0,0,0,0,0,0,0,0,0,0,0,0,0,0,0,0,0,0,0,0,0,0,0,0,0,0,0,0,0,0,0,0,0,0,0,0,0,0,0,0,0,0,0,0,0,0,0,0,0,0,0,0,0,0,0,0,0,0,0,0,0,0,0,0,0,0,0,0,0,0,0,0,0,0,0,0,0,0,0,0,0,0,0,0,0,0,0,0,0,0,0,0,0,0,0,0,0,0,0,0,0,0,0,0,0,0,0,0,0,0,0,0,0,0,0,0,0,0,0,0,0,0,0,0,0,0,0,0,0,0,0,0,0,0,0,0,0,0,0,0,0,0,0,0,0,0,0,0,0,0,0,0,0,0,0,0,0,0,0,0,0,0,0,0,0,0,0,0,0,0,0,0,0,0,0,0,0,0,0,0,0,0,0,0,0,0,0,0,0,0,0,0,0,0,0,0,0,0,0,0,0,0,0,0,0,0,0,0,0,0,0,0,0,0,0,0,0,0,0,0,0,0,0,0,0,0,0,0,0,0,0,0,0,0,0,0,0,0,0,0,0,0,0,0,0,0,0,0,0,0,0,0,0,0,0,0,0,0,0,0,0,0,0,0,0,0,0,0,0,0,0,0,0,0,0,0,0,0,0,0,0,0,0,0,0,0,0,0,0,0,0,0,0,0]},{\"_typename\":\"TPaveText\",\"fUniqueID\":0,\"fBits\":50331657,\"fLineColor\":1,\"fLineStyle\":1,\"fLineWidth\":1,\"fFillColor\":0,\"fFillStyle\":0,\"fX1\":0.7499999217689,\"fY1\":23613.6443037363,\"fX2\":11.2500000782311,\"fY2\":24895.0002550334,\"fX1NDC\":0.15,\"fY1NDC\":0.933983055615829,\"fX2NDC\":0.85,\"fY2NDC\":0.995000004768372,\"fBorderSize\":0,\"fInit\":1,\"fShadowColor\":1,\"fCornerRadius\":0,\"fOption\":\"blNDC\",\"fName\":\"title\",\"fTextAngle\":0,\"fTextSize\":0,\"fTextAlign\":22,\"fTextColor\":1,\"fTextFont\":42,\"fLabel\":\"\",\"fLongest\":49,\"fMargin\":0.05,\"fLines\":{\"_typename\":\"TList\",\"name\":\"TList\",\"arr\":[{\"_typename\":\"TLatex\",\"fUniqueID\":0,\"fBits\":50331648,\"fName\":\"\",\"fTitle\":\"last_l1_ts_dif:gemroc {subRunNo==80 && count==40}\",\"fTextAngle\":0,\"fTextSize\":0,\"fTextAlign\":0,\"fTextColor\":0,\"fTextFont\":0,\"fX\":0,\"fY\":0,\"fLineColor\":1,\"fLineStyle\":1,\"fLineWidth\":2,\"fLimitFactorSize\":3,\"fOriginSize\":0.0518644079566002}],\"opt\":[\"\"]}},{\"_typename\":\"TGraph\",\"fUniqueID\":0,\"fBits\":50594825,\"fName\":\"Graph\",\"fTitle\":\"Graph\",\"fLineColor\":602,\"fLineStyle\":1,\"fLineWidth\":1,\"fFillColor\":0,\"fFillStyle\":1001,\"fMarkerColor\":1,\"fMarkerStyle\":3,\"fMarkerSize\":1,\"fNpoints\":11,\"fX\":[0,10,1,2,3,4,5,6,7,8,9],\"fY\":[12718,12947,11062,21192,21293,11962,7929,16059,11929,7856,10715],\"fFunctions\":{\"_typename\":\"TList\",\"name\":\"TList\",\"arr\":[],\"opt\":[]},\"fHistogram\":{\"_typename\":\"TH1F\",\"fUniqueID\":0,\"fBits\":50332168,\"fName\":\"Graph\",\"fTitle\":\"Graph\",\"fLineColor\":602,\"fLineStyle\":1,\"fLineWidth\":1,\"fFillColor\":0,\"fFillStyle\":1001,\"fMarkerColor\":1,\"fMarkerStyle\":1,\"fMarkerSize\":1,\"fNcells\":102,\"fXaxis\":{\"_typename\":\"TAxis\",\"fUniqueID\":0,\"fBits\":50331648,\"fName\":\"xaxis\",\"fTitle\":\"\",\"fNdivisions\":510,\"fAxisColor\":1,\"fLabelColor\":1,\"fLabelFont\":42,\"fLabelOffset\":0.005,\"fLabelSize\":0.035,\"fTickLength\":0.03,\"fTitleOffset\":1,\"fTitleSize\":0.035,\"fTitleColor\":1,\"fTitleFont\":42,\"fNbins\":100,\"fXmin\":0,\"fXmax\":11,\"fXbins\":[],\"fFirst\":0,\"fLast\":0,\"fBits2\":0,\"fTimeDisplay\":false,\"fTimeFormat\":\"\",\"fLabels\":null,\"fModLabs\":null},\"fYaxis\":{\"_typename\":\"TAxis\",\"fUniqueID\":0,\"fBits\":50331648,\"fName\":\"yaxis\",\"fTitle\":\"\",\"fNdivisions\":510,\"fAxisColor\":1,\"fLabelColor\":1,\"fLabelFont\":42,\"fLabelOffset\":0.005,\"fLabelSize\":0.035,\"fTickLength\":0.03,\"fTitleOffset\":0,\"fTitleSize\":0.035,\"fTitleColor\":1,\"fTitleFont\":42,\"fNbins\":1,\"fXmin\":6512.3,\"fXmax\":22636.7,\"fXbins\":[],\"fFirst\":0,\"fLast\":0,\"fBits2\":0,\"fTimeDisplay\":false,\"fTimeFormat\":\"\",\"fLabels\":null,\"fModLabs\":null},\"fZaxis\":{\"_typename\":\"TAxis\",\"fUniqueID\":0,\"fBits\":50331648,\"fName\":\"zaxis\",\"fTitle\":\"\",\"fNdivisions\":510,\"fAxisColor\":1,\"fLabelColor\":1,\"fLabelFont\":42,\"fLabelOffset\":0.005,\"fLabelSize\":0.035,\"fTickLength\":0.03,\"fTitleOffset\":1,\"fTitleSize\":0.035,\"fTitleColor\":1,\"fTitleFont\":42,\"fNbins\":1,\"fXmin\":0,\"fXmax\":1,\"fXbins\":[],\"fFirst\":0,\"fLast\":0,\"fBits2\":0,\"fTimeDisplay\":false,\"fTimeFormat\":\"\",\"fLabels\":null,\"fModLabs\":null},\"fBarOffset\":0,\"fBarWidth\":1000,\"fEntries\":0,\"fTsumw\":0,\"fTsumw2\":0,\"fTsumwx\":0,\"fTsumwx2\":0,\"fMaximum\":22636.7,\"fMinimum\":6512.3,\"fNormFactor\":0,\"fContour\":[],\"fSumw2\":[],\"fOption\":\"\",\"fFunctions\":{\"_typename\":\"TList\",\"name\":\"TList\",\"arr\":[],\"opt\":[]},\"fBufferSize\":0,\"fBuffer\":[],\"fBinStatErrOpt\":0,\"fStatOverflows\":2,\"fArray\":[0,0,0,0,0,0,0,0,0,0,0,0,0,0,0,0,0,0,0,0,0,0,0,0,0,0,0,0,0,0,0,0,0,0,0,0,0,0,0,0,0,0,0,0,0,0,0,0,0,0,0,0,0,0,0,0,0,0,0,0,0,0,0,0,0,0,0,0,0,0,0,0,0,0,0,0,0,0,0,0,0,0,0,0,0,0,0,0,0,0,0,0,0,0,0,0,0,0,0,0,0,0]},\"fMinimum\":-1111,\"fMaximum\":-1111}],\"opt\":[\"\",\"\",\"blNDC\",\"p\"]},\"fExecs\":null,\"fName\":\"c1_n3\",\"fTitle\":\"c1_n3\",\"fNumPaletteColor\":0,\"fNextPaletteColor\":0,\"fDISPLAY\":\"$DISPLAY\",\"fDoubleBuffer\":0,\"fRetained\":true,\"fXsizeUser\":0,\"fYsizeUser\":0,\"fXsizeReal\":20,\"fYsizeReal\":14.28571,\"fWindowTopX\":0,\"fWindowTopY\":0,\"fWindowWidth\":0,\"fWindowHeight\":0,\"fCw\":696,\"fCh\":472,\"fCatt\":{\"_typename\":\"TAttCanvas\",\"fXBetween\":2,\"fYBetween\":2,\"fTitleFromTop\":1.2,\"fXdate\":0.2,\"fYdate\":0.3,\"fAdate\":1},\"kMoveOpaque\":true,\"kResizeOpaque\":true,\"fHighLightColor\":2,\"fBatch\":true,\"kShowEventStatus\":false,\"kAutoExec\":true,\"kMenuBar\":true});\n",
       "       Core.draw(\"root_plot_17\", obj, \"\");\n",
       "     }\n",
       " );\n",
       "</script>\n"
      ],
      "text/plain": [
       "<IPython.core.display.HTML object>"
      ]
     },
     "metadata": {},
     "output_type": "display_data"
    }
   ],
   "source": [
    "c.Draw()"
   ]
  },
  {
   "cell_type": "code",
   "execution_count": 100,
   "metadata": {},
   "outputs": [
    {
     "data": {
      "text/plain": [
       "15364"
      ]
     },
     "execution_count": 100,
     "metadata": {},
     "output_type": "execute_result"
    }
   ],
   "source": [
    "f=R.TFile(\"/home/alb/Desktop/elaborazioni_e_dati/analisi_run/trigger_decode/351/header_trailer_info/351.root\")\n",
    "f.tree.Draw(\"last_l1_ts_dif\", \"last_l1_ts_dif<100\",\"\")"
   ]
  },
  {
   "cell_type": "code",
   "execution_count": 101,
   "metadata": {},
   "outputs": [
    {
     "data": {
      "text/html": [
       "\n",
       "<div id=\"root_plot_32\"\n",
       "     style=\"width: 696px; height: 472px\">\n",
       "</div>\n",
       "\n",
       "<script>\n",
       " requirejs.config({\n",
       "     paths: {\n",
       "       'JSRootCore' : 'https://root.cern.ch/js/notebook//scripts/JSRootCore',\n",
       "     }\n",
       "   });\n",
       " require(['JSRootCore'],\n",
       "     function(Core) {\n",
       "       var obj = Core.JSONR_unref({\"_typename\":\"TCanvas\",\"fUniqueID\":0,\"fBits\":53673992,\"fLineColor\":1,\"fLineStyle\":1,\"fLineWidth\":1,\"fFillColor\":0,\"fFillStyle\":1001,\"fLeftMargin\":0.1,\"fRightMargin\":0.1,\"fBottomMargin\":0.1,\"fTopMargin\":0.1,\"fXfile\":2,\"fYfile\":2,\"fAfile\":1,\"fXstat\":0.99,\"fYstat\":0.99,\"fAstat\":2,\"fFrameFillColor\":0,\"fFrameLineColor\":1,\"fFrameFillStyle\":1001,\"fFrameLineStyle\":1,\"fFrameLineWidth\":1,\"fFrameBorderSize\":1,\"fFrameBorderMode\":0,\"fX1\":-12.8750009592623,\"fY1\":-1429.31260649209,\"fX2\":115.875000959262,\"fY2\":12863.8126064921,\"fXtoAbsPixelk\":69.6000541484835,\"fXtoPixelk\":69.6000541484835,\"fXtoPixel\":5.40582516216537,\"fYtoAbsPixelk\":424.800047186661,\"fYtoPixelk\":424.800047186661,\"fYtoPixel\":-0.0330228688944266,\"fUtoAbsPixelk\":5e-5,\"fUtoPixelk\":5e-5,\"fUtoPixel\":696,\"fVtoAbsPixelk\":472.00005,\"fVtoPixelk\":472,\"fVtoPixel\":-472,\"fAbsPixeltoXk\":-12.8750009592623,\"fPixeltoXk\":-12.8750009592623,\"fPixeltoX\":0.184985634940409,\"fAbsPixeltoYk\":12863.8126064921,\"fPixeltoYk\":-1429.31260649209,\"fPixeltoY\":-30.2820449427631,\"fXlowNDC\":0,\"fYlowNDC\":0,\"fXUpNDC\":0,\"fYUpNDC\":0,\"fWNDC\":1,\"fHNDC\":1,\"fAbsXlowNDC\":0,\"fAbsYlowNDC\":0,\"fAbsWNDC\":1,\"fAbsHNDC\":1,\"fUxmin\":0,\"fUymin\":0,\"fUxmax\":103,\"fUymax\":11434.5,\"fTheta\":30,\"fPhi\":30,\"fAspectRatio\":0,\"fNumber\":0,\"fTickx\":0,\"fTicky\":0,\"fLogx\":0,\"fLogy\":0,\"fLogz\":0,\"fPadPaint\":0,\"fCrosshair\":0,\"fCrosshairPos\":0,\"fBorderSize\":2,\"fBorderMode\":0,\"fModified\":false,\"fGridx\":false,\"fGridy\":false,\"fAbsCoord\":false,\"fEditable\":true,\"fFixedAspectRatio\":false,\"fPrimitives\":{\"_typename\":\"TList\",\"name\":\"TList\",\"arr\":[{\"_typename\":\"TFrame\",\"fUniqueID\":0,\"fBits\":50331656,\"fLineColor\":1,\"fLineStyle\":1,\"fLineWidth\":1,\"fFillColor\":0,\"fFillStyle\":1001,\"fX1\":0,\"fY1\":0,\"fX2\":103,\"fY2\":11434.5,\"fBorderSize\":1,\"fBorderMode\":0},{\"_typename\":\"TH1F\",\"fUniqueID\":0,\"fBits\":50331657,\"fName\":\"htemp\",\"fTitle\":\"last_l1_ts_dif {last_l1_ts_dif<100}\",\"fLineColor\":602,\"fLineStyle\":1,\"fLineWidth\":1,\"fFillColor\":0,\"fFillStyle\":1001,\"fMarkerColor\":1,\"fMarkerStyle\":1,\"fMarkerSize\":1,\"fNcells\":105,\"fXaxis\":{\"_typename\":\"TAxis\",\"fUniqueID\":0,\"fBits\":54525952,\"fName\":\"xaxis\",\"fTitle\":\"last_l1_ts_dif\",\"fNdivisions\":510,\"fAxisColor\":1,\"fLabelColor\":1,\"fLabelFont\":42,\"fLabelOffset\":0.005,\"fLabelSize\":0.035,\"fTickLength\":0.03,\"fTitleOffset\":1,\"fTitleSize\":0.035,\"fTitleColor\":1,\"fTitleFont\":42,\"fNbins\":103,\"fXmin\":0,\"fXmax\":103,\"fXbins\":[],\"fFirst\":1,\"fLast\":100,\"fBits2\":0,\"fTimeDisplay\":false,\"fTimeFormat\":\"\",\"fLabels\":null,\"fModLabs\":null},\"fYaxis\":{\"_typename\":\"TAxis\",\"fUniqueID\":0,\"fBits\":50331648,\"fName\":\"yaxis\",\"fTitle\":\"\",\"fNdivisions\":510,\"fAxisColor\":1,\"fLabelColor\":1,\"fLabelFont\":42,\"fLabelOffset\":0.005,\"fLabelSize\":0.035,\"fTickLength\":0.03,\"fTitleOffset\":0,\"fTitleSize\":0.035,\"fTitleColor\":1,\"fTitleFont\":42,\"fNbins\":1,\"fXmin\":0,\"fXmax\":1,\"fXbins\":[],\"fFirst\":0,\"fLast\":0,\"fBits2\":0,\"fTimeDisplay\":false,\"fTimeFormat\":\"\",\"fLabels\":null,\"fModLabs\":null},\"fZaxis\":{\"_typename\":\"TAxis\",\"fUniqueID\":0,\"fBits\":50331648,\"fName\":\"zaxis\",\"fTitle\":\"\",\"fNdivisions\":510,\"fAxisColor\":1,\"fLabelColor\":1,\"fLabelFont\":42,\"fLabelOffset\":0.005,\"fLabelSize\":0.035,\"fTickLength\":0.03,\"fTitleOffset\":1,\"fTitleSize\":0.035,\"fTitleColor\":1,\"fTitleFont\":42,\"fNbins\":1,\"fXmin\":0,\"fXmax\":1,\"fXbins\":[],\"fFirst\":0,\"fLast\":0,\"fBits2\":0,\"fTimeDisplay\":false,\"fTimeFormat\":\"\",\"fLabels\":null,\"fModLabs\":null},\"fBarOffset\":0,\"fBarWidth\":1000,\"fEntries\":15364,\"fTsumw\":15364,\"fTsumw2\":15364,\"fTsumwx\":223089,\"fTsumwx2\":15141073,\"fMaximum\":-1111,\"fMinimum\":-1111,\"fNormFactor\":0,\"fContour\":[],\"fSumw2\":[],\"fOption\":\"\",\"fFunctions\":{\"_typename\":\"TList\",\"name\":\"TList\",\"arr\":[{\"_typename\":\"TPaveStats\",\"fUniqueID\":0,\"fBits\":50331657,\"fLineColor\":1,\"fLineStyle\":1,\"fLineWidth\":1,\"fFillColor\":0,\"fFillStyle\":1001,\"fX1\":87.5500026091934,\"fY1\":9647.85951876431,\"fX2\":113.300003376603,\"fY2\":11934.7595017256,\"fX1NDC\":0.780000016093254,\"fY1NDC\":0.775000005960464,\"fX2NDC\":0.980000019073486,\"fY2NDC\":0.935000002384186,\"fBorderSize\":1,\"fInit\":1,\"fShadowColor\":1,\"fCornerRadius\":0,\"fOption\":\"brNDC\",\"fName\":\"stats\",\"fTextAngle\":0,\"fTextSize\":0,\"fTextAlign\":12,\"fTextColor\":1,\"fTextFont\":42,\"fLabel\":\"\",\"fLongest\":18,\"fMargin\":0.05,\"fLines\":{\"_typename\":\"TList\",\"name\":\"TList\",\"arr\":[{\"_typename\":\"TLatex\",\"fUniqueID\":0,\"fBits\":50331648,\"fName\":\"\",\"fTitle\":\"htemp\",\"fTextAngle\":0,\"fTextSize\":0.0368,\"fTextAlign\":0,\"fTextColor\":0,\"fTextFont\":0,\"fX\":0,\"fY\":0,\"fLineColor\":1,\"fLineStyle\":1,\"fLineWidth\":2,\"fLimitFactorSize\":3,\"fOriginSize\":0.0368000008165836},{\"_typename\":\"TLatex\",\"fUniqueID\":0,\"fBits\":50331648,\"fName\":\"\",\"fTitle\":\"Entries = 15364  \",\"fTextAngle\":0,\"fTextSize\":0,\"fTextAlign\":0,\"fTextColor\":0,\"fTextFont\":0,\"fX\":0,\"fY\":0,\"fLineColor\":1,\"fLineStyle\":1,\"fLineWidth\":2,\"fLimitFactorSize\":3,\"fOriginSize\":0.04},{\"_typename\":\"TLatex\",\"fUniqueID\":0,\"fBits\":50331648,\"fName\":\"\",\"fTitle\":\"Mean  =  14.52\",\"fTextAngle\":0,\"fTextSize\":0,\"fTextAlign\":0,\"fTextColor\":0,\"fTextFont\":0,\"fX\":0,\"fY\":0,\"fLineColor\":1,\"fLineStyle\":1,\"fLineWidth\":2,\"fLimitFactorSize\":3,\"fOriginSize\":0.04},{\"_typename\":\"TLatex\",\"fUniqueID\":0,\"fBits\":50331648,\"fName\":\"\",\"fTitle\":\"Std Dev   =  27.83\",\"fTextAngle\":0,\"fTextSize\":0,\"fTextAlign\":0,\"fTextColor\":0,\"fTextFont\":0,\"fX\":0,\"fY\":0,\"fLineColor\":1,\"fLineStyle\":1,\"fLineWidth\":2,\"fLimitFactorSize\":3,\"fOriginSize\":0.04}],\"opt\":[\"\",\"\",\"\",\"\"]},\"fOptFit\":0,\"fOptStat\":1111,\"fFitFormat\":\"5.4g\",\"fStatFormat\":\"6.4g\",\"fParent\":{\"$ref\":3}}],\"opt\":[\"brNDC\"]},\"fBufferSize\":0,\"fBuffer\":[],\"fBinStatErrOpt\":0,\"fStatOverflows\":2,\"fArray\":[0,10890,92,22,71,43,45,61,92,41,39,29,23,65,12,38,82,34,33,66,45,91,28,57,44,30,77,42,66,52,32,22,11,44,41,30,65,41,22,52,46,23,0,59,44,68,54,32,18,33,57,42,21,35,29,37,28,86,63,48,39,63,58,53,53,36,35,11,22,35,52,56,42,55,48,58,25,56,54,27,33,61,16,36,39,33,27,52,49,21,45,64,13,41,55,48,101,35,86,65,73,0,0,0,0]},{\"_typename\":\"TPaveText\",\"fUniqueID\":0,\"fBits\":50331657,\"fLineColor\":1,\"fLineStyle\":1,\"fLineWidth\":1,\"fFillColor\":0,\"fFillStyle\":0,\"fX1\":14.7877508897264,\"fY1\":11956.5626081618,\"fX2\":88.2122491102736,\"fY2\":12792.3470485821,\"fX1NDC\":0.21485632183908,\"fY1NDC\":0.936525428497185,\"fX2NDC\":0.78514367816092,\"fY2NDC\":0.995000004768372,\"fBorderSize\":0,\"fInit\":1,\"fShadowColor\":1,\"fCornerRadius\":0,\"fOption\":\"blNDC\",\"fName\":\"title\",\"fTextAngle\":0,\"fTextSize\":0,\"fTextAlign\":22,\"fTextColor\":1,\"fTextFont\":42,\"fLabel\":\"\",\"fLongest\":35,\"fMargin\":0.05,\"fLines\":{\"_typename\":\"TList\",\"name\":\"TList\",\"arr\":[{\"_typename\":\"TLatex\",\"fUniqueID\":0,\"fBits\":50331648,\"fName\":\"\",\"fTitle\":\"last_l1_ts_dif {last_l1_ts_dif<100}\",\"fTextAngle\":0,\"fTextSize\":0,\"fTextAlign\":0,\"fTextColor\":0,\"fTextFont\":0,\"fX\":0,\"fY\":0,\"fLineColor\":1,\"fLineStyle\":1,\"fLineWidth\":2,\"fLimitFactorSize\":3,\"fOriginSize\":0.0497033894062042}],\"opt\":[\"\"]}}],\"opt\":[\"\",\"\",\"blNDC\"]},\"fExecs\":null,\"fName\":\"c1_n3\",\"fTitle\":\"c1_n3\",\"fNumPaletteColor\":0,\"fNextPaletteColor\":0,\"fDISPLAY\":\"$DISPLAY\",\"fDoubleBuffer\":0,\"fRetained\":true,\"fXsizeUser\":0,\"fYsizeUser\":0,\"fXsizeReal\":20,\"fYsizeReal\":14.28571,\"fWindowTopX\":0,\"fWindowTopY\":0,\"fWindowWidth\":0,\"fWindowHeight\":0,\"fCw\":696,\"fCh\":472,\"fCatt\":{\"_typename\":\"TAttCanvas\",\"fXBetween\":2,\"fYBetween\":2,\"fTitleFromTop\":1.2,\"fXdate\":0.2,\"fYdate\":0.3,\"fAdate\":1},\"kMoveOpaque\":true,\"kResizeOpaque\":true,\"fHighLightColor\":2,\"fBatch\":true,\"kShowEventStatus\":false,\"kAutoExec\":true,\"kMenuBar\":true});\n",
       "       Core.draw(\"root_plot_32\", obj, \"\");\n",
       "     }\n",
       " );\n",
       "</script>\n"
      ],
      "text/plain": [
       "<IPython.core.display.HTML object>"
      ]
     },
     "metadata": {},
     "output_type": "display_data"
    }
   ],
   "source": [
    "c.Draw()"
   ]
  },
  {
   "cell_type": "code",
   "execution_count": 98,
   "metadata": {},
   "outputs": [
    {
     "data": {
      "text/plain": [
       "1380"
      ]
     },
     "execution_count": 98,
     "metadata": {},
     "output_type": "execute_result"
    }
   ],
   "source": [
    "f=R.TFile(\"/home/alb/Desktop/elaborazioni_e_dati/analisi_run/trigger_decode/424/header_trailer_info/424.root\")\n",
    "f.tree.Draw(\"last_l1_ts_dif\", \"last_l1_ts_dif<100\",\"\")"
   ]
  },
  {
   "cell_type": "code",
   "execution_count": 99,
   "metadata": {},
   "outputs": [
    {
     "data": {
      "text/html": [
       "\n",
       "<div id=\"root_plot_31\"\n",
       "     style=\"width: 696px; height: 472px\">\n",
       "</div>\n",
       "\n",
       "<script>\n",
       " requirejs.config({\n",
       "     paths: {\n",
       "       'JSRootCore' : 'https://root.cern.ch/js/notebook//scripts/JSRootCore',\n",
       "     }\n",
       "   });\n",
       " require(['JSRootCore'],\n",
       "     function(Core) {\n",
       "       var obj = Core.JSONR_unref({\"_typename\":\"TCanvas\",\"fUniqueID\":0,\"fBits\":53673992,\"fLineColor\":1,\"fLineStyle\":1,\"fLineWidth\":1,\"fFillColor\":0,\"fFillStyle\":1001,\"fLeftMargin\":0.1,\"fRightMargin\":0.1,\"fBottomMargin\":0.1,\"fTopMargin\":0.1,\"fXfile\":2,\"fYfile\":2,\"fAfile\":1,\"fXstat\":0.99,\"fYstat\":0.99,\"fAstat\":2,\"fFrameFillColor\":0,\"fFrameLineColor\":1,\"fFrameFillStyle\":1001,\"fFrameLineStyle\":1,\"fFrameLineWidth\":1,\"fFrameBorderSize\":1,\"fFrameBorderMode\":0,\"fX1\":-12.6250009406359,\"fY1\":-133.612509954908,\"fX2\":113.625000940636,\"fY2\":1202.51250995491,\"fXtoAbsPixelk\":69.6000541484835,\"fXtoPixelk\":69.6000541484835,\"fXtoPixel\":5.51287120498053,\"fYtoAbsPixelk\":424.800047186661,\"fYtoPixelk\":424.800047186661,\"fYtoPixel\":-0.353260355854917,\"fUtoAbsPixelk\":5e-5,\"fUtoPixelk\":5e-5,\"fUtoPixel\":696,\"fVtoAbsPixelk\":472.00005,\"fVtoPixelk\":472,\"fVtoPixel\":-472,\"fAbsPixeltoXk\":-12.6250009406359,\"fPixeltoXk\":-12.6250009406359,\"fPixeltoX\":0.181393680863896,\"fAbsPixeltoYk\":1202.51250995491,\"fPixeltoYk\":-133.612509954908,\"fPixeltoY\":-2.83077334726656,\"fXlowNDC\":0,\"fYlowNDC\":0,\"fXUpNDC\":0,\"fYUpNDC\":0,\"fWNDC\":1,\"fHNDC\":1,\"fAbsXlowNDC\":0,\"fAbsYlowNDC\":0,\"fAbsWNDC\":1,\"fAbsHNDC\":1,\"fUxmin\":0,\"fUymin\":0,\"fUxmax\":101,\"fUymax\":1068.9,\"fTheta\":30,\"fPhi\":30,\"fAspectRatio\":0,\"fNumber\":0,\"fTickx\":0,\"fTicky\":0,\"fLogx\":0,\"fLogy\":0,\"fLogz\":0,\"fPadPaint\":0,\"fCrosshair\":0,\"fCrosshairPos\":0,\"fBorderSize\":2,\"fBorderMode\":0,\"fModified\":false,\"fGridx\":false,\"fGridy\":false,\"fAbsCoord\":false,\"fEditable\":true,\"fFixedAspectRatio\":false,\"fPrimitives\":{\"_typename\":\"TList\",\"name\":\"TList\",\"arr\":[{\"_typename\":\"TFrame\",\"fUniqueID\":0,\"fBits\":50331656,\"fLineColor\":1,\"fLineStyle\":1,\"fLineWidth\":1,\"fFillColor\":0,\"fFillStyle\":1001,\"fX1\":0,\"fY1\":0,\"fX2\":101,\"fY2\":1068.9,\"fBorderSize\":1,\"fBorderMode\":0},{\"_typename\":\"TH1F\",\"fUniqueID\":0,\"fBits\":50331657,\"fName\":\"htemp\",\"fTitle\":\"last_l1_ts_dif {last_l1_ts_dif<100}\",\"fLineColor\":602,\"fLineStyle\":1,\"fLineWidth\":1,\"fFillColor\":0,\"fFillStyle\":1001,\"fMarkerColor\":1,\"fMarkerStyle\":1,\"fMarkerSize\":1,\"fNcells\":103,\"fXaxis\":{\"_typename\":\"TAxis\",\"fUniqueID\":0,\"fBits\":54525952,\"fName\":\"xaxis\",\"fTitle\":\"last_l1_ts_dif\",\"fNdivisions\":510,\"fAxisColor\":1,\"fLabelColor\":1,\"fLabelFont\":42,\"fLabelOffset\":0.005,\"fLabelSize\":0.035,\"fTickLength\":0.03,\"fTitleOffset\":1,\"fTitleSize\":0.035,\"fTitleColor\":1,\"fTitleFont\":42,\"fNbins\":101,\"fXmin\":0,\"fXmax\":101,\"fXbins\":[],\"fFirst\":1,\"fLast\":100,\"fBits2\":0,\"fTimeDisplay\":false,\"fTimeFormat\":\"\",\"fLabels\":null,\"fModLabs\":null},\"fYaxis\":{\"_typename\":\"TAxis\",\"fUniqueID\":0,\"fBits\":50331648,\"fName\":\"yaxis\",\"fTitle\":\"\",\"fNdivisions\":510,\"fAxisColor\":1,\"fLabelColor\":1,\"fLabelFont\":42,\"fLabelOffset\":0.005,\"fLabelSize\":0.035,\"fTickLength\":0.03,\"fTitleOffset\":0,\"fTitleSize\":0.035,\"fTitleColor\":1,\"fTitleFont\":42,\"fNbins\":1,\"fXmin\":0,\"fXmax\":1,\"fXbins\":[],\"fFirst\":0,\"fLast\":0,\"fBits2\":0,\"fTimeDisplay\":false,\"fTimeFormat\":\"\",\"fLabels\":null,\"fModLabs\":null},\"fZaxis\":{\"_typename\":\"TAxis\",\"fUniqueID\":0,\"fBits\":50331648,\"fName\":\"zaxis\",\"fTitle\":\"\",\"fNdivisions\":510,\"fAxisColor\":1,\"fLabelColor\":1,\"fLabelFont\":42,\"fLabelOffset\":0.005,\"fLabelSize\":0.035,\"fTickLength\":0.03,\"fTitleOffset\":1,\"fTitleSize\":0.035,\"fTitleColor\":1,\"fTitleFont\":42,\"fNbins\":1,\"fXmin\":0,\"fXmax\":1,\"fXbins\":[],\"fFirst\":0,\"fLast\":0,\"fBits2\":0,\"fTimeDisplay\":false,\"fTimeFormat\":\"\",\"fLabels\":null,\"fModLabs\":null},\"fBarOffset\":0,\"fBarWidth\":1000,\"fEntries\":1380,\"fTsumw\":1380,\"fTsumw2\":1380,\"fTsumwx\":18413,\"fTsumwx2\":1129941,\"fMaximum\":-1111,\"fMinimum\":-1111,\"fNormFactor\":0,\"fContour\":[],\"fSumw2\":[],\"fOption\":\"\",\"fFunctions\":{\"_typename\":\"TList\",\"name\":\"TList\",\"arr\":[{\"_typename\":\"TPaveStats\",\"fUniqueID\":0,\"fBits\":50331657,\"fLineColor\":1,\"fLineStyle\":1,\"fLineWidth\":1,\"fFillColor\":0,\"fFillStyle\":1001,\"fX1\":85.8500025585294,\"fY1\":901.884388439125,\"fX2\":111.100003311038,\"fY2\":1115.66438684634,\"fX1NDC\":0.780000016093254,\"fY1NDC\":0.775000005960464,\"fX2NDC\":0.980000019073486,\"fY2NDC\":0.935000002384186,\"fBorderSize\":1,\"fInit\":1,\"fShadowColor\":1,\"fCornerRadius\":0,\"fOption\":\"brNDC\",\"fName\":\"stats\",\"fTextAngle\":0,\"fTextSize\":0,\"fTextAlign\":12,\"fTextColor\":1,\"fTextFont\":42,\"fLabel\":\"\",\"fLongest\":18,\"fMargin\":0.05,\"fLines\":{\"_typename\":\"TList\",\"name\":\"TList\",\"arr\":[{\"_typename\":\"TLatex\",\"fUniqueID\":0,\"fBits\":50331648,\"fName\":\"\",\"fTitle\":\"htemp\",\"fTextAngle\":0,\"fTextSize\":0.0368,\"fTextAlign\":0,\"fTextColor\":0,\"fTextFont\":0,\"fX\":0,\"fY\":0,\"fLineColor\":1,\"fLineStyle\":1,\"fLineWidth\":2,\"fLimitFactorSize\":3,\"fOriginSize\":0.0368000008165836},{\"_typename\":\"TLatex\",\"fUniqueID\":0,\"fBits\":50331648,\"fName\":\"\",\"fTitle\":\"Entries = 1380   \",\"fTextAngle\":0,\"fTextSize\":0,\"fTextAlign\":0,\"fTextColor\":0,\"fTextFont\":0,\"fX\":0,\"fY\":0,\"fLineColor\":1,\"fLineStyle\":1,\"fLineWidth\":2,\"fLimitFactorSize\":3,\"fOriginSize\":0.04},{\"_typename\":\"TLatex\",\"fUniqueID\":0,\"fBits\":50331648,\"fName\":\"\",\"fTitle\":\"Mean  =  13.34\",\"fTextAngle\":0,\"fTextSize\":0,\"fTextAlign\":0,\"fTextColor\":0,\"fTextFont\":0,\"fX\":0,\"fY\":0,\"fLineColor\":1,\"fLineStyle\":1,\"fLineWidth\":2,\"fLimitFactorSize\":3,\"fOriginSize\":0.04},{\"_typename\":\"TLatex\",\"fUniqueID\":0,\"fBits\":50331648,\"fName\":\"\",\"fTitle\":\"Std Dev   =  25.31\",\"fTextAngle\":0,\"fTextSize\":0,\"fTextAlign\":0,\"fTextColor\":0,\"fTextFont\":0,\"fX\":0,\"fY\":0,\"fLineColor\":1,\"fLineStyle\":1,\"fLineWidth\":2,\"fLimitFactorSize\":3,\"fOriginSize\":0.04}],\"opt\":[\"\",\"\",\"\",\"\"]},\"fOptFit\":0,\"fOptStat\":1111,\"fFitFormat\":\"5.4g\",\"fStatFormat\":\"6.4g\",\"fParent\":{\"$ref\":3}}],\"opt\":[\"brNDC\"]},\"fBufferSize\":0,\"fBuffer\":[],\"fBinStatErrOpt\":0,\"fStatOverflows\":2,\"fArray\":[0,1018,0,0,0,0,11,0,0,0,0,0,11,0,0,0,0,0,0,0,8,3,0,0,0,10,1,0,0,8,14,11,22,0,22,0,0,0,0,0,22,0,0,0,0,0,0,11,11,0,0,0,11,0,11,11,0,0,10,1,24,9,0,17,5,0,0,11,15,7,0,0,0,0,0,0,0,0,11,0,7,4,0,0,0,0,0,0,0,22,10,0,0,0,0,0,0,0,11,0,0,0,0]},{\"_typename\":\"TPaveText\",\"fUniqueID\":0,\"fBits\":50331657,\"fLineColor\":1,\"fLineStyle\":1,\"fLineWidth\":1,\"fFillColor\":0,\"fFillStyle\":0,\"fX1\":14.5006100957512,\"fY1\":1117.70254684194,\"fX2\":86.4993899042488,\"fY2\":1195.8318912265,\"fX1NDC\":0.21485632183908,\"fY1NDC\":0.936525428497185,\"fX2NDC\":0.78514367816092,\"fY2NDC\":0.995000004768372,\"fBorderSize\":0,\"fInit\":1,\"fShadowColor\":1,\"fCornerRadius\":0,\"fOption\":\"blNDC\",\"fName\":\"title\",\"fTextAngle\":0,\"fTextSize\":0,\"fTextAlign\":22,\"fTextColor\":1,\"fTextFont\":42,\"fLabel\":\"\",\"fLongest\":35,\"fMargin\":0.05,\"fLines\":{\"_typename\":\"TList\",\"name\":\"TList\",\"arr\":[{\"_typename\":\"TLatex\",\"fUniqueID\":0,\"fBits\":50331648,\"fName\":\"\",\"fTitle\":\"last_l1_ts_dif {last_l1_ts_dif<100}\",\"fTextAngle\":0,\"fTextSize\":0,\"fTextAlign\":0,\"fTextColor\":0,\"fTextFont\":0,\"fX\":0,\"fY\":0,\"fLineColor\":1,\"fLineStyle\":1,\"fLineWidth\":2,\"fLimitFactorSize\":3,\"fOriginSize\":0.0497033894062042}],\"opt\":[\"\"]}}],\"opt\":[\"\",\"\",\"blNDC\"]},\"fExecs\":null,\"fName\":\"c1_n3\",\"fTitle\":\"c1_n3\",\"fNumPaletteColor\":0,\"fNextPaletteColor\":0,\"fDISPLAY\":\"$DISPLAY\",\"fDoubleBuffer\":0,\"fRetained\":true,\"fXsizeUser\":0,\"fYsizeUser\":0,\"fXsizeReal\":20,\"fYsizeReal\":14.28571,\"fWindowTopX\":0,\"fWindowTopY\":0,\"fWindowWidth\":0,\"fWindowHeight\":0,\"fCw\":696,\"fCh\":472,\"fCatt\":{\"_typename\":\"TAttCanvas\",\"fXBetween\":2,\"fYBetween\":2,\"fTitleFromTop\":1.2,\"fXdate\":0.2,\"fYdate\":0.3,\"fAdate\":1},\"kMoveOpaque\":true,\"kResizeOpaque\":true,\"fHighLightColor\":2,\"fBatch\":true,\"kShowEventStatus\":false,\"kAutoExec\":true,\"kMenuBar\":true});\n",
       "       Core.draw(\"root_plot_31\", obj, \"\");\n",
       "     }\n",
       " );\n",
       "</script>\n"
      ],
      "text/plain": [
       "<IPython.core.display.HTML object>"
      ]
     },
     "metadata": {},
     "output_type": "display_data"
    }
   ],
   "source": [
    "c.Draw()"
   ]
  },
  {
   "cell_type": "code",
   "execution_count": null,
   "metadata": {},
   "outputs": [],
   "source": []
  }
 ],
 "metadata": {
  "kernelspec": {
   "display_name": "Python 3",
   "language": "python",
   "name": "python3"
  },
  "language_info": {
   "codemirror_mode": {
    "name": "ipython",
    "version": 3
   },
   "file_extension": ".py",
   "mimetype": "text/x-python",
   "name": "python",
   "nbconvert_exporter": "python",
   "pygments_lexer": "ipython3",
   "version": "3.7.3"
  }
 },
 "nbformat": 4,
 "nbformat_minor": 2
}
