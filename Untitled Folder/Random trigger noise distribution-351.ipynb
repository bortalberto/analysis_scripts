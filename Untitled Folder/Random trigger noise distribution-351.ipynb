{
 "cells": [
  {
   "cell_type": "code",
   "execution_count": 1,
   "metadata": {},
   "outputs": [
    {
     "name": "stdout",
     "output_type": "stream",
     "text": [
      "Welcome to JupyROOT 6.16/00\n"
     ]
    }
   ],
   "source": [
    "import pandas as pd\n",
    "import plotly.express as px\n",
    "import plotly.graph_objects as go\n",
    "import numpy as np\n",
    "import ROOT as R\n",
    "from tqdm import tqdm\n",
    "import pickle\n",
    "import root_pandas\n",
    "%jsroot off"
   ]
  },
  {
   "cell_type": "code",
   "execution_count": 2,
   "metadata": {},
   "outputs": [],
   "source": [
    "hit_counter={}"
   ]
  },
  {
   "cell_type": "code",
   "execution_count": 3,
   "metadata": {},
   "outputs": [],
   "source": [
    "f=R.TFile(\"/media/alb/Removibile/dati/351/Sub_RUN_ana_33.root\")"
   ]
  },
  {
   "cell_type": "code",
   "execution_count": 4,
   "metadata": {},
   "outputs": [],
   "source": [
    "hit_counter={}"
   ]
  },
  {
   "cell_type": "code",
   "execution_count": 5,
   "metadata": {},
   "outputs": [
    {
     "name": "stderr",
     "output_type": "stream",
     "text": [
      "100%|██████████| 28849/28849 [00:00<00:00, 46888.04it/s]\n"
     ]
    }
   ],
   "source": [
    "for entrynum in tqdm(range (0,f.tree.GetEntries())):\n",
    "    f.tree.GetEntry(entrynum)\n",
    "    if getattr(f.tree ,\"count\")<100000:\n",
    "        count=getattr(f.tree ,\"count\")\n",
    "        tiger=getattr(f.tree ,\"tiger\")\n",
    "        gemroc=getattr(f.tree ,\"gemroc\")\n",
    "        delta_coarse=getattr(f.tree ,\"delta_coarse\")\n",
    "\n",
    "        l1ts_min_tcoarse=getattr(f.tree ,\"l1ts_min_tcoarse\")\n",
    "        if l1ts_min_tcoarse>1450 and (delta_coarse==25 or delta_coarse==26):\n",
    "            try:\n",
    "                hit_counter[count][gemroc*8+tiger]+=1\n",
    "            except KeyError:\n",
    "                hit_counter[count]=np.zeros((8*11))\n",
    "                hit_counter[count][gemroc*8+tiger]+=1\n"
   ]
  },
  {
   "cell_type": "code",
   "execution_count": 6,
   "metadata": {},
   "outputs": [],
   "source": [
    "\n",
    "\n",
    "with open (\"hit_count_save\",\"wb\") as fs:\n",
    "    pickle.dump(hit_counter, fs)"
   ]
  },
  {
   "cell_type": "code",
   "execution_count": 7,
   "metadata": {},
   "outputs": [],
   "source": [
    "with open (\"hit_count_save\",\"rb\") as fs:\n",
    "    hit_counter=pickle.load(fs)"
   ]
  },
  {
   "cell_type": "code",
   "execution_count": 8,
   "metadata": {},
   "outputs": [
    {
     "name": "stderr",
     "output_type": "stream",
     "text": [
      "100%|██████████| 276/276 [00:00<00:00, 13258.82it/s]\n"
     ]
    }
   ],
   "source": [
    "data_4_pd={\n",
    "    \"L1\":[],\n",
    "    \"Tiger\":[],\n",
    "    \"Hits\":[]    \n",
    "}\n",
    "for trigger in tqdm(range (10,286)):\n",
    "    try:\n",
    "        matrix=hit_counter[trigger]\n",
    "    except KeyError:\n",
    "        matrix=np.zeros((8*11))\n",
    "    for tiger in range(0,88):\n",
    "        data_4_pd[\"L1\"].append(trigger)\n",
    "        data_4_pd[\"Tiger\"].append(tiger)\n",
    "        data_4_pd[\"Hits\"].append(matrix[tiger])\n"
   ]
  },
  {
   "cell_type": "code",
   "execution_count": 9,
   "metadata": {},
   "outputs": [],
   "source": [
    "counts_pd=pd.DataFrame(data_4_pd)\n"
   ]
  },
  {
   "cell_type": "code",
   "execution_count": 10,
   "metadata": {},
   "outputs": [],
   "source": [
    "counts_tree=root_pandas.to_root(counts_pd,\"counts_tree.root\")"
   ]
  },
  {
   "cell_type": "code",
   "execution_count": 11,
   "metadata": {},
   "outputs": [],
   "source": [
    "f=R.TFile(\"/home/alb/Desktop/elaborazioni_e_dati/analisi_run/Untitled Folder/counts_tree.root\")"
   ]
  },
  {
   "cell_type": "code",
   "execution_count": 12,
   "metadata": {
    "scrolled": true
   },
   "outputs": [
    {
     "name": "stdout",
     "output_type": "stream",
     "text": [
      "======> EVENT:252\n",
      " L1              = 12\n",
      " Tiger           = 76\n",
      " Hits            = 0\n",
      " __index__       = 252\n"
     ]
    }
   ],
   "source": [
    "f.my_ttree.Show(252)"
   ]
  },
  {
   "cell_type": "code",
   "execution_count": 13,
   "metadata": {},
   "outputs": [],
   "source": [
    "c=R.TCanvas()"
   ]
  },
  {
   "cell_type": "code",
   "execution_count": 14,
   "metadata": {},
   "outputs": [
    {
     "data": {
      "image/png": "[encoded data removed]",
      "text/plain": [
       "<IPython.core.display.Image object>"
      ]
     },
     "metadata": {},
     "output_type": "display_data"
    }
   ],
   "source": [
    "h1=R.TH1F(\"h1\",\"h1\",60,0,60)\n",
    "f.my_ttree.Draw(\"Hits>>h1\")\n",
    "c.SetLogy(1)\n",
    "c.Draw()"
   ]
  },
  {
   "cell_type": "code",
   "execution_count": 15,
   "metadata": {},
   "outputs": [],
   "source": [
    "def possoniana(x,par):\n",
    "    return par[0]*R.TMath.Poisson(x[0],h1.GetMean())\n",
    "    "
   ]
  },
  {
   "cell_type": "code",
   "execution_count": 16,
   "metadata": {},
   "outputs": [],
   "source": [
    "def exponen(x,par):\n",
    "    return (par[2]/(1+par[0]*x[0]))"
   ]
  },
  {
   "cell_type": "markdown",
   "metadata": {},
   "source": [
    "# Hit per trigger, TIGER singoli"
   ]
  },
  {
   "cell_type": "code",
   "execution_count": 17,
   "metadata": {},
   "outputs": [],
   "source": [
    "func_exp=R.TF1(\"exponen\",exponen,0, 80,3)\n"
   ]
  },
  {
   "cell_type": "code",
   "execution_count": 18,
   "metadata": {},
   "outputs": [
    {
     "data": {
      "text/plain": [
       "<ROOT.TFitResultPtr object at 0x5631f1b19af0>"
      ]
     },
     "execution_count": 18,
     "metadata": {},
     "output_type": "execute_result"
    },
    {
     "name": "stdout",
     "output_type": "stream",
     "text": [
      " FCN=22935.6 FROM HESSE     STATUS=FAILED         13 CALLS         320 TOTAL\n",
      "                     EDM=3.45563e-07    STRATEGY= 1  ERROR MATRIX UNCERTAINTY 100.0 per cent\n",
      "  EXT PARAMETER                APPROXIMATE        STEP         FIRST   \n",
      "  NO.   NAME      VALUE            ERROR          SIZE      DERIVATIVE \n",
      "   1  p0           2.19978e+05   1.41421e+00   3.60598e+02   4.32116e-03\n",
      "   2  p1          -4.28361e+06   4.24264e-01  -0.00000e+00   0.00000e+00\n",
      "   3  p2           3.48126e+07   1.73687e+06   2.99058e+07  -2.73052e-05\n"
     ]
    }
   ],
   "source": [
    "h1.Fit(func_exp,\"S\",\"\",0,80.)"
   ]
  },
  {
   "cell_type": "code",
   "execution_count": 19,
   "metadata": {},
   "outputs": [
    {
     "data": {
      "image/png": "[encoded data removed]",
      "text/plain": [
       "<IPython.core.display.Image object>"
      ]
     },
     "metadata": {},
     "output_type": "display_data"
    }
   ],
   "source": [
    "# func_P=R.TF1(\"possoniana\",possoniana,0, 80,1)\n",
    "# func_P.SetParameter(0,1)\n",
    "\n",
    "# scale=1/(func_P.Integral(0,80)/(h1.Integral()*h1.GetBinWidth(2)))\n",
    "# print(scale)\n",
    "# func_P.SetParameter(0,scale)\n",
    "\n",
    "c.SetLogy()\n",
    "# func_P.Draw(\"same\")\n",
    "c.Draw(\"\")"
   ]
  },
  {
   "cell_type": "code",
   "execution_count": 20,
   "metadata": {},
   "outputs": [
    {
     "data": {
      "text/plain": [
       "2640.218967636493"
      ]
     },
     "execution_count": 20,
     "metadata": {},
     "output_type": "execute_result"
    }
   ],
   "source": [
    "func_exp.Integral(0,80)"
   ]
  },
  {
   "cell_type": "code",
   "execution_count": 21,
   "metadata": {},
   "outputs": [
    {
     "name": "stderr",
     "output_type": "stream",
     "text": [
      "100%|██████████| 24288/24288 [00:00<00:00, 134707.57it/s]\n"
     ]
    }
   ],
   "source": [
    "dict_layers={}\n",
    "for entrynum in tqdm(range(0, f.my_ttree.GetEntries())):\n",
    "    f.my_ttree.GetEntry(entrynum)\n",
    "    trigger=(getattr(f.my_ttree ,\"L1\"))\n",
    "    if  (getattr(f.my_ttree ,\"Tiger\")<32):\n",
    "        layer=0\n",
    "    else:\n",
    "        layer=1\n",
    "    try:\n",
    "        dict_layers[trigger][layer]+=getattr(f.my_ttree ,\"Hits\")\n",
    "    except KeyError:\n",
    "        dict_layers[trigger]=np.zeros((2))\n",
    "        dict_layers[trigger][layer]+=getattr(f.my_ttree ,\"Hits\")\n"
   ]
  },
  {
   "cell_type": "code",
   "execution_count": 22,
   "metadata": {},
   "outputs": [
    {
     "name": "stderr",
     "output_type": "stream",
     "text": [
      "100%|██████████| 276/276 [00:00<00:00, 145980.82it/s]\n"
     ]
    }
   ],
   "source": [
    "data_4_pd={\n",
    "    \"L1\":[],\n",
    "    \"Layer\":[],\n",
    "    \"Hits\":[]    \n",
    "}\n",
    "for trigger in tqdm(range (10,286)):\n",
    "    try:\n",
    "        matrix=dict_layers[trigger]\n",
    "    except KeyError:\n",
    "        matrix=np.zeros((2))\n",
    "    for layer in range(0,2):\n",
    "        data_4_pd[\"L1\"].append(trigger)\n",
    "        data_4_pd[\"Layer\"].append(layer)\n",
    "        data_4_pd[\"Hits\"].append(matrix[layer])\n"
   ]
  },
  {
   "cell_type": "code",
   "execution_count": 23,
   "metadata": {},
   "outputs": [],
   "source": [
    "counts_pd=pd.DataFrame(data_4_pd)\n",
    "root_pandas.to_root(counts_pd,\"counts_tree_layers.root\")"
   ]
  },
  {
   "cell_type": "code",
   "execution_count": 24,
   "metadata": {},
   "outputs": [],
   "source": [
    "c=R.TCanvas()"
   ]
  },
  {
   "cell_type": "code",
   "execution_count": 25,
   "metadata": {},
   "outputs": [],
   "source": [
    "f2=R.TFile(\"/home/alb/Desktop/elaborazioni_e_dati/analisi_run/Untitled Folder/counts_tree_layers.root\")"
   ]
  },
  {
   "cell_type": "code",
   "execution_count": null,
   "metadata": {},
   "outputs": [],
   "source": []
  },
  {
   "cell_type": "code",
   "execution_count": 26,
   "metadata": {},
   "outputs": [
    {
     "data": {
      "image/png": "[encoded data removed]",
      "text/plain": [
       "<IPython.core.display.Image object>"
      ]
     },
     "metadata": {},
     "output_type": "display_data"
    }
   ],
   "source": [
    "h2=R.TH1F(\"h2\",\"h2\",100,0,100)\n",
    "f2.my_ttree.Draw(\"Hits>>h2\",\"Layer==0\")\n",
    "c.Draw()"
   ]
  },
  {
   "cell_type": "code",
   "execution_count": 27,
   "metadata": {},
   "outputs": [],
   "source": [
    "def possoniana(x,par):\n",
    "    return par[0]*R.TMath.Poisson(x[0],h2.GetMean())\n",
    "    "
   ]
  },
  {
   "cell_type": "markdown",
   "metadata": {},
   "source": [
    "# Hit per trigger, tutto L1"
   ]
  },
  {
   "cell_type": "code",
   "execution_count": 28,
   "metadata": {},
   "outputs": [
    {
     "name": "stdout",
     "output_type": "stream",
     "text": [
      "272.13174094856686\n"
     ]
    },
    {
     "data": {
      "image/png": "[encoded data removed]",
      "text/plain": [
       "<IPython.core.display.Image object>"
      ]
     },
     "metadata": {},
     "output_type": "display_data"
    }
   ],
   "source": [
    "func_P=R.TF1(\"possoniana\",possoniana,0, 100,1)\n",
    "func_P.SetParameter(0,1)\n",
    "\n",
    "scale=1/(func_P.Integral(0,100)/(h2.Integral()*h2.GetBinWidth(2)))\n",
    "print(scale)\n",
    "func_P.SetParameter(0,scale)\n",
    "\n",
    "\n",
    "func_P.Draw(\"same\")\n",
    "c.Draw(\"\")"
   ]
  },
  {
   "cell_type": "code",
   "execution_count": 29,
   "metadata": {},
   "outputs": [
    {
     "data": {
      "image/png": "[encoded data removed]",
      "text/plain": [
       "<IPython.core.display.Image object>"
      ]
     },
     "metadata": {},
     "output_type": "display_data"
    }
   ],
   "source": [
    "h3=R.TH1F(\"h3\",\"h3\",100,0,100)\n",
    "f2.my_ttree.Draw(\"Hits>>h3\",\"Layer==1\")\n",
    "c.Draw()"
   ]
  },
  {
   "cell_type": "code",
   "execution_count": 30,
   "metadata": {},
   "outputs": [],
   "source": [
    "def possoniana(x,par):\n",
    "    return par[0]*R.TMath.Poisson(x[0],h3.GetMean())\n",
    "    "
   ]
  },
  {
   "cell_type": "markdown",
   "metadata": {},
   "source": [
    "# Hit per trigger, tutto L2"
   ]
  },
  {
   "cell_type": "code",
   "execution_count": 31,
   "metadata": {
    "scrolled": false
   },
   "outputs": [
    {
     "name": "stdout",
     "output_type": "stream",
     "text": [
      "268.00573364964606\n"
     ]
    },
    {
     "data": {
      "image/png": "[encoded data removed]",
      "text/plain": [
       "<IPython.core.display.Image object>"
      ]
     },
     "metadata": {},
     "output_type": "display_data"
    }
   ],
   "source": [
    "func_P=R.TF1(\"possoniana\",possoniana,0, 500,1)\n",
    "func_P.SetParameter(0,1)\n",
    "\n",
    "scale=1/(func_P.Integral(0,500)/(h3.Integral()*h3.GetBinWidth(2)))\n",
    "print(scale)\n",
    "func_P.SetParameter(0,scale)\n",
    "\n",
    "\n",
    "func_P.Draw(\"same\")\n",
    "c.Draw(\"\")"
   ]
  },
  {
   "cell_type": "code",
   "execution_count": 32,
   "metadata": {},
   "outputs": [
    {
     "data": {
      "text/plain": [
       "263.0"
      ]
     },
     "execution_count": 32,
     "metadata": {},
     "output_type": "execute_result"
    }
   ],
   "source": [
    "h3.Integral(0,50)"
   ]
  },
  {
   "cell_type": "code",
   "execution_count": 33,
   "metadata": {},
   "outputs": [
    {
     "data": {
      "text/plain": [
       "13.0"
      ]
     },
     "execution_count": 33,
     "metadata": {},
     "output_type": "execute_result"
    }
   ],
   "source": [
    "h3.Integral(50,800)"
   ]
  },
  {
   "cell_type": "code",
   "execution_count": null,
   "metadata": {},
   "outputs": [],
   "source": []
  },
  {
   "cell_type": "code",
   "execution_count": null,
   "metadata": {},
   "outputs": [],
   "source": []
  }
 ],
 "metadata": {
  "kernelspec": {
   "display_name": "Python 3",
   "language": "python",
   "name": "python3"
  },
  "language_info": {
   "codemirror_mode": {
    "name": "ipython",
    "version": 3
   },
   "file_extension": ".py",
   "mimetype": "text/x-python",
   "name": "python",
   "nbconvert_exporter": "python",
   "pygments_lexer": "ipython3",
   "version": "3.7.3"
  }
 },
 "nbformat": 4,
 "nbformat_minor": 2
}
