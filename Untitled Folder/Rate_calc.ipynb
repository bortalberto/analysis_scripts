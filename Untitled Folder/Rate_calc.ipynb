{
 "cells": [
  {
   "cell_type": "code",
   "execution_count": 168,
   "metadata": {},
   "outputs": [],
   "source": [
    "import pandas as pd\n",
    "import plotly.express as px\n",
    "import plotly.graph_objects as go\n",
    "import numpy as np\n",
    "import ROOT as R\n",
    "from tqdm import tqdm\n",
    "import pickle\n",
    "import root_pandas\n",
    "%jsroot"
   ]
  },
  {
   "cell_type": "code",
   "execution_count": 169,
   "metadata": {},
   "outputs": [],
   "source": [
    "l1ts_tcoarse_upper=1569\n",
    "l1ts_tcoarse_lower=1300"
   ]
  },
  {
   "cell_type": "code",
   "execution_count": 170,
   "metadata": {},
   "outputs": [],
   "source": [
    "c=R.TCanvas()"
   ]
  },
  {
   "cell_type": "code",
   "execution_count": 171,
   "metadata": {},
   "outputs": [],
   "source": [
    "f=R.TFile(\"/home/alb/srv_lab/9013/SubRUN_1_GEMROC_0_TM.root\")"
   ]
  },
  {
   "cell_type": "code",
   "execution_count": 172,
   "metadata": {},
   "outputs": [],
   "source": [
    "h1=R.TH1I(\"h1\",\"h1\",6000000,0,6000000)\n",
    "f.tree.Draw(\"count>>h1\")\n"
   ]
  },
  {
   "cell_type": "code",
   "execution_count": 173,
   "metadata": {},
   "outputs": [],
   "source": [
    "first_trig=h1.GetBinLowEdge(h1.FindFirstBinAbove(0))"
   ]
  },
  {
   "cell_type": "code",
   "execution_count": 174,
   "metadata": {},
   "outputs": [
    {
     "data": {
      "text/plain": [
       "406.0"
      ]
     },
     "execution_count": 174,
     "metadata": {},
     "output_type": "execute_result"
    }
   ],
   "source": [
    "first_trig"
   ]
  },
  {
   "cell_type": "code",
   "execution_count": 175,
   "metadata": {},
   "outputs": [],
   "source": [
    "last_trig=h1.GetBinLowEdge(h1.FindLastBinAbove(0))+h1.GetBinWidth(2)"
   ]
  },
  {
   "cell_type": "code",
   "execution_count": 176,
   "metadata": {},
   "outputs": [],
   "source": [
    "elapsed_time=(last_trig-first_trig)*6.25*10e-9*(l1ts_tcoarse_upper-l1ts_tcoarse_lower)"
   ]
  },
  {
   "cell_type": "code",
   "execution_count": 177,
   "metadata": {},
   "outputs": [
    {
     "data": {
      "text/plain": [
       "1.0093216250000001"
      ]
     },
     "execution_count": 177,
     "metadata": {},
     "output_type": "execute_result"
    }
   ],
   "source": [
    "elapsed_time"
   ]
  },
  {
   "cell_type": "markdown",
   "metadata": {},
   "source": [
    "#  Total rate"
   ]
  },
  {
   "cell_type": "code",
   "execution_count": 178,
   "metadata": {},
   "outputs": [
    {
     "data": {
      "text/html": [
       "\n",
       "<div id=\"root_plot_11\"\n",
       "     style=\"width: 696px; height: 472px\">\n",
       "</div>\n",
       "\n",
       "<script>\n",
       " requirejs.config({\n",
       "     paths: {\n",
       "       'JSRootCore' : 'https://root.cern.ch/js/notebook//scripts/JSRootCore',\n",
       "     }\n",
       "   });\n",
       " require(['JSRootCore'],\n",
       "     function(Core) {\n",
       "       var obj = Core.JSONR_unref({\"_typename\":\"TCanvas\",\"fUniqueID\":0,\"fBits\":53673992,\"fLineColor\":1,\"fLineStyle\":1,\"fLineWidth\":1,\"fFillColor\":0,\"fFillStyle\":1001,\"fLeftMargin\":0.1,\"fRightMargin\":0.1,\"fBottomMargin\":0.1,\"fTopMargin\":0.1,\"fXfile\":2,\"fYfile\":2,\"fAfile\":1,\"fXstat\":0.99,\"fYstat\":0.99,\"fAstat\":2,\"fFrameFillColor\":0,\"fFrameLineColor\":1,\"fFrameFillStyle\":1001,\"fFrameLineStyle\":1,\"fFrameLineWidth\":1,\"fFrameBorderSize\":1,\"fFrameBorderMode\":0,\"fX1\":-0.875000065192584,\"fY1\":-12563.907186084,\"fX2\":7.87500006519258,\"fY2\":113075.157186084,\"fXtoAbsPixelk\":69.6000541484835,\"fXtoPixelk\":69.6000541484835,\"fXtoPixel\":79.5428559575762,\"fYtoAbsPixelk\":424.800047186661,\"fYtoPixelk\":424.800047186661,\"fYtoPixel\":-0.00375679333779374,\"fUtoAbsPixelk\":5e-5,\"fUtoPixelk\":5e-5,\"fUtoPixel\":696,\"fVtoAbsPixelk\":472.00005,\"fVtoPixelk\":472,\"fVtoPixel\":-472,\"fAbsPixeltoXk\":-0.875000065192584,\"fPixeltoXk\":-0.875000065192584,\"fPixeltoX\":0.0125718392677948,\"fAbsPixeltoYk\":113075.157186084,\"fPixeltoYk\":-12563.907186084,\"fPixeltoY\":-266.18445841561,\"fXlowNDC\":0,\"fYlowNDC\":0,\"fXUpNDC\":0,\"fYUpNDC\":0,\"fWNDC\":1,\"fHNDC\":1,\"fAbsXlowNDC\":0,\"fAbsYlowNDC\":0,\"fAbsWNDC\":1,\"fAbsHNDC\":1,\"fUxmin\":0,\"fUymin\":0,\"fUxmax\":7,\"fUymax\":100511.25,\"fTheta\":30,\"fPhi\":30,\"fAspectRatio\":0,\"fNumber\":0,\"fTickx\":0,\"fTicky\":0,\"fLogx\":0,\"fLogy\":0,\"fLogz\":0,\"fPadPaint\":0,\"fCrosshair\":0,\"fCrosshairPos\":0,\"fBorderSize\":2,\"fBorderMode\":0,\"fModified\":false,\"fGridx\":false,\"fGridy\":false,\"fAbsCoord\":false,\"fEditable\":true,\"fFixedAspectRatio\":false,\"fPrimitives\":{\"_typename\":\"TList\",\"name\":\"TList\",\"arr\":[{\"_typename\":\"TFrame\",\"fUniqueID\":0,\"fBits\":50331656,\"fLineColor\":1,\"fLineStyle\":1,\"fLineWidth\":1,\"fFillColor\":0,\"fFillStyle\":1001,\"fX1\":0,\"fY1\":0,\"fX2\":7,\"fY2\":100511.25,\"fBorderSize\":1,\"fBorderMode\":0},{\"_typename\":\"TH1I\",\"fUniqueID\":0,\"fBits\":50331656,\"fName\":\"htot\",\"fTitle\":\"hot\",\"fLineColor\":602,\"fLineStyle\":1,\"fLineWidth\":1,\"fFillColor\":0,\"fFillStyle\":1001,\"fMarkerColor\":1,\"fMarkerStyle\":1,\"fMarkerSize\":1,\"fNcells\":9,\"fXaxis\":{\"_typename\":\"TAxis\",\"fUniqueID\":0,\"fBits\":54525952,\"fName\":\"xaxis\",\"fTitle\":\"\",\"fNdivisions\":510,\"fAxisColor\":1,\"fLabelColor\":1,\"fLabelFont\":42,\"fLabelOffset\":0.005,\"fLabelSize\":0.035,\"fTickLength\":0.03,\"fTitleOffset\":1,\"fTitleSize\":0.035,\"fTitleColor\":1,\"fTitleFont\":42,\"fNbins\":7,\"fXmin\":0,\"fXmax\":7,\"fXbins\":[],\"fFirst\":0,\"fLast\":0,\"fBits2\":0,\"fTimeDisplay\":false,\"fTimeFormat\":\"\",\"fLabels\":null,\"fModLabs\":null},\"fYaxis\":{\"_typename\":\"TAxis\",\"fUniqueID\":0,\"fBits\":50331648,\"fName\":\"yaxis\",\"fTitle\":\"\",\"fNdivisions\":510,\"fAxisColor\":1,\"fLabelColor\":1,\"fLabelFont\":42,\"fLabelOffset\":0.005,\"fLabelSize\":0.035,\"fTickLength\":0.03,\"fTitleOffset\":0,\"fTitleSize\":0.035,\"fTitleColor\":1,\"fTitleFont\":42,\"fNbins\":1,\"fXmin\":0,\"fXmax\":1,\"fXbins\":[],\"fFirst\":0,\"fLast\":0,\"fBits2\":0,\"fTimeDisplay\":false,\"fTimeFormat\":\"\",\"fLabels\":null,\"fModLabs\":null},\"fZaxis\":{\"_typename\":\"TAxis\",\"fUniqueID\":0,\"fBits\":50331648,\"fName\":\"zaxis\",\"fTitle\":\"\",\"fNdivisions\":510,\"fAxisColor\":1,\"fLabelColor\":1,\"fLabelFont\":42,\"fLabelOffset\":0.005,\"fLabelSize\":0.035,\"fTickLength\":0.03,\"fTitleOffset\":1,\"fTitleSize\":0.035,\"fTitleColor\":1,\"fTitleFont\":42,\"fNbins\":1,\"fXmin\":0,\"fXmax\":1,\"fXbins\":[],\"fFirst\":0,\"fLast\":0,\"fBits2\":0,\"fTimeDisplay\":false,\"fTimeFormat\":\"\",\"fLabels\":null,\"fModLabs\":null},\"fBarOffset\":0,\"fBarWidth\":1000,\"fEntries\":194911,\"fTsumw\":194911,\"fTsumw2\":194911,\"fTsumwx\":171053,\"fTsumwx2\":362551,\"fMaximum\":-1111,\"fMinimum\":-1111,\"fNormFactor\":0,\"fContour\":[],\"fSumw2\":[],\"fOption\":\"\",\"fFunctions\":{\"_typename\":\"TList\",\"name\":\"TList\",\"arr\":[{\"_typename\":\"TPaveStats\",\"fUniqueID\":0,\"fBits\":50331657,\"fLineColor\":1,\"fLineStyle\":1,\"fLineWidth\":1,\"fFillColor\":0,\"fFillStyle\":1001,\"fX1\":5.95000017732382,\"fY1\":84806.3684512134,\"fX2\":7.70000022947789,\"fY2\":104908.61830144,\"fX1NDC\":0.780000016093254,\"fY1NDC\":0.775000005960464,\"fX2NDC\":0.980000019073486,\"fY2NDC\":0.935000002384186,\"fBorderSize\":1,\"fInit\":1,\"fShadowColor\":1,\"fCornerRadius\":0,\"fOption\":\"brNDC\",\"fName\":\"stats\",\"fTextAngle\":0,\"fTextSize\":0,\"fTextAlign\":12,\"fTextColor\":1,\"fTextFont\":42,\"fLabel\":\"\",\"fLongest\":18,\"fMargin\":0.05,\"fLines\":{\"_typename\":\"TList\",\"name\":\"TList\",\"arr\":[{\"_typename\":\"TLatex\",\"fUniqueID\":0,\"fBits\":50331648,\"fName\":\"\",\"fTitle\":\"htot\",\"fTextAngle\":0,\"fTextSize\":0.0368,\"fTextAlign\":0,\"fTextColor\":0,\"fTextFont\":0,\"fX\":0,\"fY\":0,\"fLineColor\":1,\"fLineStyle\":1,\"fLineWidth\":2,\"fLimitFactorSize\":3,\"fOriginSize\":0.0368000008165836},{\"_typename\":\"TLatex\",\"fUniqueID\":0,\"fBits\":50331648,\"fName\":\"\",\"fTitle\":\"Entries = 194911 \",\"fTextAngle\":0,\"fTextSize\":0,\"fTextAlign\":0,\"fTextColor\":0,\"fTextFont\":0,\"fX\":0,\"fY\":0,\"fLineColor\":1,\"fLineStyle\":1,\"fLineWidth\":2,\"fLimitFactorSize\":3,\"fOriginSize\":0.04},{\"_typename\":\"TLatex\",\"fUniqueID\":0,\"fBits\":50331648,\"fName\":\"\",\"fTitle\":\"Mean  = 0.8776\",\"fTextAngle\":0,\"fTextSize\":0,\"fTextAlign\":0,\"fTextColor\":0,\"fTextFont\":0,\"fX\":0,\"fY\":0,\"fLineColor\":1,\"fLineStyle\":1,\"fLineWidth\":2,\"fLimitFactorSize\":3,\"fOriginSize\":0.04},{\"_typename\":\"TLatex\",\"fUniqueID\":0,\"fBits\":50331648,\"fName\":\"\",\"fTitle\":\"Std Dev   =  1.044\",\"fTextAngle\":0,\"fTextSize\":0,\"fTextAlign\":0,\"fTextColor\":0,\"fTextFont\":0,\"fX\":0,\"fY\":0,\"fLineColor\":1,\"fLineStyle\":1,\"fLineWidth\":2,\"fLimitFactorSize\":3,\"fOriginSize\":0.04}],\"opt\":[\"\",\"\",\"\",\"\"]},\"fOptFit\":0,\"fOptStat\":1111,\"fFitFormat\":\"5.4g\",\"fStatFormat\":\"6.4g\",\"fParent\":{\"$ref\":3}}],\"opt\":[\"brNDC\"]},\"fBufferSize\":0,\"fBuffer\":[],\"fBinStatErrOpt\":0,\"fStatOverflows\":2,\"fArray\":[0,95725,51201,24103,23882,0,0,0,0]},{\"_typename\":\"TPaveText\",\"fUniqueID\":0,\"fBits\":50331657,\"fLineColor\":1,\"fLineStyle\":1,\"fLineWidth\":1,\"fFillColor\":0,\"fFillStyle\":0,\"fX1\":3.17992097224194,\"fY1\":105536.813819878,\"fX2\":3.82007902775805,\"fY2\":112446.962463317,\"fX1NDC\":0.463419540229885,\"fY1NDC\":0.940000003948808,\"fX2NDC\":0.536580459770115,\"fY2NDC\":0.995000004768372,\"fBorderSize\":0,\"fInit\":1,\"fShadowColor\":1,\"fCornerRadius\":0,\"fOption\":\"blNDC\",\"fName\":\"title\",\"fTextAngle\":0,\"fTextSize\":0,\"fTextAlign\":22,\"fTextColor\":1,\"fTextFont\":42,\"fLabel\":\"\",\"fLongest\":3,\"fMargin\":0.05,\"fLines\":{\"_typename\":\"TList\",\"name\":\"TList\",\"arr\":[{\"_typename\":\"TLatex\",\"fUniqueID\":0,\"fBits\":50331648,\"fName\":\"\",\"fTitle\":\"hot\",\"fTextAngle\":0,\"fTextSize\":0,\"fTextAlign\":0,\"fTextColor\":0,\"fTextFont\":0,\"fX\":0,\"fY\":0,\"fLineColor\":1,\"fLineStyle\":1,\"fLineWidth\":2,\"fLimitFactorSize\":3,\"fOriginSize\":0.0467500016093254}],\"opt\":[\"\"]}}],\"opt\":[\"\",\"\",\"blNDC\"]},\"fExecs\":null,\"fName\":\"c1_n2\",\"fTitle\":\"c1_n2\",\"fNumPaletteColor\":0,\"fNextPaletteColor\":0,\"fDISPLAY\":\"$DISPLAY\",\"fDoubleBuffer\":0,\"fRetained\":true,\"fXsizeUser\":0,\"fYsizeUser\":0,\"fXsizeReal\":20,\"fYsizeReal\":14.28571,\"fWindowTopX\":0,\"fWindowTopY\":0,\"fWindowWidth\":0,\"fWindowHeight\":0,\"fCw\":696,\"fCh\":472,\"fCatt\":{\"_typename\":\"TAttCanvas\",\"fXBetween\":2,\"fYBetween\":2,\"fTitleFromTop\":1.2,\"fXdate\":0.2,\"fYdate\":0.3,\"fAdate\":1},\"kMoveOpaque\":true,\"kResizeOpaque\":true,\"fHighLightColor\":2,\"fBatch\":true,\"kShowEventStatus\":false,\"kAutoExec\":true,\"kMenuBar\":true});\n",
       "       Core.draw(\"root_plot_11\", obj, \"\");\n",
       "     }\n",
       " );\n",
       "</script>\n"
      ],
      "text/plain": [
       "<IPython.core.display.HTML object>"
      ]
     },
     "metadata": {},
     "output_type": "display_data"
    }
   ],
   "source": [
    "h_tot=R.TH1I(\"htot\",\"hot\",7,0,7)\n",
    "f.tree.Draw(\"tiger>>htot\",\"(delta_coarse==21 ||delta_coarse==22)\".format(l1ts_tcoarse_lower,l1ts_tcoarse_upper))\n",
    "c.Draw()"
   ]
  },
  {
   "cell_type": "code",
   "execution_count": 179,
   "metadata": {},
   "outputs": [
    {
     "data": {
      "text/plain": [
       "193110.89267506776"
      ]
     },
     "execution_count": 179,
     "metadata": {},
     "output_type": "execute_result"
    }
   ],
   "source": [
    "h_tot.Integral()/elapsed_time"
   ]
  },
  {
   "cell_type": "markdown",
   "metadata": {},
   "source": [
    "# Per TIGER"
   ]
  },
  {
   "cell_type": "code",
   "execution_count": 180,
   "metadata": {},
   "outputs": [],
   "source": [
    "rates=[]\n",
    "for t in range (0,8):\n",
    "    tot_tig=h_tot.GetBinContent(t+1)\n",
    "    rates.append(tot_tig/elapsed_time)\n",
    "    "
   ]
  },
  {
   "cell_type": "code",
   "execution_count": 181,
   "metadata": {},
   "outputs": [
    {
     "data": {
      "text/plain": [
       "[94840.92843051885,\n",
       " 50728.13138230343,\n",
       " 23880.395904526467,\n",
       " 23661.436957719,\n",
       " 0.0,\n",
       " 0.0,\n",
       " 0.0,\n",
       " 0.0]"
      ]
     },
     "execution_count": 181,
     "metadata": {},
     "output_type": "execute_result"
    }
   ],
   "source": [
    "rates"
   ]
  },
  {
   "cell_type": "code",
   "execution_count": null,
   "metadata": {},
   "outputs": [],
   "source": []
  },
  {
   "cell_type": "code",
   "execution_count": null,
   "metadata": {},
   "outputs": [],
   "source": []
  },
  {
   "cell_type": "code",
   "execution_count": 182,
   "metadata": {},
   "outputs": [
    {
     "data": {
      "text/html": [
       "\n",
       "<div id=\"root_plot_12\"\n",
       "     style=\"width: 696px; height: 472px\">\n",
       "</div>\n",
       "\n",
       "<script>\n",
       " requirejs.config({\n",
       "     paths: {\n",
       "       'JSRootCore' : 'https://root.cern.ch/js/notebook//scripts/JSRootCore',\n",
       "     }\n",
       "   });\n",
       " require(['JSRootCore'],\n",
       "     function(Core) {\n",
       "       var obj = Core.JSONR_unref({\"_typename\":\"TCanvas\",\"fUniqueID\":0,\"fBits\":53673992,\"fLineColor\":1,\"fLineStyle\":1,\"fLineWidth\":1,\"fFillColor\":0,\"fFillStyle\":1001,\"fLeftMargin\":0.1,\"fRightMargin\":0.1,\"fBottomMargin\":0.1,\"fTopMargin\":0.1,\"fXfile\":2,\"fYfile\":2,\"fAfile\":1,\"fXstat\":0.99,\"fYstat\":0.99,\"fAstat\":2,\"fFrameFillColor\":0,\"fFrameLineColor\":1,\"fFrameFillStyle\":1001,\"fFrameLineStyle\":1,\"fFrameLineWidth\":1,\"fFrameBorderSize\":1,\"fFrameBorderMode\":0,\"fX1\":-1.00000007450581,\"fY1\":-8.00000059604648,\"fX2\":9.00000007450581,\"fY2\":72.0000005960465,\"fXtoAbsPixelk\":69.6000541484835,\"fXtoPixelk\":69.6000541484835,\"fXtoPixel\":69.5999989628791,\"fYtoAbsPixelk\":424.800047186661,\"fYtoPixelk\":424.800047186661,\"fYtoPixel\":-5.89999991208315,\"fUtoAbsPixelk\":5e-5,\"fUtoPixelk\":5e-5,\"fUtoPixel\":696,\"fVtoAbsPixelk\":472.00005,\"fVtoPixelk\":472,\"fVtoPixel\":-472,\"fAbsPixeltoXk\":-1.00000007450581,\"fPixeltoXk\":-1.00000007450581,\"fPixeltoX\":0.0143678163060512,\"fAbsPixeltoYk\":72.0000005960465,\"fPixeltoYk\":-8.00000059604648,\"fPixeltoY\":-0.169491527949349,\"fXlowNDC\":0,\"fYlowNDC\":0,\"fXUpNDC\":0,\"fYUpNDC\":0,\"fWNDC\":1,\"fHNDC\":1,\"fAbsXlowNDC\":0,\"fAbsYlowNDC\":0,\"fAbsWNDC\":1,\"fAbsHNDC\":1,\"fUxmin\":0,\"fUymin\":0,\"fUxmax\":8,\"fUymax\":64,\"fTheta\":30,\"fPhi\":30,\"fAspectRatio\":0,\"fNumber\":0,\"fTickx\":0,\"fTicky\":0,\"fLogx\":0,\"fLogy\":0,\"fLogz\":0,\"fPadPaint\":0,\"fCrosshair\":0,\"fCrosshairPos\":0,\"fBorderSize\":2,\"fBorderMode\":0,\"fModified\":false,\"fGridx\":false,\"fGridy\":false,\"fAbsCoord\":false,\"fEditable\":true,\"fFixedAspectRatio\":false,\"fPrimitives\":{\"_typename\":\"TList\",\"name\":\"TList\",\"arr\":[{\"_typename\":\"TFrame\",\"fUniqueID\":0,\"fBits\":50331656,\"fLineColor\":1,\"fLineStyle\":1,\"fLineWidth\":1,\"fFillColor\":0,\"fFillStyle\":1001,\"fX1\":0,\"fY1\":0,\"fX2\":8,\"fY2\":64,\"fBorderSize\":1,\"fBorderMode\":0},{\"_typename\":\"TH2F\",\"fUniqueID\":0,\"fBits\":50331656,\"fName\":\"h3\",\"fTitle\":\"h3\",\"fLineColor\":602,\"fLineStyle\":1,\"fLineWidth\":1,\"fFillColor\":0,\"fFillStyle\":1001,\"fMarkerColor\":1,\"fMarkerStyle\":1,\"fMarkerSize\":1,\"fNcells\":660,\"fXaxis\":{\"_typename\":\"TAxis\",\"fUniqueID\":0,\"fBits\":54525952,\"fName\":\"xaxis\",\"fTitle\":\"\",\"fNdivisions\":510,\"fAxisColor\":1,\"fLabelColor\":1,\"fLabelFont\":42,\"fLabelOffset\":0.005,\"fLabelSize\":0.035,\"fTickLength\":0.03,\"fTitleOffset\":1,\"fTitleSize\":0.035,\"fTitleColor\":1,\"fTitleFont\":42,\"fNbins\":8,\"fXmin\":0,\"fXmax\":8,\"fXbins\":[],\"fFirst\":0,\"fLast\":0,\"fBits2\":0,\"fTimeDisplay\":false,\"fTimeFormat\":\"\",\"fLabels\":null,\"fModLabs\":null},\"fYaxis\":{\"_typename\":\"TAxis\",\"fUniqueID\":0,\"fBits\":54525952,\"fName\":\"yaxis\",\"fTitle\":\"\",\"fNdivisions\":510,\"fAxisColor\":1,\"fLabelColor\":1,\"fLabelFont\":42,\"fLabelOffset\":0.005,\"fLabelSize\":0.035,\"fTickLength\":0.03,\"fTitleOffset\":0,\"fTitleSize\":0.035,\"fTitleColor\":1,\"fTitleFont\":42,\"fNbins\":64,\"fXmin\":0,\"fXmax\":64,\"fXbins\":[],\"fFirst\":0,\"fLast\":0,\"fBits2\":0,\"fTimeDisplay\":false,\"fTimeFormat\":\"\",\"fLabels\":null,\"fModLabs\":null},\"fZaxis\":{\"_typename\":\"TAxis\",\"fUniqueID\":0,\"fBits\":50331648,\"fName\":\"zaxis\",\"fTitle\":\"\",\"fNdivisions\":510,\"fAxisColor\":1,\"fLabelColor\":1,\"fLabelFont\":42,\"fLabelOffset\":0.005,\"fLabelSize\":0.035,\"fTickLength\":0.03,\"fTitleOffset\":1,\"fTitleSize\":0.035,\"fTitleColor\":1,\"fTitleFont\":42,\"fNbins\":1,\"fXmin\":0,\"fXmax\":1,\"fXbins\":[],\"fFirst\":0,\"fLast\":0,\"fBits2\":0,\"fTimeDisplay\":false,\"fTimeFormat\":\"\",\"fLabels\":null,\"fModLabs\":null},\"fBarOffset\":0,\"fBarWidth\":1000,\"fEntries\":194911,\"fTsumw\":194911,\"fTsumw2\":194911,\"fTsumwx\":171053,\"fTsumwx2\":362551,\"fMaximum\":-1111,\"fMinimum\":-1111,\"fNormFactor\":0,\"fContour\":[0,802.55,1605.1,2407.65,3210.2,4012.75,4815.3,5617.85,6420.4,7222.95,8025.5,8828.05,9630.6,10433.15,11235.7,12038.25,12840.8,13643.35,14445.9,15248.45],\"fSumw2\":[],\"fOption\":\"\",\"fFunctions\":{\"_typename\":\"TList\",\"name\":\"TList\",\"arr\":[{\"_typename\":\"TPaletteAxis\",\"fUniqueID\":0,\"fBits\":50331648,\"fLineColor\":1,\"fLineStyle\":1,\"fLineWidth\":1,\"fFillColor\":1178,\"fFillStyle\":1001,\"fX1\":8.05000000074506,\"fY1\":0,\"fX2\":8.50000000745058,\"fY2\":64,\"fX1NDC\":0.904999994039535,\"fY1NDC\":0.100000005960465,\"fX2NDC\":0.949999994039535,\"fY2NDC\":0.899999994039535,\"fBorderSize\":4,\"fInit\":1,\"fShadowColor\":1,\"fCornerRadius\":0,\"fOption\":\"br\",\"fName\":\"TPave\",\"fAxis\":{\"_typename\":\"TGaxis\",\"fUniqueID\":0,\"fBits\":50331648,\"fLineColor\":1,\"fLineStyle\":1,\"fLineWidth\":1,\"fX1\":0,\"fY1\":0,\"fX2\":0,\"fY2\":0,\"fTextAngle\":0,\"fTextSize\":0.04,\"fTextAlign\":11,\"fTextColor\":1,\"fTextFont\":42,\"fWmin\":0,\"fWmax\":0,\"fGridLength\":0,\"fTickSize\":0.03,\"fLabelOffset\":0.005,\"fLabelSize\":0.035,\"fTitleOffset\":1,\"fTitleSize\":0.035,\"fNdiv\":0,\"fLabelColor\":1,\"fLabelFont\":42,\"fNModLabs\":0,\"fChopt\":\"\",\"fName\":\"\",\"fTitle\":\"\",\"fTimeFormat\":\"\",\"fFunctionName\":\"\",\"fModLabs\":null},\"fName\":\"palette\"},{\"_typename\":\"TPaveStats\",\"fUniqueID\":0,\"fBits\":50331657,\"fLineColor\":1,\"fLineStyle\":1,\"fLineWidth\":1,\"fFillColor\":0,\"fFillStyle\":1001,\"fX1\":6.8000002026558,\"fY1\":47.6000008523464,\"fX2\":8.80000026226044,\"fY2\":66.8000007092953,\"fX1NDC\":0.780000016093254,\"fY1NDC\":0.695000007748604,\"fX2NDC\":0.980000019073486,\"fY2NDC\":0.935000002384186,\"fBorderSize\":1,\"fInit\":1,\"fShadowColor\":1,\"fCornerRadius\":0,\"fOption\":\"brNDC\",\"fName\":\"stats\",\"fTextAngle\":0,\"fTextSize\":0,\"fTextAlign\":12,\"fTextColor\":1,\"fTextFont\":42,\"fLabel\":\"\",\"fLongest\":18,\"fMargin\":0.05,\"fLines\":{\"_typename\":\"TList\",\"name\":\"TList\",\"arr\":[{\"_typename\":\"TLatex\",\"fUniqueID\":0,\"fBits\":50331648,\"fName\":\"\",\"fTitle\":\"h3\",\"fTextAngle\":0,\"fTextSize\":0.0368,\"fTextAlign\":0,\"fTextColor\":0,\"fTextFont\":0,\"fX\":0,\"fY\":0,\"fLineColor\":1,\"fLineStyle\":1,\"fLineWidth\":2,\"fLimitFactorSize\":3,\"fOriginSize\":0.0368000008165836},{\"_typename\":\"TLatex\",\"fUniqueID\":0,\"fBits\":50331648,\"fName\":\"\",\"fTitle\":\"Entries = 194911 \",\"fTextAngle\":0,\"fTextSize\":0,\"fTextAlign\":0,\"fTextColor\":0,\"fTextFont\":0,\"fX\":0,\"fY\":0,\"fLineColor\":1,\"fLineStyle\":1,\"fLineWidth\":2,\"fLimitFactorSize\":3,\"fOriginSize\":0.04},{\"_typename\":\"TLatex\",\"fUniqueID\":0,\"fBits\":50331648,\"fName\":\"\",\"fTitle\":\"Mean x = 0.8776\",\"fTextAngle\":0,\"fTextSize\":0,\"fTextAlign\":0,\"fTextColor\":0,\"fTextFont\":0,\"fX\":0,\"fY\":0,\"fLineColor\":1,\"fLineStyle\":1,\"fLineWidth\":2,\"fLimitFactorSize\":3,\"fOriginSize\":0.04},{\"_typename\":\"TLatex\",\"fUniqueID\":0,\"fBits\":50331648,\"fName\":\"\",\"fTitle\":\"Mean y =  27.45\",\"fTextAngle\":0,\"fTextSize\":0,\"fTextAlign\":0,\"fTextColor\":0,\"fTextFont\":0,\"fX\":0,\"fY\":0,\"fLineColor\":1,\"fLineStyle\":1,\"fLineWidth\":2,\"fLimitFactorSize\":3,\"fOriginSize\":0.04},{\"_typename\":\"TLatex\",\"fUniqueID\":0,\"fBits\":50331648,\"fName\":\"\",\"fTitle\":\"Std Dev x =  1.044\",\"fTextAngle\":0,\"fTextSize\":0,\"fTextAlign\":0,\"fTextColor\":0,\"fTextFont\":0,\"fX\":0,\"fY\":0,\"fLineColor\":1,\"fLineStyle\":1,\"fLineWidth\":2,\"fLimitFactorSize\":3,\"fOriginSize\":0.04},{\"_typename\":\"TLatex\",\"fUniqueID\":0,\"fBits\":50331648,\"fName\":\"\",\"fTitle\":\"Std Dev y =  19.86\",\"fTextAngle\":0,\"fTextSize\":0,\"fTextAlign\":0,\"fTextColor\":0,\"fTextFont\":0,\"fX\":0,\"fY\":0,\"fLineColor\":1,\"fLineStyle\":1,\"fLineWidth\":2,\"fLimitFactorSize\":3,\"fOriginSize\":0.04}],\"opt\":[\"\",\"\",\"\",\"\",\"\",\"\"]},\"fOptFit\":0,\"fOptStat\":1111,\"fFitFormat\":\"5.4g\",\"fStatFormat\":\"6.4g\",\"fParent\":{\"$ref\":3}}],\"opt\":[\"br\",\"brNDC\"]},\"fBufferSize\":0,\"fBuffer\":[],\"fBinStatErrOpt\":0,\"fStatOverflows\":2,\"fScalefactor\":1,\"fTsumwy\":5351141,\"fTsumwy2\":223753975,\"fTsumwxy\":5450707,\"fArray\":[0,0,0,0,0,0,0,0,0,0,0,547,3704,1742,0,0,0,0,0,0,0,1102,142,39,0,0,0,0,0,0,0,390,1156,262,0,0,0,0,0,0,0,651,1709,1113,608,0,0,0,0,0,0,11954,1930,698,0,0,0,0,0,0,0,621,1291,0,7,0,0,0,0,0,0,1122,498,402,0,0,0,0,0,0,0,872,2597,126,0,0,0,0,0,0,0,3012,471,835,0,0,0,0,0,0,0,756,2946,1288,4,0,0,0,0,0,0,16051,633,36,9,0,0,0,0,0,0,642,2455,348,57,0,0,0,0,0,0,3424,48,875,3081,0,0,0,0,0,0,105,226,639,2,0,0,0,0,0,0,291,1244,57,0,0,0,0,0,0,0,813,1317,128,0,0,0,0,0,0,0,608,264,80,2776,0,0,0,0,0,0,1692,660,44,8,0,0,0,0,0,0,427,824,366,0,0,0,0,0,0,0,830,794,397,1,0,0,0,0,0,0,210,109,1006,0,0,0,0,0,0,0,2486,865,204,2,0,0,0,0,0,0,1159,1690,315,0,0,0,0,0,0,0,4168,203,935,0,0,0,0,0,0,0,1530,327,1676,4,0,0,0,0,0,0,228,1691,548,0,0,0,0,0,0,0,200,770,150,0,0,0,0,0,0,0,364,682,628,0,0,0,0,0,0,0,155,326,537,309,0,0,0,0,0,0,815,1434,400,6,0,0,0,0,0,0,476,389,0,0,0,0,0,0,0,0,1706,175,4,0,0,0,0,0,0,0,1155,371,120,0,0,0,0,0,0,0,660,36,25,4,0,0,0,0,0,0,329,79,38,74,0,0,0,0,0,0,713,783,179,2,0,0,0,0,0,0,421,2,63,121,0,0,0,0,0,0,1050,70,230,0,0,0,0,0,0,0,1151,173,1528,993,0,0,0,0,0,0,597,321,39,1,0,0,0,0,0,0,430,452,310,1036,0,0,0,0,0,0,523,1799,139,535,0,0,0,0,0,0,61,89,25,898,0,0,0,0,0,0,2,522,5,0,0,0,0,0,0,0,134,49,288,0,0,0,0,0,0,0,1239,2109,8,1162,0,0,0,0,0,0,652,49,377,92,0,0,0,0,0,0,3973,1002,207,559,0,0,0,0,0,0,287,257,65,1468,0,0,0,0,0,0,1990,2001,343,0,0,0,0,0,0,0,10762,360,805,114,0,0,0,0,0,0,967,496,642,0,0,0,0,0,0,0,627,571,10,158,0,0,0,0,0,0,752,152,1399,13,0,0,0,0,0,0,160,1965,593,804,0,0,0,0,0,0,1151,256,4,309,0,0,0,0,0,0,406,61,26,813,0,0,0,0,0,0,2083,273,263,1,0,0,0,0,0,0,365,703,0,63,0,0,0,0,0,0,1157,191,30,83,0,0,0,0,0,0,868,1458,1,6964,0,0,0,0,0,0,221,218,461,726,0,0,0,0,0,0,0,744,0,15,0,0,0,0,0,0,1432,19,2,0,0,0,0,0,0,0,0,0,0,0,0,0,0,0,0]},{\"_typename\":\"TPaveText\",\"fUniqueID\":0,\"fBits\":50331657,\"fLineColor\":1,\"fLineStyle\":1,\"fLineWidth\":1,\"fFillColor\":0,\"fFillStyle\":0,\"fX1\":3.69885057022517,\"fY1\":67.2000008404255,\"fX2\":4.30114942977483,\"fY2\":71.6000009715557,\"fX1NDC\":0.469885057471264,\"fY1NDC\":0.940000003948808,\"fX2NDC\":0.530114942528736,\"fY2NDC\":0.995000004768372,\"fBorderSize\":0,\"fInit\":1,\"fShadowColor\":1,\"fCornerRadius\":0,\"fOption\":\"blNDC\",\"fName\":\"title\",\"fTextAngle\":0,\"fTextSize\":0,\"fTextAlign\":22,\"fTextColor\":1,\"fTextFont\":42,\"fLabel\":\"\",\"fLongest\":2,\"fMargin\":0.05,\"fLines\":{\"_typename\":\"TList\",\"name\":\"TList\",\"arr\":[{\"_typename\":\"TLatex\",\"fUniqueID\":0,\"fBits\":50331648,\"fName\":\"\",\"fTitle\":\"h3\",\"fTextAngle\":0,\"fTextSize\":0,\"fTextAlign\":0,\"fTextColor\":0,\"fTextFont\":0,\"fX\":0,\"fY\":0,\"fLineColor\":1,\"fLineStyle\":1,\"fLineWidth\":2,\"fLimitFactorSize\":3,\"fOriginSize\":0.0467500016093254}],\"opt\":[\"\"]}}],\"opt\":[\"\",\"colz\",\"blNDC\"]},\"fExecs\":null,\"fName\":\"c1_n2\",\"fTitle\":\"c1_n2\",\"fNumPaletteColor\":0,\"fNextPaletteColor\":0,\"fDISPLAY\":\"$DISPLAY\",\"fDoubleBuffer\":0,\"fRetained\":true,\"fXsizeUser\":0,\"fYsizeUser\":0,\"fXsizeReal\":20,\"fYsizeReal\":14.28571,\"fWindowTopX\":0,\"fWindowTopY\":0,\"fWindowWidth\":0,\"fWindowHeight\":0,\"fCw\":696,\"fCh\":472,\"fCatt\":{\"_typename\":\"TAttCanvas\",\"fXBetween\":2,\"fYBetween\":2,\"fTitleFromTop\":1.2,\"fXdate\":0.2,\"fYdate\":0.3,\"fAdate\":1},\"kMoveOpaque\":true,\"kResizeOpaque\":true,\"fHighLightColor\":2,\"fBatch\":true,\"kShowEventStatus\":false,\"kAutoExec\":true,\"kMenuBar\":true});\n",
       "       Core.draw(\"root_plot_12\", obj, \"\");\n",
       "     }\n",
       " );\n",
       "</script>\n"
      ],
      "text/plain": [
       "<IPython.core.display.HTML object>"
      ]
     },
     "metadata": {},
     "output_type": "display_data"
    }
   ],
   "source": [
    "h3=R.TH2F(\"h3\",\"h3\",8,0,8,64,0,64)\n",
    "f.tree.Draw(\"channel:tiger>>h3\",\"(delta_coarse==21 ||delta_coarse==22)\".format(l1ts_tcoarse_lower,l1ts_tcoarse_upper),\"colz\")\n",
    "c.Draw()"
   ]
  },
  {
   "cell_type": "code",
   "execution_count": 183,
   "metadata": {},
   "outputs": [
    {
     "data": {
      "text/html": [
       "\n",
       "<div id=\"root_plot_13\"\n",
       "     style=\"width: 696px; height: 472px\">\n",
       "</div>\n",
       "\n",
       "<script>\n",
       " requirejs.config({\n",
       "     paths: {\n",
       "       'JSRootCore' : 'https://root.cern.ch/js/notebook//scripts/JSRootCore',\n",
       "     }\n",
       "   });\n",
       " require(['JSRootCore'],\n",
       "     function(Core) {\n",
       "       var obj = Core.JSONR_unref({\"_typename\":\"TCanvas\",\"fUniqueID\":0,\"fBits\":53673992,\"fLineColor\":1,\"fLineStyle\":1,\"fLineWidth\":1,\"fFillColor\":0,\"fFillStyle\":1001,\"fLeftMargin\":0.1,\"fRightMargin\":0.1,\"fBottomMargin\":0.1,\"fTopMargin\":0.1,\"fXfile\":2,\"fYfile\":2,\"fAfile\":1,\"fXstat\":0.99,\"fYstat\":0.99,\"fAstat\":2,\"fFrameFillColor\":0,\"fFrameLineColor\":1,\"fFrameFillStyle\":1001,\"fFrameLineStyle\":1,\"fFrameLineWidth\":1,\"fFrameBorderSize\":1,\"fFrameBorderMode\":0,\"fX1\":-1.00000007450581,\"fY1\":-8.00000059604648,\"fX2\":9.00000007450581,\"fY2\":72.0000005960465,\"fXtoAbsPixelk\":69.6000541484835,\"fXtoPixelk\":69.6000541484835,\"fXtoPixel\":69.5999989628791,\"fYtoAbsPixelk\":424.800047186661,\"fYtoPixelk\":424.800047186661,\"fYtoPixel\":-5.89999991208315,\"fUtoAbsPixelk\":5e-5,\"fUtoPixelk\":5e-5,\"fUtoPixel\":696,\"fVtoAbsPixelk\":472.00005,\"fVtoPixelk\":472,\"fVtoPixel\":-472,\"fAbsPixeltoXk\":-1.00000007450581,\"fPixeltoXk\":-1.00000007450581,\"fPixeltoX\":0.0143678163060512,\"fAbsPixeltoYk\":72.0000005960465,\"fPixeltoYk\":-8.00000059604648,\"fPixeltoY\":-0.169491527949349,\"fXlowNDC\":0,\"fYlowNDC\":0,\"fXUpNDC\":0,\"fYUpNDC\":0,\"fWNDC\":1,\"fHNDC\":1,\"fAbsXlowNDC\":0,\"fAbsYlowNDC\":0,\"fAbsWNDC\":1,\"fAbsHNDC\":1,\"fUxmin\":0,\"fUymin\":0,\"fUxmax\":8,\"fUymax\":64,\"fTheta\":30,\"fPhi\":30,\"fAspectRatio\":0,\"fNumber\":0,\"fTickx\":0,\"fTicky\":0,\"fLogx\":0,\"fLogy\":0,\"fLogz\":0,\"fPadPaint\":0,\"fCrosshair\":0,\"fCrosshairPos\":0,\"fBorderSize\":2,\"fBorderMode\":0,\"fModified\":false,\"fGridx\":false,\"fGridy\":false,\"fAbsCoord\":false,\"fEditable\":true,\"fFixedAspectRatio\":false,\"fPrimitives\":{\"_typename\":\"TList\",\"name\":\"TList\",\"arr\":[{\"_typename\":\"TFrame\",\"fUniqueID\":0,\"fBits\":50331656,\"fLineColor\":1,\"fLineStyle\":1,\"fLineWidth\":1,\"fFillColor\":0,\"fFillStyle\":1001,\"fX1\":0,\"fY1\":0,\"fX2\":8,\"fY2\":64,\"fBorderSize\":1,\"fBorderMode\":0},{\"_typename\":\"TH2F\",\"fUniqueID\":0,\"fBits\":50331656,\"fName\":\"h3\",\"fTitle\":\"h3\",\"fLineColor\":602,\"fLineStyle\":1,\"fLineWidth\":1,\"fFillColor\":0,\"fFillStyle\":1001,\"fMarkerColor\":1,\"fMarkerStyle\":1,\"fMarkerSize\":1,\"fNcells\":660,\"fXaxis\":{\"_typename\":\"TAxis\",\"fUniqueID\":0,\"fBits\":54525952,\"fName\":\"xaxis\",\"fTitle\":\"\",\"fNdivisions\":510,\"fAxisColor\":1,\"fLabelColor\":1,\"fLabelFont\":42,\"fLabelOffset\":0.005,\"fLabelSize\":0.035,\"fTickLength\":0.03,\"fTitleOffset\":1,\"fTitleSize\":0.035,\"fTitleColor\":1,\"fTitleFont\":42,\"fNbins\":8,\"fXmin\":0,\"fXmax\":8,\"fXbins\":[],\"fFirst\":0,\"fLast\":0,\"fBits2\":0,\"fTimeDisplay\":false,\"fTimeFormat\":\"\",\"fLabels\":null,\"fModLabs\":null},\"fYaxis\":{\"_typename\":\"TAxis\",\"fUniqueID\":0,\"fBits\":54525952,\"fName\":\"yaxis\",\"fTitle\":\"\",\"fNdivisions\":510,\"fAxisColor\":1,\"fLabelColor\":1,\"fLabelFont\":42,\"fLabelOffset\":0.005,\"fLabelSize\":0.035,\"fTickLength\":0.03,\"fTitleOffset\":0,\"fTitleSize\":0.035,\"fTitleColor\":1,\"fTitleFont\":42,\"fNbins\":64,\"fXmin\":0,\"fXmax\":64,\"fXbins\":[],\"fFirst\":0,\"fLast\":0,\"fBits2\":0,\"fTimeDisplay\":false,\"fTimeFormat\":\"\",\"fLabels\":null,\"fModLabs\":null},\"fZaxis\":{\"_typename\":\"TAxis\",\"fUniqueID\":0,\"fBits\":50331648,\"fName\":\"zaxis\",\"fTitle\":\"\",\"fNdivisions\":510,\"fAxisColor\":1,\"fLabelColor\":1,\"fLabelFont\":42,\"fLabelOffset\":0.005,\"fLabelSize\":0.035,\"fTickLength\":0.03,\"fTitleOffset\":1,\"fTitleSize\":0.035,\"fTitleColor\":1,\"fTitleFont\":42,\"fNbins\":1,\"fXmin\":0,\"fXmax\":1,\"fXbins\":[],\"fFirst\":0,\"fLast\":0,\"fBits2\":0,\"fTimeDisplay\":false,\"fTimeFormat\":\"\",\"fLabels\":null,\"fModLabs\":null},\"fBarOffset\":0,\"fBarWidth\":1000,\"fEntries\":194911,\"fTsumw\":194911,\"fTsumw2\":194911,\"fTsumwx\":171053,\"fTsumwx2\":362551,\"fMaximum\":-1111,\"fMinimum\":-1111,\"fNormFactor\":0,\"fContour\":[0,795.138037109375,1590.27607421875,2385.41411132812,3180.5521484375,3975.69018554688,4770.82822265625,5565.96625976563,6361.104296875,7156.24233398437,7951.38037109375,8746.51840820312,9541.6564453125,10336.7944824219,11131.9325195313,11927.0705566406,12722.20859375,13517.3466308594,14312.4846679687,15107.6227050781],\"fSumw2\":[0,0,0,0,0,0,0,0,0,0,0,536.942981341659,3635.89909120567,1709.97198079921,0,0,0,0,0,0,0,1081.73887648722,139.389220019224,38.2829547940122,0,0,0,0,0,0,0,382.829547940122,1134.74604466354,257.182927077723,0,0,0,0,0,0,0,639.030860792358,1677.57871135813,1092.53663296758,596.821449096396,0,0,0,0,0,0,11734.2164514775,1894.51545519086,685.16672939027,0,0,0,0,0,0,0,609.582434027733,1267.26396510435,0,6.87129957841245,0,0,0,0,0,0,1101.37116099697,488.843884292772,394.608918645972,0,0,0,0,0,0,0,855.967604625094,2549.25214359102,123.683392411424,0,0,0,0,0,0,0,2956.62204716833,462.340300204609,819.647878282057,0,0,0,0,0,0,0,742.100354468545,2891.83550828615,1264.31912242789,3.92645690194997,0,0,0,0,0,0,15755.8899332998,621.361804733583,35.3381121175498,8.83452802938744,0,0,0,0,0,0,630.196332762971,2409.8629235718,341.601750469648,55.9520108527871,0,0,0,0,0,0,3361.04710806918,47.1174828233997,858.912447301557,3024.35342872697,0,0,0,0,0,0,103.069493676187,221.844814960173,627.251490086508,1.96322845097499,0,0,0,0,0,0,285.649739616861,1221.12809650644,55.9520108527871,0,0,0,0,0,0,0,798.052365321332,1292.78593496703,125.646620862399,0,0,0,0,0,0,0,596.821449096396,259.146155528698,78.5291380389995,2724.96108995328,0,0,0,0,0,0,1660.89126952484,647.865388821746,43.1910259214497,7.85291380389995,0,0,0,0,0,0,419.14927428316,808.850121801694,359.270806528422,0,0,0,0,0,0,0,814.739807154619,779.40169503707,389.700847518535,0.981614225487493,0,0,0,0,0,0,206.138987352374,106.995950578137,987.503910840418,0,0,0,0,0,0,0,2440.29296456191,849.096305046682,200.249301999449,1.96322845097499,0,0,0,0,0,0,1137.69088734,1658.92804107386,309.20848102856,0,0,0,0,0,0,0,4091.36809183187,199.267687773961,917.809300830806,0,0,0,0,0,0,0,1501.86976499586,320.98785173441,1645.18544191704,3.92645690194997,0,0,0,0,0,0,223.808043411148,1659.90965529935,537.924595567146,0,0,0,0,0,0,0,196.322845097499,755.84295362537,147.242133823124,0,0,0,0,0,0,0,357.307578077448,669.46090178247,616.453733606146,0,0,0,0,0,0,0,152.150204950561,320.006237508923,527.126839086784,303.318795675635,0,0,0,0,0,0,800.015593772307,1407.63479934907,392.645690194997,5.88968535292496,0,0,0,0,0,0,467.248371332047,381.847933714635,0,0,0,0,0,0,0,0,1674.63386868166,171.782489460311,3.92645690194997,0,0,0,0,0,0,0,1133.76443043805,364.17887765586,117.793707058499,0,0,0,0,0,0,0,647.865388821746,35.3381121175498,24.5403556371873,3.92645690194997,0,0,0,0,0,0,322.951080185385,77.547523813512,37.3013405685247,72.6394526860745,0,0,0,0,0,0,699.890942772583,768.603938556707,175.708946362261,1.96322845097499,0,0,0,0,0,0,413.259588930235,1.96322845097499,61.8416962057121,118.775321283987,0,0,0,0,0,0,1030.69493676187,68.7129957841245,225.771271862123,0,0,0,0,0,0,0,1129.8379735361,169.819261009336,1499.90653654489,974.742925909081,0,0,0,0,0,0,586.023692616033,315.098166381485,38.2829547940122,0.981614225487493,0,0,0,0,0,0,422.094116959622,443.689629920347,304.300409901123,1016.95233760504,0,0,0,0,0,0,513.384239929959,1765.923991652,136.444377342762,525.163610635809,0,0,0,0,0,0,59.8784677547371,87.3636660683869,24.5403556371873,881.489574487769,0,0,0,0,0,0,1.96322845097499,512.402625704471,4.90807112743747,0,0,0,0,0,0,0,131.536306215324,48.0990970488872,282.704896940398,0,0,0,0,0,0,0,1216.220025379,2070.22440155312,7.85291380389995,1140.63573001647,0,0,0,0,0,0,640.012475017846,48.0990970488872,370.068563008785,90.3085087448494,0,0,0,0,0,0,3899.95331786181,983.577453938468,203.194144675911,548.722352047509,0,0,0,0,0,0,281.723282714911,252.274855950286,63.8049246566871,1441.00968301564,0,0,0,0,0,0,1953.41230872011,1964.21006520047,336.69367934221,0,0,0,0,0,0,0,10564.1322946964,353.381121175498,790.199451517432,111.904021705574,0,0,0,0,0,0,949.220956046406,486.880655841797,630.196332762971,0,0,0,0,0,0,0,615.472119380658,560.501722753359,9.81614225487493,155.095047627024,0,0,0,0,0,0,738.173897566595,149.205362274099,1373.278301457,12.7609849313374,0,0,0,0,0,0,157.058276077999,1928.87195308292,582.097235714083,789.217837291945,0,0,0,0,0,0,1129.8379735361,251.293241724798,3.92645690194997,303.318795675635,0,0,0,0,0,0,398.535375547922,59.8784677547371,25.5219698626748,798.052365321332,0,0,0,0,0,0,2044.70243169045,267.980683558086,258.164541303211,0.981614225487493,0,0,0,0,0,0,358.289192302935,690.074800517708,0,61.8416962057121,0,0,0,0,0,0,1135.72765888903,187.488317068111,29.4484267646248,81.4739807154619,0,0,0,0,0,0,852.041147723144,1431.19354076077,0.981614225487493,6835.9614662949,0,0,0,0,0,0,216.936743832736,213.991901156274,452.524157949734,712.65192770392,0,0,0,0,0,0,0,730.320983762695,0,14.7242133823124,0,0,0,0,0,0,1405.67157089809,18.6506702842624,1.96322845097499,0,0,0,0,0,0,0,0,0,0,0,0,0,0,0,0],\"fOption\":\"\",\"fFunctions\":{\"_typename\":\"TList\",\"name\":\"TList\",\"arr\":[{\"_typename\":\"TPaletteAxis\",\"fUniqueID\":0,\"fBits\":50331648,\"fLineColor\":1,\"fLineStyle\":1,\"fLineWidth\":1,\"fFillColor\":1178,\"fFillStyle\":1001,\"fX1\":8.05000000074506,\"fY1\":0,\"fX2\":8.50000000745058,\"fY2\":64,\"fX1NDC\":0.904999994039535,\"fY1NDC\":0.100000005960465,\"fX2NDC\":0.949999994039535,\"fY2NDC\":0.899999994039535,\"fBorderSize\":4,\"fInit\":1,\"fShadowColor\":1,\"fCornerRadius\":0,\"fOption\":\"br\",\"fName\":\"TPave\",\"fAxis\":{\"_typename\":\"TGaxis\",\"fUniqueID\":0,\"fBits\":50331648,\"fLineColor\":1,\"fLineStyle\":1,\"fLineWidth\":1,\"fX1\":0,\"fY1\":0,\"fX2\":0,\"fY2\":0,\"fTextAngle\":0,\"fTextSize\":0.04,\"fTextAlign\":11,\"fTextColor\":1,\"fTextFont\":42,\"fWmin\":0,\"fWmax\":0,\"fGridLength\":0,\"fTickSize\":0.03,\"fLabelOffset\":0.005,\"fLabelSize\":0.035,\"fTitleOffset\":1,\"fTitleSize\":0.035,\"fNdiv\":0,\"fLabelColor\":1,\"fLabelFont\":42,\"fNModLabs\":0,\"fChopt\":\"\",\"fName\":\"\",\"fTitle\":\"\",\"fTimeFormat\":\"\",\"fFunctionName\":\"\",\"fModLabs\":null},\"fName\":\"palette\"},{\"_typename\":\"TPaveStats\",\"fUniqueID\":0,\"fBits\":50331657,\"fLineColor\":1,\"fLineStyle\":1,\"fLineWidth\":1,\"fFillColor\":0,\"fFillStyle\":1001,\"fX1\":6.8000002026558,\"fY1\":47.6000008523464,\"fX2\":8.80000026226044,\"fY2\":66.8000007092953,\"fX1NDC\":0.780000016093254,\"fY1NDC\":0.695000007748604,\"fX2NDC\":0.980000019073486,\"fY2NDC\":0.935000002384186,\"fBorderSize\":1,\"fInit\":1,\"fShadowColor\":1,\"fCornerRadius\":0,\"fOption\":\"brNDC\",\"fName\":\"stats\",\"fTextAngle\":0,\"fTextSize\":0,\"fTextAlign\":12,\"fTextColor\":1,\"fTextFont\":42,\"fLabel\":\"\",\"fLongest\":18,\"fMargin\":0.05,\"fLines\":{\"_typename\":\"TList\",\"name\":\"TList\",\"arr\":[{\"_typename\":\"TLatex\",\"fUniqueID\":0,\"fBits\":50331648,\"fName\":\"\",\"fTitle\":\"h3\",\"fTextAngle\":0,\"fTextSize\":0.0368,\"fTextAlign\":0,\"fTextColor\":0,\"fTextFont\":0,\"fX\":0,\"fY\":0,\"fLineColor\":1,\"fLineStyle\":1,\"fLineWidth\":2,\"fLimitFactorSize\":3,\"fOriginSize\":0.0368000008165836},{\"_typename\":\"TLatex\",\"fUniqueID\":0,\"fBits\":50331648,\"fName\":\"\",\"fTitle\":\"Entries = 194911 \",\"fTextAngle\":0,\"fTextSize\":0,\"fTextAlign\":0,\"fTextColor\":0,\"fTextFont\":0,\"fX\":0,\"fY\":0,\"fLineColor\":1,\"fLineStyle\":1,\"fLineWidth\":2,\"fLimitFactorSize\":3,\"fOriginSize\":0.04},{\"_typename\":\"TLatex\",\"fUniqueID\":0,\"fBits\":50331648,\"fName\":\"\",\"fTitle\":\"Mean x = 0.8776\",\"fTextAngle\":0,\"fTextSize\":0,\"fTextAlign\":0,\"fTextColor\":0,\"fTextFont\":0,\"fX\":0,\"fY\":0,\"fLineColor\":1,\"fLineStyle\":1,\"fLineWidth\":2,\"fLimitFactorSize\":3,\"fOriginSize\":0.04},{\"_typename\":\"TLatex\",\"fUniqueID\":0,\"fBits\":50331648,\"fName\":\"\",\"fTitle\":\"Mean y =  27.45\",\"fTextAngle\":0,\"fTextSize\":0,\"fTextAlign\":0,\"fTextColor\":0,\"fTextFont\":0,\"fX\":0,\"fY\":0,\"fLineColor\":1,\"fLineStyle\":1,\"fLineWidth\":2,\"fLimitFactorSize\":3,\"fOriginSize\":0.04},{\"_typename\":\"TLatex\",\"fUniqueID\":0,\"fBits\":50331648,\"fName\":\"\",\"fTitle\":\"Std Dev x =  1.044\",\"fTextAngle\":0,\"fTextSize\":0,\"fTextAlign\":0,\"fTextColor\":0,\"fTextFont\":0,\"fX\":0,\"fY\":0,\"fLineColor\":1,\"fLineStyle\":1,\"fLineWidth\":2,\"fLimitFactorSize\":3,\"fOriginSize\":0.04},{\"_typename\":\"TLatex\",\"fUniqueID\":0,\"fBits\":50331648,\"fName\":\"\",\"fTitle\":\"Std Dev y =  19.86\",\"fTextAngle\":0,\"fTextSize\":0,\"fTextAlign\":0,\"fTextColor\":0,\"fTextFont\":0,\"fX\":0,\"fY\":0,\"fLineColor\":1,\"fLineStyle\":1,\"fLineWidth\":2,\"fLimitFactorSize\":3,\"fOriginSize\":0.04}],\"opt\":[\"\",\"\",\"\",\"\",\"\",\"\"]},\"fOptFit\":0,\"fOptStat\":1111,\"fFitFormat\":\"5.4g\",\"fStatFormat\":\"6.4g\",\"fParent\":{\"$ref\":3}}],\"opt\":[\"br\",\"brNDC\"]},\"fBufferSize\":0,\"fBuffer\":[],\"fBinStatErrOpt\":0,\"fStatOverflows\":2,\"fScalefactor\":1,\"fTsumwy\":5351141,\"fTsumwy2\":223753975,\"fTsumwxy\":5450707,\"fArray\":[0,0,0,0,0,0,0,0,0,0,0,541.9482,3669.792,1725.912,0,0,0,0,0,0,0,1091.822,140.6886,38.63981,0,0,0,0,0,0,0,386.3981,1145.324,259.5803,0,0,0,0,0,0,0,644.9877,1693.216,1102.721,602.3848,0,0,0,0,0,0,11843.6,1912.175,691.5536,0,0,0,0,0,0,0,615.2647,1279.077,0,6.935351,0,0,0,0,0,0,1111.638,493.4007,398.2873,0,0,0,0,0,0,0,863.9466,2573.015,124.8363,0,0,0,0,0,0,0,2984.183,466.6501,827.2883,0,0,0,0,0,0,0,749.0179,2918.792,1276.105,3.963058,0,0,0,0,0,0,15902.76,627.1539,35.66752,8.916881,0,0,0,0,0,0,636.0708,2432.327,344.786,56.47358,0,0,0,0,0,0,3392.377,47.55669,866.9189,3052.545,0,0,0,0,0,0,104.0303,223.9128,633.0985,1.981529,0,0,0,0,0,0,288.3125,1232.511,56.47358,0,0,0,0,0,0,0,805.4915,1304.837,126.8178,0,0,0,0,0,0,0,602.3848,261.5618,79.26115,2750.362,0,0,0,0,0,0,1676.374,653.9045,43.59364,7.926116,0,0,0,0,0,0,423.0564,816.3899,362.6198,0,0,0,0,0,0,0,822.3345,786.667,393.3335,0.9907644,0,0,0,0,0,0,208.0605,107.9933,996.709,0,0,0,0,0,0,0,2463.041,857.0113,202.116,1.981529,0,0,0,0,0,0,1148.296,1674.392,312.0908,0,0,0,0,0,0,0,4129.506,201.1252,926.3647,0,0,0,0,0,0,0,1515.87,323.98,1660.521,3.963058,0,0,0,0,0,0,225.8943,1675.383,542.9389,0,0,0,0,0,0,0,198.1529,762.8886,148.6147,0,0,0,0,0,0,0,360.6383,675.7014,622.2001,0,0,0,0,0,0,0,153.5685,322.9892,532.0405,306.1462,0,0,0,0,0,0,807.473,1420.756,396.3058,5.944587,0,0,0,0,0,0,471.6039,385.4074,0,0,0,0,0,0,0,0,1690.244,173.3838,3.963058,0,0,0,0,0,0,0,1144.333,367.5736,118.8917,0,0,0,0,0,0,0,653.9045,35.66752,24.76911,3.963058,0,0,0,0,0,0,325.9615,78.27039,37.64905,73.31657,0,0,0,0,0,0,706.415,775.7686,177.3468,1.981529,0,0,0,0,0,0,417.1118,1.981529,62.41816,119.8825,0,0,0,0,0,0,1040.303,69.35352,227.8758,0,0,0,0,0,0,0,1140.37,171.4023,1513.888,983.8291,0,0,0,0,0,0,591.4864,318.0354,38.63981,0.9907644,0,0,0,0,0,0,426.0287,447.8255,307.137,1026.432,0,0,0,0,0,0,518.1698,1782.385,137.7163,530.059,0,0,0,0,0,0,60.43663,88.17804,24.76911,889.7065,0,0,0,0,0,0,1.981529,517.1791,4.953822,0,0,0,0,0,0,0,132.7624,48.54746,285.3402,0,0,0,0,0,0,0,1227.557,2089.522,7.926116,1151.268,0,0,0,0,0,0,645.9785,48.54746,373.5182,91.15033,0,0,0,0,0,0,3936.307,992.746,205.0882,553.8373,0,0,0,0,0,0,284.3494,254.6265,64.39969,1454.442,0,0,0,0,0,0,1971.621,1982.52,339.8322,0,0,0,0,0,0,0,10662.61,356.6752,797.5654,112.9472,0,0,0,0,0,0,958.0692,491.4192,636.0708,0,0,0,0,0,0,0,621.2093,565.7265,9.907644,156.5408,0,0,0,0,0,0,745.0549,150.5962,1386.079,12.87994,0,0,0,0,0,0,158.5223,1946.852,587.5233,796.5746,0,0,0,0,0,0,1140.37,253.6357,3.963058,306.1462,0,0,0,0,0,0,402.2504,60.43663,25.75988,805.4915,0,0,0,0,0,0,2063.762,270.4787,260.571,0.9907644,0,0,0,0,0,0,361.629,696.5074,0,62.41816,0,0,0,0,0,0,1146.314,189.236,29.72293,82.23345,0,0,0,0,0,0,859.9836,1444.535,0.9907644,6899.684,0,0,0,0,0,0,218.959,215.9866,456.7424,719.295,0,0,0,0,0,0,0,737.1288,0,14.86147,0,0,0,0,0,0,1418.775,18.82452,1.981529,0,0,0,0,0,0,0,0,0,0,0,0,0,0,0,0]},{\"_typename\":\"TPaveText\",\"fUniqueID\":0,\"fBits\":50331657,\"fLineColor\":1,\"fLineStyle\":1,\"fLineWidth\":1,\"fFillColor\":0,\"fFillStyle\":0,\"fX1\":3.69885057022517,\"fY1\":67.2000008404255,\"fX2\":4.30114942977483,\"fY2\":71.6000009715557,\"fX1NDC\":0.469885057471264,\"fY1NDC\":0.940000003948808,\"fX2NDC\":0.530114942528736,\"fY2NDC\":0.995000004768372,\"fBorderSize\":0,\"fInit\":1,\"fShadowColor\":1,\"fCornerRadius\":0,\"fOption\":\"blNDC\",\"fName\":\"title\",\"fTextAngle\":0,\"fTextSize\":0,\"fTextAlign\":22,\"fTextColor\":1,\"fTextFont\":42,\"fLabel\":\"\",\"fLongest\":2,\"fMargin\":0.05,\"fLines\":{\"_typename\":\"TList\",\"name\":\"TList\",\"arr\":[{\"_typename\":\"TLatex\",\"fUniqueID\":0,\"fBits\":50331648,\"fName\":\"\",\"fTitle\":\"h3\",\"fTextAngle\":0,\"fTextSize\":0,\"fTextAlign\":0,\"fTextColor\":0,\"fTextFont\":0,\"fX\":0,\"fY\":0,\"fLineColor\":1,\"fLineStyle\":1,\"fLineWidth\":2,\"fLimitFactorSize\":3,\"fOriginSize\":0.0467500016093254}],\"opt\":[\"\"]}}],\"opt\":[\"\",\"colz\",\"blNDC\"]},\"fExecs\":null,\"fName\":\"c1_n2\",\"fTitle\":\"c1_n2\",\"fNumPaletteColor\":0,\"fNextPaletteColor\":0,\"fDISPLAY\":\"$DISPLAY\",\"fDoubleBuffer\":0,\"fRetained\":true,\"fXsizeUser\":0,\"fYsizeUser\":0,\"fXsizeReal\":20,\"fYsizeReal\":14.28571,\"fWindowTopX\":0,\"fWindowTopY\":0,\"fWindowWidth\":0,\"fWindowHeight\":0,\"fCw\":696,\"fCh\":472,\"fCatt\":{\"_typename\":\"TAttCanvas\",\"fXBetween\":2,\"fYBetween\":2,\"fTitleFromTop\":1.2,\"fXdate\":0.2,\"fYdate\":0.3,\"fAdate\":1},\"kMoveOpaque\":true,\"kResizeOpaque\":true,\"fHighLightColor\":2,\"fBatch\":true,\"kShowEventStatus\":false,\"kAutoExec\":true,\"kMenuBar\":true});\n",
       "       Core.draw(\"root_plot_13\", obj, \"\");\n",
       "     }\n",
       " );\n",
       "</script>\n"
      ],
      "text/plain": [
       "<IPython.core.display.HTML object>"
      ]
     },
     "metadata": {},
     "output_type": "display_data"
    }
   ],
   "source": [
    "h3.Scale(1/elapsed_time)\n",
    "h3.Draw(\"colz\")\n",
    "c.Draw()"
   ]
  },
  {
   "cell_type": "code",
   "execution_count": null,
   "metadata": {},
   "outputs": [],
   "source": []
  },
  {
   "cell_type": "code",
   "execution_count": null,
   "metadata": {},
   "outputs": [],
   "source": []
  },
  {
   "cell_type": "code",
   "execution_count": null,
   "metadata": {},
   "outputs": [],
   "source": []
  },
  {
   "cell_type": "code",
   "execution_count": null,
   "metadata": {},
   "outputs": [],
   "source": []
  }
 ],
 "metadata": {
  "kernelspec": {
   "display_name": "Python 3",
   "language": "python",
   "name": "python3"
  },
  "language_info": {
   "codemirror_mode": {
    "name": "ipython",
    "version": 3
   },
   "file_extension": ".py",
   "mimetype": "text/x-python",
   "name": "python",
   "nbconvert_exporter": "python",
   "pygments_lexer": "ipython3",
   "version": "3.7.3"
  }
 },
 "nbformat": 4,
 "nbformat_minor": 2
}
